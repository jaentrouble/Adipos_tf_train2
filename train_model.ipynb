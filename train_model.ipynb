{
 "metadata": {
  "language_info": {
   "codemirror_mode": {
    "name": "ipython",
    "version": 3
   },
   "file_extension": ".py",
   "mimetype": "text/x-python",
   "name": "python",
   "nbconvert_exporter": "python",
   "pygments_lexer": "ipython3",
   "version": "3.7.8-final"
  },
  "orig_nbformat": 2,
  "kernelspec": {
   "name": "train2_venv",
   "display_name": "train2_venv"
  }
 },
 "nbformat": 4,
 "nbformat_minor": 2,
 "cells": [
  {
   "cell_type": "code",
   "execution_count": 11,
   "metadata": {
    "tags": []
   },
   "outputs": [
    {
     "output_type": "stream",
     "name": "stdout",
     "text": "\n"
    }
   ],
   "source": [
    "%matplotlib inline\n",
    "%load_ext autoreload"
   ]
  },
  {
   "cell_type": "code",
   "execution_count": 12,
   "metadata": {},
   "outputs": [],
   "source": [
    "import numpy as np\n",
    "import matplotlib.pyplot as plt\n",
    "from multiprocessing import Process"
   ]
  },
  {
   "cell_type": "code",
   "execution_count": 13,
   "metadata": {
    "tags": []
   },
   "outputs": [
    {
     "output_type": "stream",
     "name": "stdout",
     "text": "/home/jaentrouble/adipose_train2\n"
    }
   ],
   "source": [
    "import os\n",
    "os.chdir('/home/jaentrouble/adipose_train2')\n",
    "print(os.getcwd())"
   ]
  },
  {
   "cell_type": "code",
   "execution_count": 14,
   "metadata": {
    "tags": []
   },
   "outputs": [],
   "source": [
    "with np.load('cell_mask_data.npz') as data:\n",
    "    X = data['img']\n",
    "    Y = data['mask']"
   ]
  },
  {
   "cell_type": "code",
   "execution_count": 15,
   "metadata": {
    "tags": []
   },
   "outputs": [
    {
     "output_type": "stream",
     "name": "stdout",
     "text": "X shape: (1533, 200, 200, 3)\nY shape: (1533, 200, 200)\n"
    }
   ],
   "source": [
    "print('X shape:',X.shape)\n",
    "print('Y shape:',Y.shape)"
   ]
  },
  {
   "cell_type": "code",
   "execution_count": 16,
   "metadata": {},
   "outputs": [],
   "source": [
    "X_train = X[:1200]\n",
    "Y_train = Y[:1200]\n",
    "X_val = X[1200:1350]\n",
    "Y_val = Y[1200:1350]\n",
    "X_test = X[1350:]\n",
    "Y_test = Y[1350:]"
   ]
  },
  {
   "cell_type": "code",
   "execution_count": 17,
   "metadata": {
    "tags": []
   },
   "outputs": [
    {
     "output_type": "stream",
     "name": "stdout",
     "text": "remote: Enumerating objects: 7, done.\u001b[K\nremote: Counting objects: 100% (7/7), done.\u001b[K\nremote: Compressing objects: 100% (1/1), done.\u001b[K\nremote: Total 4 (delta 3), reused 4 (delta 3), pack-reused 0\u001b[K\nUnpacking objects: 100% (4/4), 824 bytes | 164.00 KiB/s, done.\nFrom https://github.com/jaentrouble/Adipos_tf_train2\n   c710889..16b5f0d  master     -> origin/master\nUpdating c710889..16b5f0d\nFast-forward\n custom_tqdm.py    |  2 \u001b[32m+\u001b[m\u001b[31m-\u001b[m\n train_model.ipynb | 10 \u001b[32m++++++\u001b[m\u001b[31m----\u001b[m\n 2 files changed, 7 insertions(+), 5 deletions(-)\n"
    }
   ],
   "source": [
    "!git pull\n",
    "%autoreload"
   ]
  },
  {
   "cell_type": "code",
   "execution_count": 18,
   "metadata": {},
   "outputs": [],
   "source": [
    "from model_trainer import run_training\n",
    "from adipose_models import *\n",
    "from model_lr import *"
   ]
  },
  {
   "cell_type": "code",
   "execution_count": 19,
   "metadata": {},
   "outputs": [],
   "source": [
    "model_f = conv16_b4_1\n",
    "lr_f = lr_step2\n",
    "name = 'test'\n",
    "epochs = 5\n",
    "mixed_float = False"
   ]
  },
  {
   "cell_type": "code",
   "execution_count": 20,
   "metadata": {
    "tags": []
   },
   "outputs": [
    {
     "output_type": "stream",
     "name": "stdout",
     "text": "Model: \"functional_1\"\n_________________________________________________________________\nLayer (type)                 Output Shape              Param #\n=================================================================\ninput_1 (InputLayer)         [(None, 200, 200, 3)]     0\n_________________________________________________________________\nconv2d (Conv2D)              (None, 200, 200, 32)      896\n_________________________________________________________________\nconv2d_1 (Conv2D)            (None, 200, 200, 32)      9248\n_________________________________________________________________\nbatch_normalization (BatchNo (None, 200, 200, 32)      128\n_________________________________________________________________\nre_lu (ReLU)                 (None, 200, 200, 32)      0\n_________________________________________________________________\nconv2d_2 (Conv2D)            (None, 200, 200, 32)      9248\n_________________________________________________________________\nconv2d_3 (Conv2D)            (None, 200, 200, 32)      9248\n_________________________________________________________________\nbatch_normalization_1 (Batch (None, 200, 200, 32)      128\n_________________________________________________________________\nre_lu_1 (ReLU)               (None, 200, 200, 32)      0\n_________________________________________________________________\nconv2d_4 (Conv2D)            (None, 200, 200, 32)      9248\n_________________________________________________________________\nconv2d_5 (Conv2D)            (None, 200, 200, 32)      9248\n_________________________________________________________________\nbatch_normalization_2 (Batch (None, 200, 200, 32)      128\n_________________________________________________________________\nre_lu_2 (ReLU)               (None, 200, 200, 32)      0\n_________________________________________________________________\nconv2d_6 (Conv2D)            (None, 200, 200, 32)      9248\n_________________________________________________________________\nconv2d_7 (Conv2D)            (None, 200, 200, 32)      9248\n_________________________________________________________________\nbatch_normalization_3 (Batch (None, 200, 200, 32)      128\n_________________________________________________________________\nre_lu_3 (ReLU)               (None, 200, 200, 32)      0\n_________________________________________________________________\nconv2d_8 (Conv2D)            (None, 200, 200, 1)       289\n_________________________________________________________________\ntf_op_layer_Squeeze (TensorF [(None, 200, 200)]        0\n_________________________________________________________________\nactivation (Activation)      (None, 200, 200)          0\n=================================================================\nTotal params: 66,433\nTrainable params: 66,177\nNon-trainable params: 256\n_________________________________________________________________\n"
    },
    {
     "output_type": "display_data",
     "data": {
      "text/plain": "HBox(children=(FloatProgress(value=0.0, description='Training', max=5.0, style=ProgressStyle(description_width…",
      "application/vnd.jupyter.widget-view+json": {
       "version_major": 2,
       "version_minor": 0,
       "model_id": "885082c0977346b2978e33fdb620c210"
      }
     },
     "metadata": {}
    },
    {
     "output_type": "stream",
     "name": "stdout",
     "text": "\nEpoch 00001: LearningRateScheduler reducing learning rate to 0.01.\n"
    },
    {
     "output_type": "display_data",
     "data": {
      "text/plain": "HBox(children=(FloatProgress(value=0.0, description='Epoch 0', max=19.0, style=ProgressStyle(description_width…",
      "application/vnd.jupyter.widget-view+json": {
       "version_major": 2,
       "version_minor": 0,
       "model_id": "dddbd087ff2341a7941673a4226d4016"
      }
     },
     "metadata": {}
    },
    {
     "output_type": "stream",
     "name": "stdout",
     "text": "WARNING:tensorflow:Callbacks method `on_train_batch_end` is slow compared to the batch time (batch time: 0.0899s vs `on_train_batch_end` time: 0.2109s). Check your callbacks.\nWARNING:tensorflow:From /home/jaentrouble/adipose_train2/env/lib/python3.7/site-packages/tensorflow/python/ops/summary_ops_v2.py:1277: stop (from tensorflow.python.eager.profiler) is deprecated and will be removed after 2020-07-01.\nInstructions for updating:\nuse `tf.profiler.experimental.stop` instead.\n\nEpoch 00001: saving model to savedmodels/test/1\n\nloss:0.5676502585411072, binary_accuracy:0.7242365479469299, val_loss:0.6931471824645996, val_binary_accuracy:0.6808908581733704, lr:0.01\n\nEpoch 00002: LearningRateScheduler reducing learning rate to 0.02.\n"
    },
    {
     "output_type": "display_data",
     "data": {
      "text/plain": "HBox(children=(FloatProgress(value=0.0, description='Epoch 1', max=19.0, style=ProgressStyle(description_width…",
      "application/vnd.jupyter.widget-view+json": {
       "version_major": 2,
       "version_minor": 0,
       "model_id": "f9dbf18e808841e9b3b7ba05e9d68b32"
      }
     },
     "metadata": {}
    },
    {
     "output_type": "stream",
     "name": "stdout",
     "text": "\nEpoch 00002: saving model to savedmodels/test/2\n\nloss:0.5208470821380615, binary_accuracy:0.7434772849082947, val_loss:0.6931471824645996, val_binary_accuracy:0.6808908581733704, lr:0.02\n\nEpoch 00003: LearningRateScheduler reducing learning rate to 0.03.\n"
    },
    {
     "output_type": "display_data",
     "data": {
      "text/plain": "HBox(children=(FloatProgress(value=0.0, description='Epoch 2', max=19.0, style=ProgressStyle(description_width…",
      "application/vnd.jupyter.widget-view+json": {
       "version_major": 2,
       "version_minor": 0,
       "model_id": "07704aaa92e340d7a17cbae18eccb41c"
      }
     },
     "metadata": {}
    },
    {
     "output_type": "stream",
     "name": "stderr",
     "text": "Process Process-1:\nTraceback (most recent call last):\n  File \"/usr/lib/python3.7/multiprocessing/process.py\", line 297, in _bootstrap\n    self.run()\n  File \"/usr/lib/python3.7/multiprocessing/process.py\", line 99, in run\n    self._target(*self._args, **self._kwargs)\n  File \"/home/jaentrouble/adipose_train2/model_trainer.py\", line 106, in run_training\n    validation_data=val_data\n  File \"/home/jaentrouble/adipose_train2/env/lib/python3.7/site-packages/tensorflow/python/keras/engine/training.py\", line 108, in _method_wrapper\n    return method(self, *args, **kwargs)\n  File \"/home/jaentrouble/adipose_train2/env/lib/python3.7/site-packages/tensorflow/python/keras/engine/training.py\", line 1103, in fit\n    callbacks.on_train_batch_end(end_step, logs)\n  File \"/home/jaentrouble/adipose_train2/env/lib/python3.7/site-packages/tensorflow/python/keras/callbacks.py\", line 440, in on_train_batch_end\n    self._call_batch_hook(ModeKeys.TRAIN, 'end', batch, logs=logs)\n  File \"/home/jaentrouble/adipose_train2/env/lib/python3.7/site-packages/tensorflow/python/keras/callbacks.py\", line 289, in _call_batch_hook\n    self._call_batch_end_hook(mode, batch, logs)\n  File \"/home/jaentrouble/adipose_train2/env/lib/python3.7/site-packages/tensorflow/python/keras/callbacks.py\", line 309, in _call_batch_end_hook\n    self._call_batch_hook_helper(hook_name, batch, logs)\n  File \"/home/jaentrouble/adipose_train2/env/lib/python3.7/site-packages/tensorflow/python/keras/callbacks.py\", line 345, in _call_batch_hook_helper\n    numpy_logs = tf_utils.to_numpy_or_python_type(logs)\n  File \"/home/jaentrouble/adipose_train2/env/lib/python3.7/site-packages/tensorflow/python/keras/utils/tf_utils.py\", line 537, in to_numpy_or_python_type\n    return nest.map_structure(_to_single_numpy_or_python_type, tensors)\n  File \"/home/jaentrouble/adipose_train2/env/lib/python3.7/site-packages/tensorflow/python/util/nest.py\", line 635, in map_structure\n    structure[0], [func(*x) for x in entries],\n  File \"/home/jaentrouble/adipose_train2/env/lib/python3.7/site-packages/tensorflow/python/util/nest.py\", line 635, in <listcomp>\n    structure[0], [func(*x) for x in entries],\n  File \"/home/jaentrouble/adipose_train2/env/lib/python3.7/site-packages/tensorflow/python/keras/utils/tf_utils.py\", line 533, in _to_single_numpy_or_python_type\n    x = t.numpy()\n  File \"/home/jaentrouble/adipose_train2/env/lib/python3.7/site-packages/tensorflow/python/framework/ops.py\", line 1063, in numpy\n    maybe_arr = self._numpy()  # pylint: disable=protected-access\n  File \"/home/jaentrouble/adipose_train2/env/lib/python3.7/site-packages/tensorflow/python/framework/ops.py\", line 1029, in _numpy\n    return self._numpy_internal()\nKeyboardInterrupt\n"
    },
    {
     "output_type": "error",
     "ename": "KeyboardInterrupt",
     "evalue": "",
     "traceback": [
      "\u001b[0;31m---------------------------------------------------------------------------\u001b[0m",
      "\u001b[0;31mKeyboardInterrupt\u001b[0m                         Traceback (most recent call last)",
      "\u001b[0;32m<ipython-input-20-7699c58f0b9c>\u001b[0m in \u001b[0;36m<module>\u001b[0;34m\u001b[0m\n\u001b[1;32m     11\u001b[0m \u001b[0mp\u001b[0m \u001b[0;34m=\u001b[0m \u001b[0mProcess\u001b[0m\u001b[0;34m(\u001b[0m\u001b[0mtarget\u001b[0m\u001b[0;34m=\u001b[0m\u001b[0mrun_training\u001b[0m\u001b[0;34m,\u001b[0m \u001b[0mkwargs\u001b[0m\u001b[0;34m=\u001b[0m\u001b[0mkwargs\u001b[0m\u001b[0;34m)\u001b[0m\u001b[0;34m\u001b[0m\u001b[0;34m\u001b[0m\u001b[0m\n\u001b[1;32m     12\u001b[0m \u001b[0mp\u001b[0m\u001b[0;34m.\u001b[0m\u001b[0mstart\u001b[0m\u001b[0;34m(\u001b[0m\u001b[0;34m)\u001b[0m\u001b[0;34m\u001b[0m\u001b[0;34m\u001b[0m\u001b[0m\n\u001b[0;32m---> 13\u001b[0;31m \u001b[0mp\u001b[0m\u001b[0;34m.\u001b[0m\u001b[0mjoin\u001b[0m\u001b[0;34m(\u001b[0m\u001b[0;34m)\u001b[0m\u001b[0;34m\u001b[0m\u001b[0;34m\u001b[0m\u001b[0m\n\u001b[0m",
      "\u001b[0;32m/usr/lib/python3.7/multiprocessing/process.py\u001b[0m in \u001b[0;36mjoin\u001b[0;34m(self, timeout)\u001b[0m\n\u001b[1;32m    138\u001b[0m         \u001b[0;32massert\u001b[0m \u001b[0mself\u001b[0m\u001b[0;34m.\u001b[0m\u001b[0m_parent_pid\u001b[0m \u001b[0;34m==\u001b[0m \u001b[0mos\u001b[0m\u001b[0;34m.\u001b[0m\u001b[0mgetpid\u001b[0m\u001b[0;34m(\u001b[0m\u001b[0;34m)\u001b[0m\u001b[0;34m,\u001b[0m \u001b[0;34m'can only join a child process'\u001b[0m\u001b[0;34m\u001b[0m\u001b[0;34m\u001b[0m\u001b[0m\n\u001b[1;32m    139\u001b[0m         \u001b[0;32massert\u001b[0m \u001b[0mself\u001b[0m\u001b[0;34m.\u001b[0m\u001b[0m_popen\u001b[0m \u001b[0;32mis\u001b[0m \u001b[0;32mnot\u001b[0m \u001b[0;32mNone\u001b[0m\u001b[0;34m,\u001b[0m \u001b[0;34m'can only join a started process'\u001b[0m\u001b[0;34m\u001b[0m\u001b[0;34m\u001b[0m\u001b[0m\n\u001b[0;32m--> 140\u001b[0;31m         \u001b[0mres\u001b[0m \u001b[0;34m=\u001b[0m \u001b[0mself\u001b[0m\u001b[0;34m.\u001b[0m\u001b[0m_popen\u001b[0m\u001b[0;34m.\u001b[0m\u001b[0mwait\u001b[0m\u001b[0;34m(\u001b[0m\u001b[0mtimeout\u001b[0m\u001b[0;34m)\u001b[0m\u001b[0;34m\u001b[0m\u001b[0;34m\u001b[0m\u001b[0m\n\u001b[0m\u001b[1;32m    141\u001b[0m         \u001b[0;32mif\u001b[0m \u001b[0mres\u001b[0m \u001b[0;32mis\u001b[0m \u001b[0;32mnot\u001b[0m \u001b[0;32mNone\u001b[0m\u001b[0;34m:\u001b[0m\u001b[0;34m\u001b[0m\u001b[0;34m\u001b[0m\u001b[0m\n\u001b[1;32m    142\u001b[0m             \u001b[0m_children\u001b[0m\u001b[0;34m.\u001b[0m\u001b[0mdiscard\u001b[0m\u001b[0;34m(\u001b[0m\u001b[0mself\u001b[0m\u001b[0;34m)\u001b[0m\u001b[0;34m\u001b[0m\u001b[0;34m\u001b[0m\u001b[0m\n",
      "\u001b[0;32m/usr/lib/python3.7/multiprocessing/popen_fork.py\u001b[0m in \u001b[0;36mwait\u001b[0;34m(self, timeout)\u001b[0m\n\u001b[1;32m     46\u001b[0m                     \u001b[0;32mreturn\u001b[0m \u001b[0;32mNone\u001b[0m\u001b[0;34m\u001b[0m\u001b[0;34m\u001b[0m\u001b[0m\n\u001b[1;32m     47\u001b[0m             \u001b[0;31m# This shouldn't block if wait() returned successfully.\u001b[0m\u001b[0;34m\u001b[0m\u001b[0;34m\u001b[0m\u001b[0;34m\u001b[0m\u001b[0m\n\u001b[0;32m---> 48\u001b[0;31m             \u001b[0;32mreturn\u001b[0m \u001b[0mself\u001b[0m\u001b[0;34m.\u001b[0m\u001b[0mpoll\u001b[0m\u001b[0;34m(\u001b[0m\u001b[0mos\u001b[0m\u001b[0;34m.\u001b[0m\u001b[0mWNOHANG\u001b[0m \u001b[0;32mif\u001b[0m \u001b[0mtimeout\u001b[0m \u001b[0;34m==\u001b[0m \u001b[0;36m0.0\u001b[0m \u001b[0;32melse\u001b[0m \u001b[0;36m0\u001b[0m\u001b[0;34m)\u001b[0m\u001b[0;34m\u001b[0m\u001b[0;34m\u001b[0m\u001b[0m\n\u001b[0m\u001b[1;32m     49\u001b[0m         \u001b[0;32mreturn\u001b[0m \u001b[0mself\u001b[0m\u001b[0;34m.\u001b[0m\u001b[0mreturncode\u001b[0m\u001b[0;34m\u001b[0m\u001b[0;34m\u001b[0m\u001b[0m\n\u001b[1;32m     50\u001b[0m \u001b[0;34m\u001b[0m\u001b[0m\n",
      "\u001b[0;32m/usr/lib/python3.7/multiprocessing/popen_fork.py\u001b[0m in \u001b[0;36mpoll\u001b[0;34m(self, flag)\u001b[0m\n\u001b[1;32m     26\u001b[0m         \u001b[0;32mif\u001b[0m \u001b[0mself\u001b[0m\u001b[0;34m.\u001b[0m\u001b[0mreturncode\u001b[0m \u001b[0;32mis\u001b[0m \u001b[0;32mNone\u001b[0m\u001b[0;34m:\u001b[0m\u001b[0;34m\u001b[0m\u001b[0;34m\u001b[0m\u001b[0m\n\u001b[1;32m     27\u001b[0m             \u001b[0;32mtry\u001b[0m\u001b[0;34m:\u001b[0m\u001b[0;34m\u001b[0m\u001b[0;34m\u001b[0m\u001b[0m\n\u001b[0;32m---> 28\u001b[0;31m                 \u001b[0mpid\u001b[0m\u001b[0;34m,\u001b[0m \u001b[0msts\u001b[0m \u001b[0;34m=\u001b[0m \u001b[0mos\u001b[0m\u001b[0;34m.\u001b[0m\u001b[0mwaitpid\u001b[0m\u001b[0;34m(\u001b[0m\u001b[0mself\u001b[0m\u001b[0;34m.\u001b[0m\u001b[0mpid\u001b[0m\u001b[0;34m,\u001b[0m \u001b[0mflag\u001b[0m\u001b[0;34m)\u001b[0m\u001b[0;34m\u001b[0m\u001b[0;34m\u001b[0m\u001b[0m\n\u001b[0m\u001b[1;32m     29\u001b[0m             \u001b[0;32mexcept\u001b[0m \u001b[0mOSError\u001b[0m \u001b[0;32mas\u001b[0m \u001b[0me\u001b[0m\u001b[0;34m:\u001b[0m\u001b[0;34m\u001b[0m\u001b[0;34m\u001b[0m\u001b[0m\n\u001b[1;32m     30\u001b[0m                 \u001b[0;31m# Child process not yet created. See #1731717\u001b[0m\u001b[0;34m\u001b[0m\u001b[0;34m\u001b[0m\u001b[0;34m\u001b[0m\u001b[0m\n",
      "\u001b[0;31mKeyboardInterrupt\u001b[0m: "
     ]
    }
   ],
   "source": [
    "kwargs = {}\n",
    "kwargs['model_f'] = model_f\n",
    "kwargs['lr_f'] = lr_f\n",
    "kwargs['name'] = name\n",
    "kwargs['epochs'] = epochs\n",
    "kwargs['batch_size'] = 64\n",
    "kwargs['X_train'] = X_train\n",
    "kwargs['Y_train'] = Y_train\n",
    "kwargs['val_data'] = (X_val, Y_val)\n",
    "kwargs['mixed_float'] = mixed_float\n",
    "p = Process(target=run_training, kwargs=kwargs)\n",
    "p.start()\n",
    "p.join()"
   ]
  },
  {
   "cell_type": "code",
   "execution_count": null,
   "metadata": {},
   "outputs": [],
   "source": []
  }
 ]
}