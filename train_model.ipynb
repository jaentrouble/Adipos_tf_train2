{
 "metadata": {
  "language_info": {
   "codemirror_mode": {
    "name": "ipython",
    "version": 3
   },
   "file_extension": ".py",
   "mimetype": "text/x-python",
   "name": "python",
   "nbconvert_exporter": "python",
   "pygments_lexer": "ipython3",
   "version": "3.7.8-final"
  },
  "orig_nbformat": 2,
  "kernelspec": {
   "name": "train2_venv",
   "display_name": "train2_venv"
  }
 },
 "nbformat": 4,
 "nbformat_minor": 2,
 "cells": [
  {
   "cell_type": "code",
   "execution_count": 1,
   "metadata": {
    "tags": []
   },
   "outputs": [],
   "source": [
    "%matplotlib inline\n",
    "%load_ext autoreload"
   ]
  },
  {
   "cell_type": "code",
   "execution_count": 2,
   "metadata": {},
   "outputs": [],
   "source": [
    "import numpy as np\n",
    "import matplotlib.pyplot as plt\n",
    "from multiprocessing import Process"
   ]
  },
  {
   "cell_type": "code",
   "execution_count": 3,
   "metadata": {
    "tags": []
   },
   "outputs": [
    {
     "output_type": "stream",
     "name": "stdout",
     "text": "/home/jaentrouble/adipose_train2\n"
    }
   ],
   "source": [
    "import os\n",
    "os.chdir('/home/jaentrouble/adipose_train2')\n",
    "print(os.getcwd())"
   ]
  },
  {
   "cell_type": "code",
   "execution_count": 4,
   "metadata": {
    "tags": []
   },
   "outputs": [],
   "source": [
    "with np.load('cell_mask_data.npz') as data:\n",
    "    X = data['img']\n",
    "    Y = data['mask']"
   ]
  },
  {
   "cell_type": "code",
   "execution_count": 5,
   "metadata": {
    "tags": []
   },
   "outputs": [
    {
     "output_type": "stream",
     "name": "stdout",
     "text": "X shape: (1533, 200, 200, 3)\nY shape: (1533, 200, 200)\n"
    }
   ],
   "source": [
    "print('X shape:',X.shape)\n",
    "print('Y shape:',Y.shape)"
   ]
  },
  {
   "cell_type": "code",
   "execution_count": 6,
   "metadata": {},
   "outputs": [],
   "source": [
    "X_train = X[:1200]\n",
    "Y_train = Y[:1200]\n",
    "X_val = X[1200:1350]\n",
    "Y_val = Y[1200:1350]\n",
    "X_test = X[1350:]\n",
    "Y_test = Y[1350:]"
   ]
  },
  {
   "cell_type": "code",
   "execution_count": 7,
   "metadata": {
    "tags": []
   },
   "outputs": [
    {
     "output_type": "stream",
     "name": "stdout",
     "text": "remote: Enumerating objects: 9, done.\u001b[K\nremote: Counting objects: 100% (9/9), done.\u001b[K\nremote: Compressing objects: 100% (1/1), done.\u001b[K\nremote: Total 5 (delta 3), reused 5 (delta 3), pack-reused 0\u001b[K\nUnpacking objects: 100% (5/5), 972 bytes | 324.00 KiB/s, done.\nFrom https://github.com/jaentrouble/Adipos_tf_train2\n   117d394..5398f3b  master     -> origin/master\nUpdating 117d394..5398f3b\nFast-forward\n extra_models/hrnet.py | 2 \u001b[32m+\u001b[m\u001b[31m-\u001b[m\n train_model.ipynb     | 4 \u001b[32m++\u001b[m\u001b[31m--\u001b[m\n 2 files changed, 3 insertions(+), 3 deletions(-)\n"
    }
   ],
   "source": [
    "!git pull\n",
    "%autoreload"
   ]
  },
  {
   "cell_type": "code",
   "execution_count": 8,
   "metadata": {},
   "outputs": [],
   "source": [
    "from model_trainer import run_training\n",
    "from adipose_models import *\n",
    "from model_lr import *"
   ]
  },
  {
   "cell_type": "code",
   "execution_count": 9,
   "metadata": {},
   "outputs": [],
   "source": [
    "model_f = hr_2_2_0\n",
    "lr_f = lr_mul_inv\n",
    "name = 'hr_2_2_0'\n",
    "epochs = 20\n",
    "mixed_float = True"
   ]
  },
  {
   "cell_type": "code",
   "execution_count": 10,
   "metadata": {
    "tags": []
   },
   "outputs": [
    {
     "output_type": "stream",
     "name": "stdout",
     "text": "INFO:tensorflow:Mixed precision compatibility check (mixed_float16): OK\nYour GPU will likely run quickly with dtype policy mixed_float16 as it has compute capability of at least 7.0. Your GPU: GeForce RTX 2070 SUPER, compute capability 7.5\nProcess Process-1:\nTraceback (most recent call last):\n  File \"/usr/lib/python3.7/multiprocessing/process.py\", line 297, in _bootstrap\n    self.run()\n  File \"/usr/lib/python3.7/multiprocessing/process.py\", line 99, in run\n    self._target(*self._args, **self._kwargs)\n  File \"/home/jaentrouble/adipose_train2/model_trainer.py\", line 67, in run_training\n    mymodel = AdiposeModel(inputs, model_f)\n  File \"/home/jaentrouble/adipose_train2/model_trainer.py\", line 19, in __init__\n    outputs = model_function(inputs)\n  File \"/home/jaentrouble/adipose_train2/adipose_models.py\", line 197, in hr_2_2_0\n    )(x)\n  File \"/home/jaentrouble/adipose_train2/env/lib/python3.7/site-packages/tensorflow/python/keras/engine/base_layer.py\", line 926, in __call__\n    input_list)\n  File \"/home/jaentrouble/adipose_train2/env/lib/python3.7/site-packages/tensorflow/python/keras/engine/base_layer.py\", line 1117, in _functional_construction_call\n    outputs = call_fn(cast_inputs, *args, **kwargs)\n  File \"/home/jaentrouble/adipose_train2/env/lib/python3.7/site-packages/tensorflow/python/autograph/impl/api.py\", line 258, in wrapper\n    raise e.ag_error_metadata.to_exception(e)\nTypeError: in user code:\n\n    /home/jaentrouble/adipose_train2/extra_models/hrnet.py:299 call  *\n        x = self.fusion_layer(inputs)\n    /home/jaentrouble/adipose_train2/extra_models/hrnet.py:232 call  *\n        x = tf.add(x, self.fuse_layers[i][j](inputs[j]))\n    /home/jaentrouble/adipose_train2/env/lib/python3.7/site-packages/tensorflow/python/ops/gen_math_ops.py:357 add  **\n        \"Add\", x=x, y=y, name=name)\n    /home/jaentrouble/adipose_train2/env/lib/python3.7/site-packages/tensorflow/python/framework/op_def_library.py:506 _apply_op_helper\n        inferred_from[input_arg.type_attr]))\n\n    TypeError: Input 'y' of 'Add' Op has type float16 that does not match type float32 of argument 'x'.\n\n"
    }
   ],
   "source": [
    "kwargs = {}\n",
    "kwargs['model_f'] = model_f\n",
    "kwargs['lr_f'] = lr_f\n",
    "kwargs['name'] = name\n",
    "kwargs['epochs'] = epochs\n",
    "kwargs['batch_size'] = 32\n",
    "kwargs['X_train'] = X_train\n",
    "kwargs['Y_train'] = Y_train\n",
    "kwargs['val_data'] = (X_val, Y_val)\n",
    "kwargs['mixed_float'] = mixed_float\n",
    "p = Process(target=run_training, kwargs=kwargs)\n",
    "p.start()\n",
    "p.join()"
   ]
  },
  {
   "cell_type": "code",
   "execution_count": null,
   "metadata": {},
   "outputs": [],
   "source": []
  }
 ]
}