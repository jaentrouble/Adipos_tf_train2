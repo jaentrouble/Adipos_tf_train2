{
 "metadata": {
  "language_info": {
   "codemirror_mode": {
    "name": "ipython",
    "version": 3
   },
   "file_extension": ".py",
   "mimetype": "text/x-python",
   "name": "python",
   "nbconvert_exporter": "python",
   "pygments_lexer": "ipython3",
   "version": "3.7.8-final"
  },
  "orig_nbformat": 2,
  "kernelspec": {
   "name": "train2_venv",
   "display_name": "train2_venv"
  }
 },
 "nbformat": 4,
 "nbformat_minor": 2,
 "cells": [
  {
   "cell_type": "code",
   "execution_count": 1,
   "metadata": {
    "tags": []
   },
   "outputs": [],
   "source": [
    "%matplotlib inline\n",
    "%load_ext autoreload"
   ]
  },
  {
   "cell_type": "code",
   "execution_count": 2,
   "metadata": {},
   "outputs": [],
   "source": [
    "import numpy as np\n",
    "import matplotlib.pyplot as plt\n",
    "from multiprocessing import Process"
   ]
  },
  {
   "cell_type": "code",
   "execution_count": 3,
   "metadata": {
    "tags": []
   },
   "outputs": [
    {
     "output_type": "stream",
     "name": "stdout",
     "text": "/home/jaentrouble/adipose_train2\n"
    }
   ],
   "source": [
    "import os\n",
    "os.chdir('/home/jaentrouble/adipose_train2')\n",
    "print(os.getcwd())"
   ]
  },
  {
   "cell_type": "code",
   "execution_count": 4,
   "metadata": {
    "tags": []
   },
   "outputs": [],
   "source": [
    "with np.load('cell_mask_data.npz') as data:\n",
    "    X = data['img']\n",
    "    Y = data['mask']"
   ]
  },
  {
   "cell_type": "code",
   "execution_count": 5,
   "metadata": {
    "tags": []
   },
   "outputs": [
    {
     "output_type": "stream",
     "name": "stdout",
     "text": "X shape: (1533, 200, 200, 3)\nY shape: (1533, 200, 200)\n"
    }
   ],
   "source": [
    "print('X shape:',X.shape)\n",
    "print('Y shape:',Y.shape)"
   ]
  },
  {
   "cell_type": "code",
   "execution_count": 6,
   "metadata": {},
   "outputs": [],
   "source": [
    "X_train = X[:1200]\n",
    "Y_train = Y[:1200]\n",
    "X_val = X[1200:1350]\n",
    "Y_val = Y[1200:1350]\n",
    "X_test = X[1350:]\n",
    "Y_test = Y[1350:]"
   ]
  },
  {
   "cell_type": "code",
   "execution_count": 7,
   "metadata": {
    "tags": []
   },
   "outputs": [
    {
     "output_type": "stream",
     "name": "stdout",
     "text": "Already up to date.\n"
    }
   ],
   "source": [
    "!git pull\n",
    "%autoreload"
   ]
  },
  {
   "cell_type": "code",
   "execution_count": 8,
   "metadata": {},
   "outputs": [],
   "source": [
    "from model_trainer import run_training\n",
    "from adipose_models import *\n",
    "from model_lr import *"
   ]
  },
  {
   "cell_type": "code",
   "execution_count": 9,
   "metadata": {},
   "outputs": [],
   "source": [
    "model_f = conv16_b4_1\n",
    "lr_f = lr_mul_inv\n",
    "name = 'conv16_b4_1'\n",
    "epochs = 50"
   ]
  },
  {
   "cell_type": "code",
   "execution_count": 10,
   "metadata": {
    "tags": []
   },
   "outputs": [
    {
     "output_type": "stream",
     "name": "stdout",
     "text": "INFO:tensorflow:Mixed precision compatibility check (mixed_float16): OK\nYour GPU will likely run quickly with dtype policy mixed_float16 as it has compute capability of at least 7.0. Your GPU: GeForce RTX 2070 SUPER, compute capability 7.5\nModel: \"functional_1\"\n_________________________________________________________________\nLayer (type)                 Output Shape              Param #\n=================================================================\ninput_1 (InputLayer)         [(None, 200, 200, 3)]     0\n_________________________________________________________________\nconv2d (Conv2D)              (None, 200, 200, 32)      896\n_________________________________________________________________\nconv2d_1 (Conv2D)            (None, 200, 200, 32)      9248\n_________________________________________________________________\nbatch_normalization (BatchNo (None, 200, 200, 32)      128\n_________________________________________________________________\nre_lu (ReLU)                 (None, 200, 200, 32)      0\n_________________________________________________________________\nconv2d_2 (Conv2D)            (None, 200, 200, 32)      9248\n_________________________________________________________________\nconv2d_3 (Conv2D)            (None, 200, 200, 32)      9248\n_________________________________________________________________\nbatch_normalization_1 (Batch (None, 200, 200, 32)      128\n_________________________________________________________________\nre_lu_1 (ReLU)               (None, 200, 200, 32)      0\n_________________________________________________________________\nconv2d_4 (Conv2D)            (None, 200, 200, 32)      9248\n_________________________________________________________________\nconv2d_5 (Conv2D)            (None, 200, 200, 32)      9248\n_________________________________________________________________\nbatch_normalization_2 (Batch (None, 200, 200, 32)      128\n_________________________________________________________________\nre_lu_2 (ReLU)               (None, 200, 200, 32)      0\n_________________________________________________________________\nconv2d_6 (Conv2D)            (None, 200, 200, 32)      9248\n_________________________________________________________________\nconv2d_7 (Conv2D)            (None, 200, 200, 32)      9248\n_________________________________________________________________\nbatch_normalization_3 (Batch (None, 200, 200, 32)      128\n_________________________________________________________________\nre_lu_3 (ReLU)               (None, 200, 200, 32)      0\n_________________________________________________________________\nconv2d_8 (Conv2D)            (None, 200, 200, 1)       289\n_________________________________________________________________\ntf_op_layer_Squeeze (TensorF [(None, 200, 200)]        0\n_________________________________________________________________\nactivation (Activation)      (None, 200, 200)          0\n=================================================================\nTotal params: 66,433\nTrainable params: 66,177\nNon-trainable params: 256\n_________________________________________________________________\n"
    },
    {
     "output_type": "display_data",
     "data": {
      "text/plain": "HBox(children=(FloatProgress(value=0.0, description='Training', max=50.0, style=ProgressStyle(description_widt…",
      "application/vnd.jupyter.widget-view+json": {
       "version_major": 2,
       "version_minor": 0,
       "model_id": "1ea0a75af589422785cc8d21ab9481c5"
      }
     },
     "metadata": {}
    },
    {
     "output_type": "stream",
     "name": "stdout",
     "text": "\nEpoch 00001: LearningRateScheduler reducing learning rate to 0.01.\n"
    },
    {
     "output_type": "display_data",
     "data": {
      "text/plain": "HBox(children=(FloatProgress(value=0.0, description='Epoch 0', max=19.0, style=ProgressStyle(description_width…",
      "application/vnd.jupyter.widget-view+json": {
       "version_major": 2,
       "version_minor": 0,
       "model_id": "4edd516d27a94321aba19d32995b3d88"
      }
     },
     "metadata": {}
    },
    {
     "output_type": "stream",
     "name": "stdout",
     "text": "WARNING:tensorflow:From /home/jaentrouble/adipose_train2/env/lib/python3.7/site-packages/tensorflow/python/ops/summary_ops_v2.py:1277: stop (from tensorflow.python.eager.profiler) is deprecated and will be removed after 2020-07-01.\nInstructions for updating:\nuse `tf.profiler.experimental.stop` instead.\n\nEpoch 00001: saving model to savedmodels/conv16_b4_1/1\n\nloss:0.5609892010688782, binary_accuracy:0.7238725423812866, val_loss:0.6931471824645996, val_binary_accuracy:0.6808908581733704, lr:0.01\n\nEpoch 00002: LearningRateScheduler reducing learning rate to 0.005.\n"
    },
    {
     "output_type": "display_data",
     "data": {
      "text/plain": "HBox(children=(FloatProgress(value=0.0, description='Epoch 1', max=19.0, style=ProgressStyle(description_width…",
      "application/vnd.jupyter.widget-view+json": {
       "version_major": 2,
       "version_minor": 0,
       "model_id": "c2336c9ea3b74e329027fea8a0ada71b"
      }
     },
     "metadata": {}
    },
    {
     "output_type": "stream",
     "name": "stdout",
     "text": "\nEpoch 00002: saving model to savedmodels/conv16_b4_1/2\n\nloss:0.5232637524604797, binary_accuracy:0.7434772849082947, val_loss:0.6931471824645996, val_binary_accuracy:0.6808908581733704, lr:0.005\n\nEpoch 00003: LearningRateScheduler reducing learning rate to 0.0033333333333333335.\n"
    },
    {
     "output_type": "display_data",
     "data": {
      "text/plain": "HBox(children=(FloatProgress(value=0.0, description='Epoch 2', max=19.0, style=ProgressStyle(description_width…",
      "application/vnd.jupyter.widget-view+json": {
       "version_major": 2,
       "version_minor": 0,
       "model_id": "34f3c3674ad244a498e03b9b10369570"
      }
     },
     "metadata": {}
    },
    {
     "output_type": "stream",
     "name": "stdout",
     "text": "\nEpoch 00003: saving model to savedmodels/conv16_b4_1/3\n\nloss:0.5170791745185852, binary_accuracy:0.7434772849082947, val_loss:0.6931471824645996, val_binary_accuracy:0.6808908581733704, lr:0.0033333334\n\nEpoch 00004: LearningRateScheduler reducing learning rate to 0.0025.\n"
    },
    {
     "output_type": "display_data",
     "data": {
      "text/plain": "HBox(children=(FloatProgress(value=0.0, description='Epoch 3', max=19.0, style=ProgressStyle(description_width…",
      "application/vnd.jupyter.widget-view+json": {
       "version_major": 2,
       "version_minor": 0,
       "model_id": "2e39985bec55437f8b31bc9ef6431bfe"
      }
     },
     "metadata": {}
    },
    {
     "output_type": "stream",
     "name": "stdout",
     "text": "\nEpoch 00004: saving model to savedmodels/conv16_b4_1/4\n\nloss:0.5135124921798706, binary_accuracy:0.7434772253036499, val_loss:0.6931471824645996, val_binary_accuracy:0.6808908581733704, lr:0.0025\n\nEpoch 00005: LearningRateScheduler reducing learning rate to 0.002.\n"
    },
    {
     "output_type": "display_data",
     "data": {
      "text/plain": "HBox(children=(FloatProgress(value=0.0, description='Epoch 4', max=19.0, style=ProgressStyle(description_width…",
      "application/vnd.jupyter.widget-view+json": {
       "version_major": 2,
       "version_minor": 0,
       "model_id": "e731f0213e0849f193f4bf0c1a7c204e"
      }
     },
     "metadata": {}
    },
    {
     "output_type": "stream",
     "name": "stdout",
     "text": "\nEpoch 00005: saving model to savedmodels/conv16_b4_1/5\n\nloss:0.5101236701011658, binary_accuracy:0.7434772849082947, val_loss:0.6939818859100342, val_binary_accuracy:0.6808803677558899, lr:0.002\n\nEpoch 00006: LearningRateScheduler reducing learning rate to 0.0016666666666666668.\n"
    },
    {
     "output_type": "display_data",
     "data": {
      "text/plain": "HBox(children=(FloatProgress(value=0.0, description='Epoch 5', max=19.0, style=ProgressStyle(description_width…",
      "application/vnd.jupyter.widget-view+json": {
       "version_major": 2,
       "version_minor": 0,
       "model_id": "80593c6667c14b46ad7133d44383c64b"
      }
     },
     "metadata": {}
    },
    {
     "output_type": "stream",
     "name": "stdout",
     "text": "\nEpoch 00006: saving model to savedmodels/conv16_b4_1/6\n\nloss:0.5054500699043274, binary_accuracy:0.7434772849082947, val_loss:0.6931486129760742, val_binary_accuracy:0.6808908581733704, lr:0.0016666667\n\nEpoch 00007: LearningRateScheduler reducing learning rate to 0.0014285714285714286.\n"
    },
    {
     "output_type": "display_data",
     "data": {
      "text/plain": "HBox(children=(FloatProgress(value=0.0, description='Epoch 6', max=19.0, style=ProgressStyle(description_width…",
      "application/vnd.jupyter.widget-view+json": {
       "version_major": 2,
       "version_minor": 0,
       "model_id": "4c12554634b14cb9b14337b3828669d1"
      }
     },
     "metadata": {}
    },
    {
     "output_type": "stream",
     "name": "stdout",
     "text": "\nEpoch 00007: saving model to savedmodels/conv16_b4_1/7\n\nloss:0.5058060884475708, binary_accuracy:0.7434771656990051, val_loss:0.7320012450218201, val_binary_accuracy:0.47129401564598083, lr:0.0014285714\n\nEpoch 00008: LearningRateScheduler reducing learning rate to 0.00125.\n"
    },
    {
     "output_type": "display_data",
     "data": {
      "text/plain": "HBox(children=(FloatProgress(value=0.0, description='Epoch 7', max=19.0, style=ProgressStyle(description_width…",
      "application/vnd.jupyter.widget-view+json": {
       "version_major": 2,
       "version_minor": 0,
       "model_id": "02a92890bdb24f99acfa32871321da30"
      }
     },
     "metadata": {}
    },
    {
     "output_type": "stream",
     "name": "stdout",
     "text": "\nEpoch 00008: saving model to savedmodels/conv16_b4_1/8\n\nloss:0.4997067153453827, binary_accuracy:0.7434772253036499, val_loss:0.6931576728820801, val_binary_accuracy:0.6808908581733704, lr:0.00125\n\nEpoch 00009: LearningRateScheduler reducing learning rate to 0.0011111111111111111.\n"
    },
    {
     "output_type": "display_data",
     "data": {
      "text/plain": "HBox(children=(FloatProgress(value=0.0, description='Epoch 8', max=19.0, style=ProgressStyle(description_width…",
      "application/vnd.jupyter.widget-view+json": {
       "version_major": 2,
       "version_minor": 0,
       "model_id": "34a536b516594d84a77031943b2cd91b"
      }
     },
     "metadata": {}
    },
    {
     "output_type": "stream",
     "name": "stdout",
     "text": "\nEpoch 00009: saving model to savedmodels/conv16_b4_1/9\n\nloss:0.4963371157646179, binary_accuracy:0.7434772253036499, val_loss:0.7115369439125061, val_binary_accuracy:0.5653691291809082, lr:0.0011111111\n\nEpoch 00010: LearningRateScheduler reducing learning rate to 0.001.\n"
    },
    {
     "output_type": "display_data",
     "data": {
      "text/plain": "HBox(children=(FloatProgress(value=0.0, description='Epoch 9', max=19.0, style=ProgressStyle(description_width…",
      "application/vnd.jupyter.widget-view+json": {
       "version_major": 2,
       "version_minor": 0,
       "model_id": "3122516aed0a4213b0775a806c7ab96a"
      }
     },
     "metadata": {}
    },
    {
     "output_type": "stream",
     "name": "stdout",
     "text": "\nEpoch 00010: saving model to savedmodels/conv16_b4_1/10\n\nloss:0.4926835596561432, binary_accuracy:0.7434772849082947, val_loss:0.7096229791641235, val_binary_accuracy:0.529453456401825, lr:0.001\n\nEpoch 00011: LearningRateScheduler reducing learning rate to 0.0009090909090909091.\n"
    },
    {
     "output_type": "display_data",
     "data": {
      "text/plain": "HBox(children=(FloatProgress(value=0.0, description='Epoch 10', max=19.0, style=ProgressStyle(description_widt…",
      "application/vnd.jupyter.widget-view+json": {
       "version_major": 2,
       "version_minor": 0,
       "model_id": "e2de98c6b388497984eed8ec91b99bc8"
      }
     },
     "metadata": {}
    },
    {
     "output_type": "stream",
     "name": "stdout",
     "text": "\nEpoch 00011: saving model to savedmodels/conv16_b4_1/11\n\nloss:0.48903366923332214, binary_accuracy:0.7434772253036499, val_loss:0.6940183043479919, val_binary_accuracy:0.6799528002738953, lr:0.0009090909\n\nEpoch 00012: LearningRateScheduler reducing learning rate to 0.0008333333333333334.\n"
    },
    {
     "output_type": "display_data",
     "data": {
      "text/plain": "HBox(children=(FloatProgress(value=0.0, description='Epoch 11', max=19.0, style=ProgressStyle(description_widt…",
      "application/vnd.jupyter.widget-view+json": {
       "version_major": 2,
       "version_minor": 0,
       "model_id": "2875faa8d4e342beb64740d6bc3d3f99"
      }
     },
     "metadata": {}
    },
    {
     "output_type": "stream",
     "name": "stdout",
     "text": "\nEpoch 00012: saving model to savedmodels/conv16_b4_1/12\n\nloss:0.48733648657798767, binary_accuracy:0.7434772849082947, val_loss:0.6946956515312195, val_binary_accuracy:0.6774190068244934, lr:0.00083333335\n\nEpoch 00013: LearningRateScheduler reducing learning rate to 0.0007692307692307692.\n"
    },
    {
     "output_type": "display_data",
     "data": {
      "text/plain": "HBox(children=(FloatProgress(value=0.0, description='Epoch 12', max=19.0, style=ProgressStyle(description_widt…",
      "application/vnd.jupyter.widget-view+json": {
       "version_major": 2,
       "version_minor": 0,
       "model_id": "1389e499fe5a4421b015cef91cd80f25"
      }
     },
     "metadata": {}
    },
    {
     "output_type": "stream",
     "name": "stdout",
     "text": "\nEpoch 00013: saving model to savedmodels/conv16_b4_1/13\n\nloss:0.48554661870002747, binary_accuracy:0.7434772253036499, val_loss:0.6937205791473389, val_binary_accuracy:0.6797460317611694, lr:0.00076923077\n\nEpoch 00014: LearningRateScheduler reducing learning rate to 0.0007142857142857143.\n"
    },
    {
     "output_type": "display_data",
     "data": {
      "text/plain": "HBox(children=(FloatProgress(value=0.0, description='Epoch 13', max=19.0, style=ProgressStyle(description_widt…",
      "application/vnd.jupyter.widget-view+json": {
       "version_major": 2,
       "version_minor": 0,
       "model_id": "4728b192e8b64e3eb3adc9ac5fc9613d"
      }
     },
     "metadata": {}
    },
    {
     "output_type": "stream",
     "name": "stdout",
     "text": "\nEpoch 00014: saving model to savedmodels/conv16_b4_1/14\n\nloss:0.4846864342689514, binary_accuracy:0.7434772253036499, val_loss:0.6933199763298035, val_binary_accuracy:0.6806275844573975, lr:0.0007142857\n\nEpoch 00015: LearningRateScheduler reducing learning rate to 0.0006666666666666666.\n"
    },
    {
     "output_type": "display_data",
     "data": {
      "text/plain": "HBox(children=(FloatProgress(value=0.0, description='Epoch 14', max=19.0, style=ProgressStyle(description_widt…",
      "application/vnd.jupyter.widget-view+json": {
       "version_major": 2,
       "version_minor": 0,
       "model_id": "db20e3851e26418c9d95f45a8d2fd5ca"
      }
     },
     "metadata": {}
    },
    {
     "output_type": "stream",
     "name": "stdout",
     "text": "\nEpoch 00015: saving model to savedmodels/conv16_b4_1/15\n\nloss:0.48320505023002625, binary_accuracy:0.7434772253036499, val_loss:0.6933127045631409, val_binary_accuracy:0.6805662512779236, lr:0.00066666666\n\nEpoch 00016: LearningRateScheduler reducing learning rate to 0.000625.\n"
    },
    {
     "output_type": "display_data",
     "data": {
      "text/plain": "HBox(children=(FloatProgress(value=0.0, description='Epoch 15', max=19.0, style=ProgressStyle(description_widt…",
      "application/vnd.jupyter.widget-view+json": {
       "version_major": 2,
       "version_minor": 0,
       "model_id": "0710c4ec98ea42a9ae66e04be22a64ed"
      }
     },
     "metadata": {}
    },
    {
     "output_type": "stream",
     "name": "stdout",
     "text": "\nEpoch 00016: saving model to savedmodels/conv16_b4_1/16\n\nloss:0.4828874170780182, binary_accuracy:0.7434772849082947, val_loss:0.6933031678199768, val_binary_accuracy:0.6805341243743896, lr:0.000625\n\nEpoch 00017: LearningRateScheduler reducing learning rate to 0.0005882352941176471.\n"
    },
    {
     "output_type": "display_data",
     "data": {
      "text/plain": "HBox(children=(FloatProgress(value=0.0, description='Epoch 16', max=19.0, style=ProgressStyle(description_widt…",
      "application/vnd.jupyter.widget-view+json": {
       "version_major": 2,
       "version_minor": 0,
       "model_id": "a0248a5f9b2e4af39b3f5e59bc7ba160"
      }
     },
     "metadata": {}
    },
    {
     "output_type": "stream",
     "name": "stdout",
     "text": "\nEpoch 00017: saving model to savedmodels/conv16_b4_1/17\n\nloss:0.48235437273979187, binary_accuracy:0.7434773445129395, val_loss:0.6934444904327393, val_binary_accuracy:0.6803841590881348, lr:0.00058823527\n\nEpoch 00018: LearningRateScheduler reducing learning rate to 0.0005555555555555556.\n"
    },
    {
     "output_type": "display_data",
     "data": {
      "text/plain": "HBox(children=(FloatProgress(value=0.0, description='Epoch 17', max=19.0, style=ProgressStyle(description_widt…",
      "application/vnd.jupyter.widget-view+json": {
       "version_major": 2,
       "version_minor": 0,
       "model_id": "34c4c25506b24b3aa56c3e5dcfc47921"
      }
     },
     "metadata": {}
    },
    {
     "output_type": "stream",
     "name": "stdout",
     "text": "\nEpoch 00018: saving model to savedmodels/conv16_b4_1/18\n\nloss:0.4814302623271942, binary_accuracy:0.7434772253036499, val_loss:0.6932551264762878, val_binary_accuracy:0.6806743741035461, lr:0.00055555557\n\nEpoch 00019: LearningRateScheduler reducing learning rate to 0.0005263157894736842.\n"
    },
    {
     "output_type": "display_data",
     "data": {
      "text/plain": "HBox(children=(FloatProgress(value=0.0, description='Epoch 18', max=19.0, style=ProgressStyle(description_widt…",
      "application/vnd.jupyter.widget-view+json": {
       "version_major": 2,
       "version_minor": 0,
       "model_id": "79d3b9d3e9194cc29ba63e5b3a8845f3"
      }
     },
     "metadata": {}
    },
    {
     "output_type": "stream",
     "name": "stdout",
     "text": "\nEpoch 00019: saving model to savedmodels/conv16_b4_1/19\n\nloss:0.4813474416732788, binary_accuracy:0.7434772849082947, val_loss:0.6932427883148193, val_binary_accuracy:0.6806924343109131, lr:0.00052631577\n\nEpoch 00020: LearningRateScheduler reducing learning rate to 0.0005.\n"
    },
    {
     "output_type": "display_data",
     "data": {
      "text/plain": "HBox(children=(FloatProgress(value=0.0, description='Epoch 19', max=19.0, style=ProgressStyle(description_widt…",
      "application/vnd.jupyter.widget-view+json": {
       "version_major": 2,
       "version_minor": 0,
       "model_id": "8ff5d4cb729b4676a159016b887d9d91"
      }
     },
     "metadata": {}
    },
    {
     "output_type": "stream",
     "name": "stdout",
     "text": "\nEpoch 00020: saving model to savedmodels/conv16_b4_1/20\n\nloss:0.4804198145866394, binary_accuracy:0.7434772253036499, val_loss:0.6932448148727417, val_binary_accuracy:0.6807119846343994, lr:0.0005\n\nEpoch 00021: LearningRateScheduler reducing learning rate to 0.0004761904761904762.\n"
    },
    {
     "output_type": "display_data",
     "data": {
      "text/plain": "HBox(children=(FloatProgress(value=0.0, description='Epoch 20', max=19.0, style=ProgressStyle(description_widt…",
      "application/vnd.jupyter.widget-view+json": {
       "version_major": 2,
       "version_minor": 0,
       "model_id": "da72057c7c9e42b9a9eb8ffe2ce96c25"
      }
     },
     "metadata": {}
    },
    {
     "output_type": "stream",
     "name": "stdout",
     "text": "\nEpoch 00021: saving model to savedmodels/conv16_b4_1/21\n\nloss:0.4805196225643158, binary_accuracy:0.7434773445129395, val_loss:0.6933231353759766, val_binary_accuracy:0.6804826855659485, lr:0.00047619047\n\nEpoch 00022: LearningRateScheduler reducing learning rate to 0.00045454545454545455.\n"
    },
    {
     "output_type": "display_data",
     "data": {
      "text/plain": "HBox(children=(FloatProgress(value=0.0, description='Epoch 21', max=19.0, style=ProgressStyle(description_widt…",
      "application/vnd.jupyter.widget-view+json": {
       "version_major": 2,
       "version_minor": 0,
       "model_id": "bc24cc392b48487ca0a8cc6c9fd1d4e4"
      }
     },
     "metadata": {}
    },
    {
     "output_type": "stream",
     "name": "stdout",
     "text": "\nEpoch 00022: saving model to savedmodels/conv16_b4_1/22\n\nloss:0.4804021120071411, binary_accuracy:0.7434771656990051, val_loss:0.6934129595756531, val_binary_accuracy:0.6802067160606384, lr:0.00045454546\n\nEpoch 00023: LearningRateScheduler reducing learning rate to 0.0004347826086956522.\n"
    },
    {
     "output_type": "display_data",
     "data": {
      "text/plain": "HBox(children=(FloatProgress(value=0.0, description='Epoch 22', max=19.0, style=ProgressStyle(description_widt…",
      "application/vnd.jupyter.widget-view+json": {
       "version_major": 2,
       "version_minor": 0,
       "model_id": "9c48c527d6774afb9a9315535b9d3b52"
      }
     },
     "metadata": {}
    },
    {
     "output_type": "stream",
     "name": "stdout",
     "text": "\nEpoch 00023: saving model to savedmodels/conv16_b4_1/23\n\nloss:0.4803833067417145, binary_accuracy:0.7434773445129395, val_loss:0.6934967637062073, val_binary_accuracy:0.6799407601356506, lr:0.00043478262\n\nEpoch 00024: LearningRateScheduler reducing learning rate to 0.0004166666666666667.\n"
    },
    {
     "output_type": "display_data",
     "data": {
      "text/plain": "HBox(children=(FloatProgress(value=0.0, description='Epoch 23', max=19.0, style=ProgressStyle(description_widt…",
      "application/vnd.jupyter.widget-view+json": {
       "version_major": 2,
       "version_minor": 0,
       "model_id": "587112a882994e4282a37bc3a932096c"
      }
     },
     "metadata": {}
    },
    {
     "output_type": "stream",
     "name": "stdout",
     "text": "\nEpoch 00024: saving model to savedmodels/conv16_b4_1/24\n\nloss:0.4801589548587799, binary_accuracy:0.7434772253036499, val_loss:0.6933996677398682, val_binary_accuracy:0.680205225944519, lr:0.00041666668\n\nEpoch 00025: LearningRateScheduler reducing learning rate to 0.0004.\n"
    },
    {
     "output_type": "display_data",
     "data": {
      "text/plain": "HBox(children=(FloatProgress(value=0.0, description='Epoch 24', max=19.0, style=ProgressStyle(description_widt…",
      "application/vnd.jupyter.widget-view+json": {
       "version_major": 2,
       "version_minor": 0,
       "model_id": "7c6373cf457e422994868137508db3a8"
      }
     },
     "metadata": {}
    },
    {
     "output_type": "stream",
     "name": "stdout",
     "text": "\nEpoch 00025: saving model to savedmodels/conv16_b4_1/25\n\nloss:0.4792967736721039, binary_accuracy:0.7434772849082947, val_loss:0.6933176517486572, val_binary_accuracy:0.680361807346344, lr:0.0004\n\nEpoch 00026: LearningRateScheduler reducing learning rate to 0.0003846153846153846.\n"
    },
    {
     "output_type": "display_data",
     "data": {
      "text/plain": "HBox(children=(FloatProgress(value=0.0, description='Epoch 25', max=19.0, style=ProgressStyle(description_widt…",
      "application/vnd.jupyter.widget-view+json": {
       "version_major": 2,
       "version_minor": 0,
       "model_id": "fdf621cc8e204e269320bd5f0eac1484"
      }
     },
     "metadata": {}
    },
    {
     "output_type": "stream",
     "name": "stdout",
     "text": "\nEpoch 00026: saving model to savedmodels/conv16_b4_1/26\n\nloss:0.4793485999107361, binary_accuracy:0.7434772849082947, val_loss:0.6937018036842346, val_binary_accuracy:0.6793713569641113, lr:0.00038461538\n\nEpoch 00027: LearningRateScheduler reducing learning rate to 0.00037037037037037035.\n"
    },
    {
     "output_type": "display_data",
     "data": {
      "text/plain": "HBox(children=(FloatProgress(value=0.0, description='Epoch 26', max=19.0, style=ProgressStyle(description_widt…",
      "application/vnd.jupyter.widget-view+json": {
       "version_major": 2,
       "version_minor": 0,
       "model_id": "35fddef8bc81444b939beaff3de9d75d"
      }
     },
     "metadata": {}
    },
    {
     "output_type": "stream",
     "name": "stdout",
     "text": "\nEpoch 00027: saving model to savedmodels/conv16_b4_1/27\n\nloss:0.47894200682640076, binary_accuracy:0.7434772849082947, val_loss:0.6937541961669922, val_binary_accuracy:0.6793526411056519, lr:0.00037037037\n\nEpoch 00028: LearningRateScheduler reducing learning rate to 0.00035714285714285714.\n"
    },
    {
     "output_type": "display_data",
     "data": {
      "text/plain": "HBox(children=(FloatProgress(value=0.0, description='Epoch 27', max=19.0, style=ProgressStyle(description_widt…",
      "application/vnd.jupyter.widget-view+json": {
       "version_major": 2,
       "version_minor": 0,
       "model_id": "81cdcecd0c1042dfbf4385fea4bafb2f"
      }
     },
     "metadata": {}
    },
    {
     "output_type": "stream",
     "name": "stdout",
     "text": "\nEpoch 00028: saving model to savedmodels/conv16_b4_1/28\n\nloss:0.4790187180042267, binary_accuracy:0.7434771656990051, val_loss:0.6938190460205078, val_binary_accuracy:0.6791863441467285, lr:0.00035714285\n\nEpoch 00029: LearningRateScheduler reducing learning rate to 0.0003448275862068966.\n"
    },
    {
     "output_type": "display_data",
     "data": {
      "text/plain": "HBox(children=(FloatProgress(value=0.0, description='Epoch 28', max=19.0, style=ProgressStyle(description_widt…",
      "application/vnd.jupyter.widget-view+json": {
       "version_major": 2,
       "version_minor": 0,
       "model_id": "fb8986779b3d4cc38db991ebaeb58774"
      }
     },
     "metadata": {}
    },
    {
     "output_type": "stream",
     "name": "stdout",
     "text": "\nEpoch 00029: saving model to savedmodels/conv16_b4_1/29\n\nloss:0.4787096679210663, binary_accuracy:0.7434772849082947, val_loss:0.6940335631370544, val_binary_accuracy:0.6787815093994141, lr:0.0003448276\n\nEpoch 00030: LearningRateScheduler reducing learning rate to 0.0003333333333333333.\n"
    },
    {
     "output_type": "display_data",
     "data": {
      "text/plain": "HBox(children=(FloatProgress(value=0.0, description='Epoch 29', max=19.0, style=ProgressStyle(description_widt…",
      "application/vnd.jupyter.widget-view+json": {
       "version_major": 2,
       "version_minor": 0,
       "model_id": "feb943bc67bf48a797834a8266e0023b"
      }
     },
     "metadata": {}
    },
    {
     "output_type": "stream",
     "name": "stdout",
     "text": "\nEpoch 00030: saving model to savedmodels/conv16_b4_1/30\n\nloss:0.478755384683609, binary_accuracy:0.7434772253036499, val_loss:0.6938459277153015, val_binary_accuracy:0.6786577105522156, lr:0.00033333333\n\nEpoch 00031: LearningRateScheduler reducing learning rate to 0.0003225806451612903.\n"
    },
    {
     "output_type": "display_data",
     "data": {
      "text/plain": "HBox(children=(FloatProgress(value=0.0, description='Epoch 30', max=19.0, style=ProgressStyle(description_widt…",
      "application/vnd.jupyter.widget-view+json": {
       "version_major": 2,
       "version_minor": 0,
       "model_id": "42cceb9463b0483ea379aad3fe3f89f5"
      }
     },
     "metadata": {}
    },
    {
     "output_type": "stream",
     "name": "stdout",
     "text": "\nEpoch 00031: saving model to savedmodels/conv16_b4_1/31\n\nloss:0.4791037440299988, binary_accuracy:0.7434773445129395, val_loss:0.6935860514640808, val_binary_accuracy:0.6794018149375916, lr:0.00032258066\n\nEpoch 00032: LearningRateScheduler reducing learning rate to 0.0003125.\n"
    },
    {
     "output_type": "display_data",
     "data": {
      "text/plain": "HBox(children=(FloatProgress(value=0.0, description='Epoch 31', max=19.0, style=ProgressStyle(description_widt…",
      "application/vnd.jupyter.widget-view+json": {
       "version_major": 2,
       "version_minor": 0,
       "model_id": "f2f113efd807454d95d3219cf8600382"
      }
     },
     "metadata": {}
    },
    {
     "output_type": "stream",
     "name": "stdout",
     "text": "\nEpoch 00032: saving model to savedmodels/conv16_b4_1/32\n\nloss:0.4786096215248108, binary_accuracy:0.7434772849082947, val_loss:0.6945244073867798, val_binary_accuracy:0.6769657135009766, lr:0.0003125\n\nEpoch 00033: LearningRateScheduler reducing learning rate to 0.00030303030303030303.\n"
    },
    {
     "output_type": "display_data",
     "data": {
      "text/plain": "HBox(children=(FloatProgress(value=0.0, description='Epoch 32', max=19.0, style=ProgressStyle(description_widt…",
      "application/vnd.jupyter.widget-view+json": {
       "version_major": 2,
       "version_minor": 0,
       "model_id": "0a9605e7f9884a58ab0b1470d38bb7f8"
      }
     },
     "metadata": {}
    },
    {
     "output_type": "stream",
     "name": "stdout",
     "text": "\nEpoch 00033: saving model to savedmodels/conv16_b4_1/33\n\nloss:0.47809162735939026, binary_accuracy:0.7434772849082947, val_loss:0.6968560814857483, val_binary_accuracy:0.6641724109649658, lr:0.0003030303\n\nEpoch 00034: LearningRateScheduler reducing learning rate to 0.00029411764705882356.\n"
    },
    {
     "output_type": "display_data",
     "data": {
      "text/plain": "HBox(children=(FloatProgress(value=0.0, description='Epoch 33', max=19.0, style=ProgressStyle(description_widt…",
      "application/vnd.jupyter.widget-view+json": {
       "version_major": 2,
       "version_minor": 0,
       "model_id": "d06f6f1f861e4018a009d2dca914b490"
      }
     },
     "metadata": {}
    },
    {
     "output_type": "stream",
     "name": "stdout",
     "text": "\nEpoch 00034: saving model to savedmodels/conv16_b4_1/34\n\nloss:0.4780806005001068, binary_accuracy:0.7434771656990051, val_loss:0.6966498494148254, val_binary_accuracy:0.6650488972663879, lr:0.00029411764\n\nEpoch 00035: LearningRateScheduler reducing learning rate to 0.00028571428571428574.\n"
    },
    {
     "output_type": "display_data",
     "data": {
      "text/plain": "HBox(children=(FloatProgress(value=0.0, description='Epoch 34', max=19.0, style=ProgressStyle(description_widt…",
      "application/vnd.jupyter.widget-view+json": {
       "version_major": 2,
       "version_minor": 0,
       "model_id": "b5cf853621fd4d27ba0bbf754edc734e"
      }
     },
     "metadata": {}
    },
    {
     "output_type": "stream",
     "name": "stdout",
     "text": "\nEpoch 00035: saving model to savedmodels/conv16_b4_1/35\n\nloss:0.4779658913612366, binary_accuracy:0.7434772253036499, val_loss:0.6979053020477295, val_binary_accuracy:0.653293788433075, lr:0.00028571428\n\nEpoch 00036: LearningRateScheduler reducing learning rate to 0.0002777777777777778.\n"
    },
    {
     "output_type": "display_data",
     "data": {
      "text/plain": "HBox(children=(FloatProgress(value=0.0, description='Epoch 35', max=19.0, style=ProgressStyle(description_widt…",
      "application/vnd.jupyter.widget-view+json": {
       "version_major": 2,
       "version_minor": 0,
       "model_id": "25e5c36f7d1c4cc1a64acd920fb51c3f"
      }
     },
     "metadata": {}
    },
    {
     "output_type": "stream",
     "name": "stdout",
     "text": "\nEpoch 00036: saving model to savedmodels/conv16_b4_1/36\n\nloss:0.4778957664966583, binary_accuracy:0.7434772253036499, val_loss:0.700926661491394, val_binary_accuracy:0.6279558539390564, lr:0.00027777778\n\nEpoch 00037: LearningRateScheduler reducing learning rate to 0.0002702702702702703.\n"
    },
    {
     "output_type": "display_data",
     "data": {
      "text/plain": "HBox(children=(FloatProgress(value=0.0, description='Epoch 36', max=19.0, style=ProgressStyle(description_widt…",
      "application/vnd.jupyter.widget-view+json": {
       "version_major": 2,
       "version_minor": 0,
       "model_id": "283f69d24b99425abaf913f546671e3b"
      }
     },
     "metadata": {}
    },
    {
     "output_type": "stream",
     "name": "stdout",
     "text": "\nEpoch 00037: saving model to savedmodels/conv16_b4_1/37\n\nloss:0.47763916850090027, binary_accuracy:0.7434772253036499, val_loss:0.6989927291870117, val_binary_accuracy:0.6428245306015015, lr:0.00027027028\n\nEpoch 00038: LearningRateScheduler reducing learning rate to 0.0002631578947368421.\n"
    },
    {
     "output_type": "display_data",
     "data": {
      "text/plain": "HBox(children=(FloatProgress(value=0.0, description='Epoch 37', max=19.0, style=ProgressStyle(description_widt…",
      "application/vnd.jupyter.widget-view+json": {
       "version_major": 2,
       "version_minor": 0,
       "model_id": "d592696b1fbf401c915a9ae0a1c8c272"
      }
     },
     "metadata": {}
    },
    {
     "output_type": "stream",
     "name": "stdout",
     "text": "\nEpoch 00038: saving model to savedmodels/conv16_b4_1/38\n\nloss:0.4777126610279083, binary_accuracy:0.7434773445129395, val_loss:0.6989175081253052, val_binary_accuracy:0.6436740159988403, lr:0.00026315788\n\nEpoch 00039: LearningRateScheduler reducing learning rate to 0.0002564102564102564.\n"
    },
    {
     "output_type": "display_data",
     "data": {
      "text/plain": "HBox(children=(FloatProgress(value=0.0, description='Epoch 38', max=19.0, style=ProgressStyle(description_widt…",
      "application/vnd.jupyter.widget-view+json": {
       "version_major": 2,
       "version_minor": 0,
       "model_id": "996ec1d10dbc426f8e8b8741568cb4d6"
      }
     },
     "metadata": {}
    },
    {
     "output_type": "stream",
     "name": "stdout",
     "text": "\nEpoch 00039: saving model to savedmodels/conv16_b4_1/39\n\nloss:0.4773987829685211, binary_accuracy:0.7434771656990051, val_loss:0.6956029534339905, val_binary_accuracy:0.6712087392807007, lr:0.00025641025\n\nEpoch 00040: LearningRateScheduler reducing learning rate to 0.00025.\n"
    },
    {
     "output_type": "display_data",
     "data": {
      "text/plain": "HBox(children=(FloatProgress(value=0.0, description='Epoch 39', max=19.0, style=ProgressStyle(description_widt…",
      "application/vnd.jupyter.widget-view+json": {
       "version_major": 2,
       "version_minor": 0,
       "model_id": "eaebac65d3e74f1184fa95cbff8286aa"
      }
     },
     "metadata": {}
    },
    {
     "output_type": "stream",
     "name": "stdout",
     "text": "\nEpoch 00040: saving model to savedmodels/conv16_b4_1/40\n\nloss:0.4776150584220886, binary_accuracy:0.7434772849082947, val_loss:0.6966396570205688, val_binary_accuracy:0.6641841530799866, lr:0.00025\n\nEpoch 00041: LearningRateScheduler reducing learning rate to 0.00024390243902439024.\n"
    },
    {
     "output_type": "display_data",
     "data": {
      "text/plain": "HBox(children=(FloatProgress(value=0.0, description='Epoch 40', max=19.0, style=ProgressStyle(description_widt…",
      "application/vnd.jupyter.widget-view+json": {
       "version_major": 2,
       "version_minor": 0,
       "model_id": "ac957af7c49845a7897da41646a0615b"
      }
     },
     "metadata": {}
    },
    {
     "output_type": "stream",
     "name": "stdout",
     "text": "\nEpoch 00041: saving model to savedmodels/conv16_b4_1/41\n\nloss:0.4775809645652771, binary_accuracy:0.7434772253036499, val_loss:0.6999365091323853, val_binary_accuracy:0.6360305547714233, lr:0.00024390244\n\nEpoch 00042: LearningRateScheduler reducing learning rate to 0.0002380952380952381.\n"
    },
    {
     "output_type": "display_data",
     "data": {
      "text/plain": "HBox(children=(FloatProgress(value=0.0, description='Epoch 41', max=19.0, style=ProgressStyle(description_widt…",
      "application/vnd.jupyter.widget-view+json": {
       "version_major": 2,
       "version_minor": 0,
       "model_id": "700339f723a0435e8325811d9626585f"
      }
     },
     "metadata": {}
    },
    {
     "output_type": "stream",
     "name": "stdout",
     "text": "\nEpoch 00042: saving model to savedmodels/conv16_b4_1/42\n\nloss:0.47702452540397644, binary_accuracy:0.7434771656990051, val_loss:0.6992244124412537, val_binary_accuracy:0.6398166418075562, lr:0.00023809524\n\nEpoch 00043: LearningRateScheduler reducing learning rate to 0.00023255813953488373.\n"
    },
    {
     "output_type": "display_data",
     "data": {
      "text/plain": "HBox(children=(FloatProgress(value=0.0, description='Epoch 42', max=19.0, style=ProgressStyle(description_widt…",
      "application/vnd.jupyter.widget-view+json": {
       "version_major": 2,
       "version_minor": 0,
       "model_id": "7065308fd4ee4e4aaf89c7a98009bf4f"
      }
     },
     "metadata": {}
    },
    {
     "output_type": "stream",
     "name": "stdout",
     "text": "\nEpoch 00043: saving model to savedmodels/conv16_b4_1/43\n\nloss:0.4769420921802521, binary_accuracy:0.7434772849082947, val_loss:0.7006593942642212, val_binary_accuracy:0.6259171962738037, lr:0.00023255814\n\nEpoch 00044: LearningRateScheduler reducing learning rate to 0.00022727272727272727.\n"
    },
    {
     "output_type": "display_data",
     "data": {
      "text/plain": "HBox(children=(FloatProgress(value=0.0, description='Epoch 43', max=19.0, style=ProgressStyle(description_widt…",
      "application/vnd.jupyter.widget-view+json": {
       "version_major": 2,
       "version_minor": 0,
       "model_id": "0984b0bcb4b24723801304829289ff04"
      }
     },
     "metadata": {}
    },
    {
     "output_type": "stream",
     "name": "stdout",
     "text": "\nEpoch 00044: saving model to savedmodels/conv16_b4_1/44\n\nloss:0.47701284289360046, binary_accuracy:0.7434772253036499, val_loss:0.6993966698646545, val_binary_accuracy:0.6393068432807922, lr:0.00022727273\n\nEpoch 00045: LearningRateScheduler reducing learning rate to 0.00022222222222222223.\n"
    },
    {
     "output_type": "display_data",
     "data": {
      "text/plain": "HBox(children=(FloatProgress(value=0.0, description='Epoch 44', max=19.0, style=ProgressStyle(description_widt…",
      "application/vnd.jupyter.widget-view+json": {
       "version_major": 2,
       "version_minor": 0,
       "model_id": "fa062f37ab314c658ef32f143d1e06c9"
      }
     },
     "metadata": {}
    },
    {
     "output_type": "stream",
     "name": "stdout",
     "text": "\nEpoch 00045: saving model to savedmodels/conv16_b4_1/45\n\nloss:0.47702905535697937, binary_accuracy:0.7434772253036499, val_loss:0.6971957683563232, val_binary_accuracy:0.6585547924041748, lr:0.00022222222\n\nEpoch 00046: LearningRateScheduler reducing learning rate to 0.0002173913043478261.\n"
    },
    {
     "output_type": "display_data",
     "data": {
      "text/plain": "HBox(children=(FloatProgress(value=0.0, description='Epoch 45', max=19.0, style=ProgressStyle(description_widt…",
      "application/vnd.jupyter.widget-view+json": {
       "version_major": 2,
       "version_minor": 0,
       "model_id": "2fd1888328fc4a0b9b9c9f47b386a714"
      }
     },
     "metadata": {}
    },
    {
     "output_type": "stream",
     "name": "stdout",
     "text": "\nEpoch 00046: saving model to savedmodels/conv16_b4_1/46\n\nloss:0.47689566016197205, binary_accuracy:0.7434771656990051, val_loss:0.700863242149353, val_binary_accuracy:0.6251611709594727, lr:0.00021739131\n\nEpoch 00047: LearningRateScheduler reducing learning rate to 0.0002127659574468085.\n"
    },
    {
     "output_type": "display_data",
     "data": {
      "text/plain": "HBox(children=(FloatProgress(value=0.0, description='Epoch 46', max=19.0, style=ProgressStyle(description_widt…",
      "application/vnd.jupyter.widget-view+json": {
       "version_major": 2,
       "version_minor": 0,
       "model_id": "48fb107b970641e9bdade99a2902acce"
      }
     },
     "metadata": {}
    },
    {
     "output_type": "stream",
     "name": "stdout",
     "text": "\nEpoch 00047: saving model to savedmodels/conv16_b4_1/47\n\nloss:0.4766378402709961, binary_accuracy:0.7434772253036499, val_loss:0.7034860849380493, val_binary_accuracy:0.6111677289009094, lr:0.00021276595\n\nEpoch 00048: LearningRateScheduler reducing learning rate to 0.00020833333333333335.\n"
    },
    {
     "output_type": "display_data",
     "data": {
      "text/plain": "HBox(children=(FloatProgress(value=0.0, description='Epoch 47', max=19.0, style=ProgressStyle(description_widt…",
      "application/vnd.jupyter.widget-view+json": {
       "version_major": 2,
       "version_minor": 0,
       "model_id": "b4ee721fc51f48e6ae72a1a931b19260"
      }
     },
     "metadata": {}
    },
    {
     "output_type": "stream",
     "name": "stdout",
     "text": "\nEpoch 00048: saving model to savedmodels/conv16_b4_1/48\n\nloss:0.4766409397125244, binary_accuracy:0.7434772849082947, val_loss:0.7059255242347717, val_binary_accuracy:0.6071875095367432, lr:0.00020833334\n\nEpoch 00049: LearningRateScheduler reducing learning rate to 0.00020408163265306123.\n"
    },
    {
     "output_type": "display_data",
     "data": {
      "text/plain": "HBox(children=(FloatProgress(value=0.0, description='Epoch 48', max=19.0, style=ProgressStyle(description_widt…",
      "application/vnd.jupyter.widget-view+json": {
       "version_major": 2,
       "version_minor": 0,
       "model_id": "f272a0e139654178b18cd96ae5041041"
      }
     },
     "metadata": {}
    },
    {
     "output_type": "stream",
     "name": "stdout",
     "text": "\nEpoch 00049: saving model to savedmodels/conv16_b4_1/49\n\nloss:0.4766264259815216, binary_accuracy:0.7434773445129395, val_loss:0.6984847784042358, val_binary_accuracy:0.6473965048789978, lr:0.00020408163\n\nEpoch 00050: LearningRateScheduler reducing learning rate to 0.0002.\n"
    },
    {
     "output_type": "display_data",
     "data": {
      "text/plain": "HBox(children=(FloatProgress(value=0.0, description='Epoch 49', max=19.0, style=ProgressStyle(description_widt…",
      "application/vnd.jupyter.widget-view+json": {
       "version_major": 2,
       "version_minor": 0,
       "model_id": "f04295c89a52491e92b404f28fd3a85b"
      }
     },
     "metadata": {}
    },
    {
     "output_type": "stream",
     "name": "stdout",
     "text": "\nEpoch 00050: saving model to savedmodels/conv16_b4_1/50\n\nloss:0.47666147351264954, binary_accuracy:0.7434772253036499, val_loss:0.7055092453956604, val_binary_accuracy:0.6064512729644775, lr:0.0002\n\nTook 271.060453414917 seconds\n"
    }
   ],
   "source": [
    "kwargs = {}\n",
    "kwargs['model_f'] = model_f\n",
    "kwargs['lr_f'] = lr_f\n",
    "kwargs['name'] = name\n",
    "kwargs['epochs'] = epochs\n",
    "kwargs['batch_size'] = 64\n",
    "kwargs['X_train'] = X_train\n",
    "kwargs['Y_train'] = Y_train\n",
    "kwargs['val_data'] = (X_val, Y_val)\n",
    "p = Process(target=run_training, kwargs=kwargs)\n",
    "p.start()\n",
    "p.join()"
   ]
  },
  {
   "cell_type": "code",
   "execution_count": null,
   "metadata": {},
   "outputs": [],
   "source": []
  }
 ]
}