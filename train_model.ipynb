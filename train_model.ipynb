{
 "metadata": {
  "language_info": {
   "codemirror_mode": {
    "name": "ipython",
    "version": 3
   },
   "file_extension": ".py",
   "mimetype": "text/x-python",
   "name": "python",
   "nbconvert_exporter": "python",
   "pygments_lexer": "ipython3",
   "version": "3.7.8-final"
  },
  "orig_nbformat": 2,
  "kernelspec": {
   "name": "train2_venv",
   "display_name": "train2_venv"
  }
 },
 "nbformat": 4,
 "nbformat_minor": 2,
 "cells": [
  {
   "cell_type": "code",
   "execution_count": 1,
   "metadata": {
    "tags": []
   },
   "outputs": [],
   "source": [
    "%matplotlib inline\n",
    "%load_ext autoreload"
   ]
  },
  {
   "cell_type": "code",
   "execution_count": 2,
   "metadata": {},
   "outputs": [],
   "source": [
    "import numpy as np\n",
    "import matplotlib.pyplot as plt\n",
    "from multiprocessing import Process"
   ]
  },
  {
   "cell_type": "code",
   "execution_count": 3,
   "metadata": {
    "tags": []
   },
   "outputs": [
    {
     "output_type": "stream",
     "name": "stdout",
     "text": "/home/jaentrouble/adipose_train2\n"
    }
   ],
   "source": [
    "import os\n",
    "os.chdir('/home/jaentrouble/adipose_train2')\n",
    "print(os.getcwd())"
   ]
  },
  {
   "cell_type": "code",
   "execution_count": 4,
   "metadata": {
    "tags": []
   },
   "outputs": [],
   "source": [
    "with np.load('cell_mask_data.npz') as data:\n",
    "    X = data['img']\n",
    "    Y = data['mask']"
   ]
  },
  {
   "cell_type": "code",
   "execution_count": 5,
   "metadata": {
    "tags": []
   },
   "outputs": [
    {
     "output_type": "stream",
     "name": "stdout",
     "text": "X shape: (1533, 200, 200, 3)\nY shape: (1533, 200, 200)\n"
    }
   ],
   "source": [
    "print('X shape:',X.shape)\n",
    "print('Y shape:',Y.shape)"
   ]
  },
  {
   "cell_type": "code",
   "execution_count": 6,
   "metadata": {},
   "outputs": [],
   "source": [
    "X_train = X[:1200]\n",
    "Y_train = Y[:1200]\n",
    "X_val = X[1200:1350]\n",
    "Y_val = Y[1200:1350]\n",
    "X_test = X[1350:]\n",
    "Y_test = Y[1350:]"
   ]
  },
  {
   "cell_type": "code",
   "execution_count": 7,
   "metadata": {
    "tags": []
   },
   "outputs": [
    {
     "output_type": "stream",
     "name": "stdout",
     "text": "remote: Enumerating objects: 9, done.\u001b[K\nremote: Counting objects: 100% (9/9), done.\u001b[K\nremote: Compressing objects: 100% (1/1), done.\u001b[K\nremote: Total 5 (delta 3), reused 5 (delta 3), pack-reused 0\u001b[K\nUnpacking objects: 100% (5/5), 731 bytes | 243.00 KiB/s, done.\nFrom https://github.com/jaentrouble/Adipos_tf_train2\n   5398f3b..1641fa6  master     -> origin/master\nUpdating 5398f3b..1641fa6\nFast-forward\n extra_models/hrnet.py | 3 \u001b[32m+\u001b[m\u001b[31m--\u001b[m\n train_model.ipynb     | 4 \u001b[32m++\u001b[m\u001b[31m--\u001b[m\n 2 files changed, 3 insertions(+), 4 deletions(-)\n"
    }
   ],
   "source": [
    "!git pull\n",
    "%autoreload"
   ]
  },
  {
   "cell_type": "code",
   "execution_count": 8,
   "metadata": {},
   "outputs": [],
   "source": [
    "from model_trainer import run_training\n",
    "from adipose_models import *\n",
    "from model_lr import *"
   ]
  },
  {
   "cell_type": "code",
   "execution_count": 9,
   "metadata": {},
   "outputs": [],
   "source": [
    "model_f = hr_2_2_0\n",
    "lr_f = lr_mul_inv\n",
    "name = 'hr_2_2_0'\n",
    "epochs = 20\n",
    "mixed_float = True"
   ]
  },
  {
   "cell_type": "code",
   "execution_count": 10,
   "metadata": {
    "tags": []
   },
   "outputs": [
    {
     "output_type": "stream",
     "name": "stdout",
     "text": "INFO:tensorflow:Mixed precision compatibility check (mixed_float16): OK\nYour GPU will likely run quickly with dtype policy mixed_float16 as it has compute capability of at least 7.0. Your GPU: GeForce RTX 2070 SUPER, compute capability 7.5\nProcess Process-1:\nTraceback (most recent call last):\n  File \"/usr/lib/python3.7/multiprocessing/process.py\", line 297, in _bootstrap\n    self.run()\n  File \"/usr/lib/python3.7/multiprocessing/process.py\", line 99, in run\n    self._target(*self._args, **self._kwargs)\n  File \"/home/jaentrouble/adipose_train2/model_trainer.py\", line 67, in run_training\n    mymodel = AdiposeModel(inputs, model_f)\n  File \"/home/jaentrouble/adipose_train2/model_trainer.py\", line 19, in __init__\n    outputs = model_function(inputs)\n  File \"/home/jaentrouble/adipose_train2/adipose_models.py\", line 207, in hr_2_2_0\n    )(x)\n  File \"/home/jaentrouble/adipose_train2/env/lib/python3.7/site-packages/tensorflow/python/keras/engine/base_layer.py\", line 926, in __call__\n    input_list)\n  File \"/home/jaentrouble/adipose_train2/env/lib/python3.7/site-packages/tensorflow/python/keras/engine/base_layer.py\", line 1098, in _functional_construction_call\n    self._maybe_build(inputs)\n  File \"/home/jaentrouble/adipose_train2/env/lib/python3.7/site-packages/tensorflow/python/keras/engine/base_layer.py\", line 2643, in _maybe_build\n    self.build(input_shapes)  # pylint:disable=not-callable\n  File \"/home/jaentrouble/adipose_train2/env/lib/python3.7/site-packages/tensorflow/python/keras/layers/convolutional.py\", line 186, in build\n    input_shape = tensor_shape.TensorShape(input_shape)\n  File \"/home/jaentrouble/adipose_train2/env/lib/python3.7/site-packages/tensorflow/python/framework/tensor_shape.py\", line 756, in __init__\n    self._dims = [Dimension(d) for d in dims]\n  File \"/home/jaentrouble/adipose_train2/env/lib/python3.7/site-packages/tensorflow/python/framework/tensor_shape.py\", line 756, in <listcomp>\n    self._dims = [Dimension(d) for d in dims]\n  File \"/home/jaentrouble/adipose_train2/env/lib/python3.7/site-packages/tensorflow/python/framework/tensor_shape.py\", line 204, in __init__\n    .format(value, type(value))), None)\n  File \"<string>\", line 3, in raise_from\nTypeError: Dimension value must be integer or None or have an __index__ method, got value 'TensorShape([None, 200, 200, 8])' with type '<class 'tensorflow.python.framework.tensor_shape.TensorShape'>'\n"
    }
   ],
   "source": [
    "kwargs = {}\n",
    "kwargs['model_f'] = model_f\n",
    "kwargs['lr_f'] = lr_f\n",
    "kwargs['name'] = name\n",
    "kwargs['epochs'] = epochs\n",
    "kwargs['batch_size'] = 32\n",
    "kwargs['X_train'] = X_train\n",
    "kwargs['Y_train'] = Y_train\n",
    "kwargs['val_data'] = (X_val, Y_val)\n",
    "kwargs['mixed_float'] = mixed_float\n",
    "p = Process(target=run_training, kwargs=kwargs)\n",
    "p.start()\n",
    "p.join()"
   ]
  },
  {
   "cell_type": "code",
   "execution_count": null,
   "metadata": {},
   "outputs": [],
   "source": []
  }
 ]
}