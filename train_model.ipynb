{
 "metadata": {
  "language_info": {
   "codemirror_mode": {
    "name": "ipython",
    "version": 3
   },
   "file_extension": ".py",
   "mimetype": "text/x-python",
   "name": "python",
   "nbconvert_exporter": "python",
   "pygments_lexer": "ipython3",
   "version": "3.7.8-final"
  },
  "orig_nbformat": 2,
  "kernelspec": {
   "name": "train2_venv",
   "display_name": "train2_venv"
  }
 },
 "nbformat": 4,
 "nbformat_minor": 2,
 "cells": [
  {
   "cell_type": "code",
   "execution_count": 11,
   "metadata": {
    "tags": []
   },
   "outputs": [
    {
     "output_type": "stream",
     "name": "stdout",
     "text": "The autoreload extension is already loaded. To reload it, use:\n  %reload_ext autoreload\n"
    }
   ],
   "source": [
    "%matplotlib inline\n",
    "%load_ext autoreload"
   ]
  },
  {
   "cell_type": "code",
   "execution_count": 12,
   "metadata": {},
   "outputs": [],
   "source": [
    "import numpy as np\n",
    "import matplotlib.pyplot as plt\n",
    "from multiprocessing import Process"
   ]
  },
  {
   "cell_type": "code",
   "execution_count": 13,
   "metadata": {
    "tags": []
   },
   "outputs": [
    {
     "output_type": "stream",
     "name": "stdout",
     "text": "/home/jaentrouble/adipose_train2\n"
    }
   ],
   "source": [
    "import os\n",
    "os.chdir('/home/jaentrouble/adipose_train2')\n",
    "print(os.getcwd())"
   ]
  },
  {
   "cell_type": "code",
   "execution_count": 14,
   "metadata": {
    "tags": []
   },
   "outputs": [],
   "source": [
    "with np.load('cell_mask_data.npz') as data:\n",
    "    X = data['img']\n",
    "    Y = data['mask']"
   ]
  },
  {
   "cell_type": "code",
   "execution_count": 15,
   "metadata": {
    "tags": []
   },
   "outputs": [
    {
     "output_type": "stream",
     "name": "stdout",
     "text": "X shape: (1533, 200, 200, 3)\nY shape: (1533, 200, 200)\n"
    }
   ],
   "source": [
    "print('X shape:',X.shape)\n",
    "print('Y shape:',Y.shape)"
   ]
  },
  {
   "cell_type": "code",
   "execution_count": 16,
   "metadata": {},
   "outputs": [],
   "source": [
    "X_train = X[:1200]\n",
    "Y_train = Y[:1200]\n",
    "X_val = X[1200:1350]\n",
    "Y_val = Y[1200:1350]\n",
    "X_test = X[1350:]\n",
    "Y_test = Y[1350:]"
   ]
  },
  {
   "cell_type": "code",
   "execution_count": 17,
   "metadata": {},
   "outputs": [],
   "source": [
    "from model_trainer import run_training\n",
    "from adipose_models import *\n",
    "from model_lr import *"
   ]
  },
  {
   "cell_type": "code",
   "execution_count": 18,
   "metadata": {
    "tags": []
   },
   "outputs": [
    {
     "output_type": "stream",
     "name": "stdout",
     "text": "Already up to date.\n"
    }
   ],
   "source": [
    "!git pull\n",
    "%autoreload"
   ]
  },
  {
   "cell_type": "code",
   "execution_count": 21,
   "metadata": {},
   "outputs": [],
   "source": [
    "model_f = conv16_b4_0\n",
    "lr_f = lr_step2\n",
    "name = 'conv16_b4_0'\n",
    "epochs = 50"
   ]
  },
  {
   "cell_type": "code",
   "execution_count": 22,
   "metadata": {
    "tags": []
   },
   "outputs": [
    {
     "output_type": "stream",
     "name": "stdout",
     "text": "INFO:tensorflow:Mixed precision compatibility check (mixed_float16): OK\nYour GPU will likely run quickly with dtype policy mixed_float16 as it has compute capability of at least 7.0. Your GPU: GeForce RTX 2070 SUPER, compute capability 7.5\nModel: \"functional_1\"\n_________________________________________________________________\nLayer (type)                 Output Shape              Param #\n=================================================================\ninput_1 (InputLayer)         [(None, 200, 200, 3)]     0\n_________________________________________________________________\nconv2d (Conv2D)              (None, 200, 200, 32)      896\n_________________________________________________________________\nconv2d_1 (Conv2D)            (None, 200, 200, 32)      9248\n_________________________________________________________________\nbatch_normalization (BatchNo (None, 200, 200, 32)      128\n_________________________________________________________________\nconv2d_2 (Conv2D)            (None, 200, 200, 32)      9248\n_________________________________________________________________\nconv2d_3 (Conv2D)            (None, 200, 200, 32)      9248\n_________________________________________________________________\nbatch_normalization_1 (Batch (None, 200, 200, 32)      128\n_________________________________________________________________\nconv2d_4 (Conv2D)            (None, 200, 200, 32)      9248\n_________________________________________________________________\nconv2d_5 (Conv2D)            (None, 200, 200, 32)      9248\n_________________________________________________________________\nbatch_normalization_2 (Batch (None, 200, 200, 32)      128\n_________________________________________________________________\nconv2d_6 (Conv2D)            (None, 200, 200, 32)      9248\n_________________________________________________________________\nconv2d_7 (Conv2D)            (None, 200, 200, 32)      9248\n_________________________________________________________________\nbatch_normalization_3 (Batch (None, 200, 200, 32)      128\n_________________________________________________________________\nconv2d_8 (Conv2D)            (None, 200, 200, 1)       289\n_________________________________________________________________\ntf_op_layer_Squeeze (TensorF [(None, 200, 200)]        0\n_________________________________________________________________\nactivation (Activation)      (None, 200, 200)          0\n=================================================================\nTotal params: 66,433\nTrainable params: 66,177\nNon-trainable params: 256\n_________________________________________________________________\n"
    },
    {
     "output_type": "display_data",
     "data": {
      "text/plain": "HBox(children=(FloatProgress(value=0.0, description='Training', max=50.0, style=ProgressStyle(description_widt…",
      "application/vnd.jupyter.widget-view+json": {
       "version_major": 2,
       "version_minor": 0,
       "model_id": "c783cb3038d54786836da0b8a74fc79a"
      }
     },
     "metadata": {}
    },
    {
     "output_type": "stream",
     "name": "stdout",
     "text": "\nEpoch 00001: LearningRateScheduler reducing learning rate to 0.01.\n"
    },
    {
     "output_type": "display_data",
     "data": {
      "text/plain": "HBox(children=(FloatProgress(value=0.0, description='Epoch 0', max=19.0, style=ProgressStyle(description_width…",
      "application/vnd.jupyter.widget-view+json": {
       "version_major": 2,
       "version_minor": 0,
       "model_id": "251e0aaf9f204d27b77e1ebc9dab85b6"
      }
     },
     "metadata": {}
    },
    {
     "output_type": "stream",
     "name": "stdout",
     "text": "WARNING:tensorflow:From /home/jaentrouble/adipose_train2/env/lib/python3.7/site-packages/tensorflow/python/ops/summary_ops_v2.py:1277: stop (from tensorflow.python.eager.profiler) is deprecated and will be removed after 2020-07-01.\nInstructions for updating:\nuse `tf.profiler.experimental.stop` instead.\n\nEpoch 00001: saving model to savedmodels/conv16_b4_0/1\n\nloss:0.6433582305908203, binary_accuracy:0.6761128306388855, val_loss:0.6931471824645996, val_binary_accuracy:0.6808908581733704, lr:0.01\n\nEpoch 00002: LearningRateScheduler reducing learning rate to 0.02.\n"
    },
    {
     "output_type": "display_data",
     "data": {
      "text/plain": "HBox(children=(FloatProgress(value=0.0, description='Epoch 1', max=19.0, style=ProgressStyle(description_width…",
      "application/vnd.jupyter.widget-view+json": {
       "version_major": 2,
       "version_minor": 0,
       "model_id": "f129469bae694418ba7bbe387b5a9712"
      }
     },
     "metadata": {}
    },
    {
     "output_type": "stream",
     "name": "stdout",
     "text": "\nEpoch 00002: saving model to savedmodels/conv16_b4_0/2\n\nloss:0.5292071104049683, binary_accuracy:0.7423730492591858, val_loss:0.6931473016738892, val_binary_accuracy:0.6808908581733704, lr:0.02\n\nEpoch 00003: LearningRateScheduler reducing learning rate to 0.03.\n"
    },
    {
     "output_type": "display_data",
     "data": {
      "text/plain": "HBox(children=(FloatProgress(value=0.0, description='Epoch 2', max=19.0, style=ProgressStyle(description_width…",
      "application/vnd.jupyter.widget-view+json": {
       "version_major": 2,
       "version_minor": 0,
       "model_id": "868fa2bb19a8482bbb593260c5e76f99"
      }
     },
     "metadata": {}
    },
    {
     "output_type": "stream",
     "name": "stdout",
     "text": "\nEpoch 00003: saving model to savedmodels/conv16_b4_0/3\n\nloss:0.5096988081932068, binary_accuracy:0.7434695363044739, val_loss:0.6931471824645996, val_binary_accuracy:0.6808908581733704, lr:0.03\n\nEpoch 00004: LearningRateScheduler reducing learning rate to 0.04.\n"
    },
    {
     "output_type": "display_data",
     "data": {
      "text/plain": "HBox(children=(FloatProgress(value=0.0, description='Epoch 3', max=19.0, style=ProgressStyle(description_width…",
      "application/vnd.jupyter.widget-view+json": {
       "version_major": 2,
       "version_minor": 0,
       "model_id": "216689b3bd034b6b8a2785d8462dd52c"
      }
     },
     "metadata": {}
    },
    {
     "output_type": "stream",
     "name": "stdout",
     "text": "\nEpoch 00004: saving model to savedmodels/conv16_b4_0/4\n\nloss:0.5058140158653259, binary_accuracy:0.7433884739875793, val_loss:0.6963977217674255, val_binary_accuracy:0.6725340485572815, lr:0.04\n\nEpoch 00005: LearningRateScheduler reducing learning rate to 0.05.\n"
    },
    {
     "output_type": "display_data",
     "data": {
      "text/plain": "HBox(children=(FloatProgress(value=0.0, description='Epoch 4', max=19.0, style=ProgressStyle(description_width…",
      "application/vnd.jupyter.widget-view+json": {
       "version_major": 2,
       "version_minor": 0,
       "model_id": "f45b7d70dcfc4ad4bdb3c517d6859b93"
      }
     },
     "metadata": {}
    },
    {
     "output_type": "stream",
     "name": "stdout",
     "text": "\nEpoch 00005: saving model to savedmodels/conv16_b4_0/5\n\nloss:0.49822571873664856, binary_accuracy:0.7433141469955444, val_loss:0.6933376789093018, val_binary_accuracy:0.6804078221321106, lr:0.05\n\nEpoch 00006: LearningRateScheduler reducing learning rate to 0.06.\n"
    },
    {
     "output_type": "display_data",
     "data": {
      "text/plain": "HBox(children=(FloatProgress(value=0.0, description='Epoch 5', max=19.0, style=ProgressStyle(description_width…",
      "application/vnd.jupyter.widget-view+json": {
       "version_major": 2,
       "version_minor": 0,
       "model_id": "e5afd1ef490148dbbf2d913d6aa9a4c4"
      }
     },
     "metadata": {}
    },
    {
     "output_type": "stream",
     "name": "stdout",
     "text": "\nEpoch 00006: saving model to savedmodels/conv16_b4_0/6\n\nloss:0.4963808059692383, binary_accuracy:0.7434760928153992, val_loss:0.6934536099433899, val_binary_accuracy:0.6801767945289612, lr:0.06\n\nEpoch 00007: LearningRateScheduler reducing learning rate to 0.07.\n"
    },
    {
     "output_type": "display_data",
     "data": {
      "text/plain": "HBox(children=(FloatProgress(value=0.0, description='Epoch 6', max=19.0, style=ProgressStyle(description_width…",
      "application/vnd.jupyter.widget-view+json": {
       "version_major": 2,
       "version_minor": 0,
       "model_id": "a9b31dd377294811b2488da0fdaf3c1d"
      }
     },
     "metadata": {}
    },
    {
     "output_type": "stream",
     "name": "stdout",
     "text": "\nEpoch 00007: saving model to savedmodels/conv16_b4_0/7\n\nloss:0.4961246848106384, binary_accuracy:0.7434766888618469, val_loss:0.6931480169296265, val_binary_accuracy:0.6808908581733704, lr:0.07\n\nEpoch 00008: LearningRateScheduler reducing learning rate to 0.08.\n"
    },
    {
     "output_type": "display_data",
     "data": {
      "text/plain": "HBox(children=(FloatProgress(value=0.0, description='Epoch 7', max=19.0, style=ProgressStyle(description_width…",
      "application/vnd.jupyter.widget-view+json": {
       "version_major": 2,
       "version_minor": 0,
       "model_id": "56ad59e0212c4cacb7536b24e2ef10ac"
      }
     },
     "metadata": {}
    },
    {
     "output_type": "stream",
     "name": "stdout",
     "text": "\nEpoch 00008: saving model to savedmodels/conv16_b4_0/8\n\nloss:0.4933902621269226, binary_accuracy:0.7434773445129395, val_loss:0.6939107179641724, val_binary_accuracy:0.6789748668670654, lr:0.08\n\nEpoch 00009: LearningRateScheduler reducing learning rate to 0.09.\n"
    },
    {
     "output_type": "display_data",
     "data": {
      "text/plain": "HBox(children=(FloatProgress(value=0.0, description='Epoch 8', max=19.0, style=ProgressStyle(description_width…",
      "application/vnd.jupyter.widget-view+json": {
       "version_major": 2,
       "version_minor": 0,
       "model_id": "b1d3a3fda84d4b0a85573f98a7f54b7a"
      }
     },
     "metadata": {}
    },
    {
     "output_type": "stream",
     "name": "stdout",
     "text": "\nEpoch 00009: saving model to savedmodels/conv16_b4_0/9\n\nloss:0.49084848165512085, binary_accuracy:0.7434735298156738, val_loss:0.6931483745574951, val_binary_accuracy:0.680885910987854, lr:0.09\n\nEpoch 00010: LearningRateScheduler reducing learning rate to 0.1.\n"
    },
    {
     "output_type": "display_data",
     "data": {
      "text/plain": "HBox(children=(FloatProgress(value=0.0, description='Epoch 9', max=19.0, style=ProgressStyle(description_width…",
      "application/vnd.jupyter.widget-view+json": {
       "version_major": 2,
       "version_minor": 0,
       "model_id": "50797d9812964cdca3ade85a864ee5b1"
      }
     },
     "metadata": {}
    },
    {
     "output_type": "stream",
     "name": "stdout",
     "text": "\nEpoch 00010: saving model to savedmodels/conv16_b4_0/10\n\nloss:0.48768356442451477, binary_accuracy:0.7434771656990051, val_loss:0.6956127285957336, val_binary_accuracy:0.680732786655426, lr:0.1\n\nEpoch 00011: LearningRateScheduler reducing learning rate to 0.11.\n"
    },
    {
     "output_type": "display_data",
     "data": {
      "text/plain": "HBox(children=(FloatProgress(value=0.0, description='Epoch 10', max=19.0, style=ProgressStyle(description_widt…",
      "application/vnd.jupyter.widget-view+json": {
       "version_major": 2,
       "version_minor": 0,
       "model_id": "f2f502ce492e4442be29b8fc8359f690"
      }
     },
     "metadata": {}
    },
    {
     "output_type": "stream",
     "name": "stdout",
     "text": "\nEpoch 00011: saving model to savedmodels/conv16_b4_0/11\n\nloss:0.48424017429351807, binary_accuracy:0.7434768080711365, val_loss:0.6942391395568848, val_binary_accuracy:0.6807268261909485, lr:0.11\n\nEpoch 00012: LearningRateScheduler reducing learning rate to 0.02.\n"
    },
    {
     "output_type": "display_data",
     "data": {
      "text/plain": "HBox(children=(FloatProgress(value=0.0, description='Epoch 11', max=19.0, style=ProgressStyle(description_widt…",
      "application/vnd.jupyter.widget-view+json": {
       "version_major": 2,
       "version_minor": 0,
       "model_id": "bb33dce72d0149cd90a03261399b8ea5"
      }
     },
     "metadata": {}
    },
    {
     "output_type": "stream",
     "name": "stdout",
     "text": "\nEpoch 00012: saving model to savedmodels/conv16_b4_0/12\n\nloss:0.48163217306137085, binary_accuracy:0.743476927280426, val_loss:0.7042626738548279, val_binary_accuracy:0.6434974670410156, lr:0.02\n\nEpoch 00013: LearningRateScheduler reducing learning rate to 0.02.\n"
    },
    {
     "output_type": "display_data",
     "data": {
      "text/plain": "HBox(children=(FloatProgress(value=0.0, description='Epoch 12', max=19.0, style=ProgressStyle(description_widt…",
      "application/vnd.jupyter.widget-view+json": {
       "version_major": 2,
       "version_minor": 0,
       "model_id": "09ae7de240524c8d81acf5f21299297d"
      }
     },
     "metadata": {}
    },
    {
     "output_type": "stream",
     "name": "stdout",
     "text": "\nEpoch 00013: saving model to savedmodels/conv16_b4_0/13\n\nloss:0.48042410612106323, binary_accuracy:0.7434772849082947, val_loss:0.7084562182426453, val_binary_accuracy:0.5457879900932312, lr:0.02\n\nEpoch 00014: LearningRateScheduler reducing learning rate to 0.02.\n"
    },
    {
     "output_type": "display_data",
     "data": {
      "text/plain": "HBox(children=(FloatProgress(value=0.0, description='Epoch 13', max=19.0, style=ProgressStyle(description_widt…",
      "application/vnd.jupyter.widget-view+json": {
       "version_major": 2,
       "version_minor": 0,
       "model_id": "0a1184223654479389cb2f00980172b6"
      }
     },
     "metadata": {}
    },
    {
     "output_type": "stream",
     "name": "stdout",
     "text": "\nEpoch 00014: saving model to savedmodels/conv16_b4_0/14\n\nloss:0.4797001779079437, binary_accuracy:0.7434772849082947, val_loss:0.707609236240387, val_binary_accuracy:0.5596656203269958, lr:0.02\n\nEpoch 00015: LearningRateScheduler reducing learning rate to 0.02.\n"
    },
    {
     "output_type": "display_data",
     "data": {
      "text/plain": "HBox(children=(FloatProgress(value=0.0, description='Epoch 14', max=19.0, style=ProgressStyle(description_widt…",
      "application/vnd.jupyter.widget-view+json": {
       "version_major": 2,
       "version_minor": 0,
       "model_id": "362df772cf3740fb846baea10bcba257"
      }
     },
     "metadata": {}
    },
    {
     "output_type": "stream",
     "name": "stdout",
     "text": "\nEpoch 00015: saving model to savedmodels/conv16_b4_0/15\n\nloss:0.47984084486961365, binary_accuracy:0.7434771656990051, val_loss:0.6970849633216858, val_binary_accuracy:0.6699540615081787, lr:0.02\n\nEpoch 00016: LearningRateScheduler reducing learning rate to 0.02.\n"
    },
    {
     "output_type": "display_data",
     "data": {
      "text/plain": "HBox(children=(FloatProgress(value=0.0, description='Epoch 15', max=19.0, style=ProgressStyle(description_widt…",
      "application/vnd.jupyter.widget-view+json": {
       "version_major": 2,
       "version_minor": 0,
       "model_id": "ad0cd4ddc958452d9e1adf1819cd5d9e"
      }
     },
     "metadata": {}
    },
    {
     "output_type": "stream",
     "name": "stdout",
     "text": "\nEpoch 00016: saving model to savedmodels/conv16_b4_0/16\n\nloss:0.47947368025779724, binary_accuracy:0.7434772253036499, val_loss:0.6962428689002991, val_binary_accuracy:0.672849178314209, lr:0.02\n\nEpoch 00017: LearningRateScheduler reducing learning rate to 0.02.\n"
    },
    {
     "output_type": "display_data",
     "data": {
      "text/plain": "HBox(children=(FloatProgress(value=0.0, description='Epoch 16', max=19.0, style=ProgressStyle(description_widt…",
      "application/vnd.jupyter.widget-view+json": {
       "version_major": 2,
       "version_minor": 0,
       "model_id": "a8273ebc5b214e13867a299487a9c316"
      }
     },
     "metadata": {}
    },
    {
     "output_type": "stream",
     "name": "stdout",
     "text": "\nEpoch 00017: saving model to savedmodels/conv16_b4_0/17\n\nloss:0.47929704189300537, binary_accuracy:0.7434772253036499, val_loss:0.6949138641357422, val_binary_accuracy:0.6725290417671204, lr:0.02\n\nEpoch 00018: LearningRateScheduler reducing learning rate to 0.02.\n"
    },
    {
     "output_type": "display_data",
     "data": {
      "text/plain": "HBox(children=(FloatProgress(value=0.0, description='Epoch 17', max=19.0, style=ProgressStyle(description_widt…",
      "application/vnd.jupyter.widget-view+json": {
       "version_major": 2,
       "version_minor": 0,
       "model_id": "5b0a0d166dbe4ffcb4f73d694f8a571a"
      }
     },
     "metadata": {}
    },
    {
     "output_type": "stream",
     "name": "stdout",
     "text": "\nEpoch 00018: saving model to savedmodels/conv16_b4_0/18\n\nloss:0.47918808460235596, binary_accuracy:0.7434772849082947, val_loss:0.6945601105690002, val_binary_accuracy:0.6737632751464844, lr:0.02\n\nEpoch 00019: LearningRateScheduler reducing learning rate to 0.02.\n"
    },
    {
     "output_type": "display_data",
     "data": {
      "text/plain": "HBox(children=(FloatProgress(value=0.0, description='Epoch 18', max=19.0, style=ProgressStyle(description_widt…",
      "application/vnd.jupyter.widget-view+json": {
       "version_major": 2,
       "version_minor": 0,
       "model_id": "ef4b72207322434b9a7ec30a7d9dd69d"
      }
     },
     "metadata": {}
    },
    {
     "output_type": "stream",
     "name": "stdout",
     "text": "\nEpoch 00019: saving model to savedmodels/conv16_b4_0/19\n\nloss:0.4786151647567749, binary_accuracy:0.7434772253036499, val_loss:0.6954122185707092, val_binary_accuracy:0.6787691116333008, lr:0.02\n\nEpoch 00020: LearningRateScheduler reducing learning rate to 0.02.\n"
    },
    {
     "output_type": "display_data",
     "data": {
      "text/plain": "HBox(children=(FloatProgress(value=0.0, description='Epoch 19', max=19.0, style=ProgressStyle(description_widt…",
      "application/vnd.jupyter.widget-view+json": {
       "version_major": 2,
       "version_minor": 0,
       "model_id": "97918cf40ddf4041a3800ab1119d1a55"
      }
     },
     "metadata": {}
    },
    {
     "output_type": "stream",
     "name": "stdout",
     "text": "\nEpoch 00020: saving model to savedmodels/conv16_b4_0/20\n\nloss:0.4786219298839569, binary_accuracy:0.7434771656990051, val_loss:0.6944061517715454, val_binary_accuracy:0.680770993232727, lr:0.02\n\nEpoch 00021: LearningRateScheduler reducing learning rate to 0.02.\n"
    },
    {
     "output_type": "display_data",
     "data": {
      "text/plain": "HBox(children=(FloatProgress(value=0.0, description='Epoch 20', max=19.0, style=ProgressStyle(description_widt…",
      "application/vnd.jupyter.widget-view+json": {
       "version_major": 2,
       "version_minor": 0,
       "model_id": "f2af4a43c99049c2bf5db98ab15f71c5"
      }
     },
     "metadata": {}
    },
    {
     "output_type": "stream",
     "name": "stdout",
     "text": "\nEpoch 00021: saving model to savedmodels/conv16_b4_0/21\n\nloss:0.4785606265068054, binary_accuracy:0.7434772253036499, val_loss:0.6986569166183472, val_binary_accuracy:0.6515355110168457, lr:0.02\n\nEpoch 00022: LearningRateScheduler reducing learning rate to 0.01.\n"
    },
    {
     "output_type": "display_data",
     "data": {
      "text/plain": "HBox(children=(FloatProgress(value=0.0, description='Epoch 21', max=19.0, style=ProgressStyle(description_widt…",
      "application/vnd.jupyter.widget-view+json": {
       "version_major": 2,
       "version_minor": 0,
       "model_id": "f3a5b856462b4776a40590fb0a7a305c"
      }
     },
     "metadata": {}
    },
    {
     "output_type": "stream",
     "name": "stdout",
     "text": "\nEpoch 00022: saving model to savedmodels/conv16_b4_0/22\n\nloss:0.4781983494758606, binary_accuracy:0.7434772253036499, val_loss:0.6961598992347717, val_binary_accuracy:0.6699287295341492, lr:0.01\n\nEpoch 00023: LearningRateScheduler reducing learning rate to 0.01.\n"
    },
    {
     "output_type": "display_data",
     "data": {
      "text/plain": "HBox(children=(FloatProgress(value=0.0, description='Epoch 22', max=19.0, style=ProgressStyle(description_widt…",
      "application/vnd.jupyter.widget-view+json": {
       "version_major": 2,
       "version_minor": 0,
       "model_id": "bb7d907accf64383ba211ccd6cde523e"
      }
     },
     "metadata": {}
    },
    {
     "output_type": "stream",
     "name": "stdout",
     "text": "\nEpoch 00023: saving model to savedmodels/conv16_b4_0/23\n\nloss:0.47805002331733704, binary_accuracy:0.7434771656990051, val_loss:0.6957773566246033, val_binary_accuracy:0.6753426194190979, lr:0.01\n\nEpoch 00024: LearningRateScheduler reducing learning rate to 0.01.\n"
    },
    {
     "output_type": "display_data",
     "data": {
      "text/plain": "HBox(children=(FloatProgress(value=0.0, description='Epoch 23', max=19.0, style=ProgressStyle(description_widt…",
      "application/vnd.jupyter.widget-view+json": {
       "version_major": 2,
       "version_minor": 0,
       "model_id": "54e56f4d80db4edcb0f53572a4942858"
      }
     },
     "metadata": {}
    },
    {
     "output_type": "stream",
     "name": "stdout",
     "text": "\nEpoch 00024: saving model to savedmodels/conv16_b4_0/24\n\nloss:0.47770676016807556, binary_accuracy:0.7434772253036499, val_loss:0.6959429979324341, val_binary_accuracy:0.6704368591308594, lr:0.01\n\nEpoch 00025: LearningRateScheduler reducing learning rate to 0.01.\n"
    },
    {
     "output_type": "display_data",
     "data": {
      "text/plain": "HBox(children=(FloatProgress(value=0.0, description='Epoch 24', max=19.0, style=ProgressStyle(description_widt…",
      "application/vnd.jupyter.widget-view+json": {
       "version_major": 2,
       "version_minor": 0,
       "model_id": "3b6e94ff80a04d189650f1884559f124"
      }
     },
     "metadata": {}
    },
    {
     "output_type": "stream",
     "name": "stdout",
     "text": "\nEpoch 00025: saving model to savedmodels/conv16_b4_0/25\n\nloss:0.4778623878955841, binary_accuracy:0.7434772253036499, val_loss:0.7031667828559875, val_binary_accuracy:0.5970208048820496, lr:0.01\n\nEpoch 00026: LearningRateScheduler reducing learning rate to 0.01.\n"
    },
    {
     "output_type": "display_data",
     "data": {
      "text/plain": "HBox(children=(FloatProgress(value=0.0, description='Epoch 25', max=19.0, style=ProgressStyle(description_widt…",
      "application/vnd.jupyter.widget-view+json": {
       "version_major": 2,
       "version_minor": 0,
       "model_id": "1ec89e3e7cd146539b809aac0a7de42f"
      }
     },
     "metadata": {}
    },
    {
     "output_type": "stream",
     "name": "stdout",
     "text": "\nEpoch 00026: saving model to savedmodels/conv16_b4_0/26\n\nloss:0.47777506709098816, binary_accuracy:0.7434772849082947, val_loss:0.7021740674972534, val_binary_accuracy:0.6031630039215088, lr:0.01\n\nEpoch 00027: LearningRateScheduler reducing learning rate to 0.01.\n"
    },
    {
     "output_type": "display_data",
     "data": {
      "text/plain": "HBox(children=(FloatProgress(value=0.0, description='Epoch 26', max=19.0, style=ProgressStyle(description_widt…",
      "application/vnd.jupyter.widget-view+json": {
       "version_major": 2,
       "version_minor": 0,
       "model_id": "2c92f4db7cac4c3f968376f547f20b31"
      }
     },
     "metadata": {}
    },
    {
     "output_type": "stream",
     "name": "stdout",
     "text": "\nEpoch 00027: saving model to savedmodels/conv16_b4_0/27\n\nloss:0.4780470132827759, binary_accuracy:0.7434686422348022, val_loss:0.6951521039009094, val_binary_accuracy:0.6734977960586548, lr:0.01\n\nEpoch 00028: LearningRateScheduler reducing learning rate to 0.01.\n"
    },
    {
     "output_type": "display_data",
     "data": {
      "text/plain": "HBox(children=(FloatProgress(value=0.0, description='Epoch 27', max=19.0, style=ProgressStyle(description_widt…",
      "application/vnd.jupyter.widget-view+json": {
       "version_major": 2,
       "version_minor": 0,
       "model_id": "fd6a7ee8c0e14bb2b47fa9ed2fa614b3"
      }
     },
     "metadata": {}
    },
    {
     "output_type": "stream",
     "name": "stdout",
     "text": "\nEpoch 00028: saving model to savedmodels/conv16_b4_0/28\n\nloss:0.4764651358127594, binary_accuracy:0.7434773445129395, val_loss:0.7003973126411438, val_binary_accuracy:0.6246480345726013, lr:0.01\n\nEpoch 00029: LearningRateScheduler reducing learning rate to 0.01.\n"
    },
    {
     "output_type": "display_data",
     "data": {
      "text/plain": "HBox(children=(FloatProgress(value=0.0, description='Epoch 28', max=19.0, style=ProgressStyle(description_widt…",
      "application/vnd.jupyter.widget-view+json": {
       "version_major": 2,
       "version_minor": 0,
       "model_id": "2e06ce3ba23046fabaf14b3676017134"
      }
     },
     "metadata": {}
    },
    {
     "output_type": "stream",
     "name": "stdout",
     "text": "\nEpoch 00029: saving model to savedmodels/conv16_b4_0/29\n\nloss:0.4755897521972656, binary_accuracy:0.743475079536438, val_loss:0.7013227939605713, val_binary_accuracy:0.6149031519889832, lr:0.01\n\nEpoch 00030: LearningRateScheduler reducing learning rate to 0.01.\n"
    },
    {
     "output_type": "display_data",
     "data": {
      "text/plain": "HBox(children=(FloatProgress(value=0.0, description='Epoch 29', max=19.0, style=ProgressStyle(description_widt…",
      "application/vnd.jupyter.widget-view+json": {
       "version_major": 2,
       "version_minor": 0,
       "model_id": "8adb6b4d02674aa099fbc5a86ff11dfa"
      }
     },
     "metadata": {}
    },
    {
     "output_type": "stream",
     "name": "stdout",
     "text": "\nEpoch 00030: saving model to savedmodels/conv16_b4_0/30\n\nloss:0.4755605161190033, binary_accuracy:0.7434725165367126, val_loss:0.6971187591552734, val_binary_accuracy:0.6582975387573242, lr:0.01\n\nEpoch 00031: LearningRateScheduler reducing learning rate to 0.01.\n"
    },
    {
     "output_type": "display_data",
     "data": {
      "text/plain": "HBox(children=(FloatProgress(value=0.0, description='Epoch 30', max=19.0, style=ProgressStyle(description_widt…",
      "application/vnd.jupyter.widget-view+json": {
       "version_major": 2,
       "version_minor": 0,
       "model_id": "797800544597416abc8ce7e545893b61"
      }
     },
     "metadata": {}
    },
    {
     "output_type": "stream",
     "name": "stdout",
     "text": "\nEpoch 00031: saving model to savedmodels/conv16_b4_0/31\n\nloss:0.4753488302230835, binary_accuracy:0.7434775233268738, val_loss:0.7042612433433533, val_binary_accuracy:0.6004455089569092, lr:0.01\n\nEpoch 00032: LearningRateScheduler reducing learning rate to 0.01.\n"
    },
    {
     "output_type": "display_data",
     "data": {
      "text/plain": "HBox(children=(FloatProgress(value=0.0, description='Epoch 31', max=19.0, style=ProgressStyle(description_widt…",
      "application/vnd.jupyter.widget-view+json": {
       "version_major": 2,
       "version_minor": 0,
       "model_id": "87fa616f1db749b3937e0dd97ae85c7d"
      }
     },
     "metadata": {}
    },
    {
     "output_type": "stream",
     "name": "stdout",
     "text": "\nEpoch 00032: saving model to savedmodels/conv16_b4_0/32\n\nloss:0.47493377327919006, binary_accuracy:0.7433955073356628, val_loss:0.7032920122146606, val_binary_accuracy:0.608788013458252, lr:0.01\n\nEpoch 00033: LearningRateScheduler reducing learning rate to 0.01.\n"
    },
    {
     "output_type": "display_data",
     "data": {
      "text/plain": "HBox(children=(FloatProgress(value=0.0, description='Epoch 32', max=19.0, style=ProgressStyle(description_widt…",
      "application/vnd.jupyter.widget-view+json": {
       "version_major": 2,
       "version_minor": 0,
       "model_id": "32e9a7c8fba443f39bcbb1aee24478c0"
      }
     },
     "metadata": {}
    },
    {
     "output_type": "stream",
     "name": "stdout",
     "text": "\nEpoch 00033: saving model to savedmodels/conv16_b4_0/33\n\nloss:0.4756834805011749, binary_accuracy:0.7434785962104797, val_loss:0.6959946155548096, val_binary_accuracy:0.6746683120727539, lr:0.01\n\nEpoch 00034: LearningRateScheduler reducing learning rate to 0.01.\n"
    },
    {
     "output_type": "display_data",
     "data": {
      "text/plain": "HBox(children=(FloatProgress(value=0.0, description='Epoch 33', max=19.0, style=ProgressStyle(description_widt…",
      "application/vnd.jupyter.widget-view+json": {
       "version_major": 2,
       "version_minor": 0,
       "model_id": "37f2e2b9fe764af19a9f88f5891bd81c"
      }
     },
     "metadata": {}
    },
    {
     "output_type": "stream",
     "name": "stdout",
     "text": "\nEpoch 00034: saving model to savedmodels/conv16_b4_0/34\n\nloss:0.4752141237258911, binary_accuracy:0.743476927280426, val_loss:0.697291910648346, val_binary_accuracy:0.6596962213516235, lr:0.01\n\nEpoch 00035: LearningRateScheduler reducing learning rate to 0.01.\n"
    },
    {
     "output_type": "display_data",
     "data": {
      "text/plain": "HBox(children=(FloatProgress(value=0.0, description='Epoch 34', max=19.0, style=ProgressStyle(description_widt…",
      "application/vnd.jupyter.widget-view+json": {
       "version_major": 2,
       "version_minor": 0,
       "model_id": "e871e950925d4887a51e51884f30aede"
      }
     },
     "metadata": {}
    },
    {
     "output_type": "stream",
     "name": "stdout",
     "text": "\nEpoch 00035: saving model to savedmodels/conv16_b4_0/35\n\nloss:0.4754115343093872, binary_accuracy:0.7434384226799011, val_loss:0.7018420696258545, val_binary_accuracy:0.6129786372184753, lr:0.01\n\nEpoch 00036: LearningRateScheduler reducing learning rate to 0.01.\n"
    },
    {
     "output_type": "display_data",
     "data": {
      "text/plain": "HBox(children=(FloatProgress(value=0.0, description='Epoch 35', max=19.0, style=ProgressStyle(description_widt…",
      "application/vnd.jupyter.widget-view+json": {
       "version_major": 2,
       "version_minor": 0,
       "model_id": "228b35ed8c284977b03b22b6784f0e7e"
      }
     },
     "metadata": {}
    },
    {
     "output_type": "stream",
     "name": "stdout",
     "text": "\nEpoch 00036: saving model to savedmodels/conv16_b4_0/36\n\nloss:0.47511789202690125, binary_accuracy:0.74348384141922, val_loss:0.6988764405250549, val_binary_accuracy:0.6549118757247925, lr:0.01\n\nEpoch 00037: LearningRateScheduler reducing learning rate to 0.01.\n"
    },
    {
     "output_type": "display_data",
     "data": {
      "text/plain": "HBox(children=(FloatProgress(value=0.0, description='Epoch 36', max=19.0, style=ProgressStyle(description_widt…",
      "application/vnd.jupyter.widget-view+json": {
       "version_major": 2,
       "version_minor": 0,
       "model_id": "dd9b52c903004b24a4507f81ef4878ac"
      }
     },
     "metadata": {}
    },
    {
     "output_type": "stream",
     "name": "stdout",
     "text": "\nEpoch 00037: saving model to savedmodels/conv16_b4_0/37\n\nloss:0.475129634141922, binary_accuracy:0.7434582710266113, val_loss:0.7020861506462097, val_binary_accuracy:0.6151591539382935, lr:0.01\n\nEpoch 00038: LearningRateScheduler reducing learning rate to 0.01.\n"
    },
    {
     "output_type": "display_data",
     "data": {
      "text/plain": "HBox(children=(FloatProgress(value=0.0, description='Epoch 37', max=19.0, style=ProgressStyle(description_widt…",
      "application/vnd.jupyter.widget-view+json": {
       "version_major": 2,
       "version_minor": 0,
       "model_id": "59cd857893fc4d6d88ba1fe9a86fe696"
      }
     },
     "metadata": {}
    },
    {
     "output_type": "stream",
     "name": "stdout",
     "text": "\nEpoch 00038: saving model to savedmodels/conv16_b4_0/38\n\nloss:0.47523972392082214, binary_accuracy:0.7434998154640198, val_loss:0.7022165656089783, val_binary_accuracy:0.6139104962348938, lr:0.01\n\nEpoch 00039: LearningRateScheduler reducing learning rate to 0.01.\n"
    },
    {
     "output_type": "display_data",
     "data": {
      "text/plain": "HBox(children=(FloatProgress(value=0.0, description='Epoch 38', max=19.0, style=ProgressStyle(description_widt…",
      "application/vnd.jupyter.widget-view+json": {
       "version_major": 2,
       "version_minor": 0,
       "model_id": "cf58c5d31fe344d09de46d551974fbc8"
      }
     },
     "metadata": {}
    },
    {
     "output_type": "stream",
     "name": "stdout",
     "text": "\nEpoch 00039: saving model to savedmodels/conv16_b4_0/39\n\nloss:0.4750559628009796, binary_accuracy:0.7434338927268982, val_loss:0.7038750648498535, val_binary_accuracy:0.6027987003326416, lr:0.01\n\nEpoch 00040: LearningRateScheduler reducing learning rate to 0.01.\n"
    },
    {
     "output_type": "display_data",
     "data": {
      "text/plain": "HBox(children=(FloatProgress(value=0.0, description='Epoch 39', max=19.0, style=ProgressStyle(description_widt…",
      "application/vnd.jupyter.widget-view+json": {
       "version_major": 2,
       "version_minor": 0,
       "model_id": "6f7a6ee9bf924559b04518efa8f31a9e"
      }
     },
     "metadata": {}
    },
    {
     "output_type": "stream",
     "name": "stdout",
     "text": "\nEpoch 00040: saving model to savedmodels/conv16_b4_0/40\n\nloss:0.47489380836486816, binary_accuracy:0.743670642375946, val_loss:0.7042255401611328, val_binary_accuracy:0.6034976840019226, lr:0.01\n\nEpoch 00041: LearningRateScheduler reducing learning rate to 0.01.\n"
    },
    {
     "output_type": "display_data",
     "data": {
      "text/plain": "HBox(children=(FloatProgress(value=0.0, description='Epoch 40', max=19.0, style=ProgressStyle(description_widt…",
      "application/vnd.jupyter.widget-view+json": {
       "version_major": 2,
       "version_minor": 0,
       "model_id": "942e7c4ce8134dc5bb25509e2fa97c96"
      }
     },
     "metadata": {}
    },
    {
     "output_type": "stream",
     "name": "stdout",
     "text": "\nEpoch 00041: saving model to savedmodels/conv16_b4_0/41\n\nloss:0.47489404678344727, binary_accuracy:0.7434883713722229, val_loss:0.6993504762649536, val_binary_accuracy:0.6708003282546997, lr:0.01\n\nEpoch 00042: LearningRateScheduler reducing learning rate to 0.01.\n"
    },
    {
     "output_type": "display_data",
     "data": {
      "text/plain": "HBox(children=(FloatProgress(value=0.0, description='Epoch 41', max=19.0, style=ProgressStyle(description_widt…",
      "application/vnd.jupyter.widget-view+json": {
       "version_major": 2,
       "version_minor": 0,
       "model_id": "c665e9e6cf7c406cad4f52e0c0906b1a"
      }
     },
     "metadata": {}
    },
    {
     "output_type": "stream",
     "name": "stdout",
     "text": "\nEpoch 00042: saving model to savedmodels/conv16_b4_0/42\n\nloss:0.47445210814476013, binary_accuracy:0.7436130046844482, val_loss:0.7061138153076172, val_binary_accuracy:0.5882996916770935, lr:0.01\n\nEpoch 00043: LearningRateScheduler reducing learning rate to 0.01.\n"
    },
    {
     "output_type": "display_data",
     "data": {
      "text/plain": "HBox(children=(FloatProgress(value=0.0, description='Epoch 42', max=19.0, style=ProgressStyle(description_widt…",
      "application/vnd.jupyter.widget-view+json": {
       "version_major": 2,
       "version_minor": 0,
       "model_id": "19ee069454c24a92b45f152b13524ea1"
      }
     },
     "metadata": {}
    },
    {
     "output_type": "stream",
     "name": "stdout",
     "text": "\nEpoch 00043: saving model to savedmodels/conv16_b4_0/43\n\nloss:0.47452545166015625, binary_accuracy:0.7436327338218689, val_loss:0.7019876837730408, val_binary_accuracy:0.6199288368225098, lr:0.01\n\nEpoch 00044: LearningRateScheduler reducing learning rate to 0.01.\n"
    },
    {
     "output_type": "display_data",
     "data": {
      "text/plain": "HBox(children=(FloatProgress(value=0.0, description='Epoch 43', max=19.0, style=ProgressStyle(description_widt…",
      "application/vnd.jupyter.widget-view+json": {
       "version_major": 2,
       "version_minor": 0,
       "model_id": "29080e9bb3714981a7c546e533984d6b"
      }
     },
     "metadata": {}
    },
    {
     "output_type": "stream",
     "name": "stdout",
     "text": "\nEpoch 00044: saving model to savedmodels/conv16_b4_0/44\n\nloss:0.4749966561794281, binary_accuracy:0.7434329390525818, val_loss:0.7050266265869141, val_binary_accuracy:0.6072894930839539, lr:0.01\n\nEpoch 00045: LearningRateScheduler reducing learning rate to 0.01.\n"
    },
    {
     "output_type": "display_data",
     "data": {
      "text/plain": "HBox(children=(FloatProgress(value=0.0, description='Epoch 44', max=19.0, style=ProgressStyle(description_widt…",
      "application/vnd.jupyter.widget-view+json": {
       "version_major": 2,
       "version_minor": 0,
       "model_id": "618b8ecabc2c4ff682d4dbb70a0add9e"
      }
     },
     "metadata": {}
    },
    {
     "output_type": "stream",
     "name": "stdout",
     "text": "\nEpoch 00045: saving model to savedmodels/conv16_b4_0/45\n\nloss:0.4746582508087158, binary_accuracy:0.7435431480407715, val_loss:0.6978096961975098, val_binary_accuracy:0.6617416739463806, lr:0.01\n\nEpoch 00046: LearningRateScheduler reducing learning rate to 0.01.\n"
    },
    {
     "output_type": "display_data",
     "data": {
      "text/plain": "HBox(children=(FloatProgress(value=0.0, description='Epoch 45', max=19.0, style=ProgressStyle(description_widt…",
      "application/vnd.jupyter.widget-view+json": {
       "version_major": 2,
       "version_minor": 0,
       "model_id": "2b20102db49944c08c315be254b32376"
      }
     },
     "metadata": {}
    },
    {
     "output_type": "stream",
     "name": "stdout",
     "text": "\nEpoch 00046: saving model to savedmodels/conv16_b4_0/46\n\nloss:0.47485530376434326, binary_accuracy:0.7434778213500977, val_loss:0.7026245594024658, val_binary_accuracy:0.6058491468429565, lr:0.01\n\nEpoch 00047: LearningRateScheduler reducing learning rate to 0.01.\n"
    },
    {
     "output_type": "display_data",
     "data": {
      "text/plain": "HBox(children=(FloatProgress(value=0.0, description='Epoch 46', max=19.0, style=ProgressStyle(description_widt…",
      "application/vnd.jupyter.widget-view+json": {
       "version_major": 2,
       "version_minor": 0,
       "model_id": "bd2a375ba0914af39be10f5b1e8156d3"
      }
     },
     "metadata": {}
    },
    {
     "output_type": "stream",
     "name": "stdout",
     "text": "\nEpoch 00047: saving model to savedmodels/conv16_b4_0/47\n\nloss:0.4747285544872284, binary_accuracy:0.7436875104904175, val_loss:0.7040256261825562, val_binary_accuracy:0.5978326797485352, lr:0.01\n\nEpoch 00048: LearningRateScheduler reducing learning rate to 0.01.\n"
    },
    {
     "output_type": "display_data",
     "data": {
      "text/plain": "HBox(children=(FloatProgress(value=0.0, description='Epoch 47', max=19.0, style=ProgressStyle(description_widt…",
      "application/vnd.jupyter.widget-view+json": {
       "version_major": 2,
       "version_minor": 0,
       "model_id": "247e2c0af3e84f328d8dc11e784cf1d7"
      }
     },
     "metadata": {}
    },
    {
     "output_type": "stream",
     "name": "stdout",
     "text": "\nEpoch 00048: saving model to savedmodels/conv16_b4_0/48\n\nloss:0.47440552711486816, binary_accuracy:0.7434400916099548, val_loss:0.7076993584632874, val_binary_accuracy:0.5632079839706421, lr:0.01\n\nEpoch 00049: LearningRateScheduler reducing learning rate to 0.01.\n"
    },
    {
     "output_type": "display_data",
     "data": {
      "text/plain": "HBox(children=(FloatProgress(value=0.0, description='Epoch 48', max=19.0, style=ProgressStyle(description_widt…",
      "application/vnd.jupyter.widget-view+json": {
       "version_major": 2,
       "version_minor": 0,
       "model_id": "a18f88fab32a406eae8b1bd518b137e9"
      }
     },
     "metadata": {}
    },
    {
     "output_type": "stream",
     "name": "stdout",
     "text": "\nEpoch 00049: saving model to savedmodels/conv16_b4_0/49\n\nloss:0.47428807616233826, binary_accuracy:0.7437657117843628, val_loss:0.7043307423591614, val_binary_accuracy:0.5993056893348694, lr:0.01\n\nEpoch 00050: LearningRateScheduler reducing learning rate to 0.01.\n"
    },
    {
     "output_type": "display_data",
     "data": {
      "text/plain": "HBox(children=(FloatProgress(value=0.0, description='Epoch 49', max=19.0, style=ProgressStyle(description_widt…",
      "application/vnd.jupyter.widget-view+json": {
       "version_major": 2,
       "version_minor": 0,
       "model_id": "73e7ebac05fe43e38189a799524f790e"
      }
     },
     "metadata": {}
    },
    {
     "output_type": "stream",
     "name": "stdout",
     "text": "\nEpoch 00050: saving model to savedmodels/conv16_b4_0/50\n\nloss:0.4742946922779083, binary_accuracy:0.7435112595558167, val_loss:0.6992092132568359, val_binary_accuracy:0.6410447359085083, lr:0.01\n\nTook 272.31543946266174 seconds\n"
    }
   ],
   "source": [
    "kwargs = {}\n",
    "kwargs['model_f'] = model_f\n",
    "kwargs['lr_f'] = lr_f\n",
    "kwargs['name'] = name\n",
    "kwargs['epochs'] = epochs\n",
    "kwargs['batch_size'] = 64\n",
    "kwargs['X_train'] = X_train\n",
    "kwargs['Y_train'] = Y_train\n",
    "kwargs['val_data'] = (X_val, Y_val)\n",
    "p = Process(target=run_training, kwargs=kwargs)\n",
    "p.start()\n",
    "p.join()"
   ]
  },
  {
   "cell_type": "code",
   "execution_count": null,
   "metadata": {},
   "outputs": [],
   "source": []
  }
 ]
}