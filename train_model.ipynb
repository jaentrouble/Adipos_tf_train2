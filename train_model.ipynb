{
 "metadata": {
  "language_info": {
   "codemirror_mode": {
    "name": "ipython",
    "version": 3
   },
   "file_extension": ".py",
   "mimetype": "text/x-python",
   "name": "python",
   "nbconvert_exporter": "python",
   "pygments_lexer": "ipython3",
   "version": "3.7.8-final"
  },
  "orig_nbformat": 2,
  "kernelspec": {
   "name": "train2_venv",
   "display_name": "train2_venv"
  }
 },
 "nbformat": 4,
 "nbformat_minor": 2,
 "cells": [
  {
   "cell_type": "code",
   "execution_count": 1,
   "metadata": {
    "tags": []
   },
   "outputs": [],
   "source": [
    "%matplotlib inline\n",
    "%load_ext autoreload"
   ]
  },
  {
   "cell_type": "code",
   "execution_count": 2,
   "metadata": {},
   "outputs": [],
   "source": [
    "import numpy as np\n",
    "import matplotlib.pyplot as plt\n",
    "from multiprocessing import Process"
   ]
  },
  {
   "cell_type": "code",
   "execution_count": 3,
   "metadata": {
    "tags": []
   },
   "outputs": [
    {
     "output_type": "stream",
     "name": "stdout",
     "text": "/home/jaentrouble/adipose_train2\n"
    }
   ],
   "source": [
    "import os\n",
    "os.chdir('/home/jaentrouble/adipose_train2')\n",
    "print(os.getcwd())"
   ]
  },
  {
   "cell_type": "code",
   "execution_count": 4,
   "metadata": {
    "tags": []
   },
   "outputs": [],
   "source": [
    "with np.load('cell_mask_data.npz') as data:\n",
    "    X = data['img']\n",
    "    Y = data['mask']"
   ]
  },
  {
   "cell_type": "code",
   "execution_count": 5,
   "metadata": {
    "tags": []
   },
   "outputs": [
    {
     "output_type": "stream",
     "name": "stdout",
     "text": "X shape: (1533, 200, 200, 3)\nY shape: (1533, 200, 200)\n"
    }
   ],
   "source": [
    "print('X shape:',X.shape)\n",
    "print('Y shape:',Y.shape)"
   ]
  },
  {
   "cell_type": "code",
   "execution_count": 6,
   "metadata": {},
   "outputs": [],
   "source": [
    "X_train = X[:1200]\n",
    "Y_train = Y[:1200]\n",
    "X_val = X[1200:1350]\n",
    "Y_val = Y[1200:1350]\n",
    "X_test = X[1350:]\n",
    "Y_test = Y[1350:]"
   ]
  },
  {
   "cell_type": "code",
   "execution_count": 7,
   "metadata": {
    "tags": []
   },
   "outputs": [
    {
     "output_type": "stream",
     "name": "stdout",
     "text": "remote: Enumerating objects: 15, done.\u001b[K\nremote: Counting objects: 100% (15/15), done.\u001b[K\nremote: Compressing objects: 100% (5/5), done.\u001b[K\nUnpacking objects:  88% (8/9), 188.00 KiB | 355.00 KiB/sremote: Total 9 (delta 4), reused 9 (delta 4), pack-reused 0\u001b[K\nUnpacking objects: 100% (9/9), 934.80 KiB | 984.00 KiB/s, done.\nFrom https://github.com/jaentrouble/Adipos_tf_train2\n   0221b05..e4f02e4  master     -> origin/master\nUpdating 0221b05..e4f02e4\nFast-forward\n adipose_models.py                     |  68 \u001b[32m++++++++++++++++++++++++++++++++++\u001b[m\n model_graph/res_4_2_0_BN.png          | Bin \u001b[31m0\u001b[m -> \u001b[32m81795\u001b[m bytes\n result_images/res_4_2_0_BN_linear.png | Bin \u001b[31m0\u001b[m -> \u001b[32m434999\u001b[m bytes\n train_model.ipynb                     |  54 \u001b[32m+++++++++++++\u001b[m\u001b[31m--------------\u001b[m\n view_result.ipynb                     |  24 \u001b[32m++++++\u001b[m\u001b[31m------\u001b[m\n 5 files changed, 107 insertions(+), 39 deletions(-)\n create mode 100644 model_graph/res_4_2_0_BN.png\n create mode 100644 result_images/res_4_2_0_BN_linear.png\n"
    }
   ],
   "source": [
    "!git pull\n",
    "%autoreload"
   ]
  },
  {
   "cell_type": "code",
   "execution_count": 8,
   "metadata": {},
   "outputs": [],
   "source": [
    "from model_trainer import run_training\n",
    "from adipose_models import *\n",
    "from model_lr import *"
   ]
  },
  {
   "cell_type": "code",
   "execution_count": 9,
   "metadata": {},
   "outputs": [],
   "source": [
    "model_f = res_12_2_0_BN\n",
    "lr_f = lr_mul_inv\n",
    "name = 'res_12_2_0_BN'\n",
    "epochs = 10\n",
    "mixed_float = True"
   ]
  },
  {
   "cell_type": "code",
   "execution_count": 10,
   "metadata": {
    "tags": []
   },
   "outputs": [
    {
     "output_type": "stream",
     "name": "stdout",
     "text": "INFO:tensorflow:Mixed precision compatibility check (mixed_float16): OK\nYour GPU will likely run quickly with dtype policy mixed_float16 as it has compute capability of at least 7.0. Your GPU: GeForce RTX 2070 SUPER, compute capability 7.5\nModel: \"functional_1\"\n__________________________________________________________________________________________________\nLayer (type)                    Output Shape         Param #     Connected to\n==================================================================================================\ninput_1 (InputLayer)            [(None, 200, 200, 3) 0\n__________________________________________________________________________________________________\nconv2d_1 (Conv2D)               (None, 200, 200, 32) 896         input_1[0][0]\n__________________________________________________________________________________________________\nconv2d_2 (Conv2D)               (None, 200, 200, 32) 9248        conv2d_1[0][0]\n__________________________________________________________________________________________________\nconv2d (Conv2D)                 (None, 200, 200, 32) 128         input_1[0][0]\n__________________________________________________________________________________________________\ntf_op_layer_AddV2 (TensorFlowOp [(None, 200, 200, 32 0           conv2d_2[0][0]\n                                                                 conv2d[0][0]\n__________________________________________________________________________________________________\nbatch_normalization (BatchNorma (None, 200, 200, 32) 128         tf_op_layer_AddV2[0][0]\n__________________________________________________________________________________________________\nre_lu (ReLU)                    (None, 200, 200, 32) 0           batch_normalization[0][0]\n__________________________________________________________________________________________________\nconv2d_3 (Conv2D)               (None, 200, 200, 32) 9248        re_lu[0][0]\n__________________________________________________________________________________________________\nconv2d_4 (Conv2D)               (None, 200, 200, 32) 9248        conv2d_3[0][0]\n__________________________________________________________________________________________________\ntf_op_layer_AddV2_1 (TensorFlow [(None, 200, 200, 32 0           conv2d_4[0][0]\n                                                                 re_lu[0][0]\n__________________________________________________________________________________________________\nbatch_normalization_1 (BatchNor (None, 200, 200, 32) 128         tf_op_layer_AddV2_1[0][0]\n__________________________________________________________________________________________________\nre_lu_1 (ReLU)                  (None, 200, 200, 32) 0           batch_normalization_1[0][0]\n__________________________________________________________________________________________________\nconv2d_5 (Conv2D)               (None, 200, 200, 32) 9248        re_lu_1[0][0]\n__________________________________________________________________________________________________\nconv2d_6 (Conv2D)               (None, 200, 200, 32) 9248        conv2d_5[0][0]\n__________________________________________________________________________________________________\ntf_op_layer_AddV2_2 (TensorFlow [(None, 200, 200, 32 0           conv2d_6[0][0]\n                                                                 re_lu_1[0][0]\n__________________________________________________________________________________________________\nbatch_normalization_2 (BatchNor (None, 200, 200, 32) 128         tf_op_layer_AddV2_2[0][0]\n__________________________________________________________________________________________________\nre_lu_2 (ReLU)                  (None, 200, 200, 32) 0           batch_normalization_2[0][0]\n__________________________________________________________________________________________________\nconv2d_7 (Conv2D)               (None, 200, 200, 32) 9248        re_lu_2[0][0]\n__________________________________________________________________________________________________\nconv2d_8 (Conv2D)               (None, 200, 200, 32) 9248        conv2d_7[0][0]\n__________________________________________________________________________________________________\ntf_op_layer_AddV2_3 (TensorFlow [(None, 200, 200, 32 0           conv2d_8[0][0]\n                                                                 re_lu_2[0][0]\n__________________________________________________________________________________________________\nbatch_normalization_3 (BatchNor (None, 200, 200, 32) 128         tf_op_layer_AddV2_3[0][0]\n__________________________________________________________________________________________________\nre_lu_3 (ReLU)                  (None, 200, 200, 32) 0           batch_normalization_3[0][0]\n__________________________________________________________________________________________________\nconv2d_9 (Conv2D)               (None, 200, 200, 32) 9248        re_lu_3[0][0]\n__________________________________________________________________________________________________\nconv2d_10 (Conv2D)              (None, 200, 200, 32) 9248        conv2d_9[0][0]\n__________________________________________________________________________________________________\ntf_op_layer_AddV2_4 (TensorFlow [(None, 200, 200, 32 0           conv2d_10[0][0]\n                                                                 re_lu_3[0][0]\n__________________________________________________________________________________________________\nbatch_normalization_4 (BatchNor (None, 200, 200, 32) 128         tf_op_layer_AddV2_4[0][0]\n__________________________________________________________________________________________________\nre_lu_4 (ReLU)                  (None, 200, 200, 32) 0           batch_normalization_4[0][0]\n__________________________________________________________________________________________________\nconv2d_11 (Conv2D)              (None, 200, 200, 32) 9248        re_lu_4[0][0]\n__________________________________________________________________________________________________\nconv2d_12 (Conv2D)              (None, 200, 200, 32) 9248        conv2d_11[0][0]\n__________________________________________________________________________________________________\ntf_op_layer_AddV2_5 (TensorFlow [(None, 200, 200, 32 0           conv2d_12[0][0]\n                                                                 re_lu_4[0][0]\n__________________________________________________________________________________________________\nbatch_normalization_5 (BatchNor (None, 200, 200, 32) 128         tf_op_layer_AddV2_5[0][0]\n__________________________________________________________________________________________________\nre_lu_5 (ReLU)                  (None, 200, 200, 32) 0           batch_normalization_5[0][0]\n__________________________________________________________________________________________________\nconv2d_13 (Conv2D)              (None, 200, 200, 32) 9248        re_lu_5[0][0]\n__________________________________________________________________________________________________\nconv2d_14 (Conv2D)              (None, 200, 200, 32) 9248        conv2d_13[0][0]\n__________________________________________________________________________________________________\ntf_op_layer_AddV2_6 (TensorFlow [(None, 200, 200, 32 0           conv2d_14[0][0]\n                                                                 re_lu_5[0][0]\n__________________________________________________________________________________________________\nbatch_normalization_6 (BatchNor (None, 200, 200, 32) 128         tf_op_layer_AddV2_6[0][0]\n__________________________________________________________________________________________________\nre_lu_6 (ReLU)                  (None, 200, 200, 32) 0           batch_normalization_6[0][0]\n__________________________________________________________________________________________________\nconv2d_15 (Conv2D)              (None, 200, 200, 32) 9248        re_lu_6[0][0]\n__________________________________________________________________________________________________\nconv2d_16 (Conv2D)              (None, 200, 200, 32) 9248        conv2d_15[0][0]\n__________________________________________________________________________________________________\ntf_op_layer_AddV2_7 (TensorFlow [(None, 200, 200, 32 0           conv2d_16[0][0]\n                                                                 re_lu_6[0][0]\n__________________________________________________________________________________________________\nbatch_normalization_7 (BatchNor (None, 200, 200, 32) 128         tf_op_layer_AddV2_7[0][0]\n__________________________________________________________________________________________________\nre_lu_7 (ReLU)                  (None, 200, 200, 32) 0           batch_normalization_7[0][0]\n__________________________________________________________________________________________________\nconv2d_17 (Conv2D)              (None, 200, 200, 32) 9248        re_lu_7[0][0]\n__________________________________________________________________________________________________\nconv2d_18 (Conv2D)              (None, 200, 200, 32) 9248        conv2d_17[0][0]\n__________________________________________________________________________________________________\ntf_op_layer_AddV2_8 (TensorFlow [(None, 200, 200, 32 0           conv2d_18[0][0]\n                                                                 re_lu_7[0][0]\n__________________________________________________________________________________________________\nbatch_normalization_8 (BatchNor (None, 200, 200, 32) 128         tf_op_layer_AddV2_8[0][0]\n__________________________________________________________________________________________________\nre_lu_8 (ReLU)                  (None, 200, 200, 32) 0           batch_normalization_8[0][0]\n__________________________________________________________________________________________________\nconv2d_19 (Conv2D)              (None, 200, 200, 32) 9248        re_lu_8[0][0]\n__________________________________________________________________________________________________\nconv2d_20 (Conv2D)              (None, 200, 200, 32) 9248        conv2d_19[0][0]\n__________________________________________________________________________________________________\ntf_op_layer_AddV2_9 (TensorFlow [(None, 200, 200, 32 0           conv2d_20[0][0]\n                                                                 re_lu_8[0][0]\n__________________________________________________________________________________________________\nbatch_normalization_9 (BatchNor (None, 200, 200, 32) 128         tf_op_layer_AddV2_9[0][0]\n__________________________________________________________________________________________________\nre_lu_9 (ReLU)                  (None, 200, 200, 32) 0           batch_normalization_9[0][0]\n__________________________________________________________________________________________________\nconv2d_21 (Conv2D)              (None, 200, 200, 32) 9248        re_lu_9[0][0]\n__________________________________________________________________________________________________\nconv2d_22 (Conv2D)              (None, 200, 200, 32) 9248        conv2d_21[0][0]\n__________________________________________________________________________________________________\ntf_op_layer_AddV2_10 (TensorFlo [(None, 200, 200, 32 0           conv2d_22[0][0]\n                                                                 re_lu_9[0][0]\n__________________________________________________________________________________________________\nbatch_normalization_10 (BatchNo (None, 200, 200, 32) 128         tf_op_layer_AddV2_10[0][0]\n__________________________________________________________________________________________________\nre_lu_10 (ReLU)                 (None, 200, 200, 32) 0           batch_normalization_10[0][0]\n__________________________________________________________________________________________________\nconv2d_23 (Conv2D)              (None, 200, 200, 32) 9248        re_lu_10[0][0]\n__________________________________________________________________________________________________\nconv2d_24 (Conv2D)              (None, 200, 200, 32) 9248        conv2d_23[0][0]\n__________________________________________________________________________________________________\ntf_op_layer_AddV2_11 (TensorFlo [(None, 200, 200, 32 0           conv2d_24[0][0]\n                                                                 re_lu_10[0][0]\n__________________________________________________________________________________________________\nbatch_normalization_11 (BatchNo (None, 200, 200, 32) 128         tf_op_layer_AddV2_11[0][0]\n__________________________________________________________________________________________________\nre_lu_11 (ReLU)                 (None, 200, 200, 32) 0           batch_normalization_11[0][0]\n__________________________________________________________________________________________________\nconv2d_25 (Conv2D)              (None, 200, 200, 1)  289         re_lu_11[0][0]\n__________________________________________________________________________________________________\ntf_op_layer_Squeeze (TensorFlow [(None, 200, 200)]   0           conv2d_25[0][0]\n__________________________________________________________________________________________________\nactivation (Activation)         (None, 200, 200)     0           tf_op_layer_Squeeze[0][0]\n==================================================================================================\nTotal params: 215,553\nTrainable params: 214,785\nNon-trainable params: 768\n__________________________________________________________________________________________________\n"
    },
    {
     "output_type": "display_data",
     "data": {
      "text/plain": "HBox(children=(FloatProgress(value=0.0, description='Training', max=10.0, style=ProgressStyle(description_widt…",
      "application/vnd.jupyter.widget-view+json": {
       "version_major": 2,
       "version_minor": 0,
       "model_id": "4d149e26b33448a2ba13ba53db1a7297"
      }
     },
     "metadata": {}
    },
    {
     "output_type": "stream",
     "name": "stdout",
     "text": "\nEpoch 00001: LearningRateScheduler reducing learning rate to 0.01.\n"
    },
    {
     "output_type": "display_data",
     "data": {
      "text/plain": "HBox(children=(FloatProgress(value=0.0, description='Epoch 0', max=19.0, style=ProgressStyle(description_width…",
      "application/vnd.jupyter.widget-view+json": {
       "version_major": 2,
       "version_minor": 0,
       "model_id": "7695277d73934af7ad852876b8c7c618"
      }
     },
     "metadata": {}
    },
    {
     "output_type": "stream",
     "name": "stdout",
     "text": "WARNING:tensorflow:From /home/jaentrouble/adipose_train2/env/lib/python3.7/site-packages/tensorflow/python/ops/summary_ops_v2.py:1277: stop (from tensorflow.python.eager.profiler) is deprecated and will be removed after 2020-07-01.\nInstructions for updating:\nuse `tf.profiler.experimental.stop` instead.\n\nEpoch 00001: saving model to savedmodels/res_12_2_0_BN/1\n\nloss:0.5586351156234741, binary_accuracy:0.7189440727233887, val_loss:nan, val_binary_accuracy:0.6760851740837097, lr:0.01\n\nEpoch 00002: LearningRateScheduler reducing learning rate to 0.005.\n"
    },
    {
     "output_type": "display_data",
     "data": {
      "text/plain": "HBox(children=(FloatProgress(value=0.0, description='Epoch 1', max=19.0, style=ProgressStyle(description_width…",
      "application/vnd.jupyter.widget-view+json": {
       "version_major": 2,
       "version_minor": 0,
       "model_id": "c3c40317b03b47298a2abe22afe0efbb"
      }
     },
     "metadata": {}
    },
    {
     "output_type": "stream",
     "name": "stdout",
     "text": "\nEpoch 00002: saving model to savedmodels/res_12_2_0_BN/2\n\nloss:0.5130338668823242, binary_accuracy:0.7434772849082947, val_loss:nan, val_binary_accuracy:0.6807730197906494, lr:0.005\n\nEpoch 00003: LearningRateScheduler reducing learning rate to 0.0033333333333333335.\n"
    },
    {
     "output_type": "display_data",
     "data": {
      "text/plain": "HBox(children=(FloatProgress(value=0.0, description='Epoch 2', max=19.0, style=ProgressStyle(description_width…",
      "application/vnd.jupyter.widget-view+json": {
       "version_major": 2,
       "version_minor": 0,
       "model_id": "de2601a714e34f6891c7627c362e8a90"
      }
     },
     "metadata": {}
    },
    {
     "output_type": "stream",
     "name": "stdout",
     "text": "\nEpoch 00003: saving model to savedmodels/res_12_2_0_BN/3\n\nloss:0.48107269406318665, binary_accuracy:0.7434773445129395, val_loss:nan, val_binary_accuracy:0.6808908581733704, lr:0.0033333334\n\nEpoch 00004: LearningRateScheduler reducing learning rate to 0.0025.\n"
    },
    {
     "output_type": "display_data",
     "data": {
      "text/plain": "HBox(children=(FloatProgress(value=0.0, description='Epoch 3', max=19.0, style=ProgressStyle(description_width…",
      "application/vnd.jupyter.widget-view+json": {
       "version_major": 2,
       "version_minor": 0,
       "model_id": "c751a0db8d5648d4bccaceba4c3f77c7"
      }
     },
     "metadata": {}
    },
    {
     "output_type": "stream",
     "name": "stdout",
     "text": "\nEpoch 00004: saving model to savedmodels/res_12_2_0_BN/4\n\nloss:0.4597541391849518, binary_accuracy:0.7434772253036499, val_loss:0.6931471824645996, val_binary_accuracy:0.6808908581733704, lr:0.0025\n\nEpoch 00005: LearningRateScheduler reducing learning rate to 0.002.\n"
    },
    {
     "output_type": "display_data",
     "data": {
      "text/plain": "HBox(children=(FloatProgress(value=0.0, description='Epoch 4', max=19.0, style=ProgressStyle(description_width…",
      "application/vnd.jupyter.widget-view+json": {
       "version_major": 2,
       "version_minor": 0,
       "model_id": "facc4378a0a7416b968aaeb0a13b761b"
      }
     },
     "metadata": {}
    },
    {
     "output_type": "stream",
     "name": "stdout",
     "text": "\nEpoch 00005: saving model to savedmodels/res_12_2_0_BN/5\n\nloss:0.4533272385597229, binary_accuracy:0.7434772849082947, val_loss:0.6931471824645996, val_binary_accuracy:0.6808908581733704, lr:0.002\n\nEpoch 00006: LearningRateScheduler reducing learning rate to 0.0016666666666666668.\n"
    },
    {
     "output_type": "display_data",
     "data": {
      "text/plain": "HBox(children=(FloatProgress(value=0.0, description='Epoch 5', max=19.0, style=ProgressStyle(description_width…",
      "application/vnd.jupyter.widget-view+json": {
       "version_major": 2,
       "version_minor": 0,
       "model_id": "a07d15b5ef2d46749e7f02390f5de685"
      }
     },
     "metadata": {}
    },
    {
     "output_type": "stream",
     "name": "stdout",
     "text": "\nEpoch 00006: saving model to savedmodels/res_12_2_0_BN/6\n\nloss:0.44663503766059875, binary_accuracy:0.7434772849082947, val_loss:0.6931471824645996, val_binary_accuracy:0.6808908581733704, lr:0.0016666667\n\nEpoch 00007: LearningRateScheduler reducing learning rate to 0.0014285714285714286.\n"
    },
    {
     "output_type": "display_data",
     "data": {
      "text/plain": "HBox(children=(FloatProgress(value=0.0, description='Epoch 6', max=19.0, style=ProgressStyle(description_width…",
      "application/vnd.jupyter.widget-view+json": {
       "version_major": 2,
       "version_minor": 0,
       "model_id": "1106d3c2b41248e7b04609a0a2206b40"
      }
     },
     "metadata": {}
    },
    {
     "output_type": "stream",
     "name": "stdout",
     "text": "\nEpoch 00007: saving model to savedmodels/res_12_2_0_BN/7\n\nloss:0.4300481677055359, binary_accuracy:0.7434772253036499, val_loss:0.7016947269439697, val_binary_accuracy:0.6392208337783813, lr:0.0014285714\n\nEpoch 00008: LearningRateScheduler reducing learning rate to 0.00125.\n"
    },
    {
     "output_type": "display_data",
     "data": {
      "text/plain": "HBox(children=(FloatProgress(value=0.0, description='Epoch 7', max=19.0, style=ProgressStyle(description_width…",
      "application/vnd.jupyter.widget-view+json": {
       "version_major": 2,
       "version_minor": 0,
       "model_id": "62894fcbb56d4e80b4f8e177df25c580"
      }
     },
     "metadata": {}
    },
    {
     "output_type": "stream",
     "name": "stdout",
     "text": "\nEpoch 00008: saving model to savedmodels/res_12_2_0_BN/8\n\nloss:0.4182242453098297, binary_accuracy:0.7434772253036499, val_loss:0.724457323551178, val_binary_accuracy:0.5860984921455383, lr:0.00125\n\nEpoch 00009: LearningRateScheduler reducing learning rate to 0.0011111111111111111.\n"
    },
    {
     "output_type": "display_data",
     "data": {
      "text/plain": "HBox(children=(FloatProgress(value=0.0, description='Epoch 8', max=19.0, style=ProgressStyle(description_width…",
      "application/vnd.jupyter.widget-view+json": {
       "version_major": 2,
       "version_minor": 0,
       "model_id": "382ecc4031c4449eb0f851c03bd83df1"
      }
     },
     "metadata": {}
    },
    {
     "output_type": "stream",
     "name": "stdout",
     "text": "\nEpoch 00009: saving model to savedmodels/res_12_2_0_BN/9\n\nloss:0.39812618494033813, binary_accuracy:0.7434772253036499, val_loss:0.7162579894065857, val_binary_accuracy:0.5943870544433594, lr:0.0011111111\n\nEpoch 00010: LearningRateScheduler reducing learning rate to 0.001.\n"
    },
    {
     "output_type": "display_data",
     "data": {
      "text/plain": "HBox(children=(FloatProgress(value=0.0, description='Epoch 9', max=19.0, style=ProgressStyle(description_width…",
      "application/vnd.jupyter.widget-view+json": {
       "version_major": 2,
       "version_minor": 0,
       "model_id": "cd5007eb12f54a0ba7587ee1ac37fd57"
      }
     },
     "metadata": {}
    },
    {
     "output_type": "stream",
     "name": "stdout",
     "text": "\nEpoch 00010: saving model to savedmodels/res_12_2_0_BN/10\n\nloss:0.38534772396087646, binary_accuracy:0.7434772849082947, val_loss:0.7196251749992371, val_binary_accuracy:0.5823714733123779, lr:0.001\n\nTook 155.66151928901672 seconds\n"
    }
   ],
   "source": [
    "kwargs = {}\n",
    "kwargs['model_f'] = model_f\n",
    "kwargs['lr_f'] = lr_f\n",
    "kwargs['name'] = name\n",
    "kwargs['epochs'] = epochs\n",
    "kwargs['batch_size'] = 64\n",
    "kwargs['X_train'] = X_train\n",
    "kwargs['Y_train'] = Y_train\n",
    "kwargs['val_data'] = (X_val, Y_val)\n",
    "kwargs['mixed_float'] = mixed_float\n",
    "p = Process(target=run_training, kwargs=kwargs)\n",
    "p.start()\n",
    "p.join()"
   ]
  },
  {
   "cell_type": "code",
   "execution_count": null,
   "metadata": {},
   "outputs": [],
   "source": []
  }
 ]
}