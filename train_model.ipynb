{
 "metadata": {
  "language_info": {
   "codemirror_mode": {
    "name": "ipython",
    "version": 3
   },
   "file_extension": ".py",
   "mimetype": "text/x-python",
   "name": "python",
   "nbconvert_exporter": "python",
   "pygments_lexer": "ipython3",
   "version": "3.7.8-final"
  },
  "orig_nbformat": 2,
  "kernelspec": {
   "name": "train2_venv",
   "display_name": "train2_venv"
  }
 },
 "nbformat": 4,
 "nbformat_minor": 2,
 "cells": [
  {
   "cell_type": "code",
   "execution_count": 1,
   "metadata": {
    "tags": []
   },
   "outputs": [],
   "source": [
    "%matplotlib inline\n",
    "%load_ext autoreload"
   ]
  },
  {
   "cell_type": "code",
   "execution_count": 2,
   "metadata": {},
   "outputs": [],
   "source": [
    "import numpy as np\n",
    "import matplotlib.pyplot as plt\n",
    "from multiprocessing import Process"
   ]
  },
  {
   "cell_type": "code",
   "execution_count": 3,
   "metadata": {
    "tags": []
   },
   "outputs": [
    {
     "output_type": "stream",
     "name": "stdout",
     "text": "/home/jaentrouble/adipose_train2\n"
    }
   ],
   "source": [
    "import os\n",
    "os.chdir('/home/jaentrouble/adipose_train2')\n",
    "print(os.getcwd())"
   ]
  },
  {
   "cell_type": "code",
   "execution_count": 4,
   "metadata": {
    "tags": []
   },
   "outputs": [],
   "source": [
    "with np.load('cell_mask_data.npz') as data:\n",
    "    X = data['img']\n",
    "    Y = data['mask']"
   ]
  },
  {
   "cell_type": "code",
   "execution_count": 5,
   "metadata": {
    "tags": []
   },
   "outputs": [
    {
     "output_type": "stream",
     "name": "stdout",
     "text": "X shape: (1533, 200, 200, 3)\nY shape: (1533, 200, 200)\n"
    }
   ],
   "source": [
    "print('X shape:',X.shape)\n",
    "print('Y shape:',Y.shape)"
   ]
  },
  {
   "cell_type": "code",
   "execution_count": 6,
   "metadata": {},
   "outputs": [],
   "source": [
    "X_train = X[:1200]\n",
    "Y_train = Y[:1200]\n",
    "X_val = X[1200:1350]\n",
    "Y_val = Y[1200:1350]\n",
    "X_test = X[1350:]\n",
    "Y_test = Y[1350:]"
   ]
  },
  {
   "cell_type": "code",
   "execution_count": 7,
   "metadata": {
    "tags": []
   },
   "outputs": [
    {
     "output_type": "stream",
     "name": "stdout",
     "text": "remote: Enumerating objects: 34, done.\u001b[K\nremote: Counting objects: 100% (34/34), done.\u001b[K\nremote: Compressing objects: 100% (17/17), done.\u001b[K\nUnpacking objects:  85% (23/27), 212.00 KiB | 362.00 KiB/sremote: Total 27 (delta 13), reused 23 (delta 9), pack-reused 0\u001b[K\nUnpacking objects: 100% (27/27), 1.76 MiB | 1.58 MiB/s, done.\nFrom https://github.com/jaentrouble/Adipos_tf_train2\n   7186061..7a00d70  master     -> origin/master\nUpdating 7186061..7a00d70\nFast-forward\n adipose_models.py                             |  32 \u001b[32m+++\u001b[m\n custom_layers.py                              |   5 \u001b[32m+\u001b[m\n extra_models/hrnet.py                         | 338 \u001b[32m++++++++++++++++++++++++++\u001b[m\n model_graph/res_12_2_0_BN_2_with_val.png      | Bin \u001b[31m0\u001b[m -> \u001b[32m59729\u001b[m bytes\n model_lr.py                                   |  33 \u001b[32m+\u001b[m\u001b[31m--\u001b[m\n result_images/res_12_2_0_BN_2_linear.png      | Bin \u001b[31m0\u001b[m -> \u001b[32m408093\u001b[m bytes\n result_images/res_12_2_0_BN_2_linear_test.png | Bin \u001b[31m0\u001b[m -> \u001b[32m394472\u001b[m bytes\n result_images/res_12_2_0_BN_2_over09.png      | Bin \u001b[31m0\u001b[m -> \u001b[32m347800\u001b[m bytes\n result_images/res_12_2_0_BN_2_over09_test.png | Bin \u001b[31m0\u001b[m -> \u001b[32m337517\u001b[m bytes\n view_result.ipynb                             |  62 \u001b[32m++\u001b[m\u001b[31m---\u001b[m\n 10 files changed, 423 insertions(+), 47 deletions(-)\n create mode 100644 extra_models/hrnet.py\n create mode 100644 model_graph/res_12_2_0_BN_2_with_val.png\n create mode 100644 result_images/res_12_2_0_BN_2_linear.png\n create mode 100644 result_images/res_12_2_0_BN_2_linear_test.png\n create mode 100644 result_images/res_12_2_0_BN_2_over09.png\n create mode 100644 result_images/res_12_2_0_BN_2_over09_test.png\n"
    }
   ],
   "source": [
    "!git pull\n",
    "%autoreload"
   ]
  },
  {
   "cell_type": "code",
   "execution_count": 8,
   "metadata": {},
   "outputs": [],
   "source": [
    "from model_trainer import run_training\n",
    "from adipose_models import *\n",
    "from model_lr import *"
   ]
  },
  {
   "cell_type": "code",
   "execution_count": 9,
   "metadata": {},
   "outputs": [],
   "source": [
    "model_f = hr_2_2_0\n",
    "lr_f = lr_mul_inv\n",
    "name = 'hr_2_2_0'\n",
    "epochs = 20\n",
    "mixed_float = True"
   ]
  },
  {
   "cell_type": "code",
   "execution_count": 10,
   "metadata": {
    "tags": []
   },
   "outputs": [
    {
     "output_type": "stream",
     "name": "stdout",
     "text": "INFO:tensorflow:Mixed precision compatibility check (mixed_float16): OK\nYour GPU will likely run quickly with dtype policy mixed_float16 as it has compute capability of at least 7.0. Your GPU: GeForce RTX 2070 SUPER, compute capability 7.5\nProcess Process-1:\nTraceback (most recent call last):\n  File \"/usr/lib/python3.7/multiprocessing/process.py\", line 297, in _bootstrap\n    self.run()\n  File \"/usr/lib/python3.7/multiprocessing/process.py\", line 99, in run\n    self._target(*self._args, **self._kwargs)\n  File \"/home/jaentrouble/adipose_train2/model_trainer.py\", line 67, in run_training\n    mymodel = AdiposeModel(inputs, model_f)\n  File \"/home/jaentrouble/adipose_train2/model_trainer.py\", line 19, in __init__\n    outputs = model_function(inputs)\n  File \"/home/jaentrouble/adipose_train2/adipose_models.py\", line 208, in hr_2_2_0\n    x = tf.squeeze(x, axis=-1)\n  File \"/home/jaentrouble/adipose_train2/env/lib/python3.7/site-packages/tensorflow/python/util/dispatch.py\", line 201, in wrapper\n    return target(*args, **kwargs)\n  File \"/home/jaentrouble/adipose_train2/env/lib/python3.7/site-packages/tensorflow/python/ops/array_ops.py\", line 4311, in squeeze_v2\n    return squeeze(input, axis, name)\n  File \"/home/jaentrouble/adipose_train2/env/lib/python3.7/site-packages/tensorflow/python/util/dispatch.py\", line 201, in wrapper\n    return target(*args, **kwargs)\n  File \"/home/jaentrouble/adipose_train2/env/lib/python3.7/site-packages/tensorflow/python/util/deprecation.py\", line 507, in new_func\n    return func(*args, **kwargs)\n  File \"/home/jaentrouble/adipose_train2/env/lib/python3.7/site-packages/tensorflow/python/ops/array_ops.py\", line 4259, in squeeze\n    return gen_array_ops.squeeze(input, axis, name)\n  File \"/home/jaentrouble/adipose_train2/env/lib/python3.7/site-packages/tensorflow/python/ops/gen_array_ops.py\", line 10032, in squeeze\n    input, axis=axis, name=name, ctx=_ctx)\n  File \"/home/jaentrouble/adipose_train2/env/lib/python3.7/site-packages/tensorflow/python/ops/gen_array_ops.py\", line 10066, in squeeze_eager_fallback\n    _attr_T, (input,) = _execute.args_to_matching_eager([input], ctx)\n  File \"/home/jaentrouble/adipose_train2/env/lib/python3.7/site-packages/tensorflow/python/eager/execute.py\", line 263, in args_to_matching_eager\n    t, dtype, preferred_dtype=default_dtype, ctx=ctx))\n  File \"/home/jaentrouble/adipose_train2/env/lib/python3.7/site-packages/tensorflow/python/framework/ops.py\", line 1499, in convert_to_tensor\n    ret = conversion_func(value, dtype=dtype, name=name, as_ref=as_ref)\n  File \"/home/jaentrouble/adipose_train2/env/lib/python3.7/site-packages/tensorflow/python/framework/constant_op.py\", line 338, in _constant_tensor_conversion_function\n    return constant(v, dtype=dtype, name=name)\n  File \"/home/jaentrouble/adipose_train2/env/lib/python3.7/site-packages/tensorflow/python/framework/constant_op.py\", line 264, in constant\n    allow_broadcast=True)\n  File \"/home/jaentrouble/adipose_train2/env/lib/python3.7/site-packages/tensorflow/python/framework/constant_op.py\", line 275, in _constant_impl\n    return _constant_eager_impl(ctx, value, dtype, shape, verify_shape)\n  File \"/home/jaentrouble/adipose_train2/env/lib/python3.7/site-packages/tensorflow/python/framework/constant_op.py\", line 300, in _constant_eager_impl\n    t = convert_to_eager_tensor(value, ctx, dtype)\n  File \"/home/jaentrouble/adipose_train2/env/lib/python3.7/site-packages/tensorflow/python/framework/constant_op.py\", line 98, in convert_to_eager_tensor\n    return ops.EagerTensor(value, ctx.device_name, dtype)\nValueError: Attempt to convert a value (<tensorflow.python.keras.layers.convolutional.Conv2D object at 0x7f71dc053ed0>) with an unsupported type (<class 'tensorflow.python.keras.layers.convolutional.Conv2D'>) to a Tensor.\n"
    }
   ],
   "source": [
    "kwargs = {}\n",
    "kwargs['model_f'] = model_f\n",
    "kwargs['lr_f'] = lr_f\n",
    "kwargs['name'] = name\n",
    "kwargs['epochs'] = epochs\n",
    "kwargs['batch_size'] = 32\n",
    "kwargs['X_train'] = X_train\n",
    "kwargs['Y_train'] = Y_train\n",
    "kwargs['val_data'] = (X_val, Y_val)\n",
    "kwargs['mixed_float'] = mixed_float\n",
    "p = Process(target=run_training, kwargs=kwargs)\n",
    "p.start()\n",
    "p.join()"
   ]
  },
  {
   "cell_type": "code",
   "execution_count": null,
   "metadata": {},
   "outputs": [],
   "source": []
  }
 ]
}