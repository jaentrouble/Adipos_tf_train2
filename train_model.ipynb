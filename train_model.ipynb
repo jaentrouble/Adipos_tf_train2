{
 "metadata": {
  "language_info": {
   "codemirror_mode": {
    "name": "ipython",
    "version": 3
   },
   "file_extension": ".py",
   "mimetype": "text/x-python",
   "name": "python",
   "nbconvert_exporter": "python",
   "pygments_lexer": "ipython3",
   "version": "3.7.8-final"
  },
  "orig_nbformat": 2,
  "kernelspec": {
   "name": "train2_venv",
   "display_name": "train2_venv"
  }
 },
 "nbformat": 4,
 "nbformat_minor": 2,
 "cells": [
  {
   "cell_type": "code",
   "execution_count": 1,
   "metadata": {},
   "outputs": [],
   "source": [
    "%matplotlib inline\n",
    "%load_ext autoreload"
   ]
  },
  {
   "cell_type": "code",
   "execution_count": 2,
   "metadata": {},
   "outputs": [],
   "source": [
    "import numpy as np\n",
    "import matplotlib.pyplot as plt\n",
    "from multiprocessing import Process"
   ]
  },
  {
   "cell_type": "code",
   "execution_count": 3,
   "metadata": {
    "tags": []
   },
   "outputs": [
    {
     "output_type": "stream",
     "name": "stdout",
     "text": "/home/jaentrouble/adipose_train2\n"
    }
   ],
   "source": [
    "import os\n",
    "os.chdir('/home/jaentrouble/adipose_train2')\n",
    "print(os.getcwd())"
   ]
  },
  {
   "cell_type": "code",
   "execution_count": 4,
   "metadata": {
    "tags": []
   },
   "outputs": [],
   "source": [
    "with np.load('cell_mask_data.npz') as data:\n",
    "    X = data['img']\n",
    "    Y = data['mask']"
   ]
  },
  {
   "cell_type": "code",
   "execution_count": 5,
   "metadata": {
    "tags": []
   },
   "outputs": [
    {
     "output_type": "stream",
     "name": "stdout",
     "text": "X shape: (1533, 200, 200, 3)\nY shape: (1533, 200, 200)\n"
    }
   ],
   "source": [
    "print('X shape:',X.shape)\n",
    "print('Y shape:',Y.shape)"
   ]
  },
  {
   "cell_type": "code",
   "execution_count": 6,
   "metadata": {},
   "outputs": [],
   "source": [
    "X_train = X[:1200]\n",
    "Y_train = Y[:1200]\n",
    "X_val = X[1200:1350]\n",
    "Y_val = Y[1200:1350]\n",
    "X_test = X[1350:]\n",
    "Y_test = Y[1350:]"
   ]
  },
  {
   "cell_type": "code",
   "execution_count": 7,
   "metadata": {},
   "outputs": [],
   "source": [
    "from model_trainer import run_training\n",
    "from adipose_models import *\n",
    "from model_lr import *"
   ]
  },
  {
   "cell_type": "code",
   "execution_count": 8,
   "metadata": {
    "tags": []
   },
   "outputs": [
    {
     "output_type": "stream",
     "name": "stdout",
     "text": "remote: Enumerating objects: 7, done.\u001b[K\nremote: Counting objects: 100% (7/7), done.\u001b[K\nremote: Compressing objects: 100% (1/1), done.\u001b[K\nremote: Total 4 (delta 3), reused 4 (delta 3), pack-reused 0\u001b[K\nUnpacking objects: 100% (4/4), 1.40 KiB | 477.00 KiB/s, done.\nFrom https://github.com/jaentrouble/Adipos_tf_train2\n   b9bf97c..eb35c08  master     -> origin/master\nUpdating b9bf97c..eb35c08\nFast-forward\n model_trainer.py  |  3 \u001b[32m++\u001b[m\u001b[31m-\u001b[m\n train_model.ipynb | 52 \u001b[32m++++++++++++++++++++++++++\u001b[m\u001b[31m--------------------------\u001b[m\n 2 files changed, 28 insertions(+), 27 deletions(-)\n"
    }
   ],
   "source": [
    "!git pull\n",
    "%autoreload"
   ]
  },
  {
   "cell_type": "code",
   "execution_count": 9,
   "metadata": {},
   "outputs": [],
   "source": [
    "model_f = conv4_b2_0\n",
    "lr_f = lr_mul_inv\n",
    "name = 'conv4_b2_0'\n",
    "epochs = 10"
   ]
  },
  {
   "cell_type": "code",
   "execution_count": 10,
   "metadata": {
    "tags": []
   },
   "outputs": [
    {
     "output_type": "stream",
     "name": "stdout",
     "text": "INFO:tensorflow:Mixed precision compatibility check (mixed_float16): OK\nYour GPU will likely run quickly with dtype policy mixed_float16 as it has compute capability of at least 7.0. Your GPU: GeForce RTX 2070 SUPER, compute capability 7.5\nModel: \"functional_1\"\n_________________________________________________________________\nLayer (type)                 Output Shape              Param #\n=================================================================\ninput_1 (InputLayer)         [(None, 200, 200, 3)]     0\n_________________________________________________________________\nconv2d (Conv2D)              (None, 200, 200, 32)      896\n_________________________________________________________________\nconv2d_1 (Conv2D)            (None, 200, 200, 32)      9248\n_________________________________________________________________\nbatch_normalization (BatchNo (None, 200, 200, 32)      128\n_________________________________________________________________\nconv2d_2 (Conv2D)            (None, 200, 200, 32)      9248\n_________________________________________________________________\nconv2d_3 (Conv2D)            (None, 200, 200, 32)      9248\n_________________________________________________________________\nbatch_normalization_1 (Batch (None, 200, 200, 32)      128\n_________________________________________________________________\nconv2d_4 (Conv2D)            (None, 200, 200, 1)       289\n_________________________________________________________________\ntf_op_layer_Squeeze (TensorF [(None, 200, 200)]        0\n_________________________________________________________________\nactivation (Activation)      (None, 200, 200)          0\n=================================================================\nTotal params: 29,185\nTrainable params: 29,057\nNon-trainable params: 128\n_________________________________________________________________\n"
    },
    {
     "output_type": "display_data",
     "data": {
      "text/plain": "HBox(children=(FloatProgress(value=0.0, description='Training', max=10.0, style=ProgressStyle(description_widt…",
      "application/vnd.jupyter.widget-view+json": {
       "version_major": 2,
       "version_minor": 0,
       "model_id": "42ecacb26a174a18936258239f68f207"
      }
     },
     "metadata": {}
    },
    {
     "output_type": "stream",
     "name": "stdout",
     "text": "\nEpoch 00001: LearningRateScheduler reducing learning rate to 0.01.\n"
    },
    {
     "output_type": "display_data",
     "data": {
      "text/plain": "HBox(children=(FloatProgress(value=0.0, description='Epoch 0', max=19.0, style=ProgressStyle(description_width…",
      "application/vnd.jupyter.widget-view+json": {
       "version_major": 2,
       "version_minor": 0,
       "model_id": "b6930550de6043f0970723ca4b62644f"
      }
     },
     "metadata": {}
    },
    {
     "output_type": "stream",
     "name": "stdout",
     "text": "WARNING:tensorflow:From /home/jaentrouble/adipose_train2/env/lib/python3.7/site-packages/tensorflow/python/ops/summary_ops_v2.py:1277: stop (from tensorflow.python.eager.profiler) is deprecated and will be removed after 2020-07-01.\nInstructions for updating:\nuse `tf.profiler.experimental.stop` instead.\n\nEpoch 00001: saving model to savedmodels/conv4_b2_0/1\n\nloss:0.6493327617645264, binary_accuracy:0.6762471199035645, val_loss:0.6995487213134766, val_binary_accuracy:0.6609610319137573, lr:0.01\n\nEpoch 00002: LearningRateScheduler reducing learning rate to 0.005.\n"
    },
    {
     "output_type": "display_data",
     "data": {
      "text/plain": "HBox(children=(FloatProgress(value=0.0, description='Epoch 1', max=19.0, style=ProgressStyle(description_width…",
      "application/vnd.jupyter.widget-view+json": {
       "version_major": 2,
       "version_minor": 0,
       "model_id": "8711bcf6fa744477a6954460ccdf7aa4"
      }
     },
     "metadata": {}
    },
    {
     "output_type": "stream",
     "name": "stdout",
     "text": "\nEpoch 00002: saving model to savedmodels/conv4_b2_0/2\n\nloss:0.5403141379356384, binary_accuracy:0.743464469909668, val_loss:0.6934084296226501, val_binary_accuracy:0.6808801889419556, lr:0.005\n\nEpoch 00003: LearningRateScheduler reducing learning rate to 0.0033333333333333335.\n"
    },
    {
     "output_type": "display_data",
     "data": {
      "text/plain": "HBox(children=(FloatProgress(value=0.0, description='Epoch 2', max=19.0, style=ProgressStyle(description_width…",
      "application/vnd.jupyter.widget-view+json": {
       "version_major": 2,
       "version_minor": 0,
       "model_id": "57017b649a7349bb88ae9af00dc7f9f0"
      }
     },
     "metadata": {}
    },
    {
     "output_type": "stream",
     "name": "stdout",
     "text": "\nEpoch 00003: saving model to savedmodels/conv4_b2_0/3\n\nloss:0.5301924347877502, binary_accuracy:0.7434685826301575, val_loss:0.6936371922492981, val_binary_accuracy:0.6808906197547913, lr:0.0033333334\n\nEpoch 00004: LearningRateScheduler reducing learning rate to 0.0025.\n"
    },
    {
     "output_type": "display_data",
     "data": {
      "text/plain": "HBox(children=(FloatProgress(value=0.0, description='Epoch 3', max=19.0, style=ProgressStyle(description_width…",
      "application/vnd.jupyter.widget-view+json": {
       "version_major": 2,
       "version_minor": 0,
       "model_id": "2a35166006f44dd8963d3090c42f4092"
      }
     },
     "metadata": {}
    },
    {
     "output_type": "stream",
     "name": "stdout",
     "text": "\nEpoch 00004: saving model to savedmodels/conv4_b2_0/4\n\nloss:0.5261887907981873, binary_accuracy:0.743470311164856, val_loss:0.694474458694458, val_binary_accuracy:0.6808908581733704, lr:0.0025\n\nEpoch 00005: LearningRateScheduler reducing learning rate to 0.002.\n"
    },
    {
     "output_type": "display_data",
     "data": {
      "text/plain": "HBox(children=(FloatProgress(value=0.0, description='Epoch 4', max=19.0, style=ProgressStyle(description_width…",
      "application/vnd.jupyter.widget-view+json": {
       "version_major": 2,
       "version_minor": 0,
       "model_id": "62c47c9d6d5e4dbca957143046f31b6c"
      }
     },
     "metadata": {}
    },
    {
     "output_type": "stream",
     "name": "stdout",
     "text": "\nEpoch 00005: saving model to savedmodels/conv4_b2_0/5\n\nloss:0.5231463313102722, binary_accuracy:0.7434753775596619, val_loss:0.6998826265335083, val_binary_accuracy:0.6808370351791382, lr:0.002\n\nEpoch 00006: LearningRateScheduler reducing learning rate to 0.0016666666666666668.\n"
    },
    {
     "output_type": "display_data",
     "data": {
      "text/plain": "HBox(children=(FloatProgress(value=0.0, description='Epoch 5', max=19.0, style=ProgressStyle(description_width…",
      "application/vnd.jupyter.widget-view+json": {
       "version_major": 2,
       "version_minor": 0,
       "model_id": "0d85b5ff633948d390cf426cc3ffb926"
      }
     },
     "metadata": {}
    },
    {
     "output_type": "stream",
     "name": "stdout",
     "text": "\nEpoch 00006: saving model to savedmodels/conv4_b2_0/6\n\nloss:0.5209428668022156, binary_accuracy:0.7434717416763306, val_loss:0.7142977118492126, val_binary_accuracy:0.44452452659606934, lr:0.0016666667\n\nEpoch 00007: LearningRateScheduler reducing learning rate to 0.0014285714285714286.\n"
    },
    {
     "output_type": "display_data",
     "data": {
      "text/plain": "HBox(children=(FloatProgress(value=0.0, description='Epoch 6', max=19.0, style=ProgressStyle(description_width…",
      "application/vnd.jupyter.widget-view+json": {
       "version_major": 2,
       "version_minor": 0,
       "model_id": "a992bd8ad3f94597acff69e58c7470b0"
      }
     },
     "metadata": {}
    },
    {
     "output_type": "stream",
     "name": "stdout",
     "text": "\nEpoch 00007: saving model to savedmodels/conv4_b2_0/7\n\nloss:0.5203251242637634, binary_accuracy:0.7434728741645813, val_loss:0.7273584008216858, val_binary_accuracy:0.4199376702308655, lr:0.0014285714\n\nEpoch 00008: LearningRateScheduler reducing learning rate to 0.00125.\n"
    },
    {
     "output_type": "display_data",
     "data": {
      "text/plain": "HBox(children=(FloatProgress(value=0.0, description='Epoch 7', max=19.0, style=ProgressStyle(description_width…",
      "application/vnd.jupyter.widget-view+json": {
       "version_major": 2,
       "version_minor": 0,
       "model_id": "70cb2cf639c74990be9ebfcc2e59ffd4"
      }
     },
     "metadata": {}
    },
    {
     "output_type": "stream",
     "name": "stdout",
     "text": "\nEpoch 00008: saving model to savedmodels/conv4_b2_0/8\n\nloss:0.51870197057724, binary_accuracy:0.7434739470481873, val_loss:0.7481018900871277, val_binary_accuracy:0.40559983253479004, lr:0.00125\n\nEpoch 00009: LearningRateScheduler reducing learning rate to 0.0011111111111111111.\n"
    },
    {
     "output_type": "display_data",
     "data": {
      "text/plain": "HBox(children=(FloatProgress(value=0.0, description='Epoch 8', max=19.0, style=ProgressStyle(description_width…",
      "application/vnd.jupyter.widget-view+json": {
       "version_major": 2,
       "version_minor": 0,
       "model_id": "ac8dc6776772478b9449811564262f76"
      }
     },
     "metadata": {}
    },
    {
     "output_type": "stream",
     "name": "stdout",
     "text": "\nEpoch 00009: saving model to savedmodels/conv4_b2_0/9\n\nloss:0.5179309248924255, binary_accuracy:0.7434655427932739, val_loss:0.7976568937301636, val_binary_accuracy:0.39991602301597595, lr:0.0011111111\n\nEpoch 00010: LearningRateScheduler reducing learning rate to 0.001.\n"
    },
    {
     "output_type": "display_data",
     "data": {
      "text/plain": "HBox(children=(FloatProgress(value=0.0, description='Epoch 9', max=19.0, style=ProgressStyle(description_width…",
      "application/vnd.jupyter.widget-view+json": {
       "version_major": 2,
       "version_minor": 0,
       "model_id": "dca0781db9704950b8f7059ccc22e4b8"
      }
     },
     "metadata": {}
    },
    {
     "output_type": "stream",
     "name": "stdout",
     "text": "\nEpoch 00010: saving model to savedmodels/conv4_b2_0/10\n\nloss:0.516775906085968, binary_accuracy:0.7434722781181335, val_loss:0.7825816869735718, val_binary_accuracy:0.40269801020622253, lr:0.001\n\nTook 33.208266258239746 seconds\n"
    }
   ],
   "source": [
    "kwargs = {}\n",
    "kwargs['model_f'] = model_f\n",
    "kwargs['lr_f'] = lr_f\n",
    "kwargs['name'] = name\n",
    "kwargs['epochs'] = epochs\n",
    "kwargs['batch_size'] = 64\n",
    "kwargs['X_train'] = X_train\n",
    "kwargs['Y_train'] = Y_train\n",
    "kwargs['val_data'] = (X_val, Y_val)\n",
    "p = Process(target=run_training, kwargs=kwargs)\n",
    "p.start()\n",
    "p.join()"
   ]
  },
  {
   "cell_type": "code",
   "execution_count": null,
   "metadata": {},
   "outputs": [],
   "source": []
  }
 ]
}