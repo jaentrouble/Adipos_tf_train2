{
 "metadata": {
  "language_info": {
   "codemirror_mode": {
    "name": "ipython",
    "version": 3
   },
   "file_extension": ".py",
   "mimetype": "text/x-python",
   "name": "python",
   "nbconvert_exporter": "python",
   "pygments_lexer": "ipython3",
   "version": "3.7.8-final"
  },
  "orig_nbformat": 2,
  "kernelspec": {
   "name": "train2_venv",
   "display_name": "train2_venv"
  }
 },
 "nbformat": 4,
 "nbformat_minor": 2,
 "cells": [
  {
   "cell_type": "code",
   "execution_count": 1,
   "metadata": {
    "tags": []
   },
   "outputs": [],
   "source": [
    "%matplotlib inline\n",
    "%load_ext autoreload"
   ]
  },
  {
   "cell_type": "code",
   "execution_count": 2,
   "metadata": {},
   "outputs": [],
   "source": [
    "import numpy as np\n",
    "import matplotlib.pyplot as plt\n",
    "from multiprocessing import Process"
   ]
  },
  {
   "cell_type": "code",
   "execution_count": 3,
   "metadata": {
    "tags": []
   },
   "outputs": [
    {
     "output_type": "stream",
     "name": "stdout",
     "text": "/home/jaentrouble/adipose_train2\n"
    }
   ],
   "source": [
    "import os\n",
    "os.chdir('/home/jaentrouble/adipose_train2')\n",
    "print(os.getcwd())"
   ]
  },
  {
   "cell_type": "code",
   "execution_count": 4,
   "metadata": {
    "tags": []
   },
   "outputs": [],
   "source": [
    "with np.load('cell_mask_data.npz') as data:\n",
    "    X = data['img']\n",
    "    Y = data['mask']"
   ]
  },
  {
   "cell_type": "code",
   "execution_count": 5,
   "metadata": {
    "tags": []
   },
   "outputs": [
    {
     "output_type": "stream",
     "name": "stdout",
     "text": "X shape: (1533, 200, 200, 3)\nY shape: (1533, 200, 200)\n"
    }
   ],
   "source": [
    "print('X shape:',X.shape)\n",
    "print('Y shape:',Y.shape)"
   ]
  },
  {
   "cell_type": "code",
   "execution_count": 6,
   "metadata": {},
   "outputs": [],
   "source": [
    "X_train = X[:1200]\n",
    "Y_train = Y[:1200]\n",
    "X_val = X[1200:1350]\n",
    "Y_val = Y[1200:1350]\n",
    "X_test = X[1350:]\n",
    "Y_test = Y[1350:]"
   ]
  },
  {
   "cell_type": "code",
   "execution_count": 7,
   "metadata": {
    "tags": []
   },
   "outputs": [
    {
     "output_type": "stream",
     "name": "stdout",
     "text": "Already up to date.\n"
    }
   ],
   "source": [
    "!git pull\n",
    "%autoreload"
   ]
  },
  {
   "cell_type": "code",
   "execution_count": 8,
   "metadata": {},
   "outputs": [],
   "source": [
    "from model_trainer import run_training\n",
    "from adipose_models import *\n",
    "from model_lr import *"
   ]
  },
  {
   "cell_type": "code",
   "execution_count": 9,
   "metadata": {},
   "outputs": [],
   "source": [
    "model_f = res_12_2_0_BN\n",
    "lr_f = lr_step4\n",
    "name = 'res_12_2_0_BN_1'\n",
    "epochs = 50\n",
    "mixed_float = False"
   ]
  },
  {
   "cell_type": "code",
   "execution_count": 10,
   "metadata": {
    "tags": []
   },
   "outputs": [
    {
     "output_type": "stream",
     "name": "stdout",
     "text": "Model: \"functional_1\"\n__________________________________________________________________________________________________\nLayer (type)                    Output Shape         Param #     Connected to\n==================================================================================================\ninput_1 (InputLayer)            [(None, 200, 200, 3) 0\n__________________________________________________________________________________________________\nconv2d_1 (Conv2D)               (None, 200, 200, 32) 896         input_1[0][0]\n__________________________________________________________________________________________________\nconv2d_2 (Conv2D)               (None, 200, 200, 32) 9248        conv2d_1[0][0]\n__________________________________________________________________________________________________\nconv2d (Conv2D)                 (None, 200, 200, 32) 128         input_1[0][0]\n__________________________________________________________________________________________________\ntf_op_layer_AddV2 (TensorFlowOp [(None, 200, 200, 32 0           conv2d_2[0][0]\n                                                                 conv2d[0][0]\n__________________________________________________________________________________________________\nbatch_normalization (BatchNorma (None, 200, 200, 32) 128         tf_op_layer_AddV2[0][0]\n__________________________________________________________________________________________________\nre_lu (ReLU)                    (None, 200, 200, 32) 0           batch_normalization[0][0]\n__________________________________________________________________________________________________\nconv2d_3 (Conv2D)               (None, 200, 200, 32) 9248        re_lu[0][0]\n__________________________________________________________________________________________________\nconv2d_4 (Conv2D)               (None, 200, 200, 32) 9248        conv2d_3[0][0]\n__________________________________________________________________________________________________\ntf_op_layer_AddV2_1 (TensorFlow [(None, 200, 200, 32 0           conv2d_4[0][0]\n                                                                 re_lu[0][0]\n__________________________________________________________________________________________________\nbatch_normalization_1 (BatchNor (None, 200, 200, 32) 128         tf_op_layer_AddV2_1[0][0]\n__________________________________________________________________________________________________\nre_lu_1 (ReLU)                  (None, 200, 200, 32) 0           batch_normalization_1[0][0]\n__________________________________________________________________________________________________\nconv2d_5 (Conv2D)               (None, 200, 200, 32) 9248        re_lu_1[0][0]\n__________________________________________________________________________________________________\nconv2d_6 (Conv2D)               (None, 200, 200, 32) 9248        conv2d_5[0][0]\n__________________________________________________________________________________________________\ntf_op_layer_AddV2_2 (TensorFlow [(None, 200, 200, 32 0           conv2d_6[0][0]\n                                                                 re_lu_1[0][0]\n__________________________________________________________________________________________________\nbatch_normalization_2 (BatchNor (None, 200, 200, 32) 128         tf_op_layer_AddV2_2[0][0]\n__________________________________________________________________________________________________\nre_lu_2 (ReLU)                  (None, 200, 200, 32) 0           batch_normalization_2[0][0]\n__________________________________________________________________________________________________\nconv2d_7 (Conv2D)               (None, 200, 200, 32) 9248        re_lu_2[0][0]\n__________________________________________________________________________________________________\nconv2d_8 (Conv2D)               (None, 200, 200, 32) 9248        conv2d_7[0][0]\n__________________________________________________________________________________________________\ntf_op_layer_AddV2_3 (TensorFlow [(None, 200, 200, 32 0           conv2d_8[0][0]\n                                                                 re_lu_2[0][0]\n__________________________________________________________________________________________________\nbatch_normalization_3 (BatchNor (None, 200, 200, 32) 128         tf_op_layer_AddV2_3[0][0]\n__________________________________________________________________________________________________\nre_lu_3 (ReLU)                  (None, 200, 200, 32) 0           batch_normalization_3[0][0]\n__________________________________________________________________________________________________\nconv2d_9 (Conv2D)               (None, 200, 200, 32) 9248        re_lu_3[0][0]\n__________________________________________________________________________________________________\nconv2d_10 (Conv2D)              (None, 200, 200, 32) 9248        conv2d_9[0][0]\n__________________________________________________________________________________________________\ntf_op_layer_AddV2_4 (TensorFlow [(None, 200, 200, 32 0           conv2d_10[0][0]\n                                                                 re_lu_3[0][0]\n__________________________________________________________________________________________________\nbatch_normalization_4 (BatchNor (None, 200, 200, 32) 128         tf_op_layer_AddV2_4[0][0]\n__________________________________________________________________________________________________\nre_lu_4 (ReLU)                  (None, 200, 200, 32) 0           batch_normalization_4[0][0]\n__________________________________________________________________________________________________\nconv2d_11 (Conv2D)              (None, 200, 200, 32) 9248        re_lu_4[0][0]\n__________________________________________________________________________________________________\nconv2d_12 (Conv2D)              (None, 200, 200, 32) 9248        conv2d_11[0][0]\n__________________________________________________________________________________________________\ntf_op_layer_AddV2_5 (TensorFlow [(None, 200, 200, 32 0           conv2d_12[0][0]\n                                                                 re_lu_4[0][0]\n__________________________________________________________________________________________________\nbatch_normalization_5 (BatchNor (None, 200, 200, 32) 128         tf_op_layer_AddV2_5[0][0]\n__________________________________________________________________________________________________\nre_lu_5 (ReLU)                  (None, 200, 200, 32) 0           batch_normalization_5[0][0]\n__________________________________________________________________________________________________\nconv2d_13 (Conv2D)              (None, 200, 200, 32) 9248        re_lu_5[0][0]\n__________________________________________________________________________________________________\nconv2d_14 (Conv2D)              (None, 200, 200, 32) 9248        conv2d_13[0][0]\n__________________________________________________________________________________________________\ntf_op_layer_AddV2_6 (TensorFlow [(None, 200, 200, 32 0           conv2d_14[0][0]\n                                                                 re_lu_5[0][0]\n__________________________________________________________________________________________________\nbatch_normalization_6 (BatchNor (None, 200, 200, 32) 128         tf_op_layer_AddV2_6[0][0]\n__________________________________________________________________________________________________\nre_lu_6 (ReLU)                  (None, 200, 200, 32) 0           batch_normalization_6[0][0]\n__________________________________________________________________________________________________\nconv2d_15 (Conv2D)              (None, 200, 200, 32) 9248        re_lu_6[0][0]\n__________________________________________________________________________________________________\nconv2d_16 (Conv2D)              (None, 200, 200, 32) 9248        conv2d_15[0][0]\n__________________________________________________________________________________________________\ntf_op_layer_AddV2_7 (TensorFlow [(None, 200, 200, 32 0           conv2d_16[0][0]\n                                                                 re_lu_6[0][0]\n__________________________________________________________________________________________________\nbatch_normalization_7 (BatchNor (None, 200, 200, 32) 128         tf_op_layer_AddV2_7[0][0]\n__________________________________________________________________________________________________\nre_lu_7 (ReLU)                  (None, 200, 200, 32) 0           batch_normalization_7[0][0]\n__________________________________________________________________________________________________\nconv2d_17 (Conv2D)              (None, 200, 200, 32) 9248        re_lu_7[0][0]\n__________________________________________________________________________________________________\nconv2d_18 (Conv2D)              (None, 200, 200, 32) 9248        conv2d_17[0][0]\n__________________________________________________________________________________________________\ntf_op_layer_AddV2_8 (TensorFlow [(None, 200, 200, 32 0           conv2d_18[0][0]\n                                                                 re_lu_7[0][0]\n__________________________________________________________________________________________________\nbatch_normalization_8 (BatchNor (None, 200, 200, 32) 128         tf_op_layer_AddV2_8[0][0]\n__________________________________________________________________________________________________\nre_lu_8 (ReLU)                  (None, 200, 200, 32) 0           batch_normalization_8[0][0]\n__________________________________________________________________________________________________\nconv2d_19 (Conv2D)              (None, 200, 200, 32) 9248        re_lu_8[0][0]\n__________________________________________________________________________________________________\nconv2d_20 (Conv2D)              (None, 200, 200, 32) 9248        conv2d_19[0][0]\n__________________________________________________________________________________________________\ntf_op_layer_AddV2_9 (TensorFlow [(None, 200, 200, 32 0           conv2d_20[0][0]\n                                                                 re_lu_8[0][0]\n__________________________________________________________________________________________________\nbatch_normalization_9 (BatchNor (None, 200, 200, 32) 128         tf_op_layer_AddV2_9[0][0]\n__________________________________________________________________________________________________\nre_lu_9 (ReLU)                  (None, 200, 200, 32) 0           batch_normalization_9[0][0]\n__________________________________________________________________________________________________\nconv2d_21 (Conv2D)              (None, 200, 200, 32) 9248        re_lu_9[0][0]\n__________________________________________________________________________________________________\nconv2d_22 (Conv2D)              (None, 200, 200, 32) 9248        conv2d_21[0][0]\n__________________________________________________________________________________________________\ntf_op_layer_AddV2_10 (TensorFlo [(None, 200, 200, 32 0           conv2d_22[0][0]\n                                                                 re_lu_9[0][0]\n__________________________________________________________________________________________________\nbatch_normalization_10 (BatchNo (None, 200, 200, 32) 128         tf_op_layer_AddV2_10[0][0]\n__________________________________________________________________________________________________\nre_lu_10 (ReLU)                 (None, 200, 200, 32) 0           batch_normalization_10[0][0]\n__________________________________________________________________________________________________\nconv2d_23 (Conv2D)              (None, 200, 200, 32) 9248        re_lu_10[0][0]\n__________________________________________________________________________________________________\nconv2d_24 (Conv2D)              (None, 200, 200, 32) 9248        conv2d_23[0][0]\n__________________________________________________________________________________________________\ntf_op_layer_AddV2_11 (TensorFlo [(None, 200, 200, 32 0           conv2d_24[0][0]\n                                                                 re_lu_10[0][0]\n__________________________________________________________________________________________________\nbatch_normalization_11 (BatchNo (None, 200, 200, 32) 128         tf_op_layer_AddV2_11[0][0]\n__________________________________________________________________________________________________\nre_lu_11 (ReLU)                 (None, 200, 200, 32) 0           batch_normalization_11[0][0]\n__________________________________________________________________________________________________\nconv2d_25 (Conv2D)              (None, 200, 200, 1)  289         re_lu_11[0][0]\n__________________________________________________________________________________________________\ntf_op_layer_Squeeze (TensorFlow [(None, 200, 200)]   0           conv2d_25[0][0]\n__________________________________________________________________________________________________\nactivation (Activation)         (None, 200, 200)     0           tf_op_layer_Squeeze[0][0]\n==================================================================================================\nTotal params: 215,553\nTrainable params: 214,785\nNon-trainable params: 768\n__________________________________________________________________________________________________\n"
    },
    {
     "output_type": "display_data",
     "data": {
      "text/plain": "HBox(children=(FloatProgress(value=0.0, description='Training', max=50.0, style=ProgressStyle(description_widt…",
      "application/vnd.jupyter.widget-view+json": {
       "version_major": 2,
       "version_minor": 0,
       "model_id": "c167ece46d574801b69dd26e027b69cb"
      }
     },
     "metadata": {}
    },
    {
     "output_type": "stream",
     "name": "stdout",
     "text": "\nEpoch 00001: LearningRateScheduler reducing learning rate to 0.001.\n"
    },
    {
     "output_type": "display_data",
     "data": {
      "text/plain": "HBox(children=(FloatProgress(value=0.0, description='Epoch 0', max=38.0, style=ProgressStyle(description_width…",
      "application/vnd.jupyter.widget-view+json": {
       "version_major": 2,
       "version_minor": 0,
       "model_id": "87eadc763b28414294b573f16fa5e2c8"
      }
     },
     "metadata": {}
    },
    {
     "output_type": "stream",
     "name": "stdout",
     "text": "WARNING:tensorflow:Callbacks method `on_train_batch_end` is slow compared to the batch time (batch time: 0.1491s vs `on_train_batch_end` time: 0.3321s). Check your callbacks.\nWARNING:tensorflow:From /home/jaentrouble/adipose_train2/env/lib/python3.7/site-packages/tensorflow/python/ops/summary_ops_v2.py:1277: stop (from tensorflow.python.eager.profiler) is deprecated and will be removed after 2020-07-01.\nInstructions for updating:\nuse `tf.profiler.experimental.stop` instead.\n\nEpoch 00001: saving model to savedmodels/res_12_2_0_BN_1/1\n\nloss:0.5395128130912781, binary_accuracy:0.7343834042549133, val_loss:0.6931471824645996, val_binary_accuracy:0.6808908581733704, lr:0.001\n\nEpoch 00002: LearningRateScheduler reducing learning rate to 0.002.\n"
    },
    {
     "output_type": "display_data",
     "data": {
      "text/plain": "HBox(children=(FloatProgress(value=0.0, description='Epoch 1', max=38.0, style=ProgressStyle(description_width…",
      "application/vnd.jupyter.widget-view+json": {
       "version_major": 2,
       "version_minor": 0,
       "model_id": "0c6e7bd9247144dda5b6f79512ff9f2f"
      }
     },
     "metadata": {}
    },
    {
     "output_type": "stream",
     "name": "stdout",
     "text": "\nEpoch 00002: saving model to savedmodels/res_12_2_0_BN_1/2\n\nloss:0.41415026783943176, binary_accuracy:0.7553190588951111, val_loss:0.6931473016738892, val_binary_accuracy:0.6808908581733704, lr:0.002\n\nEpoch 00003: LearningRateScheduler reducing learning rate to 0.003.\n"
    },
    {
     "output_type": "display_data",
     "data": {
      "text/plain": "HBox(children=(FloatProgress(value=0.0, description='Epoch 2', max=38.0, style=ProgressStyle(description_width…",
      "application/vnd.jupyter.widget-view+json": {
       "version_major": 2,
       "version_minor": 0,
       "model_id": "617c6951613b4260873b78369789defe"
      }
     },
     "metadata": {}
    },
    {
     "output_type": "stream",
     "name": "stdout",
     "text": "\nEpoch 00003: saving model to savedmodels/res_12_2_0_BN_1/3\n\nloss:0.35658523440361023, binary_accuracy:0.7825565338134766, val_loss:0.6931471824645996, val_binary_accuracy:0.6808908581733704, lr:0.003\n\nEpoch 00004: LearningRateScheduler reducing learning rate to 0.004.\n"
    },
    {
     "output_type": "display_data",
     "data": {
      "text/plain": "HBox(children=(FloatProgress(value=0.0, description='Epoch 3', max=38.0, style=ProgressStyle(description_width…",
      "application/vnd.jupyter.widget-view+json": {
       "version_major": 2,
       "version_minor": 0,
       "model_id": "ea7fb2c101e442249ec5465f6a5d3f62"
      }
     },
     "metadata": {}
    },
    {
     "output_type": "stream",
     "name": "stdout",
     "text": "\nEpoch 00004: saving model to savedmodels/res_12_2_0_BN_1/4\n\nloss:0.3453909456729889, binary_accuracy:0.7992013096809387, val_loss:0.693106472492218, val_binary_accuracy:0.6808911561965942, lr:0.004\n\nEpoch 00005: LearningRateScheduler reducing learning rate to 0.005.\n"
    },
    {
     "output_type": "display_data",
     "data": {
      "text/plain": "HBox(children=(FloatProgress(value=0.0, description='Epoch 4', max=38.0, style=ProgressStyle(description_width…",
      "application/vnd.jupyter.widget-view+json": {
       "version_major": 2,
       "version_minor": 0,
       "model_id": "434a0cafdf604e9b8e20ddd4704b8f45"
      }
     },
     "metadata": {}
    },
    {
     "output_type": "stream",
     "name": "stdout",
     "text": "\nEpoch 00005: saving model to savedmodels/res_12_2_0_BN_1/5\n\nloss:0.33985504508018494, binary_accuracy:0.8044524788856506, val_loss:0.69321608543396, val_binary_accuracy:0.6808908581733704, lr:0.005\n\nEpoch 00006: LearningRateScheduler reducing learning rate to 0.006.\n"
    },
    {
     "output_type": "display_data",
     "data": {
      "text/plain": "HBox(children=(FloatProgress(value=0.0, description='Epoch 5', max=38.0, style=ProgressStyle(description_width…",
      "application/vnd.jupyter.widget-view+json": {
       "version_major": 2,
       "version_minor": 0,
       "model_id": "dc09229d15f3464fa1348dd7f8644b23"
      }
     },
     "metadata": {}
    },
    {
     "output_type": "stream",
     "name": "stdout",
     "text": "\nEpoch 00006: saving model to savedmodels/res_12_2_0_BN_1/6\n\nloss:0.34953737258911133, binary_accuracy:0.7986285090446472, val_loss:0.6931489706039429, val_binary_accuracy:0.6808908581733704, lr:0.006\n\nEpoch 00007: LearningRateScheduler reducing learning rate to 0.007.\n"
    },
    {
     "output_type": "display_data",
     "data": {
      "text/plain": "HBox(children=(FloatProgress(value=0.0, description='Epoch 6', max=38.0, style=ProgressStyle(description_width…",
      "application/vnd.jupyter.widget-view+json": {
       "version_major": 2,
       "version_minor": 0,
       "model_id": "75407267a7194721a53969292dbf53dd"
      }
     },
     "metadata": {}
    },
    {
     "output_type": "stream",
     "name": "stdout",
     "text": "\nEpoch 00007: saving model to savedmodels/res_12_2_0_BN_1/7\n\nloss:0.36926770210266113, binary_accuracy:0.7747426629066467, val_loss:0.6931471824645996, val_binary_accuracy:0.6808908581733704, lr:0.007\n\nEpoch 00008: LearningRateScheduler reducing learning rate to 0.008.\n"
    },
    {
     "output_type": "display_data",
     "data": {
      "text/plain": "HBox(children=(FloatProgress(value=0.0, description='Epoch 7', max=38.0, style=ProgressStyle(description_width…",
      "application/vnd.jupyter.widget-view+json": {
       "version_major": 2,
       "version_minor": 0,
       "model_id": "e4d9040b489c4e2ab9f377df39b0c215"
      }
     },
     "metadata": {}
    },
    {
     "output_type": "stream",
     "name": "stdout",
     "text": "\nEpoch 00008: saving model to savedmodels/res_12_2_0_BN_1/8\n\nloss:0.38421109318733215, binary_accuracy:0.7470993399620056, val_loss:0.6931471824645996, val_binary_accuracy:0.6808908581733704, lr:0.008\n\nEpoch 00009: LearningRateScheduler reducing learning rate to 0.009000000000000001.\n"
    },
    {
     "output_type": "display_data",
     "data": {
      "text/plain": "HBox(children=(FloatProgress(value=0.0, description='Epoch 8', max=38.0, style=ProgressStyle(description_width…",
      "application/vnd.jupyter.widget-view+json": {
       "version_major": 2,
       "version_minor": 0,
       "model_id": "df6fd4434a554ef8af570efd55f80cc0"
      }
     },
     "metadata": {}
    },
    {
     "output_type": "stream",
     "name": "stdout",
     "text": "\nEpoch 00009: saving model to savedmodels/res_12_2_0_BN_1/9\n\nloss:0.3702494204044342, binary_accuracy:0.7591675519943237, val_loss:0.6932352185249329, val_binary_accuracy:0.6808906197547913, lr:0.009\n\nEpoch 00010: LearningRateScheduler reducing learning rate to 0.01.\n"
    },
    {
     "output_type": "display_data",
     "data": {
      "text/plain": "HBox(children=(FloatProgress(value=0.0, description='Epoch 9', max=38.0, style=ProgressStyle(description_width…",
      "application/vnd.jupyter.widget-view+json": {
       "version_major": 2,
       "version_minor": 0,
       "model_id": "533537376f844822b429e5e763aa7809"
      }
     },
     "metadata": {}
    },
    {
     "output_type": "stream",
     "name": "stdout",
     "text": "\nEpoch 00010: saving model to savedmodels/res_12_2_0_BN_1/10\n\nloss:0.3544699549674988, binary_accuracy:0.7918131351470947, val_loss:0.6931334137916565, val_binary_accuracy:0.6808911561965942, lr:0.01\n\nEpoch 00011: LearningRateScheduler reducing learning rate to 0.011.\n"
    },
    {
     "output_type": "display_data",
     "data": {
      "text/plain": "HBox(children=(FloatProgress(value=0.0, description='Epoch 10', max=38.0, style=ProgressStyle(description_widt…",
      "application/vnd.jupyter.widget-view+json": {
       "version_major": 2,
       "version_minor": 0,
       "model_id": "5a5d4620e2074000abb843ccb26c8405"
      }
     },
     "metadata": {}
    },
    {
     "output_type": "stream",
     "name": "stdout",
     "text": "\nEpoch 00011: saving model to savedmodels/res_12_2_0_BN_1/11\n\nloss:0.3416931629180908, binary_accuracy:0.8009940385818481, val_loss:0.7037661075592041, val_binary_accuracy:0.7426036596298218, lr:0.011\n\nEpoch 00012: LearningRateScheduler reducing learning rate to 0.01.\n"
    },
    {
     "output_type": "display_data",
     "data": {
      "text/plain": "HBox(children=(FloatProgress(value=0.0, description='Epoch 11', max=38.0, style=ProgressStyle(description_widt…",
      "application/vnd.jupyter.widget-view+json": {
       "version_major": 2,
       "version_minor": 0,
       "model_id": "d720c4d9314d49f5b8c73ef12c6ad77b"
      }
     },
     "metadata": {}
    },
    {
     "output_type": "stream",
     "name": "stdout",
     "text": "\nEpoch 00012: saving model to savedmodels/res_12_2_0_BN_1/12\n\nloss:0.33821186423301697, binary_accuracy:0.8043763041496277, val_loss:0.7174316644668579, val_binary_accuracy:0.7233839631080627, lr:0.01\n\nEpoch 00013: LearningRateScheduler reducing learning rate to 0.01.\n"
    },
    {
     "output_type": "display_data",
     "data": {
      "text/plain": "HBox(children=(FloatProgress(value=0.0, description='Epoch 12', max=38.0, style=ProgressStyle(description_widt…",
      "application/vnd.jupyter.widget-view+json": {
       "version_major": 2,
       "version_minor": 0,
       "model_id": "14fca496ce244b89ad929330e8363eaf"
      }
     },
     "metadata": {}
    },
    {
     "output_type": "stream",
     "name": "stdout",
     "text": "\nEpoch 00013: saving model to savedmodels/res_12_2_0_BN_1/13\n\nloss:0.3380609154701233, binary_accuracy:0.8059739470481873, val_loss:0.704911470413208, val_binary_accuracy:0.719084620475769, lr:0.01\n\nEpoch 00014: LearningRateScheduler reducing learning rate to 0.01.\n"
    },
    {
     "output_type": "display_data",
     "data": {
      "text/plain": "HBox(children=(FloatProgress(value=0.0, description='Epoch 13', max=38.0, style=ProgressStyle(description_widt…",
      "application/vnd.jupyter.widget-view+json": {
       "version_major": 2,
       "version_minor": 0,
       "model_id": "ae0d5d290ad545c690a4b28f03480570"
      }
     },
     "metadata": {}
    },
    {
     "output_type": "stream",
     "name": "stdout",
     "text": "\nEpoch 00014: saving model to savedmodels/res_12_2_0_BN_1/14\n\nloss:0.33700183033943176, binary_accuracy:0.8062381744384766, val_loss:0.6896883249282837, val_binary_accuracy:0.7515304684638977, lr:0.01\n\nEpoch 00015: LearningRateScheduler reducing learning rate to 0.01.\n"
    },
    {
     "output_type": "display_data",
     "data": {
      "text/plain": "HBox(children=(FloatProgress(value=0.0, description='Epoch 14', max=38.0, style=ProgressStyle(description_widt…",
      "application/vnd.jupyter.widget-view+json": {
       "version_major": 2,
       "version_minor": 0,
       "model_id": "13f66764473044378f302352a72e5e83"
      }
     },
     "metadata": {}
    },
    {
     "output_type": "stream",
     "name": "stdout",
     "text": "\nEpoch 00015: saving model to savedmodels/res_12_2_0_BN_1/15\n\nloss:0.3341571092605591, binary_accuracy:0.8087447881698608, val_loss:0.6924365162849426, val_binary_accuracy:0.6882543563842773, lr:0.01\n\nEpoch 00016: LearningRateScheduler reducing learning rate to 0.01.\n"
    },
    {
     "output_type": "display_data",
     "data": {
      "text/plain": "HBox(children=(FloatProgress(value=0.0, description='Epoch 15', max=38.0, style=ProgressStyle(description_widt…",
      "application/vnd.jupyter.widget-view+json": {
       "version_major": 2,
       "version_minor": 0,
       "model_id": "7e17c522ab504e47a61bbac2857b1b5c"
      }
     },
     "metadata": {}
    },
    {
     "output_type": "stream",
     "name": "stdout",
     "text": "\nEpoch 00016: saving model to savedmodels/res_12_2_0_BN_1/16\n\nloss:0.33736661076545715, binary_accuracy:0.8066576719284058, val_loss:0.761475682258606, val_binary_accuracy:0.39907369017601013, lr:0.01\n\nEpoch 00017: LearningRateScheduler reducing learning rate to 0.01.\n"
    },
    {
     "output_type": "display_data",
     "data": {
      "text/plain": "HBox(children=(FloatProgress(value=0.0, description='Epoch 16', max=38.0, style=ProgressStyle(description_widt…",
      "application/vnd.jupyter.widget-view+json": {
       "version_major": 2,
       "version_minor": 0,
       "model_id": "a8cefafc76af4f7598d0b35be6c36598"
      }
     },
     "metadata": {}
    },
    {
     "output_type": "stream",
     "name": "stdout",
     "text": "\nEpoch 00017: saving model to savedmodels/res_12_2_0_BN_1/17\n\nloss:0.3362599015235901, binary_accuracy:0.8074479103088379, val_loss:0.6890358328819275, val_binary_accuracy:0.7456409931182861, lr:0.01\n\nEpoch 00018: LearningRateScheduler reducing learning rate to 0.01.\n"
    },
    {
     "output_type": "display_data",
     "data": {
      "text/plain": "HBox(children=(FloatProgress(value=0.0, description='Epoch 17', max=38.0, style=ProgressStyle(description_widt…",
      "application/vnd.jupyter.widget-view+json": {
       "version_major": 2,
       "version_minor": 0,
       "model_id": "4e246d61a8344d188f64a0f190358719"
      }
     },
     "metadata": {}
    },
    {
     "output_type": "stream",
     "name": "stdout",
     "text": "\nEpoch 00018: saving model to savedmodels/res_12_2_0_BN_1/18\n\nloss:0.3341790437698364, binary_accuracy:0.8083518147468567, val_loss:0.7035679221153259, val_binary_accuracy:0.7427250146865845, lr:0.01\n\nEpoch 00019: LearningRateScheduler reducing learning rate to 0.01.\n"
    },
    {
     "output_type": "display_data",
     "data": {
      "text/plain": "HBox(children=(FloatProgress(value=0.0, description='Epoch 18', max=38.0, style=ProgressStyle(description_widt…",
      "application/vnd.jupyter.widget-view+json": {
       "version_major": 2,
       "version_minor": 0,
       "model_id": "2c9cf1bfb17b4e06b88206dab532f3d6"
      }
     },
     "metadata": {}
    },
    {
     "output_type": "stream",
     "name": "stdout",
     "text": "\nEpoch 00019: saving model to savedmodels/res_12_2_0_BN_1/19\n\nloss:0.3320768177509308, binary_accuracy:0.8094289898872375, val_loss:0.6855831146240234, val_binary_accuracy:0.7807385325431824, lr:0.01\n\nEpoch 00020: LearningRateScheduler reducing learning rate to 0.01.\n"
    },
    {
     "output_type": "display_data",
     "data": {
      "text/plain": "HBox(children=(FloatProgress(value=0.0, description='Epoch 19', max=38.0, style=ProgressStyle(description_widt…",
      "application/vnd.jupyter.widget-view+json": {
       "version_major": 2,
       "version_minor": 0,
       "model_id": "2b74fdbb6b15414f86b2de2fa56d897f"
      }
     },
     "metadata": {}
    },
    {
     "output_type": "stream",
     "name": "stdout",
     "text": "\nEpoch 00020: saving model to savedmodels/res_12_2_0_BN_1/20\n\nloss:0.33157598972320557, binary_accuracy:0.8096666932106018, val_loss:0.679121196269989, val_binary_accuracy:0.7753864526748657, lr:0.01\n\nEpoch 00021: LearningRateScheduler reducing learning rate to 0.01.\n"
    },
    {
     "output_type": "display_data",
     "data": {
      "text/plain": "HBox(children=(FloatProgress(value=0.0, description='Epoch 20', max=38.0, style=ProgressStyle(description_widt…",
      "application/vnd.jupyter.widget-view+json": {
       "version_major": 2,
       "version_minor": 0,
       "model_id": "b889baef8da04816a5715aebb09b2389"
      }
     },
     "metadata": {}
    },
    {
     "output_type": "stream",
     "name": "stdout",
     "text": "\nEpoch 00021: saving model to savedmodels/res_12_2_0_BN_1/21\n\nloss:0.3319627046585083, binary_accuracy:0.8099359273910522, val_loss:0.6938188076019287, val_binary_accuracy:0.6777217984199524, lr:0.01\n\nEpoch 00022: LearningRateScheduler reducing learning rate to 0.005.\n"
    },
    {
     "output_type": "display_data",
     "data": {
      "text/plain": "HBox(children=(FloatProgress(value=0.0, description='Epoch 21', max=38.0, style=ProgressStyle(description_widt…",
      "application/vnd.jupyter.widget-view+json": {
       "version_major": 2,
       "version_minor": 0,
       "model_id": "c33dc41816554ce8bee8ba99d3c373ab"
      }
     },
     "metadata": {}
    },
    {
     "output_type": "stream",
     "name": "stdout",
     "text": "\nEpoch 00022: saving model to savedmodels/res_12_2_0_BN_1/22\n\nloss:0.3289710581302643, binary_accuracy:0.811944842338562, val_loss:0.7153181433677673, val_binary_accuracy:0.7419766783714294, lr:0.005\n\nEpoch 00023: LearningRateScheduler reducing learning rate to 0.005.\n"
    },
    {
     "output_type": "display_data",
     "data": {
      "text/plain": "HBox(children=(FloatProgress(value=0.0, description='Epoch 22', max=38.0, style=ProgressStyle(description_widt…",
      "application/vnd.jupyter.widget-view+json": {
       "version_major": 2,
       "version_minor": 0,
       "model_id": "7dee9f9471094db08e7324859b56fc29"
      }
     },
     "metadata": {}
    },
    {
     "output_type": "stream",
     "name": "stdout",
     "text": "\nEpoch 00023: saving model to savedmodels/res_12_2_0_BN_1/23\n\nloss:0.32626473903656006, binary_accuracy:0.8130435943603516, val_loss:0.7051101922988892, val_binary_accuracy:0.7413155436515808, lr:0.005\n\nEpoch 00024: LearningRateScheduler reducing learning rate to 0.005.\n"
    },
    {
     "output_type": "display_data",
     "data": {
      "text/plain": "HBox(children=(FloatProgress(value=0.0, description='Epoch 23', max=38.0, style=ProgressStyle(description_widt…",
      "application/vnd.jupyter.widget-view+json": {
       "version_major": 2,
       "version_minor": 0,
       "model_id": "57d5df681f844c85b6d0ceaecd7fd782"
      }
     },
     "metadata": {}
    },
    {
     "output_type": "stream",
     "name": "stdout",
     "text": "\nEpoch 00024: saving model to savedmodels/res_12_2_0_BN_1/24\n\nloss:0.3259078860282898, binary_accuracy:0.8143545985221863, val_loss:0.6944324970245361, val_binary_accuracy:0.6703589558601379, lr:0.005\n\nEpoch 00025: LearningRateScheduler reducing learning rate to 0.005.\n"
    },
    {
     "output_type": "display_data",
     "data": {
      "text/plain": "HBox(children=(FloatProgress(value=0.0, description='Epoch 24', max=38.0, style=ProgressStyle(description_widt…",
      "application/vnd.jupyter.widget-view+json": {
       "version_major": 2,
       "version_minor": 0,
       "model_id": "395f91671fd94ab1bf1aa92f488b7510"
      }
     },
     "metadata": {}
    },
    {
     "output_type": "stream",
     "name": "stdout",
     "text": "\nEpoch 00025: saving model to savedmodels/res_12_2_0_BN_1/25\n\nloss:0.3248515725135803, binary_accuracy:0.8152956962585449, val_loss:0.6804842352867126, val_binary_accuracy:0.7868044972419739, lr:0.005\n\nEpoch 00026: LearningRateScheduler reducing learning rate to 0.005.\n"
    },
    {
     "output_type": "display_data",
     "data": {
      "text/plain": "HBox(children=(FloatProgress(value=0.0, description='Epoch 25', max=38.0, style=ProgressStyle(description_widt…",
      "application/vnd.jupyter.widget-view+json": {
       "version_major": 2,
       "version_minor": 0,
       "model_id": "766a27ea52c14bb5b490e5d3a481f82b"
      }
     },
     "metadata": {}
    },
    {
     "output_type": "stream",
     "name": "stdout",
     "text": "\nEpoch 00026: saving model to savedmodels/res_12_2_0_BN_1/26\n\nloss:0.3246544301509857, binary_accuracy:0.8164247274398804, val_loss:0.6832737922668457, val_binary_accuracy:0.7563973069190979, lr:0.005\n\nEpoch 00027: LearningRateScheduler reducing learning rate to 0.005.\n"
    },
    {
     "output_type": "display_data",
     "data": {
      "text/plain": "HBox(children=(FloatProgress(value=0.0, description='Epoch 26', max=38.0, style=ProgressStyle(description_widt…",
      "application/vnd.jupyter.widget-view+json": {
       "version_major": 2,
       "version_minor": 0,
       "model_id": "bbabc1dded4d4a958b85da15c415cacc"
      }
     },
     "metadata": {}
    },
    {
     "output_type": "stream",
     "name": "stdout",
     "text": "\nEpoch 00027: saving model to savedmodels/res_12_2_0_BN_1/27\n\nloss:0.32405948638916016, binary_accuracy:0.8156226277351379, val_loss:0.6895167827606201, val_binary_accuracy:0.730371356010437, lr:0.005\n\nEpoch 00028: LearningRateScheduler reducing learning rate to 0.005.\n"
    },
    {
     "output_type": "display_data",
     "data": {
      "text/plain": "HBox(children=(FloatProgress(value=0.0, description='Epoch 27', max=38.0, style=ProgressStyle(description_widt…",
      "application/vnd.jupyter.widget-view+json": {
       "version_major": 2,
       "version_minor": 0,
       "model_id": "69627712e2a541da8ee32dadba0c4d6d"
      }
     },
     "metadata": {}
    },
    {
     "output_type": "stream",
     "name": "stdout",
     "text": "\nEpoch 00028: saving model to savedmodels/res_12_2_0_BN_1/28\n\nloss:0.32371261715888977, binary_accuracy:0.8167586326599121, val_loss:0.694430410861969, val_binary_accuracy:0.6765552163124084, lr:0.005\n\nEpoch 00029: LearningRateScheduler reducing learning rate to 0.005.\n"
    },
    {
     "output_type": "display_data",
     "data": {
      "text/plain": "HBox(children=(FloatProgress(value=0.0, description='Epoch 28', max=38.0, style=ProgressStyle(description_widt…",
      "application/vnd.jupyter.widget-view+json": {
       "version_major": 2,
       "version_minor": 0,
       "model_id": "5a7df5f097e7480abc6b243d297ce756"
      }
     },
     "metadata": {}
    },
    {
     "output_type": "stream",
     "name": "stdout",
     "text": "\nEpoch 00029: saving model to savedmodels/res_12_2_0_BN_1/29\n\nloss:0.32248005270957947, binary_accuracy:0.8174386024475098, val_loss:0.674224853515625, val_binary_accuracy:0.7843347191810608, lr:0.005\n\nEpoch 00030: LearningRateScheduler reducing learning rate to 0.005.\n"
    },
    {
     "output_type": "display_data",
     "data": {
      "text/plain": "HBox(children=(FloatProgress(value=0.0, description='Epoch 29', max=38.0, style=ProgressStyle(description_widt…",
      "application/vnd.jupyter.widget-view+json": {
       "version_major": 2,
       "version_minor": 0,
       "model_id": "ae04207247ee46b68339baa291e0471e"
      }
     },
     "metadata": {}
    },
    {
     "output_type": "stream",
     "name": "stdout",
     "text": "\nEpoch 00030: saving model to savedmodels/res_12_2_0_BN_1/30\n\nloss:0.3222554922103882, binary_accuracy:0.8184289336204529, val_loss:0.6791128516197205, val_binary_accuracy:0.7666028738021851, lr:0.005\n\nEpoch 00031: LearningRateScheduler reducing learning rate to 0.005.\n"
    },
    {
     "output_type": "display_data",
     "data": {
      "text/plain": "HBox(children=(FloatProgress(value=0.0, description='Epoch 30', max=38.0, style=ProgressStyle(description_widt…",
      "application/vnd.jupyter.widget-view+json": {
       "version_major": 2,
       "version_minor": 0,
       "model_id": "128eba0cba584706bb0c850ccda78593"
      }
     },
     "metadata": {}
    },
    {
     "output_type": "stream",
     "name": "stdout",
     "text": "\nEpoch 00031: saving model to savedmodels/res_12_2_0_BN_1/31\n\nloss:0.3208574056625366, binary_accuracy:0.8199076652526855, val_loss:0.6754427552223206, val_binary_accuracy:0.8005807399749756, lr:0.005\n\nEpoch 00032: LearningRateScheduler reducing learning rate to 0.005.\n"
    },
    {
     "output_type": "display_data",
     "data": {
      "text/plain": "HBox(children=(FloatProgress(value=0.0, description='Epoch 31', max=38.0, style=ProgressStyle(description_widt…",
      "application/vnd.jupyter.widget-view+json": {
       "version_major": 2,
       "version_minor": 0,
       "model_id": "84ba87769f284016b987957828ec62e4"
      }
     },
     "metadata": {}
    },
    {
     "output_type": "stream",
     "name": "stdout",
     "text": "\nEpoch 00032: saving model to savedmodels/res_12_2_0_BN_1/32\n\nloss:0.320419043302536, binary_accuracy:0.820374071598053, val_loss:0.6937533020973206, val_binary_accuracy:0.6784240007400513, lr:0.005\n\nEpoch 00033: LearningRateScheduler reducing learning rate to 0.005.\n"
    },
    {
     "output_type": "display_data",
     "data": {
      "text/plain": "HBox(children=(FloatProgress(value=0.0, description='Epoch 32', max=38.0, style=ProgressStyle(description_widt…",
      "application/vnd.jupyter.widget-view+json": {
       "version_major": 2,
       "version_minor": 0,
       "model_id": "6e38d40474964f39a108e0fa7af76c97"
      }
     },
     "metadata": {}
    },
    {
     "output_type": "stream",
     "name": "stdout",
     "text": "\nEpoch 00033: saving model to savedmodels/res_12_2_0_BN_1/33\n\nloss:0.3206300735473633, binary_accuracy:0.8202356696128845, val_loss:0.6742699146270752, val_binary_accuracy:0.7740239500999451, lr:0.005\n\nEpoch 00034: LearningRateScheduler reducing learning rate to 0.005.\n"
    },
    {
     "output_type": "display_data",
     "data": {
      "text/plain": "HBox(children=(FloatProgress(value=0.0, description='Epoch 33', max=38.0, style=ProgressStyle(description_widt…",
      "application/vnd.jupyter.widget-view+json": {
       "version_major": 2,
       "version_minor": 0,
       "model_id": "3d29efb80272497e9bc8c862534db8b2"
      }
     },
     "metadata": {}
    },
    {
     "output_type": "stream",
     "name": "stdout",
     "text": "\nEpoch 00034: saving model to savedmodels/res_12_2_0_BN_1/34\n\nloss:0.31991177797317505, binary_accuracy:0.8206674456596375, val_loss:0.6796295642852783, val_binary_accuracy:0.7600142955780029, lr:0.005\n\nEpoch 00035: LearningRateScheduler reducing learning rate to 0.005.\n"
    },
    {
     "output_type": "display_data",
     "data": {
      "text/plain": "HBox(children=(FloatProgress(value=0.0, description='Epoch 34', max=38.0, style=ProgressStyle(description_widt…",
      "application/vnd.jupyter.widget-view+json": {
       "version_major": 2,
       "version_minor": 0,
       "model_id": "4b79f6b1b1524cb8bfcf8999144683bc"
      }
     },
     "metadata": {}
    },
    {
     "output_type": "stream",
     "name": "stdout",
     "text": "\nEpoch 00035: saving model to savedmodels/res_12_2_0_BN_1/35\n\nloss:0.3199399411678314, binary_accuracy:0.820651113986969, val_loss:0.6889497637748718, val_binary_accuracy:0.7421684861183167, lr:0.005\n\nEpoch 00036: LearningRateScheduler reducing learning rate to 0.005.\n"
    },
    {
     "output_type": "display_data",
     "data": {
      "text/plain": "HBox(children=(FloatProgress(value=0.0, description='Epoch 35', max=38.0, style=ProgressStyle(description_widt…",
      "application/vnd.jupyter.widget-view+json": {
       "version_major": 2,
       "version_minor": 0,
       "model_id": "936428a31fae478999ac0699192eed33"
      }
     },
     "metadata": {}
    },
    {
     "output_type": "stream",
     "name": "stdout",
     "text": "\nEpoch 00036: saving model to savedmodels/res_12_2_0_BN_1/36\n\nloss:0.319442480802536, binary_accuracy:0.8210852742195129, val_loss:0.6835870146751404, val_binary_accuracy:0.7566564083099365, lr:0.005\n\nEpoch 00037: LearningRateScheduler reducing learning rate to 0.005.\n"
    },
    {
     "output_type": "display_data",
     "data": {
      "text/plain": "HBox(children=(FloatProgress(value=0.0, description='Epoch 36', max=38.0, style=ProgressStyle(description_widt…",
      "application/vnd.jupyter.widget-view+json": {
       "version_major": 2,
       "version_minor": 0,
       "model_id": "c5b5b8fb247d43189ea79bbc580c5a61"
      }
     },
     "metadata": {}
    },
    {
     "output_type": "stream",
     "name": "stdout",
     "text": "\nEpoch 00037: saving model to savedmodels/res_12_2_0_BN_1/37\n\nloss:0.31878718733787537, binary_accuracy:0.8223392367362976, val_loss:0.6798703670501709, val_binary_accuracy:0.7690773606300354, lr:0.005\n\nEpoch 00038: LearningRateScheduler reducing learning rate to 0.005.\n"
    },
    {
     "output_type": "display_data",
     "data": {
      "text/plain": "HBox(children=(FloatProgress(value=0.0, description='Epoch 37', max=38.0, style=ProgressStyle(description_widt…",
      "application/vnd.jupyter.widget-view+json": {
       "version_major": 2,
       "version_minor": 0,
       "model_id": "570d9c8740c9432cb534528c61890554"
      }
     },
     "metadata": {}
    },
    {
     "output_type": "stream",
     "name": "stdout",
     "text": "\nEpoch 00038: saving model to savedmodels/res_12_2_0_BN_1/38\n\nloss:0.31851404905319214, binary_accuracy:0.8219716548919678, val_loss:0.6722701787948608, val_binary_accuracy:0.7692326307296753, lr:0.005\n\nEpoch 00039: LearningRateScheduler reducing learning rate to 0.005.\n"
    },
    {
     "output_type": "display_data",
     "data": {
      "text/plain": "HBox(children=(FloatProgress(value=0.0, description='Epoch 38', max=38.0, style=ProgressStyle(description_widt…",
      "application/vnd.jupyter.widget-view+json": {
       "version_major": 2,
       "version_minor": 0,
       "model_id": "97f2a906af0744aab6729254af41a1ae"
      }
     },
     "metadata": {}
    },
    {
     "output_type": "stream",
     "name": "stdout",
     "text": "\nEpoch 00039: saving model to savedmodels/res_12_2_0_BN_1/39\n\nloss:0.31795191764831543, binary_accuracy:0.8222890496253967, val_loss:0.6713168621063232, val_binary_accuracy:0.7851769924163818, lr:0.005\n\nEpoch 00040: LearningRateScheduler reducing learning rate to 0.005.\n"
    },
    {
     "output_type": "display_data",
     "data": {
      "text/plain": "HBox(children=(FloatProgress(value=0.0, description='Epoch 39', max=38.0, style=ProgressStyle(description_widt…",
      "application/vnd.jupyter.widget-view+json": {
       "version_major": 2,
       "version_minor": 0,
       "model_id": "e0c9fc3587f44d10b462037a45cb0291"
      }
     },
     "metadata": {}
    },
    {
     "output_type": "stream",
     "name": "stdout",
     "text": "\nEpoch 00040: saving model to savedmodels/res_12_2_0_BN_1/40\n\nloss:0.3180239200592041, binary_accuracy:0.8228134512901306, val_loss:0.6777450442314148, val_binary_accuracy:0.7741621136665344, lr:0.005\n\nEpoch 00041: LearningRateScheduler reducing learning rate to 0.005.\n"
    },
    {
     "output_type": "display_data",
     "data": {
      "text/plain": "HBox(children=(FloatProgress(value=0.0, description='Epoch 40', max=38.0, style=ProgressStyle(description_widt…",
      "application/vnd.jupyter.widget-view+json": {
       "version_major": 2,
       "version_minor": 0,
       "model_id": "2c893ba5efdd4296bb73e42eeb986123"
      }
     },
     "metadata": {}
    },
    {
     "output_type": "stream",
     "name": "stdout",
     "text": "\nEpoch 00041: saving model to savedmodels/res_12_2_0_BN_1/41\n\nloss:0.31778907775878906, binary_accuracy:0.8227680921554565, val_loss:0.7244628667831421, val_binary_accuracy:0.6427077054977417, lr:0.005\n\nEpoch 00042: LearningRateScheduler reducing learning rate to 0.005.\n"
    },
    {
     "output_type": "display_data",
     "data": {
      "text/plain": "HBox(children=(FloatProgress(value=0.0, description='Epoch 41', max=38.0, style=ProgressStyle(description_widt…",
      "application/vnd.jupyter.widget-view+json": {
       "version_major": 2,
       "version_minor": 0,
       "model_id": "dc28e35a7b2744eab75a55b659f6bd46"
      }
     },
     "metadata": {}
    },
    {
     "output_type": "stream",
     "name": "stdout",
     "text": "\nEpoch 00042: saving model to savedmodels/res_12_2_0_BN_1/42\n\nloss:0.3185502588748932, binary_accuracy:0.8222244381904602, val_loss:0.6829968690872192, val_binary_accuracy:0.753562867641449, lr:0.005\n\nEpoch 00043: LearningRateScheduler reducing learning rate to 0.005.\n"
    },
    {
     "output_type": "display_data",
     "data": {
      "text/plain": "HBox(children=(FloatProgress(value=0.0, description='Epoch 42', max=38.0, style=ProgressStyle(description_widt…",
      "application/vnd.jupyter.widget-view+json": {
       "version_major": 2,
       "version_minor": 0,
       "model_id": "a945b2b7bee04ccb880862fa72b919de"
      }
     },
     "metadata": {}
    },
    {
     "output_type": "stream",
     "name": "stdout",
     "text": "\nEpoch 00043: saving model to savedmodels/res_12_2_0_BN_1/43\n\nloss:0.3173963725566864, binary_accuracy:0.8235843777656555, val_loss:0.6896526217460632, val_binary_accuracy:0.744842529296875, lr:0.005\n\nEpoch 00044: LearningRateScheduler reducing learning rate to 0.005.\n"
    },
    {
     "output_type": "display_data",
     "data": {
      "text/plain": "HBox(children=(FloatProgress(value=0.0, description='Epoch 43', max=38.0, style=ProgressStyle(description_widt…",
      "application/vnd.jupyter.widget-view+json": {
       "version_major": 2,
       "version_minor": 0,
       "model_id": "4577b97947204c629c96b2ca0928737b"
      }
     },
     "metadata": {}
    },
    {
     "output_type": "stream",
     "name": "stdout",
     "text": "\nEpoch 00044: saving model to savedmodels/res_12_2_0_BN_1/44\n\nloss:0.3169897794723511, binary_accuracy:0.8235713839530945, val_loss:0.679263174533844, val_binary_accuracy:0.7620654702186584, lr:0.005\n\nEpoch 00045: LearningRateScheduler reducing learning rate to 0.005.\n"
    },
    {
     "output_type": "display_data",
     "data": {
      "text/plain": "HBox(children=(FloatProgress(value=0.0, description='Epoch 44', max=38.0, style=ProgressStyle(description_widt…",
      "application/vnd.jupyter.widget-view+json": {
       "version_major": 2,
       "version_minor": 0,
       "model_id": "ecfd69570fc945d7afae60dc33bcff6d"
      }
     },
     "metadata": {}
    },
    {
     "output_type": "stream",
     "name": "stdout",
     "text": "\nEpoch 00045: saving model to savedmodels/res_12_2_0_BN_1/45\n\nloss:0.31661516427993774, binary_accuracy:0.8241237998008728, val_loss:0.6770718097686768, val_binary_accuracy:0.7675772905349731, lr:0.005\n\nEpoch 00046: LearningRateScheduler reducing learning rate to 0.005.\n"
    },
    {
     "output_type": "display_data",
     "data": {
      "text/plain": "HBox(children=(FloatProgress(value=0.0, description='Epoch 45', max=38.0, style=ProgressStyle(description_widt…",
      "application/vnd.jupyter.widget-view+json": {
       "version_major": 2,
       "version_minor": 0,
       "model_id": "132b35414c394d88830698e36808e4ba"
      }
     },
     "metadata": {}
    },
    {
     "output_type": "stream",
     "name": "stdout",
     "text": "\nEpoch 00046: saving model to savedmodels/res_12_2_0_BN_1/46\n\nloss:0.31658804416656494, binary_accuracy:0.8240697979927063, val_loss:0.6852616667747498, val_binary_accuracy:0.7454632520675659, lr:0.005\n\nEpoch 00047: LearningRateScheduler reducing learning rate to 0.005.\n"
    },
    {
     "output_type": "display_data",
     "data": {
      "text/plain": "HBox(children=(FloatProgress(value=0.0, description='Epoch 46', max=38.0, style=ProgressStyle(description_widt…",
      "application/vnd.jupyter.widget-view+json": {
       "version_major": 2,
       "version_minor": 0,
       "model_id": "2e31280ab87f4660a38a46e9efb07ebe"
      }
     },
     "metadata": {}
    },
    {
     "output_type": "stream",
     "name": "stdout",
     "text": "\nEpoch 00047: saving model to savedmodels/res_12_2_0_BN_1/47\n\nloss:0.31688714027404785, binary_accuracy:0.8234357237815857, val_loss:0.6859796643257141, val_binary_accuracy:0.7801541686058044, lr:0.005\n\nEpoch 00048: LearningRateScheduler reducing learning rate to 0.005.\n"
    },
    {
     "output_type": "display_data",
     "data": {
      "text/plain": "HBox(children=(FloatProgress(value=0.0, description='Epoch 47', max=38.0, style=ProgressStyle(description_widt…",
      "application/vnd.jupyter.widget-view+json": {
       "version_major": 2,
       "version_minor": 0,
       "model_id": "36d32b7c0f9445f288fed79bccf98ba2"
      }
     },
     "metadata": {}
    },
    {
     "output_type": "stream",
     "name": "stdout",
     "text": "\nEpoch 00048: saving model to savedmodels/res_12_2_0_BN_1/48\n\nloss:0.3167061507701874, binary_accuracy:0.8236464262008667, val_loss:0.6685130596160889, val_binary_accuracy:0.7972548007965088, lr:0.005\n\nEpoch 00049: LearningRateScheduler reducing learning rate to 0.005.\n"
    },
    {
     "output_type": "display_data",
     "data": {
      "text/plain": "HBox(children=(FloatProgress(value=0.0, description='Epoch 48', max=38.0, style=ProgressStyle(description_widt…",
      "application/vnd.jupyter.widget-view+json": {
       "version_major": 2,
       "version_minor": 0,
       "model_id": "9a09ad31d1ef49358023356eaea739c6"
      }
     },
     "metadata": {}
    },
    {
     "output_type": "stream",
     "name": "stdout",
     "text": "\nEpoch 00049: saving model to savedmodels/res_12_2_0_BN_1/49\n\nloss:0.3155633509159088, binary_accuracy:0.8237723708152771, val_loss:0.6813819408416748, val_binary_accuracy:0.7494588494300842, lr:0.005\n\nEpoch 00050: LearningRateScheduler reducing learning rate to 0.005.\n"
    },
    {
     "output_type": "display_data",
     "data": {
      "text/plain": "HBox(children=(FloatProgress(value=0.0, description='Epoch 49', max=38.0, style=ProgressStyle(description_widt…",
      "application/vnd.jupyter.widget-view+json": {
       "version_major": 2,
       "version_minor": 0,
       "model_id": "86e037958fa74591a1469481da57bec8"
      }
     },
     "metadata": {}
    },
    {
     "output_type": "stream",
     "name": "stdout",
     "text": "\nEpoch 00050: saving model to savedmodels/res_12_2_0_BN_1/50\n\nloss:0.31525078415870667, binary_accuracy:0.8245614171028137, val_loss:0.6681804656982422, val_binary_accuracy:0.7948096394538879, lr:0.005\n\nTook 965.9768195152283 seconds\n"
    }
   ],
   "source": [
    "kwargs = {}\n",
    "kwargs['model_f'] = model_f\n",
    "kwargs['lr_f'] = lr_f\n",
    "kwargs['name'] = name\n",
    "kwargs['epochs'] = epochs\n",
    "kwargs['batch_size'] = 32\n",
    "kwargs['X_train'] = X_train\n",
    "kwargs['Y_train'] = Y_train\n",
    "kwargs['val_data'] = (X_val, Y_val)\n",
    "kwargs['mixed_float'] = mixed_float\n",
    "p = Process(target=run_training, kwargs=kwargs)\n",
    "p.start()\n",
    "p.join()"
   ]
  },
  {
   "cell_type": "code",
   "execution_count": null,
   "metadata": {},
   "outputs": [],
   "source": []
  }
 ]
}