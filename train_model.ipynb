{
 "metadata": {
  "language_info": {
   "codemirror_mode": {
    "name": "ipython",
    "version": 3
   },
   "file_extension": ".py",
   "mimetype": "text/x-python",
   "name": "python",
   "nbconvert_exporter": "python",
   "pygments_lexer": "ipython3",
   "version": "3.7.8-final"
  },
  "orig_nbformat": 2,
  "kernelspec": {
   "name": "train2_venv",
   "display_name": "train2_venv"
  }
 },
 "nbformat": 4,
 "nbformat_minor": 2,
 "cells": [
  {
   "cell_type": "code",
   "execution_count": 1,
   "metadata": {
    "tags": []
   },
   "outputs": [],
   "source": [
    "%matplotlib inline\n",
    "%load_ext autoreload"
   ]
  },
  {
   "cell_type": "code",
   "execution_count": 2,
   "metadata": {},
   "outputs": [],
   "source": [
    "import numpy as np\n",
    "import matplotlib.pyplot as plt\n",
    "from multiprocessing import Process"
   ]
  },
  {
   "cell_type": "code",
   "execution_count": 3,
   "metadata": {
    "tags": []
   },
   "outputs": [
    {
     "output_type": "stream",
     "name": "stdout",
     "text": "/home/jaentrouble/adipose_train2\n"
    }
   ],
   "source": [
    "import os\n",
    "os.chdir('/home/jaentrouble/adipose_train2')\n",
    "print(os.getcwd())"
   ]
  },
  {
   "cell_type": "code",
   "execution_count": 4,
   "metadata": {
    "tags": []
   },
   "outputs": [],
   "source": [
    "with np.load('cell_mask_data.npz') as data:\n",
    "    X = data['img']\n",
    "    Y = data['mask']"
   ]
  },
  {
   "cell_type": "code",
   "execution_count": 5,
   "metadata": {
    "tags": []
   },
   "outputs": [
    {
     "output_type": "stream",
     "name": "stdout",
     "text": "X shape: (1533, 200, 200, 3)\nY shape: (1533, 200, 200)\n"
    }
   ],
   "source": [
    "print('X shape:',X.shape)\n",
    "print('Y shape:',Y.shape)"
   ]
  },
  {
   "cell_type": "code",
   "execution_count": 6,
   "metadata": {},
   "outputs": [],
   "source": [
    "X_train = X[:1200]\n",
    "Y_train = Y[:1200]\n",
    "X_val = X[1200:1350]\n",
    "Y_val = Y[1200:1350]\n",
    "X_test = X[1350:]\n",
    "Y_test = Y[1350:]"
   ]
  },
  {
   "cell_type": "code",
   "execution_count": 7,
   "metadata": {
    "tags": []
   },
   "outputs": [
    {
     "output_type": "stream",
     "name": "stdout",
     "text": "remote: Enumerating objects: 24, done.\u001b[K\nremote: Counting objects: 100% (24/24), done.\u001b[K\nremote: Compressing objects: 100% (11/11), done.\u001b[K\nUnpacking objects:  94% (16/17), 188.00 KiB | 349.00 KiB/sremote: Total 17 (delta 6), reused 17 (delta 6), pack-reused 0\u001b[K\nUnpacking objects: 100% (17/17), 1.84 MiB | 1.59 MiB/s, done.\nFrom https://github.com/jaentrouble/Adipos_tf_train2\n   951d68a..a4d967d  master     -> origin/master\nUpdating 951d68a..a4d967d\nFast-forward\n model_graph/res_12_2_0_BN_1_bin_acc.png       | Bin \u001b[31m0\u001b[m -> \u001b[32m28547\u001b[m bytes\n model_graph/res_12_2_0_BN_1_loss.png          | Bin \u001b[31m0\u001b[m -> \u001b[32m17885\u001b[m bytes\n model_graph/res_12_2_0_BN_1_with_val.png      | Bin \u001b[31m0\u001b[m -> \u001b[32m56071\u001b[m bytes\n model_lr.py                                   |  11 \u001b[32m+++++\u001b[m\n model_trainer.py                              |   3 \u001b[32m+\u001b[m\u001b[31m-\u001b[m\n result_images/res_12_2_0_BN_1_linear.png      | Bin \u001b[31m0\u001b[m -> \u001b[32m414637\u001b[m bytes\n result_images/res_12_2_0_BN_1_linear_test.png | Bin \u001b[31m0\u001b[m -> \u001b[32m410479\u001b[m bytes\n result_images/res_12_2_0_BN_1_over03.png      | Bin \u001b[31m0\u001b[m -> \u001b[32m351916\u001b[m bytes\n result_images/res_12_2_0_BN_1_over03_test.png | Bin \u001b[31m0\u001b[m -> \u001b[32m342743\u001b[m bytes\n train_model.ipynb                             |   6 \u001b[32m+\u001b[m\u001b[31m--\u001b[m\n view_result.ipynb                             |  66 \u001b[32m+++++++++++++++\u001b[m\u001b[31m-----------\u001b[m\n 11 files changed, 53 insertions(+), 33 deletions(-)\n create mode 100644 model_graph/res_12_2_0_BN_1_bin_acc.png\n create mode 100644 model_graph/res_12_2_0_BN_1_loss.png\n create mode 100644 model_graph/res_12_2_0_BN_1_with_val.png\n create mode 100644 result_images/res_12_2_0_BN_1_linear.png\n create mode 100644 result_images/res_12_2_0_BN_1_linear_test.png\n create mode 100644 result_images/res_12_2_0_BN_1_over03.png\n create mode 100644 result_images/res_12_2_0_BN_1_over03_test.png\n"
    }
   ],
   "source": [
    "!git pull\n",
    "%autoreload"
   ]
  },
  {
   "cell_type": "code",
   "execution_count": 8,
   "metadata": {},
   "outputs": [],
   "source": [
    "from model_trainer import run_training\n",
    "from adipose_models import *\n",
    "from model_lr import *"
   ]
  },
  {
   "cell_type": "code",
   "execution_count": 9,
   "metadata": {},
   "outputs": [],
   "source": [
    "model_f = res_12_2_0_BN\n",
    "lr_f = lr_step5\n",
    "name = 'res_12_2_0_BN_2'\n",
    "epochs = 100\n",
    "mixed_float = True"
   ]
  },
  {
   "cell_type": "code",
   "execution_count": 10,
   "metadata": {
    "tags": []
   },
   "outputs": [
    {
     "output_type": "stream",
     "name": "stdout",
     "text": "INFO:tensorflow:Mixed precision compatibility check (mixed_float16): OK\nYour GPU will likely run quickly with dtype policy mixed_float16 as it has compute capability of at least 7.0. Your GPU: GeForce RTX 2070 SUPER, compute capability 7.5\nPhysical devices cannot be modified after being initialized\nModel: \"functional_1\"\n__________________________________________________________________________________________________\nLayer (type)                    Output Shape         Param #     Connected to\n==================================================================================================\ninput_1 (InputLayer)            [(None, 200, 200, 3) 0\n__________________________________________________________________________________________________\nconv2d_1 (Conv2D)               (None, 200, 200, 32) 896         input_1[0][0]\n__________________________________________________________________________________________________\nconv2d_2 (Conv2D)               (None, 200, 200, 32) 9248        conv2d_1[0][0]\n__________________________________________________________________________________________________\nconv2d (Conv2D)                 (None, 200, 200, 32) 128         input_1[0][0]\n__________________________________________________________________________________________________\ntf_op_layer_AddV2 (TensorFlowOp [(None, 200, 200, 32 0           conv2d_2[0][0]\n                                                                 conv2d[0][0]\n__________________________________________________________________________________________________\nbatch_normalization (BatchNorma (None, 200, 200, 32) 128         tf_op_layer_AddV2[0][0]\n__________________________________________________________________________________________________\nre_lu (ReLU)                    (None, 200, 200, 32) 0           batch_normalization[0][0]\n__________________________________________________________________________________________________\nconv2d_3 (Conv2D)               (None, 200, 200, 32) 9248        re_lu[0][0]\n__________________________________________________________________________________________________\nconv2d_4 (Conv2D)               (None, 200, 200, 32) 9248        conv2d_3[0][0]\n__________________________________________________________________________________________________\ntf_op_layer_AddV2_1 (TensorFlow [(None, 200, 200, 32 0           conv2d_4[0][0]\n                                                                 re_lu[0][0]\n__________________________________________________________________________________________________\nbatch_normalization_1 (BatchNor (None, 200, 200, 32) 128         tf_op_layer_AddV2_1[0][0]\n__________________________________________________________________________________________________\nre_lu_1 (ReLU)                  (None, 200, 200, 32) 0           batch_normalization_1[0][0]\n__________________________________________________________________________________________________\nconv2d_5 (Conv2D)               (None, 200, 200, 32) 9248        re_lu_1[0][0]\n__________________________________________________________________________________________________\nconv2d_6 (Conv2D)               (None, 200, 200, 32) 9248        conv2d_5[0][0]\n__________________________________________________________________________________________________\ntf_op_layer_AddV2_2 (TensorFlow [(None, 200, 200, 32 0           conv2d_6[0][0]\n                                                                 re_lu_1[0][0]\n__________________________________________________________________________________________________\nbatch_normalization_2 (BatchNor (None, 200, 200, 32) 128         tf_op_layer_AddV2_2[0][0]\n__________________________________________________________________________________________________\nre_lu_2 (ReLU)                  (None, 200, 200, 32) 0           batch_normalization_2[0][0]\n__________________________________________________________________________________________________\nconv2d_7 (Conv2D)               (None, 200, 200, 32) 9248        re_lu_2[0][0]\n__________________________________________________________________________________________________\nconv2d_8 (Conv2D)               (None, 200, 200, 32) 9248        conv2d_7[0][0]\n__________________________________________________________________________________________________\ntf_op_layer_AddV2_3 (TensorFlow [(None, 200, 200, 32 0           conv2d_8[0][0]\n                                                                 re_lu_2[0][0]\n__________________________________________________________________________________________________\nbatch_normalization_3 (BatchNor (None, 200, 200, 32) 128         tf_op_layer_AddV2_3[0][0]\n__________________________________________________________________________________________________\nre_lu_3 (ReLU)                  (None, 200, 200, 32) 0           batch_normalization_3[0][0]\n__________________________________________________________________________________________________\nconv2d_9 (Conv2D)               (None, 200, 200, 32) 9248        re_lu_3[0][0]\n__________________________________________________________________________________________________\nconv2d_10 (Conv2D)              (None, 200, 200, 32) 9248        conv2d_9[0][0]\n__________________________________________________________________________________________________\ntf_op_layer_AddV2_4 (TensorFlow [(None, 200, 200, 32 0           conv2d_10[0][0]\n                                                                 re_lu_3[0][0]\n__________________________________________________________________________________________________\nbatch_normalization_4 (BatchNor (None, 200, 200, 32) 128         tf_op_layer_AddV2_4[0][0]\n__________________________________________________________________________________________________\nre_lu_4 (ReLU)                  (None, 200, 200, 32) 0           batch_normalization_4[0][0]\n__________________________________________________________________________________________________\nconv2d_11 (Conv2D)              (None, 200, 200, 32) 9248        re_lu_4[0][0]\n__________________________________________________________________________________________________\nconv2d_12 (Conv2D)              (None, 200, 200, 32) 9248        conv2d_11[0][0]\n__________________________________________________________________________________________________\ntf_op_layer_AddV2_5 (TensorFlow [(None, 200, 200, 32 0           conv2d_12[0][0]\n                                                                 re_lu_4[0][0]\n__________________________________________________________________________________________________\nbatch_normalization_5 (BatchNor (None, 200, 200, 32) 128         tf_op_layer_AddV2_5[0][0]\n__________________________________________________________________________________________________\nre_lu_5 (ReLU)                  (None, 200, 200, 32) 0           batch_normalization_5[0][0]\n__________________________________________________________________________________________________\nconv2d_13 (Conv2D)              (None, 200, 200, 32) 9248        re_lu_5[0][0]\n__________________________________________________________________________________________________\nconv2d_14 (Conv2D)              (None, 200, 200, 32) 9248        conv2d_13[0][0]\n__________________________________________________________________________________________________\ntf_op_layer_AddV2_6 (TensorFlow [(None, 200, 200, 32 0           conv2d_14[0][0]\n                                                                 re_lu_5[0][0]\n__________________________________________________________________________________________________\nbatch_normalization_6 (BatchNor (None, 200, 200, 32) 128         tf_op_layer_AddV2_6[0][0]\n__________________________________________________________________________________________________\nre_lu_6 (ReLU)                  (None, 200, 200, 32) 0           batch_normalization_6[0][0]\n__________________________________________________________________________________________________\nconv2d_15 (Conv2D)              (None, 200, 200, 32) 9248        re_lu_6[0][0]\n__________________________________________________________________________________________________\nconv2d_16 (Conv2D)              (None, 200, 200, 32) 9248        conv2d_15[0][0]\n__________________________________________________________________________________________________\ntf_op_layer_AddV2_7 (TensorFlow [(None, 200, 200, 32 0           conv2d_16[0][0]\n                                                                 re_lu_6[0][0]\n__________________________________________________________________________________________________\nbatch_normalization_7 (BatchNor (None, 200, 200, 32) 128         tf_op_layer_AddV2_7[0][0]\n__________________________________________________________________________________________________\nre_lu_7 (ReLU)                  (None, 200, 200, 32) 0           batch_normalization_7[0][0]\n__________________________________________________________________________________________________\nconv2d_17 (Conv2D)              (None, 200, 200, 32) 9248        re_lu_7[0][0]\n__________________________________________________________________________________________________\nconv2d_18 (Conv2D)              (None, 200, 200, 32) 9248        conv2d_17[0][0]\n__________________________________________________________________________________________________\ntf_op_layer_AddV2_8 (TensorFlow [(None, 200, 200, 32 0           conv2d_18[0][0]\n                                                                 re_lu_7[0][0]\n__________________________________________________________________________________________________\nbatch_normalization_8 (BatchNor (None, 200, 200, 32) 128         tf_op_layer_AddV2_8[0][0]\n__________________________________________________________________________________________________\nre_lu_8 (ReLU)                  (None, 200, 200, 32) 0           batch_normalization_8[0][0]\n__________________________________________________________________________________________________\nconv2d_19 (Conv2D)              (None, 200, 200, 32) 9248        re_lu_8[0][0]\n__________________________________________________________________________________________________\nconv2d_20 (Conv2D)              (None, 200, 200, 32) 9248        conv2d_19[0][0]\n__________________________________________________________________________________________________\ntf_op_layer_AddV2_9 (TensorFlow [(None, 200, 200, 32 0           conv2d_20[0][0]\n                                                                 re_lu_8[0][0]\n__________________________________________________________________________________________________\nbatch_normalization_9 (BatchNor (None, 200, 200, 32) 128         tf_op_layer_AddV2_9[0][0]\n__________________________________________________________________________________________________\nre_lu_9 (ReLU)                  (None, 200, 200, 32) 0           batch_normalization_9[0][0]\n__________________________________________________________________________________________________\nconv2d_21 (Conv2D)              (None, 200, 200, 32) 9248        re_lu_9[0][0]\n__________________________________________________________________________________________________\nconv2d_22 (Conv2D)              (None, 200, 200, 32) 9248        conv2d_21[0][0]\n__________________________________________________________________________________________________\ntf_op_layer_AddV2_10 (TensorFlo [(None, 200, 200, 32 0           conv2d_22[0][0]\n                                                                 re_lu_9[0][0]\n__________________________________________________________________________________________________\nbatch_normalization_10 (BatchNo (None, 200, 200, 32) 128         tf_op_layer_AddV2_10[0][0]\n__________________________________________________________________________________________________\nre_lu_10 (ReLU)                 (None, 200, 200, 32) 0           batch_normalization_10[0][0]\n__________________________________________________________________________________________________\nconv2d_23 (Conv2D)              (None, 200, 200, 32) 9248        re_lu_10[0][0]\n__________________________________________________________________________________________________\nconv2d_24 (Conv2D)              (None, 200, 200, 32) 9248        conv2d_23[0][0]\n__________________________________________________________________________________________________\ntf_op_layer_AddV2_11 (TensorFlo [(None, 200, 200, 32 0           conv2d_24[0][0]\n                                                                 re_lu_10[0][0]\n__________________________________________________________________________________________________\nbatch_normalization_11 (BatchNo (None, 200, 200, 32) 128         tf_op_layer_AddV2_11[0][0]\n__________________________________________________________________________________________________\nre_lu_11 (ReLU)                 (None, 200, 200, 32) 0           batch_normalization_11[0][0]\n__________________________________________________________________________________________________\nconv2d_25 (Conv2D)              (None, 200, 200, 1)  289         re_lu_11[0][0]\n__________________________________________________________________________________________________\ntf_op_layer_Squeeze (TensorFlow [(None, 200, 200)]   0           conv2d_25[0][0]\n__________________________________________________________________________________________________\nactivation (Activation)         (None, 200, 200)     0           tf_op_layer_Squeeze[0][0]\n==================================================================================================\nTotal params: 215,553\nTrainable params: 214,785\nNon-trainable params: 768\n__________________________________________________________________________________________________\n"
    },
    {
     "output_type": "display_data",
     "data": {
      "text/plain": "HBox(children=(FloatProgress(value=0.0, description='Training', layout=Layout(flex='2'), style=ProgressStyle(d…",
      "application/vnd.jupyter.widget-view+json": {
       "version_major": 2,
       "version_minor": 0,
       "model_id": "ac94bfe5bb1441a09fc84a0790858a13"
      }
     },
     "metadata": {}
    },
    {
     "output_type": "stream",
     "name": "stdout",
     "text": "\nEpoch 00001: LearningRateScheduler reducing learning rate to 0.001.\n"
    },
    {
     "output_type": "display_data",
     "data": {
      "text/plain": "HBox(children=(FloatProgress(value=0.0, description='Epoch 0', layout=Layout(flex='2'), max=38.0, style=Progre…",
      "application/vnd.jupyter.widget-view+json": {
       "version_major": 2,
       "version_minor": 0,
       "model_id": "ce1c2fb3c7e848c8a5a38320c46cde81"
      }
     },
     "metadata": {}
    },
    {
     "output_type": "stream",
     "name": "stdout",
     "text": "WARNING:tensorflow:From /home/jaentrouble/adipose_train2/env/lib/python3.7/site-packages/tensorflow/python/ops/summary_ops_v2.py:1277: stop (from tensorflow.python.eager.profiler) is deprecated and will be removed after 2020-07-01.\nInstructions for updating:\nuse `tf.profiler.experimental.stop` instead.\n\nEpoch 00001: saving model to savedmodels/res_12_2_0_BN_2/1\nloss:0.5551552176475525, binary_accuracy:0.7322898507118225, val_loss:0.6931471824645996, val_binary_accuracy:0.6808908581733704, lr:0.001\n\nEpoch 00002: LearningRateScheduler reducing learning rate to 0.002.\n"
    },
    {
     "output_type": "display_data",
     "data": {
      "text/plain": "HBox(children=(FloatProgress(value=0.0, description='Epoch 1', layout=Layout(flex='2'), max=38.0, style=Progre…",
      "application/vnd.jupyter.widget-view+json": {
       "version_major": 2,
       "version_minor": 0,
       "model_id": "a74f3a1004ae4b8a954c7ba2696443bc"
      }
     },
     "metadata": {}
    },
    {
     "output_type": "stream",
     "name": "stdout",
     "text": "\nEpoch 00002: saving model to savedmodels/res_12_2_0_BN_2/2\nloss:0.43301549553871155, binary_accuracy:0.7435668110847473, val_loss:0.6931471824645996, val_binary_accuracy:0.6808908581733704, lr:0.002\n\nEpoch 00003: LearningRateScheduler reducing learning rate to 0.003.\n"
    },
    {
     "output_type": "display_data",
     "data": {
      "text/plain": "HBox(children=(FloatProgress(value=0.0, description='Epoch 2', layout=Layout(flex='2'), max=38.0, style=Progre…",
      "application/vnd.jupyter.widget-view+json": {
       "version_major": 2,
       "version_minor": 0,
       "model_id": "94170b3d77c64d42bc01e59fca2d3c90"
      }
     },
     "metadata": {}
    },
    {
     "output_type": "stream",
     "name": "stdout",
     "text": "\nEpoch 00003: saving model to savedmodels/res_12_2_0_BN_2/3\nloss:0.361704021692276, binary_accuracy:0.7869457602500916, val_loss:0.6931471824645996, val_binary_accuracy:0.6808908581733704, lr:0.003\n\nEpoch 00004: LearningRateScheduler reducing learning rate to 0.004.\n"
    },
    {
     "output_type": "display_data",
     "data": {
      "text/plain": "HBox(children=(FloatProgress(value=0.0, description='Epoch 3', layout=Layout(flex='2'), max=38.0, style=Progre…",
      "application/vnd.jupyter.widget-view+json": {
       "version_major": 2,
       "version_minor": 0,
       "model_id": "0ac83b4492ec4ff09225fe641a34e2b1"
      }
     },
     "metadata": {}
    },
    {
     "output_type": "stream",
     "name": "stdout",
     "text": "\nEpoch 00004: saving model to savedmodels/res_12_2_0_BN_2/4\nloss:0.35171782970428467, binary_accuracy:0.7953832149505615, val_loss:0.6931473016738892, val_binary_accuracy:0.6808908581733704, lr:0.004\n\nEpoch 00005: LearningRateScheduler reducing learning rate to 0.005.\n"
    },
    {
     "output_type": "display_data",
     "data": {
      "text/plain": "HBox(children=(FloatProgress(value=0.0, description='Epoch 4', layout=Layout(flex='2'), max=38.0, style=Progre…",
      "application/vnd.jupyter.widget-view+json": {
       "version_major": 2,
       "version_minor": 0,
       "model_id": "c2863b90342d4eef97f19d38e4e20cbb"
      }
     },
     "metadata": {}
    },
    {
     "output_type": "stream",
     "name": "stdout",
     "text": "\nEpoch 00005: saving model to savedmodels/res_12_2_0_BN_2/5\nloss:0.347017765045166, binary_accuracy:0.800424337387085, val_loss:0.6931473016738892, val_binary_accuracy:0.6808908581733704, lr:0.005\n\nEpoch 00006: LearningRateScheduler reducing learning rate to 0.006.\n"
    },
    {
     "output_type": "display_data",
     "data": {
      "text/plain": "HBox(children=(FloatProgress(value=0.0, description='Epoch 5', layout=Layout(flex='2'), max=38.0, style=Progre…",
      "application/vnd.jupyter.widget-view+json": {
       "version_major": 2,
       "version_minor": 0,
       "model_id": "a3f389f80863431c82f8d40709adb29b"
      }
     },
     "metadata": {}
    },
    {
     "output_type": "stream",
     "name": "stdout",
     "text": "\nEpoch 00006: saving model to savedmodels/res_12_2_0_BN_2/6\nloss:0.35186517238616943, binary_accuracy:0.7964494228363037, val_loss:0.6931471824645996, val_binary_accuracy:0.6808908581733704, lr:0.006\n\nEpoch 00007: LearningRateScheduler reducing learning rate to 0.007.\n"
    },
    {
     "output_type": "display_data",
     "data": {
      "text/plain": "HBox(children=(FloatProgress(value=0.0, description='Epoch 6', layout=Layout(flex='2'), max=38.0, style=Progre…",
      "application/vnd.jupyter.widget-view+json": {
       "version_major": 2,
       "version_minor": 0,
       "model_id": "767973ee3046498fa077db1ae2354ced"
      }
     },
     "metadata": {}
    },
    {
     "output_type": "stream",
     "name": "stdout",
     "text": "\nEpoch 00007: saving model to savedmodels/res_12_2_0_BN_2/7\nloss:0.3451119065284729, binary_accuracy:0.7989351153373718, val_loss:0.6931473612785339, val_binary_accuracy:0.6808908581733704, lr:0.007\n\nEpoch 00008: LearningRateScheduler reducing learning rate to 0.008.\n"
    },
    {
     "output_type": "display_data",
     "data": {
      "text/plain": "HBox(children=(FloatProgress(value=0.0, description='Epoch 7', layout=Layout(flex='2'), max=38.0, style=Progre…",
      "application/vnd.jupyter.widget-view+json": {
       "version_major": 2,
       "version_minor": 0,
       "model_id": "47735ac9e1304eb192963cf63c3f1116"
      }
     },
     "metadata": {}
    },
    {
     "output_type": "stream",
     "name": "stdout",
     "text": "\nEpoch 00008: saving model to savedmodels/res_12_2_0_BN_2/8\nloss:0.34001851081848145, binary_accuracy:0.8036885857582092, val_loss:0.6931820511817932, val_binary_accuracy:0.6808906197547913, lr:0.008\n\nEpoch 00009: LearningRateScheduler reducing learning rate to 0.009000000000000001.\n"
    },
    {
     "output_type": "display_data",
     "data": {
      "text/plain": "HBox(children=(FloatProgress(value=0.0, description='Epoch 8', layout=Layout(flex='2'), max=38.0, style=Progre…",
      "application/vnd.jupyter.widget-view+json": {
       "version_major": 2,
       "version_minor": 0,
       "model_id": "0de72050803f4303ace3054113205819"
      }
     },
     "metadata": {}
    },
    {
     "output_type": "stream",
     "name": "stdout",
     "text": "\nEpoch 00009: saving model to savedmodels/res_12_2_0_BN_2/9\nloss:0.3494577407836914, binary_accuracy:0.7991536855697632, val_loss:0.693147599697113, val_binary_accuracy:0.6808908581733704, lr:0.009\n\nEpoch 00010: LearningRateScheduler reducing learning rate to 0.01.\n"
    },
    {
     "output_type": "display_data",
     "data": {
      "text/plain": "HBox(children=(FloatProgress(value=0.0, description='Epoch 9', layout=Layout(flex='2'), max=38.0, style=Progre…",
      "application/vnd.jupyter.widget-view+json": {
       "version_major": 2,
       "version_minor": 0,
       "model_id": "c36d4224751f49fbab9ff680e8c197fd"
      }
     },
     "metadata": {}
    },
    {
     "output_type": "stream",
     "name": "stdout",
     "text": "\nEpoch 00010: saving model to savedmodels/res_12_2_0_BN_2/10\nloss:0.360037624835968, binary_accuracy:0.7780258059501648, val_loss:0.6931471824645996, val_binary_accuracy:0.6808908581733704, lr:0.01\n\nEpoch 00011: LearningRateScheduler reducing learning rate to 0.011.\n"
    },
    {
     "output_type": "display_data",
     "data": {
      "text/plain": "HBox(children=(FloatProgress(value=0.0, description='Epoch 10', layout=Layout(flex='2'), max=38.0, style=Progr…",
      "application/vnd.jupyter.widget-view+json": {
       "version_major": 2,
       "version_minor": 0,
       "model_id": "7c36255da10841f9a0d493dceb38e6c1"
      }
     },
     "metadata": {}
    },
    {
     "output_type": "stream",
     "name": "stdout",
     "text": "\nEpoch 00011: saving model to savedmodels/res_12_2_0_BN_2/11\nloss:0.39371588826179504, binary_accuracy:0.7409557700157166, val_loss:nan, val_binary_accuracy:0.6808876395225525, lr:0.011\n\nEpoch 00012: LearningRateScheduler reducing learning rate to 0.01.\n"
    },
    {
     "output_type": "display_data",
     "data": {
      "text/plain": "HBox(children=(FloatProgress(value=0.0, description='Epoch 11', layout=Layout(flex='2'), max=38.0, style=Progr…",
      "application/vnd.jupyter.widget-view+json": {
       "version_major": 2,
       "version_minor": 0,
       "model_id": "0344fa490bac4dae8051de809bd13c0b"
      }
     },
     "metadata": {}
    },
    {
     "output_type": "stream",
     "name": "stdout",
     "text": "\nEpoch 00012: saving model to savedmodels/res_12_2_0_BN_2/12\nloss:0.38666483759880066, binary_accuracy:0.7434759140014648, val_loss:0.6931471824645996, val_binary_accuracy:0.6808908581733704, lr:0.01\n\nEpoch 00013: LearningRateScheduler reducing learning rate to 0.01.\n"
    },
    {
     "output_type": "display_data",
     "data": {
      "text/plain": "HBox(children=(FloatProgress(value=0.0, description='Epoch 12', layout=Layout(flex='2'), max=38.0, style=Progr…",
      "application/vnd.jupyter.widget-view+json": {
       "version_major": 2,
       "version_minor": 0,
       "model_id": "7430a2bcb9ee4bb7aee7441c9bdb2dca"
      }
     },
     "metadata": {}
    },
    {
     "output_type": "stream",
     "name": "stdout",
     "text": "\nEpoch 00013: saving model to savedmodels/res_12_2_0_BN_2/13\nloss:0.382231205701828, binary_accuracy:0.7461293339729309, val_loss:0.6931471824645996, val_binary_accuracy:0.6808908581733704, lr:0.01\n\nEpoch 00014: LearningRateScheduler reducing learning rate to 0.01.\n"
    },
    {
     "output_type": "display_data",
     "data": {
      "text/plain": "HBox(children=(FloatProgress(value=0.0, description='Epoch 13', layout=Layout(flex='2'), max=38.0, style=Progr…",
      "application/vnd.jupyter.widget-view+json": {
       "version_major": 2,
       "version_minor": 0,
       "model_id": "454abca0b64d4f1385977925f4d6cac6"
      }
     },
     "metadata": {}
    },
    {
     "output_type": "stream",
     "name": "stdout",
     "text": "\nEpoch 00014: saving model to savedmodels/res_12_2_0_BN_2/14\nloss:0.3792196810245514, binary_accuracy:0.7556005716323853, val_loss:0.6931471824645996, val_binary_accuracy:0.6808908581733704, lr:0.01\n\nEpoch 00015: LearningRateScheduler reducing learning rate to 0.01.\n"
    },
    {
     "output_type": "display_data",
     "data": {
      "text/plain": "HBox(children=(FloatProgress(value=0.0, description='Epoch 14', layout=Layout(flex='2'), max=38.0, style=Progr…",
      "application/vnd.jupyter.widget-view+json": {
       "version_major": 2,
       "version_minor": 0,
       "model_id": "f029cf80c90f4f608b15d287bc70cf9e"
      }
     },
     "metadata": {}
    },
    {
     "output_type": "stream",
     "name": "stdout",
     "text": "\nEpoch 00015: saving model to savedmodels/res_12_2_0_BN_2/15\nloss:0.34850013256073, binary_accuracy:0.7971268892288208, val_loss:0.7501751184463501, val_binary_accuracy:0.5756635665893555, lr:0.01\n\nEpoch 00016: LearningRateScheduler reducing learning rate to 0.01.\n"
    },
    {
     "output_type": "display_data",
     "data": {
      "text/plain": "HBox(children=(FloatProgress(value=0.0, description='Epoch 15', layout=Layout(flex='2'), max=38.0, style=Progr…",
      "application/vnd.jupyter.widget-view+json": {
       "version_major": 2,
       "version_minor": 0,
       "model_id": "cb01fa63eff64ec8bdb6855530a99c6f"
      }
     },
     "metadata": {}
    },
    {
     "output_type": "stream",
     "name": "stdout",
     "text": "\nEpoch 00016: saving model to savedmodels/res_12_2_0_BN_2/16\nloss:0.3432578146457672, binary_accuracy:0.8021004796028137, val_loss:0.7563261389732361, val_binary_accuracy:0.6499406099319458, lr:0.01\n\nEpoch 00017: LearningRateScheduler reducing learning rate to 0.01.\n"
    },
    {
     "output_type": "display_data",
     "data": {
      "text/plain": "HBox(children=(FloatProgress(value=0.0, description='Epoch 16', layout=Layout(flex='2'), max=38.0, style=Progr…",
      "application/vnd.jupyter.widget-view+json": {
       "version_major": 2,
       "version_minor": 0,
       "model_id": "15f27e55f68f4ac78d5f40620974d404"
      }
     },
     "metadata": {}
    },
    {
     "output_type": "stream",
     "name": "stdout",
     "text": "\nEpoch 00017: saving model to savedmodels/res_12_2_0_BN_2/17\nloss:0.34200990200042725, binary_accuracy:0.8030171990394592, val_loss:0.7298901081085205, val_binary_accuracy:0.604302167892456, lr:0.01\n\nEpoch 00018: LearningRateScheduler reducing learning rate to 0.01.\n"
    },
    {
     "output_type": "display_data",
     "data": {
      "text/plain": "HBox(children=(FloatProgress(value=0.0, description='Epoch 17', layout=Layout(flex='2'), max=38.0, style=Progr…",
      "application/vnd.jupyter.widget-view+json": {
       "version_major": 2,
       "version_minor": 0,
       "model_id": "c91bae8ba15047be8536f2b8e08fb393"
      }
     },
     "metadata": {}
    },
    {
     "output_type": "stream",
     "name": "stdout",
     "text": "\nEpoch 00018: saving model to savedmodels/res_12_2_0_BN_2/18\nloss:0.3389469385147095, binary_accuracy:0.8040668368339539, val_loss:0.7422340512275696, val_binary_accuracy:0.5181118249893188, lr:0.01\n\nEpoch 00019: LearningRateScheduler reducing learning rate to 0.01.\n"
    },
    {
     "output_type": "display_data",
     "data": {
      "text/plain": "HBox(children=(FloatProgress(value=0.0, description='Epoch 18', layout=Layout(flex='2'), max=38.0, style=Progr…",
      "application/vnd.jupyter.widget-view+json": {
       "version_major": 2,
       "version_minor": 0,
       "model_id": "3c6d7ce64a714866a9474ab1b59a3035"
      }
     },
     "metadata": {}
    },
    {
     "output_type": "stream",
     "name": "stdout",
     "text": "\nEpoch 00019: saving model to savedmodels/res_12_2_0_BN_2/19\nloss:0.3386678099632263, binary_accuracy:0.8040046691894531, val_loss:0.699872612953186, val_binary_accuracy:0.6836744546890259, lr:0.01\n\nEpoch 00020: LearningRateScheduler reducing learning rate to 0.01.\n"
    },
    {
     "output_type": "display_data",
     "data": {
      "text/plain": "HBox(children=(FloatProgress(value=0.0, description='Epoch 19', layout=Layout(flex='2'), max=38.0, style=Progr…",
      "application/vnd.jupyter.widget-view+json": {
       "version_major": 2,
       "version_minor": 0,
       "model_id": "db5198debd194080a1a03e32d2cc440f"
      }
     },
     "metadata": {}
    },
    {
     "output_type": "stream",
     "name": "stdout",
     "text": "\nEpoch 00020: saving model to savedmodels/res_12_2_0_BN_2/20\nloss:0.337383896112442, binary_accuracy:0.8054620623588562, val_loss:0.7075331211090088, val_binary_accuracy:0.6039857864379883, lr:0.01\n\nEpoch 00021: LearningRateScheduler reducing learning rate to 0.01.\n"
    },
    {
     "output_type": "display_data",
     "data": {
      "text/plain": "HBox(children=(FloatProgress(value=0.0, description='Epoch 20', layout=Layout(flex='2'), max=38.0, style=Progr…",
      "application/vnd.jupyter.widget-view+json": {
       "version_major": 2,
       "version_minor": 0,
       "model_id": "de4366ec0cc04c07bc5e9a9623944b04"
      }
     },
     "metadata": {}
    },
    {
     "output_type": "stream",
     "name": "stdout",
     "text": "\nEpoch 00021: saving model to savedmodels/res_12_2_0_BN_2/21\nloss:0.33659112453460693, binary_accuracy:0.805770754814148, val_loss:0.749549150466919, val_binary_accuracy:0.43468230962753296, lr:0.01\n\nEpoch 00022: LearningRateScheduler reducing learning rate to 0.005.\n"
    },
    {
     "output_type": "display_data",
     "data": {
      "text/plain": "HBox(children=(FloatProgress(value=0.0, description='Epoch 21', layout=Layout(flex='2'), max=38.0, style=Progr…",
      "application/vnd.jupyter.widget-view+json": {
       "version_major": 2,
       "version_minor": 0,
       "model_id": "13eb931ec79540ef9c78a3899e431e7a"
      }
     },
     "metadata": {}
    },
    {
     "output_type": "stream",
     "name": "stdout",
     "text": "\nEpoch 00022: saving model to savedmodels/res_12_2_0_BN_2/22\nloss:0.3358761966228485, binary_accuracy:0.8062634468078613, val_loss:0.6918420195579529, val_binary_accuracy:0.7153357863426208, lr:0.005\n\nEpoch 00023: LearningRateScheduler reducing learning rate to 0.005.\n"
    },
    {
     "output_type": "display_data",
     "data": {
      "text/plain": "HBox(children=(FloatProgress(value=0.0, description='Epoch 22', layout=Layout(flex='2'), max=38.0, style=Progr…",
      "application/vnd.jupyter.widget-view+json": {
       "version_major": 2,
       "version_minor": 0,
       "model_id": "b905bf4cdb294d34956730bcac3add3e"
      }
     },
     "metadata": {}
    },
    {
     "output_type": "stream",
     "name": "stdout",
     "text": "\nEpoch 00023: saving model to savedmodels/res_12_2_0_BN_2/23\nloss:0.33336108922958374, binary_accuracy:0.8078976273536682, val_loss:0.6947921514511108, val_binary_accuracy:0.6754701733589172, lr:0.005\n\nEpoch 00024: LearningRateScheduler reducing learning rate to 0.005.\n"
    },
    {
     "output_type": "display_data",
     "data": {
      "text/plain": "HBox(children=(FloatProgress(value=0.0, description='Epoch 23', layout=Layout(flex='2'), max=38.0, style=Progr…",
      "application/vnd.jupyter.widget-view+json": {
       "version_major": 2,
       "version_minor": 0,
       "model_id": "41db7915c0cf4f6cb2651a23d14d147a"
      }
     },
     "metadata": {}
    },
    {
     "output_type": "stream",
     "name": "stdout",
     "text": "\nEpoch 00024: saving model to savedmodels/res_12_2_0_BN_2/24\nloss:0.3328479528427124, binary_accuracy:0.8084637522697449, val_loss:0.6934455037117004, val_binary_accuracy:0.6747432947158813, lr:0.005\n\nEpoch 00025: LearningRateScheduler reducing learning rate to 0.005.\n"
    },
    {
     "output_type": "display_data",
     "data": {
      "text/plain": "HBox(children=(FloatProgress(value=0.0, description='Epoch 24', layout=Layout(flex='2'), max=38.0, style=Progr…",
      "application/vnd.jupyter.widget-view+json": {
       "version_major": 2,
       "version_minor": 0,
       "model_id": "4aa1d539fd034a33b67622e801091fff"
      }
     },
     "metadata": {}
    },
    {
     "output_type": "stream",
     "name": "stdout",
     "text": "\nEpoch 00025: saving model to savedmodels/res_12_2_0_BN_2/25\nloss:0.33238765597343445, binary_accuracy:0.8089883923530579, val_loss:0.6881017088890076, val_binary_accuracy:0.7209632992744446, lr:0.005\n\nEpoch 00026: LearningRateScheduler reducing learning rate to 0.005.\n"
    },
    {
     "output_type": "display_data",
     "data": {
      "text/plain": "HBox(children=(FloatProgress(value=0.0, description='Epoch 25', layout=Layout(flex='2'), max=38.0, style=Progr…",
      "application/vnd.jupyter.widget-view+json": {
       "version_major": 2,
       "version_minor": 0,
       "model_id": "2576029067c34480980421cccfe943fa"
      }
     },
     "metadata": {}
    },
    {
     "output_type": "stream",
     "name": "stdout",
     "text": "\nEpoch 00026: saving model to savedmodels/res_12_2_0_BN_2/26\nloss:0.3320133686065674, binary_accuracy:0.8088186383247375, val_loss:0.7064508199691772, val_binary_accuracy:0.6267775297164917, lr:0.005\n\nEpoch 00027: LearningRateScheduler reducing learning rate to 0.005.\n"
    },
    {
     "output_type": "display_data",
     "data": {
      "text/plain": "HBox(children=(FloatProgress(value=0.0, description='Epoch 26', layout=Layout(flex='2'), max=38.0, style=Progr…",
      "application/vnd.jupyter.widget-view+json": {
       "version_major": 2,
       "version_minor": 0,
       "model_id": "ed014f2d4c08430bb5dab18fef2d8ab9"
      }
     },
     "metadata": {}
    },
    {
     "output_type": "stream",
     "name": "stdout",
     "text": "\nEpoch 00027: saving model to savedmodels/res_12_2_0_BN_2/27\nloss:0.33149993419647217, binary_accuracy:0.8088712096214294, val_loss:0.7085437774658203, val_binary_accuracy:0.6539595127105713, lr:0.005\n\nEpoch 00028: LearningRateScheduler reducing learning rate to 0.005.\n"
    },
    {
     "output_type": "display_data",
     "data": {
      "text/plain": "HBox(children=(FloatProgress(value=0.0, description='Epoch 27', layout=Layout(flex='2'), max=38.0, style=Progr…",
      "application/vnd.jupyter.widget-view+json": {
       "version_major": 2,
       "version_minor": 0,
       "model_id": "abf54e21c03b4088b56dcb5cb5b12fc7"
      }
     },
     "metadata": {}
    },
    {
     "output_type": "stream",
     "name": "stdout",
     "text": "\nEpoch 00028: saving model to savedmodels/res_12_2_0_BN_2/28\nloss:0.33047181367874146, binary_accuracy:0.8094515204429626, val_loss:0.7021225690841675, val_binary_accuracy:0.6666861176490784, lr:0.005\n\nEpoch 00029: LearningRateScheduler reducing learning rate to 0.005.\n"
    },
    {
     "output_type": "display_data",
     "data": {
      "text/plain": "HBox(children=(FloatProgress(value=0.0, description='Epoch 28', layout=Layout(flex='2'), max=38.0, style=Progr…",
      "application/vnd.jupyter.widget-view+json": {
       "version_major": 2,
       "version_minor": 0,
       "model_id": "ded57c5d38264eac93722fad3084120b"
      }
     },
     "metadata": {}
    },
    {
     "output_type": "stream",
     "name": "stdout",
     "text": "\nEpoch 00029: saving model to savedmodels/res_12_2_0_BN_2/29\nloss:0.33200448751449585, binary_accuracy:0.8077520728111267, val_loss:0.6925759315490723, val_binary_accuracy:0.6740188598632812, lr:0.005\n\nEpoch 00030: LearningRateScheduler reducing learning rate to 0.005.\n"
    },
    {
     "output_type": "display_data",
     "data": {
      "text/plain": "HBox(children=(FloatProgress(value=0.0, description='Epoch 29', layout=Layout(flex='2'), max=38.0, style=Progr…",
      "application/vnd.jupyter.widget-view+json": {
       "version_major": 2,
       "version_minor": 0,
       "model_id": "98293a2df8bd41b188e7211654c0c84d"
      }
     },
     "metadata": {}
    },
    {
     "output_type": "stream",
     "name": "stdout",
     "text": "\nEpoch 00030: saving model to savedmodels/res_12_2_0_BN_2/30\nloss:0.33062058687210083, binary_accuracy:0.8091229200363159, val_loss:0.6924693584442139, val_binary_accuracy:0.6814656853675842, lr:0.005\n\nEpoch 00031: LearningRateScheduler reducing learning rate to 0.005.\n"
    },
    {
     "output_type": "display_data",
     "data": {
      "text/plain": "HBox(children=(FloatProgress(value=0.0, description='Epoch 30', layout=Layout(flex='2'), max=38.0, style=Progr…",
      "application/vnd.jupyter.widget-view+json": {
       "version_major": 2,
       "version_minor": 0,
       "model_id": "17e72df7dd2c490b94b9c0aa37563282"
      }
     },
     "metadata": {}
    },
    {
     "output_type": "stream",
     "name": "stdout",
     "text": "\nEpoch 00031: saving model to savedmodels/res_12_2_0_BN_2/31\nloss:0.32936426997184753, binary_accuracy:0.8103054165840149, val_loss:0.76227867603302, val_binary_accuracy:0.47892633080482483, lr:0.005\n\nEpoch 00032: LearningRateScheduler reducing learning rate to 0.005.\n"
    },
    {
     "output_type": "display_data",
     "data": {
      "text/plain": "HBox(children=(FloatProgress(value=0.0, description='Epoch 31', layout=Layout(flex='2'), max=38.0, style=Progr…",
      "application/vnd.jupyter.widget-view+json": {
       "version_major": 2,
       "version_minor": 0,
       "model_id": "4c3e534dabcd40d4bafffe0fe1f6d467"
      }
     },
     "metadata": {}
    },
    {
     "output_type": "stream",
     "name": "stdout",
     "text": "\nEpoch 00032: saving model to savedmodels/res_12_2_0_BN_2/32\nloss:0.3307068347930908, binary_accuracy:0.8091991543769836, val_loss:0.8076068162918091, val_binary_accuracy:0.45967116951942444, lr:0.005\n\nEpoch 00033: LearningRateScheduler reducing learning rate to 0.005.\n"
    },
    {
     "output_type": "display_data",
     "data": {
      "text/plain": "HBox(children=(FloatProgress(value=0.0, description='Epoch 32', layout=Layout(flex='2'), max=38.0, style=Progr…",
      "application/vnd.jupyter.widget-view+json": {
       "version_major": 2,
       "version_minor": 0,
       "model_id": "5130b7c0886049698d9004a0c16b540f"
      }
     },
     "metadata": {}
    },
    {
     "output_type": "stream",
     "name": "stdout",
     "text": "\nEpoch 00033: saving model to savedmodels/res_12_2_0_BN_2/33\nloss:0.32943353056907654, binary_accuracy:0.8106328248977661, val_loss:0.6771107912063599, val_binary_accuracy:0.7760793566703796, lr:0.005\n\nEpoch 00034: LearningRateScheduler reducing learning rate to 0.005.\n"
    },
    {
     "output_type": "display_data",
     "data": {
      "text/plain": "HBox(children=(FloatProgress(value=0.0, description='Epoch 33', layout=Layout(flex='2'), max=38.0, style=Progr…",
      "application/vnd.jupyter.widget-view+json": {
       "version_major": 2,
       "version_minor": 0,
       "model_id": "9d913e9de683488292ba74c0a5fbb841"
      }
     },
     "metadata": {}
    },
    {
     "output_type": "stream",
     "name": "stdout",
     "text": "\nEpoch 00034: saving model to savedmodels/res_12_2_0_BN_2/34\nloss:0.3290948271751404, binary_accuracy:0.8106808066368103, val_loss:0.6911619901657104, val_binary_accuracy:0.7304797172546387, lr:0.005\n\nEpoch 00035: LearningRateScheduler reducing learning rate to 0.005.\n"
    },
    {
     "output_type": "display_data",
     "data": {
      "text/plain": "HBox(children=(FloatProgress(value=0.0, description='Epoch 34', layout=Layout(flex='2'), max=38.0, style=Progr…",
      "application/vnd.jupyter.widget-view+json": {
       "version_major": 2,
       "version_minor": 0,
       "model_id": "8c6a04f032ac46bf87ff208c128c3505"
      }
     },
     "metadata": {}
    },
    {
     "output_type": "stream",
     "name": "stdout",
     "text": "\nEpoch 00035: saving model to savedmodels/res_12_2_0_BN_2/35\nloss:0.32924196124076843, binary_accuracy:0.8113961219787598, val_loss:0.6869412064552307, val_binary_accuracy:0.7400228381156921, lr:0.005\n\nEpoch 00036: LearningRateScheduler reducing learning rate to 0.005.\n"
    },
    {
     "output_type": "display_data",
     "data": {
      "text/plain": "HBox(children=(FloatProgress(value=0.0, description='Epoch 35', layout=Layout(flex='2'), max=38.0, style=Progr…",
      "application/vnd.jupyter.widget-view+json": {
       "version_major": 2,
       "version_minor": 0,
       "model_id": "96ab12da77b54305a0017f3ee003377a"
      }
     },
     "metadata": {}
    },
    {
     "output_type": "stream",
     "name": "stdout",
     "text": "\nEpoch 00036: saving model to savedmodels/res_12_2_0_BN_2/36\nloss:0.32880598306655884, binary_accuracy:0.8110502362251282, val_loss:0.7499542832374573, val_binary_accuracy:0.510292649269104, lr:0.005\n\nEpoch 00037: LearningRateScheduler reducing learning rate to 0.005.\n"
    },
    {
     "output_type": "display_data",
     "data": {
      "text/plain": "HBox(children=(FloatProgress(value=0.0, description='Epoch 36', layout=Layout(flex='2'), max=38.0, style=Progr…",
      "application/vnd.jupyter.widget-view+json": {
       "version_major": 2,
       "version_minor": 0,
       "model_id": "374cb5b3cbb34566834bafd5b4da1632"
      }
     },
     "metadata": {}
    },
    {
     "output_type": "stream",
     "name": "stdout",
     "text": "\nEpoch 00037: saving model to savedmodels/res_12_2_0_BN_2/37\nloss:0.3277576267719269, binary_accuracy:0.8112497329711914, val_loss:0.6749703288078308, val_binary_accuracy:0.7699304819107056, lr:0.005\n\nEpoch 00038: LearningRateScheduler reducing learning rate to 0.005.\n"
    },
    {
     "output_type": "display_data",
     "data": {
      "text/plain": "HBox(children=(FloatProgress(value=0.0, description='Epoch 37', layout=Layout(flex='2'), max=38.0, style=Progr…",
      "application/vnd.jupyter.widget-view+json": {
       "version_major": 2,
       "version_minor": 0,
       "model_id": "9ff6e3c192d24d068005ed52582f5978"
      }
     },
     "metadata": {}
    },
    {
     "output_type": "stream",
     "name": "stdout",
     "text": "\nEpoch 00038: saving model to savedmodels/res_12_2_0_BN_2/38\nloss:0.32693979144096375, binary_accuracy:0.8140349984169006, val_loss:0.6940565705299377, val_binary_accuracy:0.6777017116546631, lr:0.005\n\nEpoch 00039: LearningRateScheduler reducing learning rate to 0.005.\n"
    },
    {
     "output_type": "display_data",
     "data": {
      "text/plain": "HBox(children=(FloatProgress(value=0.0, description='Epoch 38', layout=Layout(flex='2'), max=38.0, style=Progr…",
      "application/vnd.jupyter.widget-view+json": {
       "version_major": 2,
       "version_minor": 0,
       "model_id": "2edd48dbadfe4173b8576bcb6a2c9a71"
      }
     },
     "metadata": {}
    },
    {
     "output_type": "stream",
     "name": "stdout",
     "text": "\nEpoch 00039: saving model to savedmodels/res_12_2_0_BN_2/39\nloss:0.3271072506904602, binary_accuracy:0.813451886177063, val_loss:0.7380605340003967, val_binary_accuracy:0.49562084674835205, lr:0.005\n\nEpoch 00040: LearningRateScheduler reducing learning rate to 0.005.\n"
    },
    {
     "output_type": "display_data",
     "data": {
      "text/plain": "HBox(children=(FloatProgress(value=0.0, description='Epoch 39', layout=Layout(flex='2'), max=38.0, style=Progr…",
      "application/vnd.jupyter.widget-view+json": {
       "version_major": 2,
       "version_minor": 0,
       "model_id": "6d374c3e890341d2adf3e46fedcf5729"
      }
     },
     "metadata": {}
    },
    {
     "output_type": "stream",
     "name": "stdout",
     "text": "\nEpoch 00040: saving model to savedmodels/res_12_2_0_BN_2/40\nloss:0.32718512415885925, binary_accuracy:0.8133566975593567, val_loss:0.6847862005233765, val_binary_accuracy:0.7784040570259094, lr:0.005\n\nEpoch 00041: LearningRateScheduler reducing learning rate to 0.005.\n"
    },
    {
     "output_type": "display_data",
     "data": {
      "text/plain": "HBox(children=(FloatProgress(value=0.0, description='Epoch 40', layout=Layout(flex='2'), max=38.0, style=Progr…",
      "application/vnd.jupyter.widget-view+json": {
       "version_major": 2,
       "version_minor": 0,
       "model_id": "be37b7688d4949f6b3c7e0c9a238ac88"
      }
     },
     "metadata": {}
    },
    {
     "output_type": "stream",
     "name": "stdout",
     "text": "\nEpoch 00041: saving model to savedmodels/res_12_2_0_BN_2/41\nloss:0.3258732855319977, binary_accuracy:0.8145816922187805, val_loss:0.6729447841644287, val_binary_accuracy:0.8068285584449768, lr:0.005\n\nEpoch 00042: LearningRateScheduler reducing learning rate to 0.00495.\n"
    },
    {
     "output_type": "display_data",
     "data": {
      "text/plain": "HBox(children=(FloatProgress(value=0.0, description='Epoch 41', layout=Layout(flex='2'), max=38.0, style=Progr…",
      "application/vnd.jupyter.widget-view+json": {
       "version_major": 2,
       "version_minor": 0,
       "model_id": "c2a250d397cf48b6b5f9d6bb3e2eac74"
      }
     },
     "metadata": {}
    },
    {
     "output_type": "stream",
     "name": "stdout",
     "text": "\nEpoch 00042: saving model to savedmodels/res_12_2_0_BN_2/42\nloss:0.32633721828460693, binary_accuracy:0.8143979907035828, val_loss:0.6927633285522461, val_binary_accuracy:0.7434920072555542, lr:0.00495\n\nEpoch 00043: LearningRateScheduler reducing learning rate to 0.00495.\n"
    },
    {
     "output_type": "display_data",
     "data": {
      "text/plain": "HBox(children=(FloatProgress(value=0.0, description='Epoch 42', layout=Layout(flex='2'), max=38.0, style=Progr…",
      "application/vnd.jupyter.widget-view+json": {
       "version_major": 2,
       "version_minor": 0,
       "model_id": "45022820af0447be910224c70fe7729d"
      }
     },
     "metadata": {}
    },
    {
     "output_type": "stream",
     "name": "stdout",
     "text": "\nEpoch 00043: saving model to savedmodels/res_12_2_0_BN_2/43\nloss:0.3259631097316742, binary_accuracy:0.8143623471260071, val_loss:0.6745798587799072, val_binary_accuracy:0.772453784942627, lr:0.00495\n\nEpoch 00044: LearningRateScheduler reducing learning rate to 0.00495.\n"
    },
    {
     "output_type": "display_data",
     "data": {
      "text/plain": "HBox(children=(FloatProgress(value=0.0, description='Epoch 43', layout=Layout(flex='2'), max=38.0, style=Progr…",
      "application/vnd.jupyter.widget-view+json": {
       "version_major": 2,
       "version_minor": 0,
       "model_id": "0595555cf60c40a3a72e2848cfca1a77"
      }
     },
     "metadata": {}
    },
    {
     "output_type": "stream",
     "name": "stdout",
     "text": "\nEpoch 00044: saving model to savedmodels/res_12_2_0_BN_2/44\nloss:0.3243662714958191, binary_accuracy:0.8162402510643005, val_loss:0.6947640180587769, val_binary_accuracy:0.668540894985199, lr:0.00495\n\nEpoch 00045: LearningRateScheduler reducing learning rate to 0.00495.\n"
    },
    {
     "output_type": "display_data",
     "data": {
      "text/plain": "HBox(children=(FloatProgress(value=0.0, description='Epoch 44', layout=Layout(flex='2'), max=38.0, style=Progr…",
      "application/vnd.jupyter.widget-view+json": {
       "version_major": 2,
       "version_minor": 0,
       "model_id": "bd20f34ed2964df885a7c0ab64b8589d"
      }
     },
     "metadata": {}
    },
    {
     "output_type": "stream",
     "name": "stdout",
     "text": "\nEpoch 00045: saving model to savedmodels/res_12_2_0_BN_2/45\nloss:0.3232538104057312, binary_accuracy:0.8175187110900879, val_loss:0.6943497657775879, val_binary_accuracy:0.6763319373130798, lr:0.00495\n\nEpoch 00046: LearningRateScheduler reducing learning rate to 0.00495.\n"
    },
    {
     "output_type": "display_data",
     "data": {
      "text/plain": "HBox(children=(FloatProgress(value=0.0, description='Epoch 45', layout=Layout(flex='2'), max=38.0, style=Progr…",
      "application/vnd.jupyter.widget-view+json": {
       "version_major": 2,
       "version_minor": 0,
       "model_id": "c38062f2a0c94abaac47a955edc8bc90"
      }
     },
     "metadata": {}
    },
    {
     "output_type": "stream",
     "name": "stdout",
     "text": "\nEpoch 00046: saving model to savedmodels/res_12_2_0_BN_2/46\nloss:0.32442179322242737, binary_accuracy:0.8168827295303345, val_loss:0.673172652721405, val_binary_accuracy:0.78605717420578, lr:0.00495\n\nEpoch 00047: LearningRateScheduler reducing learning rate to 0.00495.\n"
    },
    {
     "output_type": "display_data",
     "data": {
      "text/plain": "HBox(children=(FloatProgress(value=0.0, description='Epoch 46', layout=Layout(flex='2'), max=38.0, style=Progr…",
      "application/vnd.jupyter.widget-view+json": {
       "version_major": 2,
       "version_minor": 0,
       "model_id": "62177070315f4f6dbf7599bbc0fa4b37"
      }
     },
     "metadata": {}
    },
    {
     "output_type": "stream",
     "name": "stdout",
     "text": "\nEpoch 00047: saving model to savedmodels/res_12_2_0_BN_2/47\nloss:0.3227481245994568, binary_accuracy:0.8179376125335693, val_loss:0.6796653270721436, val_binary_accuracy:0.7818151712417603, lr:0.00495\n\nEpoch 00048: LearningRateScheduler reducing learning rate to 0.00495.\n"
    },
    {
     "output_type": "display_data",
     "data": {
      "text/plain": "HBox(children=(FloatProgress(value=0.0, description='Epoch 47', layout=Layout(flex='2'), max=38.0, style=Progr…",
      "application/vnd.jupyter.widget-view+json": {
       "version_major": 2,
       "version_minor": 0,
       "model_id": "5a0ec25424004ccd954908412900e081"
      }
     },
     "metadata": {}
    },
    {
     "output_type": "stream",
     "name": "stdout",
     "text": "\nEpoch 00048: saving model to savedmodels/res_12_2_0_BN_2/48\nloss:0.3233329951763153, binary_accuracy:0.8177810907363892, val_loss:0.6772412061691284, val_binary_accuracy:0.7700791954994202, lr:0.00495\n\nEpoch 00049: LearningRateScheduler reducing learning rate to 0.00495.\n"
    },
    {
     "output_type": "display_data",
     "data": {
      "text/plain": "HBox(children=(FloatProgress(value=0.0, description='Epoch 48', layout=Layout(flex='2'), max=38.0, style=Progr…",
      "application/vnd.jupyter.widget-view+json": {
       "version_major": 2,
       "version_minor": 0,
       "model_id": "8257318d140343f8a6b552387b4b1bbe"
      }
     },
     "metadata": {}
    },
    {
     "output_type": "stream",
     "name": "stdout",
     "text": "\nEpoch 00049: saving model to savedmodels/res_12_2_0_BN_2/49\nloss:0.32266393303871155, binary_accuracy:0.8184487223625183, val_loss:0.6938665509223938, val_binary_accuracy:0.6778517961502075, lr:0.00495\n\nEpoch 00050: LearningRateScheduler reducing learning rate to 0.00495.\n"
    },
    {
     "output_type": "display_data",
     "data": {
      "text/plain": "HBox(children=(FloatProgress(value=0.0, description='Epoch 49', layout=Layout(flex='2'), max=38.0, style=Progr…",
      "application/vnd.jupyter.widget-view+json": {
       "version_major": 2,
       "version_minor": 0,
       "model_id": "cac8fe17920949bbb7e0085f08a252ed"
      }
     },
     "metadata": {}
    },
    {
     "output_type": "stream",
     "name": "stdout",
     "text": "\nEpoch 00050: saving model to savedmodels/res_12_2_0_BN_2/50\nloss:0.32236525416374207, binary_accuracy:0.8184337615966797, val_loss:0.6712237000465393, val_binary_accuracy:0.7765970230102539, lr:0.00495\n\nEpoch 00051: LearningRateScheduler reducing learning rate to 0.00495.\n"
    },
    {
     "output_type": "display_data",
     "data": {
      "text/plain": "HBox(children=(FloatProgress(value=0.0, description='Epoch 50', layout=Layout(flex='2'), max=38.0, style=Progr…",
      "application/vnd.jupyter.widget-view+json": {
       "version_major": 2,
       "version_minor": 0,
       "model_id": "faadceda4e844d1997c509791062e5d6"
      }
     },
     "metadata": {}
    },
    {
     "output_type": "stream",
     "name": "stdout",
     "text": "\nEpoch 00051: saving model to savedmodels/res_12_2_0_BN_2/51\nloss:0.32164791226387024, binary_accuracy:0.818666398525238, val_loss:0.668700098991394, val_binary_accuracy:0.8003950119018555, lr:0.00495\n\nEpoch 00052: LearningRateScheduler reducing learning rate to 0.00495.\n"
    },
    {
     "output_type": "display_data",
     "data": {
      "text/plain": "HBox(children=(FloatProgress(value=0.0, description='Epoch 51', layout=Layout(flex='2'), max=38.0, style=Progr…",
      "application/vnd.jupyter.widget-view+json": {
       "version_major": 2,
       "version_minor": 0,
       "model_id": "0dc5052e1f114aecb51089ec33ee99e2"
      }
     },
     "metadata": {}
    },
    {
     "output_type": "stream",
     "name": "stdout",
     "text": "\nEpoch 00052: saving model to savedmodels/res_12_2_0_BN_2/52\nloss:0.32166802883148193, binary_accuracy:0.8194514513015747, val_loss:0.6841908693313599, val_binary_accuracy:0.7672261595726013, lr:0.00495\n\nEpoch 00053: LearningRateScheduler reducing learning rate to 0.00495.\n"
    },
    {
     "output_type": "display_data",
     "data": {
      "text/plain": "HBox(children=(FloatProgress(value=0.0, description='Epoch 52', layout=Layout(flex='2'), max=38.0, style=Progr…",
      "application/vnd.jupyter.widget-view+json": {
       "version_major": 2,
       "version_minor": 0,
       "model_id": "0fb46dc299bb4ec1854cb145a6076af1"
      }
     },
     "metadata": {}
    },
    {
     "output_type": "stream",
     "name": "stdout",
     "text": "\nEpoch 00053: saving model to savedmodels/res_12_2_0_BN_2/53\nloss:0.3213970959186554, binary_accuracy:0.8194907307624817, val_loss:0.709426999092102, val_binary_accuracy:0.6664663553237915, lr:0.00495\n\nEpoch 00054: LearningRateScheduler reducing learning rate to 0.00495.\n"
    },
    {
     "output_type": "display_data",
     "data": {
      "text/plain": "HBox(children=(FloatProgress(value=0.0, description='Epoch 53', layout=Layout(flex='2'), max=38.0, style=Progr…",
      "application/vnd.jupyter.widget-view+json": {
       "version_major": 2,
       "version_minor": 0,
       "model_id": "84ebb759b227494e903a65311c176a8c"
      }
     },
     "metadata": {}
    },
    {
     "output_type": "stream",
     "name": "stdout",
     "text": "\nEpoch 00054: saving model to savedmodels/res_12_2_0_BN_2/54\nloss:0.32121914625167847, binary_accuracy:0.8200041651725769, val_loss:0.6771441102027893, val_binary_accuracy:0.7639885544776917, lr:0.00495\n\nEpoch 00055: LearningRateScheduler reducing learning rate to 0.00495.\n"
    },
    {
     "output_type": "display_data",
     "data": {
      "text/plain": "HBox(children=(FloatProgress(value=0.0, description='Epoch 54', layout=Layout(flex='2'), max=38.0, style=Progr…",
      "application/vnd.jupyter.widget-view+json": {
       "version_major": 2,
       "version_minor": 0,
       "model_id": "b87d82479515487686bd6920c35e3b82"
      }
     },
     "metadata": {}
    },
    {
     "output_type": "stream",
     "name": "stdout",
     "text": "\nEpoch 00055: saving model to savedmodels/res_12_2_0_BN_2/55\nloss:0.3201015591621399, binary_accuracy:0.8212769627571106, val_loss:0.671862006187439, val_binary_accuracy:0.7849600315093994, lr:0.00495\n\nEpoch 00056: LearningRateScheduler reducing learning rate to 0.00495.\n"
    },
    {
     "output_type": "display_data",
     "data": {
      "text/plain": "HBox(children=(FloatProgress(value=0.0, description='Epoch 55', layout=Layout(flex='2'), max=38.0, style=Progr…",
      "application/vnd.jupyter.widget-view+json": {
       "version_major": 2,
       "version_minor": 0,
       "model_id": "73e8b746787d4c4db1e615512ce791de"
      }
     },
     "metadata": {}
    },
    {
     "output_type": "stream",
     "name": "stdout",
     "text": "\nEpoch 00056: saving model to savedmodels/res_12_2_0_BN_2/56\nloss:0.31947794556617737, binary_accuracy:0.8214304447174072, val_loss:0.7000501751899719, val_binary_accuracy:0.7093266844749451, lr:0.00495\n\nEpoch 00057: LearningRateScheduler reducing learning rate to 0.00495.\n"
    },
    {
     "output_type": "display_data",
     "data": {
      "text/plain": "HBox(children=(FloatProgress(value=0.0, description='Epoch 56', layout=Layout(flex='2'), max=38.0, style=Progr…",
      "application/vnd.jupyter.widget-view+json": {
       "version_major": 2,
       "version_minor": 0,
       "model_id": "7875f66663b84b4094e9f4c8b481cd1c"
      }
     },
     "metadata": {}
    },
    {
     "output_type": "stream",
     "name": "stdout",
     "text": "\nEpoch 00057: saving model to savedmodels/res_12_2_0_BN_2/57\nloss:0.3184572160243988, binary_accuracy:0.8217244744300842, val_loss:0.6857704520225525, val_binary_accuracy:0.7825706601142883, lr:0.00495\n\nEpoch 00058: LearningRateScheduler reducing learning rate to 0.00495.\n"
    },
    {
     "output_type": "display_data",
     "data": {
      "text/plain": "HBox(children=(FloatProgress(value=0.0, description='Epoch 57', layout=Layout(flex='2'), max=38.0, style=Progr…",
      "application/vnd.jupyter.widget-view+json": {
       "version_major": 2,
       "version_minor": 0,
       "model_id": "487d7f1a9c5a4fe7b2ee019f6c546b20"
      }
     },
     "metadata": {}
    },
    {
     "output_type": "stream",
     "name": "stdout",
     "text": "\nEpoch 00058: saving model to savedmodels/res_12_2_0_BN_2/58\nloss:0.31902071833610535, binary_accuracy:0.8217764496803284, val_loss:0.6875235438346863, val_binary_accuracy:0.7482438087463379, lr:0.00495\n\nEpoch 00059: LearningRateScheduler reducing learning rate to 0.00495.\n"
    },
    {
     "output_type": "display_data",
     "data": {
      "text/plain": "HBox(children=(FloatProgress(value=0.0, description='Epoch 58', layout=Layout(flex='2'), max=38.0, style=Progr…",
      "application/vnd.jupyter.widget-view+json": {
       "version_major": 2,
       "version_minor": 0,
       "model_id": "010a33eb336a40f1b4ca792101776036"
      }
     },
     "metadata": {}
    },
    {
     "output_type": "stream",
     "name": "stdout",
     "text": "\nEpoch 00059: saving model to savedmodels/res_12_2_0_BN_2/59\nloss:0.3172326683998108, binary_accuracy:0.8231378793716431, val_loss:0.6806347370147705, val_binary_accuracy:0.7703452110290527, lr:0.00495\n\nEpoch 00060: LearningRateScheduler reducing learning rate to 0.00495.\n"
    },
    {
     "output_type": "display_data",
     "data": {
      "text/plain": "HBox(children=(FloatProgress(value=0.0, description='Epoch 59', layout=Layout(flex='2'), max=38.0, style=Progr…",
      "application/vnd.jupyter.widget-view+json": {
       "version_major": 2,
       "version_minor": 0,
       "model_id": "67a91bccab074c33a2258c7f4c72a8b6"
      }
     },
     "metadata": {}
    },
    {
     "output_type": "stream",
     "name": "stdout",
     "text": "\nEpoch 00060: saving model to savedmodels/res_12_2_0_BN_2/60\nloss:0.31724971532821655, binary_accuracy:0.8230588436126709, val_loss:0.7217406630516052, val_binary_accuracy:0.6262171864509583, lr:0.00495\n\nEpoch 00061: LearningRateScheduler reducing learning rate to 0.00495.\n"
    },
    {
     "output_type": "display_data",
     "data": {
      "text/plain": "HBox(children=(FloatProgress(value=0.0, description='Epoch 60', layout=Layout(flex='2'), max=38.0, style=Progr…",
      "application/vnd.jupyter.widget-view+json": {
       "version_major": 2,
       "version_minor": 0,
       "model_id": "ad59c556f9694ff0ba52e9e23bff5dde"
      }
     },
     "metadata": {}
    },
    {
     "output_type": "stream",
     "name": "stdout",
     "text": "\nEpoch 00061: saving model to savedmodels/res_12_2_0_BN_2/61\nloss:0.3182673454284668, binary_accuracy:0.8219547271728516, val_loss:0.6674374938011169, val_binary_accuracy:0.7981850504875183, lr:0.00495\n\nEpoch 00062: LearningRateScheduler reducing learning rate to 0.00495.\n"
    },
    {
     "output_type": "display_data",
     "data": {
      "text/plain": "HBox(children=(FloatProgress(value=0.0, description='Epoch 61', layout=Layout(flex='2'), max=38.0, style=Progr…",
      "application/vnd.jupyter.widget-view+json": {
       "version_major": 2,
       "version_minor": 0,
       "model_id": "19843139b42b4a658251d51172d19c2d"
      }
     },
     "metadata": {}
    },
    {
     "output_type": "stream",
     "name": "stdout",
     "text": "\nEpoch 00062: saving model to savedmodels/res_12_2_0_BN_2/62\nloss:0.31664007902145386, binary_accuracy:0.8235179781913757, val_loss:0.6846556067466736, val_binary_accuracy:0.7584554553031921, lr:0.00495\n\nEpoch 00063: LearningRateScheduler reducing learning rate to 0.00495.\n"
    },
    {
     "output_type": "display_data",
     "data": {
      "text/plain": "HBox(children=(FloatProgress(value=0.0, description='Epoch 62', layout=Layout(flex='2'), max=38.0, style=Progr…",
      "application/vnd.jupyter.widget-view+json": {
       "version_major": 2,
       "version_minor": 0,
       "model_id": "1fc72a67e90e43c2b45be5ebc8bced2b"
      }
     },
     "metadata": {}
    },
    {
     "output_type": "stream",
     "name": "stdout",
     "text": "\nEpoch 00063: saving model to savedmodels/res_12_2_0_BN_2/63\nloss:0.3162766695022583, binary_accuracy:0.8238976001739502, val_loss:0.6965087056159973, val_binary_accuracy:0.7445229887962341, lr:0.00495\n\nEpoch 00064: LearningRateScheduler reducing learning rate to 0.00495.\n"
    },
    {
     "output_type": "display_data",
     "data": {
      "text/plain": "HBox(children=(FloatProgress(value=0.0, description='Epoch 63', layout=Layout(flex='2'), max=38.0, style=Progr…",
      "application/vnd.jupyter.widget-view+json": {
       "version_major": 2,
       "version_minor": 0,
       "model_id": "62125ad49cfc489f8d8b9e0ff45c10e8"
      }
     },
     "metadata": {}
    },
    {
     "output_type": "stream",
     "name": "stdout",
     "text": "\nEpoch 00064: saving model to savedmodels/res_12_2_0_BN_2/64\nloss:0.3172946870326996, binary_accuracy:0.8221510052680969, val_loss:0.6717079281806946, val_binary_accuracy:0.7798241972923279, lr:0.00495\n\nEpoch 00065: LearningRateScheduler reducing learning rate to 0.00495.\n"
    },
    {
     "output_type": "display_data",
     "data": {
      "text/plain": "HBox(children=(FloatProgress(value=0.0, description='Epoch 64', layout=Layout(flex='2'), max=38.0, style=Progr…",
      "application/vnd.jupyter.widget-view+json": {
       "version_major": 2,
       "version_minor": 0,
       "model_id": "438477fb12604679b16fc13b81ec8f33"
      }
     },
     "metadata": {}
    },
    {
     "output_type": "stream",
     "name": "stdout",
     "text": "\nEpoch 00065: saving model to savedmodels/res_12_2_0_BN_2/65\nloss:0.31559720635414124, binary_accuracy:0.8246225714683533, val_loss:0.6676604747772217, val_binary_accuracy:0.7962989211082458, lr:0.00495\n\nEpoch 00066: LearningRateScheduler reducing learning rate to 0.00495.\n"
    },
    {
     "output_type": "display_data",
     "data": {
      "text/plain": "HBox(children=(FloatProgress(value=0.0, description='Epoch 65', layout=Layout(flex='2'), max=38.0, style=Progr…",
      "application/vnd.jupyter.widget-view+json": {
       "version_major": 2,
       "version_minor": 0,
       "model_id": "708b557e48a14ee7a7f16c3eae075862"
      }
     },
     "metadata": {}
    },
    {
     "output_type": "stream",
     "name": "stdout",
     "text": "\nEpoch 00066: saving model to savedmodels/res_12_2_0_BN_2/66\nloss:0.3160119652748108, binary_accuracy:0.8233585953712463, val_loss:0.6944316625595093, val_binary_accuracy:0.6721368432044983, lr:0.00495\n\nEpoch 00067: LearningRateScheduler reducing learning rate to 0.00495.\n"
    },
    {
     "output_type": "display_data",
     "data": {
      "text/plain": "HBox(children=(FloatProgress(value=0.0, description='Epoch 66', layout=Layout(flex='2'), max=38.0, style=Progr…",
      "application/vnd.jupyter.widget-view+json": {
       "version_major": 2,
       "version_minor": 0,
       "model_id": "f47a8ea305274435a016ca9ff0b1c4e3"
      }
     },
     "metadata": {}
    },
    {
     "output_type": "stream",
     "name": "stdout",
     "text": "\nEpoch 00067: saving model to savedmodels/res_12_2_0_BN_2/67\nloss:0.3156195282936096, binary_accuracy:0.8243247866630554, val_loss:0.6739715337753296, val_binary_accuracy:0.7669394612312317, lr:0.00495\n\nEpoch 00068: LearningRateScheduler reducing learning rate to 0.00495.\n"
    },
    {
     "output_type": "display_data",
     "data": {
      "text/plain": "HBox(children=(FloatProgress(value=0.0, description='Epoch 67', layout=Layout(flex='2'), max=38.0, style=Progr…",
      "application/vnd.jupyter.widget-view+json": {
       "version_major": 2,
       "version_minor": 0,
       "model_id": "f5c742712e134f45a48f67b7237a30e8"
      }
     },
     "metadata": {}
    },
    {
     "output_type": "stream",
     "name": "stdout",
     "text": "\nEpoch 00068: saving model to savedmodels/res_12_2_0_BN_2/68\nloss:0.31469467282295227, binary_accuracy:0.8253195285797119, val_loss:0.676278293132782, val_binary_accuracy:0.7668397426605225, lr:0.00495\n\nEpoch 00069: LearningRateScheduler reducing learning rate to 0.00495.\n"
    },
    {
     "output_type": "display_data",
     "data": {
      "text/plain": "HBox(children=(FloatProgress(value=0.0, description='Epoch 68', layout=Layout(flex='2'), max=38.0, style=Progr…",
      "application/vnd.jupyter.widget-view+json": {
       "version_major": 2,
       "version_minor": 0,
       "model_id": "cf10f1ae70624d0e8e04230da1fc53d1"
      }
     },
     "metadata": {}
    },
    {
     "output_type": "stream",
     "name": "stdout",
     "text": "\nEpoch 00069: saving model to savedmodels/res_12_2_0_BN_2/69\nloss:0.3156299889087677, binary_accuracy:0.8244484663009644, val_loss:0.697666585445404, val_binary_accuracy:0.6833268404006958, lr:0.00495\n\nEpoch 00070: LearningRateScheduler reducing learning rate to 0.00495.\n"
    },
    {
     "output_type": "display_data",
     "data": {
      "text/plain": "HBox(children=(FloatProgress(value=0.0, description='Epoch 69', layout=Layout(flex='2'), max=38.0, style=Progr…",
      "application/vnd.jupyter.widget-view+json": {
       "version_major": 2,
       "version_minor": 0,
       "model_id": "2c3da0887fce4e00b289ddf5c0f35fff"
      }
     },
     "metadata": {}
    },
    {
     "output_type": "stream",
     "name": "stdout",
     "text": "\nEpoch 00070: saving model to savedmodels/res_12_2_0_BN_2/70\nloss:0.31675946712493896, binary_accuracy:0.8232564330101013, val_loss:0.6975969076156616, val_binary_accuracy:0.7165589928627014, lr:0.00495\n\nEpoch 00071: LearningRateScheduler reducing learning rate to 0.00495.\n"
    },
    {
     "output_type": "display_data",
     "data": {
      "text/plain": "HBox(children=(FloatProgress(value=0.0, description='Epoch 70', layout=Layout(flex='2'), max=38.0, style=Progr…",
      "application/vnd.jupyter.widget-view+json": {
       "version_major": 2,
       "version_minor": 0,
       "model_id": "81d556c7096a40c89c8f7d4091feddb4"
      }
     },
     "metadata": {}
    },
    {
     "output_type": "stream",
     "name": "stdout",
     "text": "\nEpoch 00071: saving model to savedmodels/res_12_2_0_BN_2/71\nloss:0.31523597240448, binary_accuracy:0.8252964615821838, val_loss:0.6870469450950623, val_binary_accuracy:0.7440993785858154, lr:0.00495\n\nEpoch 00072: LearningRateScheduler reducing learning rate to 0.00495.\n"
    },
    {
     "output_type": "display_data",
     "data": {
      "text/plain": "HBox(children=(FloatProgress(value=0.0, description='Epoch 71', layout=Layout(flex='2'), max=38.0, style=Progr…",
      "application/vnd.jupyter.widget-view+json": {
       "version_major": 2,
       "version_minor": 0,
       "model_id": "bae802e00b6648109bbea7144b601d0f"
      }
     },
     "metadata": {}
    },
    {
     "output_type": "stream",
     "name": "stdout",
     "text": "\nEpoch 00072: saving model to savedmodels/res_12_2_0_BN_2/72\nloss:0.31575140357017517, binary_accuracy:0.8237856030464172, val_loss:0.6682248115539551, val_binary_accuracy:0.7911683320999146, lr:0.00495\n\nEpoch 00073: LearningRateScheduler reducing learning rate to 0.00495.\n"
    },
    {
     "output_type": "display_data",
     "data": {
      "text/plain": "HBox(children=(FloatProgress(value=0.0, description='Epoch 72', layout=Layout(flex='2'), max=38.0, style=Progr…",
      "application/vnd.jupyter.widget-view+json": {
       "version_major": 2,
       "version_minor": 0,
       "model_id": "b50ea2a664af448ba58ca60ef020fff7"
      }
     },
     "metadata": {}
    },
    {
     "output_type": "stream",
     "name": "stdout",
     "text": "\nEpoch 00073: saving model to savedmodels/res_12_2_0_BN_2/73\nloss:0.31351450085639954, binary_accuracy:0.825701117515564, val_loss:0.6872041821479797, val_binary_accuracy:0.7495667934417725, lr:0.00495\n\nEpoch 00074: LearningRateScheduler reducing learning rate to 0.00495.\n"
    },
    {
     "output_type": "display_data",
     "data": {
      "text/plain": "HBox(children=(FloatProgress(value=0.0, description='Epoch 73', layout=Layout(flex='2'), max=38.0, style=Progr…",
      "application/vnd.jupyter.widget-view+json": {
       "version_major": 2,
       "version_minor": 0,
       "model_id": "1bfa64bb9201497bb8dde4632a78bcd2"
      }
     },
     "metadata": {}
    },
    {
     "output_type": "error",
     "ename": "KeyboardInterrupt",
     "evalue": "",
     "traceback": [
      "\u001b[0;31m---------------------------------------------------------------------------\u001b[0m",
      "\u001b[0;31mKeyboardInterrupt\u001b[0m                         Traceback (most recent call last)",
      "\u001b[0;32m<ipython-input-10-662e711ac23c>\u001b[0m in \u001b[0;36m<module>\u001b[0;34m\u001b[0m\n\u001b[1;32m     11\u001b[0m \u001b[0mp\u001b[0m \u001b[0;34m=\u001b[0m \u001b[0mProcess\u001b[0m\u001b[0;34m(\u001b[0m\u001b[0mtarget\u001b[0m\u001b[0;34m=\u001b[0m\u001b[0mrun_training\u001b[0m\u001b[0;34m,\u001b[0m \u001b[0mkwargs\u001b[0m\u001b[0;34m=\u001b[0m\u001b[0mkwargs\u001b[0m\u001b[0;34m)\u001b[0m\u001b[0;34m\u001b[0m\u001b[0;34m\u001b[0m\u001b[0m\n\u001b[1;32m     12\u001b[0m \u001b[0mp\u001b[0m\u001b[0;34m.\u001b[0m\u001b[0mstart\u001b[0m\u001b[0;34m(\u001b[0m\u001b[0;34m)\u001b[0m\u001b[0;34m\u001b[0m\u001b[0;34m\u001b[0m\u001b[0m\n\u001b[0;32m---> 13\u001b[0;31m \u001b[0mp\u001b[0m\u001b[0;34m.\u001b[0m\u001b[0mjoin\u001b[0m\u001b[0;34m(\u001b[0m\u001b[0;34m)\u001b[0m\u001b[0;34m\u001b[0m\u001b[0;34m\u001b[0m\u001b[0m\n\u001b[0m",
      "\u001b[0;32m/usr/lib/python3.7/multiprocessing/process.py\u001b[0m in \u001b[0;36mjoin\u001b[0;34m(self, timeout)\u001b[0m\n\u001b[1;32m    138\u001b[0m         \u001b[0;32massert\u001b[0m \u001b[0mself\u001b[0m\u001b[0;34m.\u001b[0m\u001b[0m_parent_pid\u001b[0m \u001b[0;34m==\u001b[0m \u001b[0mos\u001b[0m\u001b[0;34m.\u001b[0m\u001b[0mgetpid\u001b[0m\u001b[0;34m(\u001b[0m\u001b[0;34m)\u001b[0m\u001b[0;34m,\u001b[0m \u001b[0;34m'can only join a child process'\u001b[0m\u001b[0;34m\u001b[0m\u001b[0;34m\u001b[0m\u001b[0m\n\u001b[1;32m    139\u001b[0m         \u001b[0;32massert\u001b[0m \u001b[0mself\u001b[0m\u001b[0;34m.\u001b[0m\u001b[0m_popen\u001b[0m \u001b[0;32mis\u001b[0m \u001b[0;32mnot\u001b[0m \u001b[0;32mNone\u001b[0m\u001b[0;34m,\u001b[0m \u001b[0;34m'can only join a started process'\u001b[0m\u001b[0;34m\u001b[0m\u001b[0;34m\u001b[0m\u001b[0m\n\u001b[0;32m--> 140\u001b[0;31m         \u001b[0mres\u001b[0m \u001b[0;34m=\u001b[0m \u001b[0mself\u001b[0m\u001b[0;34m.\u001b[0m\u001b[0m_popen\u001b[0m\u001b[0;34m.\u001b[0m\u001b[0mwait\u001b[0m\u001b[0;34m(\u001b[0m\u001b[0mtimeout\u001b[0m\u001b[0;34m)\u001b[0m\u001b[0;34m\u001b[0m\u001b[0;34m\u001b[0m\u001b[0m\n\u001b[0m\u001b[1;32m    141\u001b[0m         \u001b[0;32mif\u001b[0m \u001b[0mres\u001b[0m \u001b[0;32mis\u001b[0m \u001b[0;32mnot\u001b[0m \u001b[0;32mNone\u001b[0m\u001b[0;34m:\u001b[0m\u001b[0;34m\u001b[0m\u001b[0;34m\u001b[0m\u001b[0m\n\u001b[1;32m    142\u001b[0m             \u001b[0m_children\u001b[0m\u001b[0;34m.\u001b[0m\u001b[0mdiscard\u001b[0m\u001b[0;34m(\u001b[0m\u001b[0mself\u001b[0m\u001b[0;34m)\u001b[0m\u001b[0;34m\u001b[0m\u001b[0;34m\u001b[0m\u001b[0m\n",
      "\u001b[0;32m/usr/lib/python3.7/multiprocessing/popen_fork.py\u001b[0m in \u001b[0;36mwait\u001b[0;34m(self, timeout)\u001b[0m\n\u001b[1;32m     46\u001b[0m                     \u001b[0;32mreturn\u001b[0m \u001b[0;32mNone\u001b[0m\u001b[0;34m\u001b[0m\u001b[0;34m\u001b[0m\u001b[0m\n\u001b[1;32m     47\u001b[0m             \u001b[0;31m# This shouldn't block if wait() returned successfully.\u001b[0m\u001b[0;34m\u001b[0m\u001b[0;34m\u001b[0m\u001b[0;34m\u001b[0m\u001b[0m\n\u001b[0;32m---> 48\u001b[0;31m             \u001b[0;32mreturn\u001b[0m \u001b[0mself\u001b[0m\u001b[0;34m.\u001b[0m\u001b[0mpoll\u001b[0m\u001b[0;34m(\u001b[0m\u001b[0mos\u001b[0m\u001b[0;34m.\u001b[0m\u001b[0mWNOHANG\u001b[0m \u001b[0;32mif\u001b[0m \u001b[0mtimeout\u001b[0m \u001b[0;34m==\u001b[0m \u001b[0;36m0.0\u001b[0m \u001b[0;32melse\u001b[0m \u001b[0;36m0\u001b[0m\u001b[0;34m)\u001b[0m\u001b[0;34m\u001b[0m\u001b[0;34m\u001b[0m\u001b[0m\n\u001b[0m\u001b[1;32m     49\u001b[0m         \u001b[0;32mreturn\u001b[0m \u001b[0mself\u001b[0m\u001b[0;34m.\u001b[0m\u001b[0mreturncode\u001b[0m\u001b[0;34m\u001b[0m\u001b[0;34m\u001b[0m\u001b[0m\n\u001b[1;32m     50\u001b[0m \u001b[0;34m\u001b[0m\u001b[0m\n",
      "\u001b[0;32m/usr/lib/python3.7/multiprocessing/popen_fork.py\u001b[0m in \u001b[0;36mpoll\u001b[0;34m(self, flag)\u001b[0m\n\u001b[1;32m     26\u001b[0m         \u001b[0;32mif\u001b[0m \u001b[0mself\u001b[0m\u001b[0;34m.\u001b[0m\u001b[0mreturncode\u001b[0m \u001b[0;32mis\u001b[0m \u001b[0;32mNone\u001b[0m\u001b[0;34m:\u001b[0m\u001b[0;34m\u001b[0m\u001b[0;34m\u001b[0m\u001b[0m\n\u001b[1;32m     27\u001b[0m             \u001b[0;32mtry\u001b[0m\u001b[0;34m:\u001b[0m\u001b[0;34m\u001b[0m\u001b[0;34m\u001b[0m\u001b[0m\n\u001b[0;32m---> 28\u001b[0;31m                 \u001b[0mpid\u001b[0m\u001b[0;34m,\u001b[0m \u001b[0msts\u001b[0m \u001b[0;34m=\u001b[0m \u001b[0mos\u001b[0m\u001b[0;34m.\u001b[0m\u001b[0mwaitpid\u001b[0m\u001b[0;34m(\u001b[0m\u001b[0mself\u001b[0m\u001b[0;34m.\u001b[0m\u001b[0mpid\u001b[0m\u001b[0;34m,\u001b[0m \u001b[0mflag\u001b[0m\u001b[0;34m)\u001b[0m\u001b[0;34m\u001b[0m\u001b[0;34m\u001b[0m\u001b[0m\n\u001b[0m\u001b[1;32m     29\u001b[0m             \u001b[0;32mexcept\u001b[0m \u001b[0mOSError\u001b[0m \u001b[0;32mas\u001b[0m \u001b[0me\u001b[0m\u001b[0;34m:\u001b[0m\u001b[0;34m\u001b[0m\u001b[0;34m\u001b[0m\u001b[0m\n\u001b[1;32m     30\u001b[0m                 \u001b[0;31m# Child process not yet created. See #1731717\u001b[0m\u001b[0;34m\u001b[0m\u001b[0;34m\u001b[0m\u001b[0;34m\u001b[0m\u001b[0m\n",
      "\u001b[0;31mKeyboardInterrupt\u001b[0m: "
     ]
    }
   ],
   "source": [
    "kwargs = {}\n",
    "kwargs['model_f'] = model_f\n",
    "kwargs['lr_f'] = lr_f\n",
    "kwargs['name'] = name\n",
    "kwargs['epochs'] = epochs\n",
    "kwargs['batch_size'] = 32\n",
    "kwargs['X_train'] = X_train\n",
    "kwargs['Y_train'] = Y_train\n",
    "kwargs['val_data'] = (X_val, Y_val)\n",
    "kwargs['mixed_float'] = mixed_float\n",
    "p = Process(target=run_training, kwargs=kwargs)\n",
    "p.start()\n",
    "p.join()"
   ]
  },
  {
   "cell_type": "code",
   "execution_count": null,
   "metadata": {},
   "outputs": [],
   "source": []
  }
 ]
}