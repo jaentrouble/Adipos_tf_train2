{
 "metadata": {
  "language_info": {
   "codemirror_mode": {
    "name": "ipython",
    "version": 3
   },
   "file_extension": ".py",
   "mimetype": "text/x-python",
   "name": "python",
   "nbconvert_exporter": "python",
   "pygments_lexer": "ipython3",
   "version": "3.7.8-final"
  },
  "orig_nbformat": 2,
  "kernelspec": {
   "name": "train2_venv",
   "display_name": "train2_venv"
  }
 },
 "nbformat": 4,
 "nbformat_minor": 2,
 "cells": [
  {
   "cell_type": "code",
   "execution_count": 1,
   "metadata": {
    "tags": []
   },
   "outputs": [],
   "source": [
    "%matplotlib inline\n",
    "%load_ext autoreload"
   ]
  },
  {
   "cell_type": "code",
   "execution_count": 2,
   "metadata": {},
   "outputs": [],
   "source": [
    "import numpy as np\n",
    "import matplotlib.pyplot as plt\n",
    "from multiprocessing import Process"
   ]
  },
  {
   "cell_type": "code",
   "execution_count": 3,
   "metadata": {
    "tags": []
   },
   "outputs": [
    {
     "output_type": "stream",
     "name": "stdout",
     "text": "/home/jaentrouble/adipose_train2\n"
    }
   ],
   "source": [
    "import os\n",
    "os.chdir('/home/jaentrouble/adipose_train2')\n",
    "print(os.getcwd())"
   ]
  },
  {
   "cell_type": "code",
   "execution_count": 4,
   "metadata": {
    "tags": []
   },
   "outputs": [],
   "source": [
    "with np.load('cell_mask_data.npz') as data:\n",
    "    X = data['img']\n",
    "    Y = data['mask']"
   ]
  },
  {
   "cell_type": "code",
   "execution_count": 5,
   "metadata": {
    "tags": []
   },
   "outputs": [
    {
     "output_type": "stream",
     "name": "stdout",
     "text": "X shape: (1533, 200, 200, 3)\nY shape: (1533, 200, 200)\n"
    }
   ],
   "source": [
    "print('X shape:',X.shape)\n",
    "print('Y shape:',Y.shape)"
   ]
  },
  {
   "cell_type": "code",
   "execution_count": 6,
   "metadata": {},
   "outputs": [],
   "source": [
    "X_train = X[:1200]\n",
    "Y_train = Y[:1200]\n",
    "X_val = X[1200:1350]\n",
    "Y_val = Y[1200:1350]\n",
    "X_test = X[1350:]\n",
    "Y_test = Y[1350:]"
   ]
  },
  {
   "cell_type": "code",
   "execution_count": 7,
   "metadata": {
    "tags": []
   },
   "outputs": [
    {
     "output_type": "stream",
     "name": "stdout",
     "text": "Already up to date.\n"
    }
   ],
   "source": [
    "!git pull\n",
    "%autoreload"
   ]
  },
  {
   "cell_type": "code",
   "execution_count": 8,
   "metadata": {},
   "outputs": [],
   "source": [
    "from model_trainer import run_training\n",
    "from adipose_models import *\n",
    "from model_lr import *"
   ]
  },
  {
   "cell_type": "code",
   "execution_count": 9,
   "metadata": {},
   "outputs": [],
   "source": [
    "model_f = res_12_2_0_BN\n",
    "lr_f = lr_step4\n",
    "name = 'res_12_2_0_BN_1'\n",
    "epochs = 50\n",
    "mixed_float = False"
   ]
  },
  {
   "cell_type": "code",
   "execution_count": 10,
   "metadata": {
    "tags": []
   },
   "outputs": [
    {
     "output_type": "stream",
     "name": "stdout",
     "text": "Model: \"functional_1\"\n__________________________________________________________________________________________________\nLayer (type)                    Output Shape         Param #     Connected to\n==================================================================================================\ninput_1 (InputLayer)            [(None, 200, 200, 3) 0\n__________________________________________________________________________________________________\nconv2d_1 (Conv2D)               (None, 200, 200, 32) 896         input_1[0][0]\n__________________________________________________________________________________________________\nconv2d_2 (Conv2D)               (None, 200, 200, 32) 9248        conv2d_1[0][0]\n__________________________________________________________________________________________________\nconv2d (Conv2D)                 (None, 200, 200, 32) 128         input_1[0][0]\n__________________________________________________________________________________________________\ntf_op_layer_AddV2 (TensorFlowOp [(None, 200, 200, 32 0           conv2d_2[0][0]\n                                                                 conv2d[0][0]\n__________________________________________________________________________________________________\nbatch_normalization (BatchNorma (None, 200, 200, 32) 128         tf_op_layer_AddV2[0][0]\n__________________________________________________________________________________________________\nre_lu (ReLU)                    (None, 200, 200, 32) 0           batch_normalization[0][0]\n__________________________________________________________________________________________________\nconv2d_3 (Conv2D)               (None, 200, 200, 32) 9248        re_lu[0][0]\n__________________________________________________________________________________________________\nconv2d_4 (Conv2D)               (None, 200, 200, 32) 9248        conv2d_3[0][0]\n__________________________________________________________________________________________________\ntf_op_layer_AddV2_1 (TensorFlow [(None, 200, 200, 32 0           conv2d_4[0][0]\n                                                                 re_lu[0][0]\n__________________________________________________________________________________________________\nbatch_normalization_1 (BatchNor (None, 200, 200, 32) 128         tf_op_layer_AddV2_1[0][0]\n__________________________________________________________________________________________________\nre_lu_1 (ReLU)                  (None, 200, 200, 32) 0           batch_normalization_1[0][0]\n__________________________________________________________________________________________________\nconv2d_5 (Conv2D)               (None, 200, 200, 32) 9248        re_lu_1[0][0]\n__________________________________________________________________________________________________\nconv2d_6 (Conv2D)               (None, 200, 200, 32) 9248        conv2d_5[0][0]\n__________________________________________________________________________________________________\ntf_op_layer_AddV2_2 (TensorFlow [(None, 200, 200, 32 0           conv2d_6[0][0]\n                                                                 re_lu_1[0][0]\n__________________________________________________________________________________________________\nbatch_normalization_2 (BatchNor (None, 200, 200, 32) 128         tf_op_layer_AddV2_2[0][0]\n__________________________________________________________________________________________________\nre_lu_2 (ReLU)                  (None, 200, 200, 32) 0           batch_normalization_2[0][0]\n__________________________________________________________________________________________________\nconv2d_7 (Conv2D)               (None, 200, 200, 32) 9248        re_lu_2[0][0]\n__________________________________________________________________________________________________\nconv2d_8 (Conv2D)               (None, 200, 200, 32) 9248        conv2d_7[0][0]\n__________________________________________________________________________________________________\ntf_op_layer_AddV2_3 (TensorFlow [(None, 200, 200, 32 0           conv2d_8[0][0]\n                                                                 re_lu_2[0][0]\n__________________________________________________________________________________________________\nbatch_normalization_3 (BatchNor (None, 200, 200, 32) 128         tf_op_layer_AddV2_3[0][0]\n__________________________________________________________________________________________________\nre_lu_3 (ReLU)                  (None, 200, 200, 32) 0           batch_normalization_3[0][0]\n__________________________________________________________________________________________________\nconv2d_9 (Conv2D)               (None, 200, 200, 32) 9248        re_lu_3[0][0]\n__________________________________________________________________________________________________\nconv2d_10 (Conv2D)              (None, 200, 200, 32) 9248        conv2d_9[0][0]\n__________________________________________________________________________________________________\ntf_op_layer_AddV2_4 (TensorFlow [(None, 200, 200, 32 0           conv2d_10[0][0]\n                                                                 re_lu_3[0][0]\n__________________________________________________________________________________________________\nbatch_normalization_4 (BatchNor (None, 200, 200, 32) 128         tf_op_layer_AddV2_4[0][0]\n__________________________________________________________________________________________________\nre_lu_4 (ReLU)                  (None, 200, 200, 32) 0           batch_normalization_4[0][0]\n__________________________________________________________________________________________________\nconv2d_11 (Conv2D)              (None, 200, 200, 32) 9248        re_lu_4[0][0]\n__________________________________________________________________________________________________\nconv2d_12 (Conv2D)              (None, 200, 200, 32) 9248        conv2d_11[0][0]\n__________________________________________________________________________________________________\ntf_op_layer_AddV2_5 (TensorFlow [(None, 200, 200, 32 0           conv2d_12[0][0]\n                                                                 re_lu_4[0][0]\n__________________________________________________________________________________________________\nbatch_normalization_5 (BatchNor (None, 200, 200, 32) 128         tf_op_layer_AddV2_5[0][0]\n__________________________________________________________________________________________________\nre_lu_5 (ReLU)                  (None, 200, 200, 32) 0           batch_normalization_5[0][0]\n__________________________________________________________________________________________________\nconv2d_13 (Conv2D)              (None, 200, 200, 32) 9248        re_lu_5[0][0]\n__________________________________________________________________________________________________\nconv2d_14 (Conv2D)              (None, 200, 200, 32) 9248        conv2d_13[0][0]\n__________________________________________________________________________________________________\ntf_op_layer_AddV2_6 (TensorFlow [(None, 200, 200, 32 0           conv2d_14[0][0]\n                                                                 re_lu_5[0][0]\n__________________________________________________________________________________________________\nbatch_normalization_6 (BatchNor (None, 200, 200, 32) 128         tf_op_layer_AddV2_6[0][0]\n__________________________________________________________________________________________________\nre_lu_6 (ReLU)                  (None, 200, 200, 32) 0           batch_normalization_6[0][0]\n__________________________________________________________________________________________________\nconv2d_15 (Conv2D)              (None, 200, 200, 32) 9248        re_lu_6[0][0]\n__________________________________________________________________________________________________\nconv2d_16 (Conv2D)              (None, 200, 200, 32) 9248        conv2d_15[0][0]\n__________________________________________________________________________________________________\ntf_op_layer_AddV2_7 (TensorFlow [(None, 200, 200, 32 0           conv2d_16[0][0]\n                                                                 re_lu_6[0][0]\n__________________________________________________________________________________________________\nbatch_normalization_7 (BatchNor (None, 200, 200, 32) 128         tf_op_layer_AddV2_7[0][0]\n__________________________________________________________________________________________________\nre_lu_7 (ReLU)                  (None, 200, 200, 32) 0           batch_normalization_7[0][0]\n__________________________________________________________________________________________________\nconv2d_17 (Conv2D)              (None, 200, 200, 32) 9248        re_lu_7[0][0]\n__________________________________________________________________________________________________\nconv2d_18 (Conv2D)              (None, 200, 200, 32) 9248        conv2d_17[0][0]\n__________________________________________________________________________________________________\ntf_op_layer_AddV2_8 (TensorFlow [(None, 200, 200, 32 0           conv2d_18[0][0]\n                                                                 re_lu_7[0][0]\n__________________________________________________________________________________________________\nbatch_normalization_8 (BatchNor (None, 200, 200, 32) 128         tf_op_layer_AddV2_8[0][0]\n__________________________________________________________________________________________________\nre_lu_8 (ReLU)                  (None, 200, 200, 32) 0           batch_normalization_8[0][0]\n__________________________________________________________________________________________________\nconv2d_19 (Conv2D)              (None, 200, 200, 32) 9248        re_lu_8[0][0]\n__________________________________________________________________________________________________\nconv2d_20 (Conv2D)              (None, 200, 200, 32) 9248        conv2d_19[0][0]\n__________________________________________________________________________________________________\ntf_op_layer_AddV2_9 (TensorFlow [(None, 200, 200, 32 0           conv2d_20[0][0]\n                                                                 re_lu_8[0][0]\n__________________________________________________________________________________________________\nbatch_normalization_9 (BatchNor (None, 200, 200, 32) 128         tf_op_layer_AddV2_9[0][0]\n__________________________________________________________________________________________________\nre_lu_9 (ReLU)                  (None, 200, 200, 32) 0           batch_normalization_9[0][0]\n__________________________________________________________________________________________________\nconv2d_21 (Conv2D)              (None, 200, 200, 32) 9248        re_lu_9[0][0]\n__________________________________________________________________________________________________\nconv2d_22 (Conv2D)              (None, 200, 200, 32) 9248        conv2d_21[0][0]\n__________________________________________________________________________________________________\ntf_op_layer_AddV2_10 (TensorFlo [(None, 200, 200, 32 0           conv2d_22[0][0]\n                                                                 re_lu_9[0][0]\n__________________________________________________________________________________________________\nbatch_normalization_10 (BatchNo (None, 200, 200, 32) 128         tf_op_layer_AddV2_10[0][0]\n__________________________________________________________________________________________________\nre_lu_10 (ReLU)                 (None, 200, 200, 32) 0           batch_normalization_10[0][0]\n__________________________________________________________________________________________________\nconv2d_23 (Conv2D)              (None, 200, 200, 32) 9248        re_lu_10[0][0]\n__________________________________________________________________________________________________\nconv2d_24 (Conv2D)              (None, 200, 200, 32) 9248        conv2d_23[0][0]\n__________________________________________________________________________________________________\ntf_op_layer_AddV2_11 (TensorFlo [(None, 200, 200, 32 0           conv2d_24[0][0]\n                                                                 re_lu_10[0][0]\n__________________________________________________________________________________________________\nbatch_normalization_11 (BatchNo (None, 200, 200, 32) 128         tf_op_layer_AddV2_11[0][0]\n__________________________________________________________________________________________________\nre_lu_11 (ReLU)                 (None, 200, 200, 32) 0           batch_normalization_11[0][0]\n__________________________________________________________________________________________________\nconv2d_25 (Conv2D)              (None, 200, 200, 1)  289         re_lu_11[0][0]\n__________________________________________________________________________________________________\ntf_op_layer_Squeeze (TensorFlow [(None, 200, 200)]   0           conv2d_25[0][0]\n__________________________________________________________________________________________________\nactivation (Activation)         (None, 200, 200)     0           tf_op_layer_Squeeze[0][0]\n==================================================================================================\nTotal params: 215,553\nTrainable params: 214,785\nNon-trainable params: 768\n__________________________________________________________________________________________________\n"
    },
    {
     "output_type": "display_data",
     "data": {
      "text/plain": "HBox(children=(FloatProgress(value=0.0, description='Training', max=50.0, style=ProgressStyle(description_widt…",
      "application/vnd.jupyter.widget-view+json": {
       "version_major": 2,
       "version_minor": 0,
       "model_id": "c40f9917c47f4ae1932b4e433ec8e578"
      }
     },
     "metadata": {}
    },
    {
     "output_type": "stream",
     "name": "stdout",
     "text": "\nEpoch 00001: LearningRateScheduler reducing learning rate to 0.001.\n"
    },
    {
     "output_type": "display_data",
     "data": {
      "text/plain": "HBox(children=(FloatProgress(value=0.0, description='Epoch 0', max=19.0, style=ProgressStyle(description_width…",
      "application/vnd.jupyter.widget-view+json": {
       "version_major": 2,
       "version_minor": 0,
       "model_id": "e1f1ecce8d10449ebfd304c195c268f1"
      }
     },
     "metadata": {}
    },
    {
     "output_type": "stream",
     "name": "stderr",
     "text": "Process Process-1:\nTraceback (most recent call last):\n  File \"/usr/lib/python3.7/multiprocessing/process.py\", line 297, in _bootstrap\n    self.run()\n  File \"/usr/lib/python3.7/multiprocessing/process.py\", line 99, in run\n    self._target(*self._args, **self._kwargs)\n  File \"/home/jaentrouble/adipose_train2/model_trainer.py\", line 106, in run_training\n    validation_data=val_data\n  File \"/home/jaentrouble/adipose_train2/env/lib/python3.7/site-packages/tensorflow/python/keras/engine/training.py\", line 108, in _method_wrapper\n    return method(self, *args, **kwargs)\n  File \"/home/jaentrouble/adipose_train2/env/lib/python3.7/site-packages/tensorflow/python/keras/engine/training.py\", line 1098, in fit\n    tmp_logs = train_function(iterator)\n  File \"/home/jaentrouble/adipose_train2/env/lib/python3.7/site-packages/tensorflow/python/eager/def_function.py\", line 780, in __call__\n    result = self._call(*args, **kwds)\n  File \"/home/jaentrouble/adipose_train2/env/lib/python3.7/site-packages/tensorflow/python/eager/def_function.py\", line 840, in _call\n    return self._stateless_fn(*args, **kwds)\n  File \"/home/jaentrouble/adipose_train2/env/lib/python3.7/site-packages/tensorflow/python/eager/function.py\", line 2829, in __call__\n    return graph_function._filtered_call(args, kwargs)  # pylint: disable=protected-access\n  File \"/home/jaentrouble/adipose_train2/env/lib/python3.7/site-packages/tensorflow/python/eager/function.py\", line 1848, in _filtered_call\n    cancellation_manager=cancellation_manager)\n  File \"/home/jaentrouble/adipose_train2/env/lib/python3.7/site-packages/tensorflow/python/eager/function.py\", line 1924, in _call_flat\n    ctx, args, cancellation_manager=cancellation_manager))\n  File \"/home/jaentrouble/adipose_train2/env/lib/python3.7/site-packages/tensorflow/python/eager/function.py\", line 550, in call\n    ctx=ctx)\n  File \"/home/jaentrouble/adipose_train2/env/lib/python3.7/site-packages/tensorflow/python/eager/execute.py\", line 60, in quick_execute\n    inputs, attrs, num_outputs)\ntensorflow.python.framework.errors_impl.ResourceExhaustedError:  OOM when allocating tensor with shape[64,32,200,200] and type float on /job:localhost/replica:0/task:0/device:GPU:0 by allocator GPU_0_bfc\n\t [[node adipose_model/functional_1/batch_normalization_7/FusedBatchNormV3 (defined at /home/jaentrouble/adipose_train2/model_trainer.py:25) ]]\nHint: If you want to see a list of allocated tensors when OOM happens, add report_tensor_allocations_upon_oom to RunOptions for current allocation info.\n [Op:__inference_train_function_5134]\n\nFunction call stack:\ntrain_function\n\n"
    }
   ],
   "source": [
    "kwargs = {}\n",
    "kwargs['model_f'] = model_f\n",
    "kwargs['lr_f'] = lr_f\n",
    "kwargs['name'] = name\n",
    "kwargs['epochs'] = epochs\n",
    "kwargs['batch_size'] = 32\n",
    "kwargs['X_train'] = X_train\n",
    "kwargs['Y_train'] = Y_train\n",
    "kwargs['val_data'] = (X_val, Y_val)\n",
    "kwargs['mixed_float'] = mixed_float\n",
    "p = Process(target=run_training, kwargs=kwargs)\n",
    "p.start()\n",
    "p.join()"
   ]
  },
  {
   "cell_type": "code",
   "execution_count": null,
   "metadata": {},
   "outputs": [],
   "source": []
  }
 ]
}