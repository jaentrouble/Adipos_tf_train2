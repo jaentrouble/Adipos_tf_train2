{
 "metadata": {
  "language_info": {
   "codemirror_mode": {
    "name": "ipython",
    "version": 3
   },
   "file_extension": ".py",
   "mimetype": "text/x-python",
   "name": "python",
   "nbconvert_exporter": "python",
   "pygments_lexer": "ipython3",
   "version": "3.7.8-final"
  },
  "orig_nbformat": 2,
  "kernelspec": {
   "name": "train2_venv",
   "display_name": "train2_venv"
  }
 },
 "nbformat": 4,
 "nbformat_minor": 2,
 "cells": [
  {
   "cell_type": "code",
   "execution_count": 1,
   "metadata": {},
   "outputs": [],
   "source": [
    "%matplotlib inline\n",
    "%load_ext autoreload"
   ]
  },
  {
   "cell_type": "code",
   "execution_count": 2,
   "metadata": {},
   "outputs": [],
   "source": [
    "import numpy as np\n",
    "import matplotlib.pyplot as plt\n",
    "from multiprocessing import Process"
   ]
  },
  {
   "cell_type": "code",
   "execution_count": 3,
   "metadata": {
    "tags": []
   },
   "outputs": [
    {
     "output_type": "stream",
     "name": "stdout",
     "text": "/home/jaentrouble/adipose_train2\n"
    }
   ],
   "source": [
    "import os\n",
    "os.chdir('/home/jaentrouble/adipose_train2')\n",
    "print(os.getcwd())"
   ]
  },
  {
   "cell_type": "code",
   "execution_count": 4,
   "metadata": {
    "tags": []
   },
   "outputs": [],
   "source": [
    "with np.load('cell_mask_data.npz') as data:\n",
    "    X = data['img']\n",
    "    Y = data['mask']"
   ]
  },
  {
   "cell_type": "code",
   "execution_count": 5,
   "metadata": {
    "tags": []
   },
   "outputs": [
    {
     "output_type": "stream",
     "name": "stdout",
     "text": "X shape: (1533, 200, 200, 3)\nY shape: (1533, 200, 200)\n"
    }
   ],
   "source": [
    "print('X shape:',X.shape)\n",
    "print('Y shape:',Y.shape)"
   ]
  },
  {
   "cell_type": "code",
   "execution_count": 6,
   "metadata": {},
   "outputs": [],
   "source": [
    "X_train = X[:1200]\n",
    "Y_train = Y[:1200]\n",
    "X_val = X[1200:1350]\n",
    "Y_val = Y[1200:1350]\n",
    "X_test = X[1350:]\n",
    "Y_test = Y[1350:]"
   ]
  },
  {
   "cell_type": "code",
   "execution_count": 7,
   "metadata": {},
   "outputs": [],
   "source": [
    "from model_trainer import run_training\n",
    "from adipose_models import *\n",
    "from model_lr import *"
   ]
  },
  {
   "cell_type": "code",
   "execution_count": 8,
   "metadata": {
    "tags": []
   },
   "outputs": [
    {
     "output_type": "stream",
     "name": "stdout",
     "text": "remote: Enumerating objects: 5, done.\u001b[K\nremote: Counting objects: 100% (5/5), done.\u001b[K\nremote: Compressing objects: 100% (2/2), done.\u001b[K\nUnpacking objects:  66% (2/3)remote: Total 3 (delta 1), reused 3 (delta 1), pack-reused 0\u001b[K\nUnpacking objects: 100% (3/3), 466.97 KiB | 634.00 KiB/s, done.\nFrom https://github.com/jaentrouble/Adipos_tf_train2\n   3688975..354b631  master     -> origin/master\nUpdating 3688975..354b631\nFast-forward\n view_result.ipynb | 111 \u001b[32m+++++++++++++++++++++++++++++++++++++++++\u001b[m\u001b[31m-------------\u001b[m\n 1 file changed, 85 insertions(+), 26 deletions(-)\n"
    }
   ],
   "source": [
    "!git pull\n",
    "%autoreload"
   ]
  },
  {
   "cell_type": "code",
   "execution_count": 9,
   "metadata": {},
   "outputs": [],
   "source": [
    "model_f = conv4_b2_0\n",
    "lr_f = lr_mul_inv\n",
    "name = 'conv4_b2_0'\n",
    "epochs = 10"
   ]
  },
  {
   "cell_type": "code",
   "execution_count": 10,
   "metadata": {
    "tags": []
   },
   "outputs": [
    {
     "output_type": "stream",
     "name": "stdout",
     "text": "INFO:tensorflow:Mixed precision compatibility check (mixed_float16): OK\nYour GPU will likely run quickly with dtype policy mixed_float16 as it has compute capability of at least 7.0. Your GPU: GeForce RTX 2070 SUPER, compute capability 7.5\nModel: \"functional_1\"\n_________________________________________________________________\nLayer (type)                 Output Shape              Param #\n=================================================================\ninput_1 (InputLayer)         [(None, 200, 200, 3)]     0\n_________________________________________________________________\nconv2d (Conv2D)              (None, 200, 200, 32)      896\n_________________________________________________________________\nconv2d_1 (Conv2D)            (None, 200, 200, 32)      9248\n_________________________________________________________________\nbatch_normalization (BatchNo (None, 200, 200, 32)      128\n_________________________________________________________________\nconv2d_2 (Conv2D)            (None, 200, 200, 32)      9248\n_________________________________________________________________\nconv2d_3 (Conv2D)            (None, 200, 200, 32)      9248\n_________________________________________________________________\nbatch_normalization_1 (Batch (None, 200, 200, 32)      128\n_________________________________________________________________\nconv2d_4 (Conv2D)            (None, 200, 200, 1)       289\n_________________________________________________________________\ntf_op_layer_Squeeze (TensorF [(None, 200, 200)]        0\n_________________________________________________________________\nactivation (Activation)      (None, 200, 200)          0\n=================================================================\nTotal params: 29,185\nTrainable params: 29,057\nNon-trainable params: 128\n_________________________________________________________________\n"
    },
    {
     "output_type": "display_data",
     "data": {
      "text/plain": "HBox(children=(FloatProgress(value=0.0, description='Training', max=10.0, style=ProgressStyle(description_widt…",
      "application/vnd.jupyter.widget-view+json": {
       "version_major": 2,
       "version_minor": 0,
       "model_id": "d5dfcf5dc85c4547bde50d812eb28c32"
      }
     },
     "metadata": {}
    },
    {
     "output_type": "stream",
     "name": "stdout",
     "text": "\nEpoch 00001: LearningRateScheduler reducing learning rate to 0.01.\n"
    },
    {
     "output_type": "display_data",
     "data": {
      "text/plain": "HBox(children=(FloatProgress(value=0.0, description='Epoch 0', max=19.0, style=ProgressStyle(description_width…",
      "application/vnd.jupyter.widget-view+json": {
       "version_major": 2,
       "version_minor": 0,
       "model_id": "5e9057bda56b40548ca8eb4bd8325bbc"
      }
     },
     "metadata": {}
    },
    {
     "output_type": "stream",
     "name": "stdout",
     "text": "WARNING:tensorflow:From /home/jaentrouble/adipose_train2/env/lib/python3.7/site-packages/tensorflow/python/ops/summary_ops_v2.py:1277: stop (from tensorflow.python.eager.profiler) is deprecated and will be removed after 2020-07-01.\nInstructions for updating:\nuse `tf.profiler.experimental.stop` instead.\n\nEpoch 00001: saving model to savedmodels/conv4_b2_0/1\n\nloss:0.6439998149871826, binary_accuracy:0.6739782691001892, val_loss:0.693406879901886, val_binary_accuracy:0.6798827648162842, lr:0.01\n\nEpoch 00002: LearningRateScheduler reducing learning rate to 0.005.\n"
    },
    {
     "output_type": "display_data",
     "data": {
      "text/plain": "HBox(children=(FloatProgress(value=0.0, description='Epoch 1', max=19.0, style=ProgressStyle(description_width…",
      "application/vnd.jupyter.widget-view+json": {
       "version_major": 2,
       "version_minor": 0,
       "model_id": "25a7524072074a01aa63b0a28731f848"
      }
     },
     "metadata": {}
    },
    {
     "output_type": "stream",
     "name": "stdout",
     "text": "\nEpoch 00002: saving model to savedmodels/conv4_b2_0/2\n\nloss:0.5307350158691406, binary_accuracy:0.7434765696525574, val_loss:0.6931471824645996, val_binary_accuracy:0.6808908581733704, lr:0.005\n\nEpoch 00003: LearningRateScheduler reducing learning rate to 0.0033333333333333335.\n"
    },
    {
     "output_type": "display_data",
     "data": {
      "text/plain": "HBox(children=(FloatProgress(value=0.0, description='Epoch 2', max=19.0, style=ProgressStyle(description_width…",
      "application/vnd.jupyter.widget-view+json": {
       "version_major": 2,
       "version_minor": 0,
       "model_id": "90c30bbd222d40fbb027c35398d6f36e"
      }
     },
     "metadata": {}
    },
    {
     "output_type": "stream",
     "name": "stdout",
     "text": "\nEpoch 00003: saving model to savedmodels/conv4_b2_0/3\n\nloss:0.5226588845252991, binary_accuracy:0.7434773445129395, val_loss:0.6932306289672852, val_binary_accuracy:0.6808899641036987, lr:0.0033333334\n\nEpoch 00004: LearningRateScheduler reducing learning rate to 0.0025.\n"
    },
    {
     "output_type": "display_data",
     "data": {
      "text/plain": "HBox(children=(FloatProgress(value=0.0, description='Epoch 3', max=19.0, style=ProgressStyle(description_width…",
      "application/vnd.jupyter.widget-view+json": {
       "version_major": 2,
       "version_minor": 0,
       "model_id": "eadc5246a53e410fa3c56d15880c19b4"
      }
     },
     "metadata": {}
    },
    {
     "output_type": "stream",
     "name": "stdout",
     "text": "\nEpoch 00004: saving model to savedmodels/conv4_b2_0/4\n\nloss:0.5192519426345825, binary_accuracy:0.743476390838623, val_loss:0.6936290264129639, val_binary_accuracy:0.6808903813362122, lr:0.0025\n\nEpoch 00005: LearningRateScheduler reducing learning rate to 0.002.\n"
    },
    {
     "output_type": "display_data",
     "data": {
      "text/plain": "HBox(children=(FloatProgress(value=0.0, description='Epoch 4', max=19.0, style=ProgressStyle(description_width…",
      "application/vnd.jupyter.widget-view+json": {
       "version_major": 2,
       "version_minor": 0,
       "model_id": "cebc0ecf13784ea488682797f205b0c9"
      }
     },
     "metadata": {}
    },
    {
     "output_type": "stream",
     "name": "stdout",
     "text": "\nEpoch 00005: saving model to savedmodels/conv4_b2_0/5\n\nloss:0.5168443918228149, binary_accuracy:0.7434598803520203, val_loss:0.6936889290809631, val_binary_accuracy:0.6808899641036987, lr:0.002\n\nEpoch 00006: LearningRateScheduler reducing learning rate to 0.0016666666666666668.\n"
    },
    {
     "output_type": "display_data",
     "data": {
      "text/plain": "HBox(children=(FloatProgress(value=0.0, description='Epoch 5', max=19.0, style=ProgressStyle(description_width…",
      "application/vnd.jupyter.widget-view+json": {
       "version_major": 2,
       "version_minor": 0,
       "model_id": "f1b70f57600f4a61a1d4c81e7eed5eff"
      }
     },
     "metadata": {}
    },
    {
     "output_type": "stream",
     "name": "stdout",
     "text": "\nEpoch 00006: saving model to savedmodels/conv4_b2_0/6\n\nloss:0.5154546499252319, binary_accuracy:0.7434624433517456, val_loss:0.6953198313713074, val_binary_accuracy:0.6808346509933472, lr:0.0016666667\n\nEpoch 00007: LearningRateScheduler reducing learning rate to 0.0014285714285714286.\n"
    },
    {
     "output_type": "display_data",
     "data": {
      "text/plain": "HBox(children=(FloatProgress(value=0.0, description='Epoch 6', max=19.0, style=ProgressStyle(description_width…",
      "application/vnd.jupyter.widget-view+json": {
       "version_major": 2,
       "version_minor": 0,
       "model_id": "209dfb915c374d9582fe5e6195461d49"
      }
     },
     "metadata": {}
    },
    {
     "output_type": "stream",
     "name": "stdout",
     "text": "\nEpoch 00007: saving model to savedmodels/conv4_b2_0/7\n\nloss:0.5142838358879089, binary_accuracy:0.7434690594673157, val_loss:0.6941013932228088, val_binary_accuracy:0.6808889508247375, lr:0.0014285714\n\nEpoch 00008: LearningRateScheduler reducing learning rate to 0.00125.\n"
    },
    {
     "output_type": "display_data",
     "data": {
      "text/plain": "HBox(children=(FloatProgress(value=0.0, description='Epoch 7', max=19.0, style=ProgressStyle(description_width…",
      "application/vnd.jupyter.widget-view+json": {
       "version_major": 2,
       "version_minor": 0,
       "model_id": "1ade0145e9ac4e4f9f12a7510cb26f5b"
      }
     },
     "metadata": {}
    },
    {
     "output_type": "stream",
     "name": "stdout",
     "text": "\nEpoch 00008: saving model to savedmodels/conv4_b2_0/8\n\nloss:0.5132395625114441, binary_accuracy:0.7434806227684021, val_loss:0.6966869831085205, val_binary_accuracy:0.6807708740234375, lr:0.00125\n\nEpoch 00009: LearningRateScheduler reducing learning rate to 0.0011111111111111111.\n"
    },
    {
     "output_type": "display_data",
     "data": {
      "text/plain": "HBox(children=(FloatProgress(value=0.0, description='Epoch 8', max=19.0, style=ProgressStyle(description_width…",
      "application/vnd.jupyter.widget-view+json": {
       "version_major": 2,
       "version_minor": 0,
       "model_id": "8a38f848bcf24f828aa400abed8235b9"
      }
     },
     "metadata": {}
    },
    {
     "output_type": "stream",
     "name": "stdout",
     "text": "\nEpoch 00009: saving model to savedmodels/conv4_b2_0/9\n\nloss:0.5127952694892883, binary_accuracy:0.743472158908844, val_loss:0.6962437629699707, val_binary_accuracy:0.680850625038147, lr:0.0011111111\n\nEpoch 00010: LearningRateScheduler reducing learning rate to 0.001.\n"
    },
    {
     "output_type": "display_data",
     "data": {
      "text/plain": "HBox(children=(FloatProgress(value=0.0, description='Epoch 9', max=19.0, style=ProgressStyle(description_width…",
      "application/vnd.jupyter.widget-view+json": {
       "version_major": 2,
       "version_minor": 0,
       "model_id": "7e0705603c574b939fc44a637b7764a8"
      }
     },
     "metadata": {}
    },
    {
     "output_type": "stream",
     "name": "stdout",
     "text": "\nEpoch 00010: saving model to savedmodels/conv4_b2_0/10\n\nloss:0.512697160243988, binary_accuracy:0.7434669137001038, val_loss:0.6995658278465271, val_binary_accuracy:0.6785961389541626, lr:0.001\n\nTook 33.05506944656372 seconds\n"
    }
   ],
   "source": [
    "kwargs = {}\n",
    "kwargs['model_f'] = model_f\n",
    "kwargs['lr_f'] = lr_f\n",
    "kwargs['name'] = name\n",
    "kwargs['epochs'] = epochs\n",
    "kwargs['batch_size'] = 64\n",
    "kwargs['X_train'] = X_train\n",
    "kwargs['Y_train'] = Y_train\n",
    "kwargs['val_data'] = (X_val, Y_val)\n",
    "p = Process(target=run_training, kwargs=kwargs)\n",
    "p.start()\n",
    "p.join()"
   ]
  },
  {
   "cell_type": "code",
   "execution_count": null,
   "metadata": {},
   "outputs": [],
   "source": []
  }
 ]
}