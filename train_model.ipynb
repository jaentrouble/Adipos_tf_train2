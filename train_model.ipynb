{
 "metadata": {
  "language_info": {
   "codemirror_mode": {
    "name": "ipython",
    "version": 3
   },
   "file_extension": ".py",
   "mimetype": "text/x-python",
   "name": "python",
   "nbconvert_exporter": "python",
   "pygments_lexer": "ipython3",
   "version": "3.7.8-final"
  },
  "orig_nbformat": 2,
  "kernelspec": {
   "name": "train2_venv",
   "display_name": "train2_venv"
  }
 },
 "nbformat": 4,
 "nbformat_minor": 2,
 "cells": [
  {
   "cell_type": "code",
   "execution_count": 1,
   "metadata": {
    "tags": []
   },
   "outputs": [],
   "source": [
    "%matplotlib inline\n",
    "%load_ext autoreload"
   ]
  },
  {
   "cell_type": "code",
   "execution_count": 2,
   "metadata": {},
   "outputs": [],
   "source": [
    "import numpy as np\n",
    "import matplotlib.pyplot as plt\n",
    "from multiprocessing import Process"
   ]
  },
  {
   "cell_type": "code",
   "execution_count": 3,
   "metadata": {
    "tags": []
   },
   "outputs": [
    {
     "output_type": "stream",
     "name": "stdout",
     "text": "/home/jaentrouble/adipose_train2\n"
    }
   ],
   "source": [
    "import os\n",
    "os.chdir('/home/jaentrouble/adipose_train2')\n",
    "print(os.getcwd())"
   ]
  },
  {
   "cell_type": "code",
   "execution_count": 4,
   "metadata": {
    "tags": []
   },
   "outputs": [],
   "source": [
    "with np.load('cell_mask_data.npz') as data:\n",
    "    X = data['img']\n",
    "    Y = data['mask']"
   ]
  },
  {
   "cell_type": "code",
   "execution_count": 5,
   "metadata": {
    "tags": []
   },
   "outputs": [
    {
     "output_type": "stream",
     "name": "stdout",
     "text": "X shape: (1533, 200, 200, 3)\nY shape: (1533, 200, 200)\n"
    }
   ],
   "source": [
    "print('X shape:',X.shape)\n",
    "print('Y shape:',Y.shape)"
   ]
  },
  {
   "cell_type": "code",
   "execution_count": 6,
   "metadata": {},
   "outputs": [],
   "source": [
    "X_train = X[:1200]\n",
    "Y_train = Y[:1200]\n",
    "X_val = X[1200:1350]\n",
    "Y_val = Y[1200:1350]\n",
    "X_test = X[1350:]\n",
    "Y_test = Y[1350:]"
   ]
  },
  {
   "cell_type": "code",
   "execution_count": 7,
   "metadata": {
    "tags": []
   },
   "outputs": [
    {
     "output_type": "stream",
     "name": "stdout",
     "text": "remote: Enumerating objects: 16, done.\u001b[K\nremote: Counting objects: 100% (16/16), done.\u001b[K\nremote: Compressing objects: 100% (4/4), done.\u001b[K\nUnpacking objects:  90% (10/11), 188.00 KiB | 346.00 KiB/sremote: Total 11 (delta 6), reused 11 (delta 6), pack-reused 0\u001b[K\nUnpacking objects: 100% (11/11), 510.51 KiB | 632.00 KiB/s, done.\nFrom https://github.com/jaentrouble/Adipos_tf_train2\n   9b95920..0221b05  master     -> origin/master\nUpdating 9b95920..0221b05\nFast-forward\n adipose_models.py                       |  28 \u001b[32m+++++\u001b[m\n model_graph/res_4_2_0_noBN.png          | Bin \u001b[31m0\u001b[m -> \u001b[32m60552\u001b[m bytes\n result_images/res_4_2_0_noBN_linear.png | Bin \u001b[31m0\u001b[m -> \u001b[32m307378\u001b[m bytes\n train_model.ipynb                       | 189 \u001b[32m++++++++++++++++++++++++\u001b[m\u001b[31m--------\u001b[m\n view_result.ipynb                       |  42 \u001b[32m+++++\u001b[m\u001b[31m--\u001b[m\n 5 files changed, 202 insertions(+), 57 deletions(-)\n create mode 100644 model_graph/res_4_2_0_noBN.png\n create mode 100644 result_images/res_4_2_0_noBN_linear.png\n"
    }
   ],
   "source": [
    "!git pull\n",
    "%autoreload"
   ]
  },
  {
   "cell_type": "code",
   "execution_count": 8,
   "metadata": {},
   "outputs": [],
   "source": [
    "from model_trainer import run_training\n",
    "from adipose_models import *\n",
    "from model_lr import *"
   ]
  },
  {
   "cell_type": "code",
   "execution_count": 9,
   "metadata": {},
   "outputs": [],
   "source": [
    "model_f = res_4_2_0_BN\n",
    "lr_f = lr_mul_inv\n",
    "name = 'res_4_2_0_BN'\n",
    "epochs = 10\n",
    "mixed_float = True"
   ]
  },
  {
   "cell_type": "code",
   "execution_count": 10,
   "metadata": {
    "tags": []
   },
   "outputs": [
    {
     "output_type": "stream",
     "name": "stdout",
     "text": "INFO:tensorflow:Mixed precision compatibility check (mixed_float16): OK\nYour GPU will likely run quickly with dtype policy mixed_float16 as it has compute capability of at least 7.0. Your GPU: GeForce RTX 2070 SUPER, compute capability 7.5\nModel: \"functional_1\"\n__________________________________________________________________________________________________\nLayer (type)                    Output Shape         Param #     Connected to\n==================================================================================================\ninput_1 (InputLayer)            [(None, 200, 200, 3) 0\n__________________________________________________________________________________________________\nconv2d_1 (Conv2D)               (None, 200, 200, 32) 896         input_1[0][0]\n__________________________________________________________________________________________________\nconv2d_2 (Conv2D)               (None, 200, 200, 32) 9248        conv2d_1[0][0]\n__________________________________________________________________________________________________\nconv2d (Conv2D)                 (None, 200, 200, 32) 128         input_1[0][0]\n__________________________________________________________________________________________________\ntf_op_layer_AddV2 (TensorFlowOp [(None, 200, 200, 32 0           conv2d_2[0][0]\n                                                                 conv2d[0][0]\n__________________________________________________________________________________________________\nbatch_normalization (BatchNorma (None, 200, 200, 32) 128         tf_op_layer_AddV2[0][0]\n__________________________________________________________________________________________________\nre_lu (ReLU)                    (None, 200, 200, 32) 0           batch_normalization[0][0]\n__________________________________________________________________________________________________\nconv2d_3 (Conv2D)               (None, 200, 200, 32) 9248        re_lu[0][0]\n__________________________________________________________________________________________________\nconv2d_4 (Conv2D)               (None, 200, 200, 32) 9248        conv2d_3[0][0]\n__________________________________________________________________________________________________\ntf_op_layer_AddV2_1 (TensorFlow [(None, 200, 200, 32 0           conv2d_4[0][0]\n                                                                 re_lu[0][0]\n__________________________________________________________________________________________________\nbatch_normalization_1 (BatchNor (None, 200, 200, 32) 128         tf_op_layer_AddV2_1[0][0]\n__________________________________________________________________________________________________\nre_lu_1 (ReLU)                  (None, 200, 200, 32) 0           batch_normalization_1[0][0]\n__________________________________________________________________________________________________\nconv2d_5 (Conv2D)               (None, 200, 200, 32) 9248        re_lu_1[0][0]\n__________________________________________________________________________________________________\nconv2d_6 (Conv2D)               (None, 200, 200, 32) 9248        conv2d_5[0][0]\n__________________________________________________________________________________________________\ntf_op_layer_AddV2_2 (TensorFlow [(None, 200, 200, 32 0           conv2d_6[0][0]\n                                                                 re_lu_1[0][0]\n__________________________________________________________________________________________________\nbatch_normalization_2 (BatchNor (None, 200, 200, 32) 128         tf_op_layer_AddV2_2[0][0]\n__________________________________________________________________________________________________\nre_lu_2 (ReLU)                  (None, 200, 200, 32) 0           batch_normalization_2[0][0]\n__________________________________________________________________________________________________\nconv2d_7 (Conv2D)               (None, 200, 200, 32) 9248        re_lu_2[0][0]\n__________________________________________________________________________________________________\nconv2d_8 (Conv2D)               (None, 200, 200, 32) 9248        conv2d_7[0][0]\n__________________________________________________________________________________________________\ntf_op_layer_AddV2_3 (TensorFlow [(None, 200, 200, 32 0           conv2d_8[0][0]\n                                                                 re_lu_2[0][0]\n__________________________________________________________________________________________________\nbatch_normalization_3 (BatchNor (None, 200, 200, 32) 128         tf_op_layer_AddV2_3[0][0]\n__________________________________________________________________________________________________\nre_lu_3 (ReLU)                  (None, 200, 200, 32) 0           batch_normalization_3[0][0]\n__________________________________________________________________________________________________\nconv2d_9 (Conv2D)               (None, 200, 200, 1)  289         re_lu_3[0][0]\n__________________________________________________________________________________________________\ntf_op_layer_Squeeze (TensorFlow [(None, 200, 200)]   0           conv2d_9[0][0]\n__________________________________________________________________________________________________\nactivation (Activation)         (None, 200, 200)     0           tf_op_layer_Squeeze[0][0]\n==================================================================================================\nTotal params: 66,561\nTrainable params: 66,305\nNon-trainable params: 256\n__________________________________________________________________________________________________\n"
    },
    {
     "output_type": "display_data",
     "data": {
      "text/plain": "HBox(children=(FloatProgress(value=0.0, description='Training', max=10.0, style=ProgressStyle(description_widt…",
      "application/vnd.jupyter.widget-view+json": {
       "version_major": 2,
       "version_minor": 0,
       "model_id": "70e1e2a3e821443dace46dafca20f2e6"
      }
     },
     "metadata": {}
    },
    {
     "output_type": "stream",
     "name": "stdout",
     "text": "\nEpoch 00001: LearningRateScheduler reducing learning rate to 0.01.\n"
    },
    {
     "output_type": "display_data",
     "data": {
      "text/plain": "HBox(children=(FloatProgress(value=0.0, description='Epoch 0', max=19.0, style=ProgressStyle(description_width…",
      "application/vnd.jupyter.widget-view+json": {
       "version_major": 2,
       "version_minor": 0,
       "model_id": "45c4239bb336432b9eba585556c3548a"
      }
     },
     "metadata": {}
    },
    {
     "output_type": "stream",
     "name": "stdout",
     "text": "WARNING:tensorflow:From /home/jaentrouble/adipose_train2/env/lib/python3.7/site-packages/tensorflow/python/ops/summary_ops_v2.py:1277: stop (from tensorflow.python.eager.profiler) is deprecated and will be removed after 2020-07-01.\nInstructions for updating:\nuse `tf.profiler.experimental.stop` instead.\n\nEpoch 00001: saving model to savedmodels/res_4_2_0_BN/1\n\nloss:0.5660999417304993, binary_accuracy:0.7206896543502808, val_loss:0.6931471824645996, val_binary_accuracy:0.6808908581733704, lr:0.01\n\nEpoch 00002: LearningRateScheduler reducing learning rate to 0.005.\n"
    },
    {
     "output_type": "display_data",
     "data": {
      "text/plain": "HBox(children=(FloatProgress(value=0.0, description='Epoch 1', max=19.0, style=ProgressStyle(description_width…",
      "application/vnd.jupyter.widget-view+json": {
       "version_major": 2,
       "version_minor": 0,
       "model_id": "0264cab853fc42279da89166f67fbff3"
      }
     },
     "metadata": {}
    },
    {
     "output_type": "stream",
     "name": "stdout",
     "text": "\nEpoch 00002: saving model to savedmodels/res_4_2_0_BN/2\n\nloss:0.5167668461799622, binary_accuracy:0.7434772849082947, val_loss:0.6931471824645996, val_binary_accuracy:0.6808908581733704, lr:0.005\n\nEpoch 00003: LearningRateScheduler reducing learning rate to 0.0033333333333333335.\n"
    },
    {
     "output_type": "display_data",
     "data": {
      "text/plain": "HBox(children=(FloatProgress(value=0.0, description='Epoch 2', max=19.0, style=ProgressStyle(description_width…",
      "application/vnd.jupyter.widget-view+json": {
       "version_major": 2,
       "version_minor": 0,
       "model_id": "f42180cb050b4eedb14c97d1b1e0a016"
      }
     },
     "metadata": {}
    },
    {
     "output_type": "stream",
     "name": "stdout",
     "text": "\nEpoch 00003: saving model to savedmodels/res_4_2_0_BN/3\n\nloss:0.5099409222602844, binary_accuracy:0.7434772849082947, val_loss:0.6931471824645996, val_binary_accuracy:0.6808908581733704, lr:0.0033333334\n\nEpoch 00004: LearningRateScheduler reducing learning rate to 0.0025.\n"
    },
    {
     "output_type": "display_data",
     "data": {
      "text/plain": "HBox(children=(FloatProgress(value=0.0, description='Epoch 3', max=19.0, style=ProgressStyle(description_width…",
      "application/vnd.jupyter.widget-view+json": {
       "version_major": 2,
       "version_minor": 0,
       "model_id": "9f0c0bce46a747c6a588d4bc0bc419a0"
      }
     },
     "metadata": {}
    },
    {
     "output_type": "stream",
     "name": "stdout",
     "text": "\nEpoch 00004: saving model to savedmodels/res_4_2_0_BN/4\n\nloss:0.49804940819740295, binary_accuracy:0.7434772849082947, val_loss:0.6969988346099854, val_binary_accuracy:0.6696233749389648, lr:0.0025\n\nEpoch 00005: LearningRateScheduler reducing learning rate to 0.002.\n"
    },
    {
     "output_type": "display_data",
     "data": {
      "text/plain": "HBox(children=(FloatProgress(value=0.0, description='Epoch 4', max=19.0, style=ProgressStyle(description_width…",
      "application/vnd.jupyter.widget-view+json": {
       "version_major": 2,
       "version_minor": 0,
       "model_id": "3e36943af28b4567ad686fc68051d8ce"
      }
     },
     "metadata": {}
    },
    {
     "output_type": "stream",
     "name": "stdout",
     "text": "\nEpoch 00005: saving model to savedmodels/res_4_2_0_BN/5\n\nloss:0.4934019446372986, binary_accuracy:0.7434772849082947, val_loss:0.7241777777671814, val_binary_accuracy:0.4712316691875458, lr:0.002\n\nEpoch 00006: LearningRateScheduler reducing learning rate to 0.0016666666666666668.\n"
    },
    {
     "output_type": "display_data",
     "data": {
      "text/plain": "HBox(children=(FloatProgress(value=0.0, description='Epoch 5', max=19.0, style=ProgressStyle(description_width…",
      "application/vnd.jupyter.widget-view+json": {
       "version_major": 2,
       "version_minor": 0,
       "model_id": "f089dda3c41f41e888cdb3d9f2e59229"
      }
     },
     "metadata": {}
    },
    {
     "output_type": "stream",
     "name": "stdout",
     "text": "\nEpoch 00006: saving model to savedmodels/res_4_2_0_BN/6\n\nloss:0.4887441396713257, binary_accuracy:0.7434772253036499, val_loss:0.7132247686386108, val_binary_accuracy:0.4732936918735504, lr:0.0016666667\n\nEpoch 00007: LearningRateScheduler reducing learning rate to 0.0014285714285714286.\n"
    },
    {
     "output_type": "display_data",
     "data": {
      "text/plain": "HBox(children=(FloatProgress(value=0.0, description='Epoch 6', max=19.0, style=ProgressStyle(description_width…",
      "application/vnd.jupyter.widget-view+json": {
       "version_major": 2,
       "version_minor": 0,
       "model_id": "f265219df8e64869bbf4d60c831c8f66"
      }
     },
     "metadata": {}
    },
    {
     "output_type": "stream",
     "name": "stdout",
     "text": "\nEpoch 00007: saving model to savedmodels/res_4_2_0_BN/7\n\nloss:0.48715677857398987, binary_accuracy:0.7434772849082947, val_loss:0.7180619835853577, val_binary_accuracy:0.48708099126815796, lr:0.0014285714\n\nEpoch 00008: LearningRateScheduler reducing learning rate to 0.00125.\n"
    },
    {
     "output_type": "display_data",
     "data": {
      "text/plain": "HBox(children=(FloatProgress(value=0.0, description='Epoch 7', max=19.0, style=ProgressStyle(description_width…",
      "application/vnd.jupyter.widget-view+json": {
       "version_major": 2,
       "version_minor": 0,
       "model_id": "308a2ccbbfb54676bd070d3d9c9cd56c"
      }
     },
     "metadata": {}
    },
    {
     "output_type": "stream",
     "name": "stdout",
     "text": "\nEpoch 00008: saving model to savedmodels/res_4_2_0_BN/8\n\nloss:0.4857891798019409, binary_accuracy:0.7434773445129395, val_loss:0.7036460638046265, val_binary_accuracy:0.5976204872131348, lr:0.00125\n\nEpoch 00009: LearningRateScheduler reducing learning rate to 0.0011111111111111111.\n"
    },
    {
     "output_type": "display_data",
     "data": {
      "text/plain": "HBox(children=(FloatProgress(value=0.0, description='Epoch 8', max=19.0, style=ProgressStyle(description_width…",
      "application/vnd.jupyter.widget-view+json": {
       "version_major": 2,
       "version_minor": 0,
       "model_id": "6b9ccd756d854b2ab1c7936e2003215a"
      }
     },
     "metadata": {}
    },
    {
     "output_type": "stream",
     "name": "stdout",
     "text": "\nEpoch 00009: saving model to savedmodels/res_4_2_0_BN/9\n\nloss:0.4828341603279114, binary_accuracy:0.7434772253036499, val_loss:0.7019031047821045, val_binary_accuracy:0.6541227102279663, lr:0.0011111111\n\nEpoch 00010: LearningRateScheduler reducing learning rate to 0.001.\n"
    },
    {
     "output_type": "display_data",
     "data": {
      "text/plain": "HBox(children=(FloatProgress(value=0.0, description='Epoch 9', max=19.0, style=ProgressStyle(description_width…",
      "application/vnd.jupyter.widget-view+json": {
       "version_major": 2,
       "version_minor": 0,
       "model_id": "8a657813726e41f08fa913b7e85b7e18"
      }
     },
     "metadata": {}
    },
    {
     "output_type": "stream",
     "name": "stdout",
     "text": "\nEpoch 00010: saving model to savedmodels/res_4_2_0_BN/10\n\nloss:0.4816223680973053, binary_accuracy:0.7434771656990051, val_loss:0.6989368796348572, val_binary_accuracy:0.6718180179595947, lr:0.001\n\nTook 58.86925435066223 seconds\n"
    }
   ],
   "source": [
    "kwargs = {}\n",
    "kwargs['model_f'] = model_f\n",
    "kwargs['lr_f'] = lr_f\n",
    "kwargs['name'] = name\n",
    "kwargs['epochs'] = epochs\n",
    "kwargs['batch_size'] = 64\n",
    "kwargs['X_train'] = X_train\n",
    "kwargs['Y_train'] = Y_train\n",
    "kwargs['val_data'] = (X_val, Y_val)\n",
    "kwargs['mixed_float'] = mixed_float\n",
    "p = Process(target=run_training, kwargs=kwargs)\n",
    "p.start()\n",
    "p.join()"
   ]
  },
  {
   "cell_type": "code",
   "execution_count": null,
   "metadata": {},
   "outputs": [],
   "source": []
  }
 ]
}