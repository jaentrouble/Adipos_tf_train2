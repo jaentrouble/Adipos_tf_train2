{
 "metadata": {
  "language_info": {
   "codemirror_mode": {
    "name": "ipython",
    "version": 3
   },
   "file_extension": ".py",
   "mimetype": "text/x-python",
   "name": "python",
   "nbconvert_exporter": "python",
   "pygments_lexer": "ipython3",
   "version": "3.7.8-final"
  },
  "orig_nbformat": 2,
  "kernelspec": {
   "name": "train2_venv",
   "display_name": "train2_venv"
  }
 },
 "nbformat": 4,
 "nbformat_minor": 2,
 "cells": [
  {
   "cell_type": "code",
   "execution_count": 1,
   "metadata": {},
   "outputs": [],
   "source": [
    "%matplotlib inline\n",
    "%load_ext autoreload"
   ]
  },
  {
   "cell_type": "code",
   "execution_count": 2,
   "metadata": {},
   "outputs": [],
   "source": [
    "import numpy as np\n",
    "import matplotlib.pyplot as plt\n",
    "from multiprocessing import Process"
   ]
  },
  {
   "cell_type": "code",
   "execution_count": 3,
   "metadata": {
    "tags": []
   },
   "outputs": [
    {
     "output_type": "stream",
     "name": "stdout",
     "text": "/home/jaentrouble/adipose_train2\n"
    }
   ],
   "source": [
    "import os\n",
    "os.chdir('/home/jaentrouble/adipose_train2')\n",
    "print(os.getcwd())"
   ]
  },
  {
   "cell_type": "code",
   "execution_count": 4,
   "metadata": {
    "tags": []
   },
   "outputs": [],
   "source": [
    "with np.load('cell_mask_data.npz') as data:\n",
    "    X = data['img']\n",
    "    Y = data['mask']"
   ]
  },
  {
   "cell_type": "code",
   "execution_count": 5,
   "metadata": {
    "tags": []
   },
   "outputs": [
    {
     "output_type": "stream",
     "name": "stdout",
     "text": "X shape: (1533, 200, 200, 3)\nY shape: (1533, 200, 200)\n"
    }
   ],
   "source": [
    "print('X shape:',X.shape)\n",
    "print('Y shape:',Y.shape)"
   ]
  },
  {
   "cell_type": "code",
   "execution_count": 6,
   "metadata": {},
   "outputs": [],
   "source": [
    "X_train = X[:1200]\n",
    "Y_train = Y[:1200]\n",
    "X_val = X[1200:1350]\n",
    "Y_val = Y[1200:1350]\n",
    "X_test = X[1350:]\n",
    "Y_test = Y[1350:]"
   ]
  },
  {
   "cell_type": "code",
   "execution_count": 13,
   "metadata": {},
   "outputs": [],
   "source": [
    "from model_trainer import run_training\n",
    "from adipose_models import *\n",
    "from model_lr import *"
   ]
  },
  {
   "cell_type": "code",
   "execution_count": 11,
   "metadata": {
    "tags": []
   },
   "outputs": [
    {
     "output_type": "stream",
     "name": "stdout",
     "text": "remote: Enumerating objects: 7, done.\u001b[K\nremote: Counting objects: 100% (7/7), done.\u001b[K\nremote: Compressing objects: 100% (1/1), done.\u001b[K\nremote: Total 4 (delta 3), reused 4 (delta 3), pack-reused 0\u001b[K\nUnpacking objects: 100% (4/4), 1.32 KiB | 450.00 KiB/s, done.\nFrom https://github.com/jaentrouble/Adipos_tf_train2\n   5b10efc..4071066  master     -> origin/master\nUpdating 5b10efc..4071066\nFast-forward\n model_trainer.py  |  2 \u001b[32m+\u001b[m\u001b[31m-\u001b[m\n train_model.ipynb | 65 \u001b[32m+++++++++++++++++++++++++++++++++++\u001b[m\u001b[31m--------------------\u001b[m\n 2 files changed, 43 insertions(+), 24 deletions(-)\n"
    }
   ],
   "source": [
    "!git pull\n",
    "%autoreload"
   ]
  },
  {
   "cell_type": "code",
   "execution_count": 12,
   "metadata": {},
   "outputs": [],
   "source": [
    "model_f = conv4_b2_0\n",
    "lr_f = lr_mul_inv\n",
    "name = 'conv4_b2_0'\n",
    "epochs = 10"
   ]
  },
  {
   "cell_type": "code",
   "execution_count": 14,
   "metadata": {
    "tags": []
   },
   "outputs": [
    {
     "output_type": "stream",
     "name": "stdout",
     "text": "INFO:tensorflow:Mixed precision compatibility check (mixed_float16): OK\nYour GPU will likely run quickly with dtype policy mixed_float16 as it has compute capability of at least 7.0. Your GPU: GeForce RTX 2070 SUPER, compute capability 7.5\nModel: \"functional_1\"\n_________________________________________________________________\nLayer (type)                 Output Shape              Param #\n=================================================================\ninput_1 (InputLayer)         [(None, 200, 200, 3)]     0\n_________________________________________________________________\nconv2d (Conv2D)              (None, 200, 200, 32)      896\n_________________________________________________________________\nconv2d_1 (Conv2D)            (None, 200, 200, 32)      9248\n_________________________________________________________________\nbatch_normalization (BatchNo (None, 200, 200, 32)      128\n_________________________________________________________________\nconv2d_2 (Conv2D)            (None, 200, 200, 32)      9248\n_________________________________________________________________\nconv2d_3 (Conv2D)            (None, 200, 200, 32)      9248\n_________________________________________________________________\nbatch_normalization_1 (Batch (None, 200, 200, 32)      128\n_________________________________________________________________\nconv2d_4 (Conv2D)            (None, 200, 200, 1)       289\n_________________________________________________________________\ntf_op_layer_Squeeze (TensorF [(None, 200, 200)]        0\n_________________________________________________________________\nactivation (Activation)      (None, 200, 200)          0\n=================================================================\nTotal params: 29,185\nTrainable params: 29,057\nNon-trainable params: 128\n_________________________________________________________________\n"
    },
    {
     "output_type": "display_data",
     "data": {
      "text/plain": "HBox(children=(FloatProgress(value=0.0, description='Training', max=10.0, style=ProgressStyle(description_widt…",
      "application/vnd.jupyter.widget-view+json": {
       "version_major": 2,
       "version_minor": 0,
       "model_id": "22782ae723554c59933860a8be9e3acb"
      }
     },
     "metadata": {}
    },
    {
     "output_type": "stream",
     "name": "stdout",
     "text": "\nEpoch 00001: LearningRateScheduler reducing learning rate to 0.01.\n"
    },
    {
     "output_type": "display_data",
     "data": {
      "text/plain": "HBox(children=(FloatProgress(value=0.0, description='Epoch 0', max=19.0, style=ProgressStyle(description_width…",
      "application/vnd.jupyter.widget-view+json": {
       "version_major": 2,
       "version_minor": 0,
       "model_id": "b6942268239948e2bc85e6d2c1799cb0"
      }
     },
     "metadata": {}
    },
    {
     "output_type": "stream",
     "name": "stdout",
     "text": "WARNING:tensorflow:From /home/jaentrouble/adipose_train2/env/lib/python3.7/site-packages/tensorflow/python/ops/summary_ops_v2.py:1277: stop (from tensorflow.python.eager.profiler) is deprecated and will be removed after 2020-07-01.\nInstructions for updating:\nuse `tf.profiler.experimental.stop` instead.\n\nEpoch 00001: saving model to savedmodels/conv4_b2_0/1/1\n\nloss:0.6560675501823425, binary_accuracy:0.6706040501594543, val_loss:0.699138879776001, val_binary_accuracy:0.6710042953491211, lr:0.01\n\nEpoch 00002: LearningRateScheduler reducing learning rate to 0.005.\n"
    },
    {
     "output_type": "display_data",
     "data": {
      "text/plain": "HBox(children=(FloatProgress(value=0.0, description='Epoch 1', max=19.0, style=ProgressStyle(description_width…",
      "application/vnd.jupyter.widget-view+json": {
       "version_major": 2,
       "version_minor": 0,
       "model_id": "dad66aea997b475e9839799aa0e66766"
      }
     },
     "metadata": {}
    },
    {
     "output_type": "stream",
     "name": "stdout",
     "text": "\nEpoch 00002: saving model to savedmodels/conv4_b2_0/2/2\n\nloss:0.5527366995811462, binary_accuracy:0.7434707880020142, val_loss:0.7036327123641968, val_binary_accuracy:0.6605464816093445, lr:0.005\n\nEpoch 00003: LearningRateScheduler reducing learning rate to 0.0033333333333333335.\n"
    },
    {
     "output_type": "display_data",
     "data": {
      "text/plain": "HBox(children=(FloatProgress(value=0.0, description='Epoch 2', max=19.0, style=ProgressStyle(description_width…",
      "application/vnd.jupyter.widget-view+json": {
       "version_major": 2,
       "version_minor": 0,
       "model_id": "f3a288746cb7452489eaeb25c5f59ca6"
      }
     },
     "metadata": {}
    },
    {
     "output_type": "stream",
     "name": "stdout",
     "text": "\nEpoch 00003: saving model to savedmodels/conv4_b2_0/3/3\n\nloss:0.5416088104248047, binary_accuracy:0.7434256076812744, val_loss:0.7802305817604065, val_binary_accuracy:0.333605021238327, lr:0.0033333334\n\nEpoch 00004: LearningRateScheduler reducing learning rate to 0.0025.\n"
    },
    {
     "output_type": "display_data",
     "data": {
      "text/plain": "HBox(children=(FloatProgress(value=0.0, description='Epoch 3', max=19.0, style=ProgressStyle(description_width…",
      "application/vnd.jupyter.widget-view+json": {
       "version_major": 2,
       "version_minor": 0,
       "model_id": "1eeeda532d054dfcaee492e3f613d7f6"
      }
     },
     "metadata": {}
    },
    {
     "output_type": "stream",
     "name": "stdout",
     "text": "\nEpoch 00004: saving model to savedmodels/conv4_b2_0/4/4\n\nloss:0.5363297462463379, binary_accuracy:0.7434176206588745, val_loss:0.7339328527450562, val_binary_accuracy:0.35290929675102234, lr:0.0025\n\nEpoch 00005: LearningRateScheduler reducing learning rate to 0.002.\n"
    },
    {
     "output_type": "display_data",
     "data": {
      "text/plain": "HBox(children=(FloatProgress(value=0.0, description='Epoch 4', max=19.0, style=ProgressStyle(description_width…",
      "application/vnd.jupyter.widget-view+json": {
       "version_major": 2,
       "version_minor": 0,
       "model_id": "67f347a97d2043c485291bc0b36a27f0"
      }
     },
     "metadata": {}
    },
    {
     "output_type": "stream",
     "name": "stdout",
     "text": "\nEpoch 00005: saving model to savedmodels/conv4_b2_0/5/5\n\nloss:0.5333156585693359, binary_accuracy:0.7434101700782776, val_loss:0.730652391910553, val_binary_accuracy:0.3686954975128174, lr:0.002\n\nEpoch 00006: LearningRateScheduler reducing learning rate to 0.0016666666666666668.\n"
    },
    {
     "output_type": "display_data",
     "data": {
      "text/plain": "HBox(children=(FloatProgress(value=0.0, description='Epoch 5', max=19.0, style=ProgressStyle(description_width…",
      "application/vnd.jupyter.widget-view+json": {
       "version_major": 2,
       "version_minor": 0,
       "model_id": "8f21f711253649b594ac8d653c602b63"
      }
     },
     "metadata": {}
    },
    {
     "output_type": "stream",
     "name": "stdout",
     "text": "\nEpoch 00006: saving model to savedmodels/conv4_b2_0/6/6\n\nloss:0.5280634164810181, binary_accuracy:0.7434613108634949, val_loss:0.716202974319458, val_binary_accuracy:0.3981826901435852, lr:0.0016666667\n\nEpoch 00007: LearningRateScheduler reducing learning rate to 0.0014285714285714286.\n"
    },
    {
     "output_type": "display_data",
     "data": {
      "text/plain": "HBox(children=(FloatProgress(value=0.0, description='Epoch 6', max=19.0, style=ProgressStyle(description_width…",
      "application/vnd.jupyter.widget-view+json": {
       "version_major": 2,
       "version_minor": 0,
       "model_id": "0b9808fe478f4406a974ab2e2c97b6ed"
      }
     },
     "metadata": {}
    },
    {
     "output_type": "stream",
     "name": "stdout",
     "text": "\nEpoch 00007: saving model to savedmodels/conv4_b2_0/7/7\n\nloss:0.5258631110191345, binary_accuracy:0.7434539794921875, val_loss:0.7147164344787598, val_binary_accuracy:0.42012763023376465, lr:0.0014285714\n\nEpoch 00008: LearningRateScheduler reducing learning rate to 0.00125.\n"
    },
    {
     "output_type": "display_data",
     "data": {
      "text/plain": "HBox(children=(FloatProgress(value=0.0, description='Epoch 7', max=19.0, style=ProgressStyle(description_width…",
      "application/vnd.jupyter.widget-view+json": {
       "version_major": 2,
       "version_minor": 0,
       "model_id": "3231e19b068b4b1181661008d249c4be"
      }
     },
     "metadata": {}
    },
    {
     "output_type": "stream",
     "name": "stdout",
     "text": "\nEpoch 00008: saving model to savedmodels/conv4_b2_0/8/8\n\nloss:0.5248585939407349, binary_accuracy:0.7434542775154114, val_loss:0.7160139679908752, val_binary_accuracy:0.4142143428325653, lr:0.00125\n\nEpoch 00009: LearningRateScheduler reducing learning rate to 0.0011111111111111111.\n"
    },
    {
     "output_type": "display_data",
     "data": {
      "text/plain": "HBox(children=(FloatProgress(value=0.0, description='Epoch 8', max=19.0, style=ProgressStyle(description_width…",
      "application/vnd.jupyter.widget-view+json": {
       "version_major": 2,
       "version_minor": 0,
       "model_id": "9720aa6931204bf187f363f345a2c626"
      }
     },
     "metadata": {}
    },
    {
     "output_type": "stream",
     "name": "stdout",
     "text": "\nEpoch 00009: saving model to savedmodels/conv4_b2_0/9/9\n\nloss:0.5241929292678833, binary_accuracy:0.7434731125831604, val_loss:0.7087914347648621, val_binary_accuracy:0.5224556922912598, lr:0.0011111111\n\nEpoch 00010: LearningRateScheduler reducing learning rate to 0.001.\n"
    },
    {
     "output_type": "display_data",
     "data": {
      "text/plain": "HBox(children=(FloatProgress(value=0.0, description='Epoch 9', max=19.0, style=ProgressStyle(description_width…",
      "application/vnd.jupyter.widget-view+json": {
       "version_major": 2,
       "version_minor": 0,
       "model_id": "ca954c519f374fdd944445387c95c8f9"
      }
     },
     "metadata": {}
    },
    {
     "output_type": "stream",
     "name": "stdout",
     "text": "\nEpoch 00010: saving model to savedmodels/conv4_b2_0/10/10\n\nloss:0.5219508409500122, binary_accuracy:0.7434609532356262, val_loss:0.7010030150413513, val_binary_accuracy:0.6697189807891846, lr:0.001\n\nTook 33.124796628952026 seconds\n"
    }
   ],
   "source": [
    "kwargs = {}\n",
    "kwargs['model_f'] = model_f\n",
    "kwargs['lr_f'] = lr_f\n",
    "kwargs['name'] = name\n",
    "kwargs['epochs'] = epochs\n",
    "kwargs['batch_size'] = 64\n",
    "kwargs['X_train'] = X_train\n",
    "kwargs['Y_train'] = Y_train\n",
    "kwargs['val_data'] = (X_val, Y_val)\n",
    "p = Process(target=run_training, kwargs=kwargs)\n",
    "p.start()\n",
    "p.join()"
   ]
  },
  {
   "cell_type": "code",
   "execution_count": null,
   "metadata": {},
   "outputs": [],
   "source": []
  }
 ]
}