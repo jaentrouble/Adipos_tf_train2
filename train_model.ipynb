{
 "metadata": {
  "language_info": {
   "codemirror_mode": {
    "name": "ipython",
    "version": 3
   },
   "file_extension": ".py",
   "mimetype": "text/x-python",
   "name": "python",
   "nbconvert_exporter": "python",
   "pygments_lexer": "ipython3",
   "version": "3.7.8-final"
  },
  "orig_nbformat": 2,
  "kernelspec": {
   "name": "train2_venv",
   "display_name": "train2_venv"
  }
 },
 "nbformat": 4,
 "nbformat_minor": 2,
 "cells": [
  {
   "cell_type": "code",
   "execution_count": 1,
   "metadata": {
    "tags": []
   },
   "outputs": [],
   "source": [
    "%matplotlib inline\n",
    "%load_ext autoreload"
   ]
  },
  {
   "cell_type": "code",
   "execution_count": 2,
   "metadata": {},
   "outputs": [],
   "source": [
    "import numpy as np\n",
    "import matplotlib.pyplot as plt\n",
    "from multiprocessing import Process"
   ]
  },
  {
   "cell_type": "code",
   "execution_count": 3,
   "metadata": {
    "tags": []
   },
   "outputs": [
    {
     "output_type": "stream",
     "name": "stdout",
     "text": "/home/jaentrouble/adipose_train2\n"
    }
   ],
   "source": [
    "import os\n",
    "os.chdir('/home/jaentrouble/adipose_train2')\n",
    "print(os.getcwd())"
   ]
  },
  {
   "cell_type": "code",
   "execution_count": 4,
   "metadata": {
    "tags": []
   },
   "outputs": [],
   "source": [
    "with np.load('cell_mask_data.npz') as data:\n",
    "    X = data['img']\n",
    "    Y = data['mask']"
   ]
  },
  {
   "cell_type": "code",
   "execution_count": 5,
   "metadata": {
    "tags": []
   },
   "outputs": [
    {
     "output_type": "stream",
     "name": "stdout",
     "text": "X shape: (1533, 200, 200, 3)\nY shape: (1533, 200, 200)\n"
    }
   ],
   "source": [
    "print('X shape:',X.shape)\n",
    "print('Y shape:',Y.shape)"
   ]
  },
  {
   "cell_type": "code",
   "execution_count": 6,
   "metadata": {},
   "outputs": [],
   "source": [
    "X_train = X[:1200]\n",
    "Y_train = Y[:1200]\n",
    "X_val = X[1200:1350]\n",
    "Y_val = Y[1200:1350]\n",
    "X_test = X[1350:]\n",
    "Y_test = Y[1350:]"
   ]
  },
  {
   "cell_type": "code",
   "execution_count": 7,
   "metadata": {
    "tags": []
   },
   "outputs": [
    {
     "output_type": "stream",
     "name": "stdout",
     "text": "remote: Enumerating objects: 12, done.\u001b[K\nremote: Counting objects: 100% (12/12), done.\u001b[K\nremote: Compressing objects: 100% (3/3), done.\u001b[K\nUnpacking objects:  85% (6/7), 188.00 KiB | 352.00 KiB/sremote: Total 7 (delta 4), reused 7 (delta 4), pack-reused 0\u001b[K\nUnpacking objects: 100% (7/7), 955.37 KiB | 998.00 KiB/s, done.\nFrom https://github.com/jaentrouble/Adipos_tf_train2\n   67a391e..9b95920  master     -> origin/master\nUpdating 67a391e..9b95920\nFast-forward\n adipose_models.py                    |  24 \u001b[32m+\u001b[m\n result_images/conv16_b4_1_linear.png | Bin \u001b[31m0\u001b[m -> \u001b[32m477151\u001b[m bytes\n train_model.ipynb                    | 928 \u001b[32m++\u001b[m\u001b[31m---------------------------------\u001b[m\n view_result.ipynb                    |  34 \u001b[32m+\u001b[m\u001b[31m-\u001b[m\n 4 files changed, 85 insertions(+), 901 deletions(-)\n create mode 100644 result_images/conv16_b4_1_linear.png\n"
    }
   ],
   "source": [
    "!git pull\n",
    "%autoreload"
   ]
  },
  {
   "cell_type": "code",
   "execution_count": 8,
   "metadata": {},
   "outputs": [],
   "source": [
    "from model_trainer import run_training\n",
    "from adipose_models import *\n",
    "from model_lr import *"
   ]
  },
  {
   "cell_type": "code",
   "execution_count": 11,
   "metadata": {},
   "outputs": [],
   "source": [
    "model_f = res_4_2_0_noBN\n",
    "lr_f = lr_mul_inv\n",
    "name = 'res_4_2_0_noBN_1'\n",
    "epochs = 10\n",
    "mixed_float = True"
   ]
  },
  {
   "cell_type": "code",
   "execution_count": 12,
   "metadata": {
    "tags": []
   },
   "outputs": [
    {
     "output_type": "stream",
     "name": "stdout",
     "text": "INFO:tensorflow:Mixed precision compatibility check (mixed_float16): OK\nYour GPU will likely run quickly with dtype policy mixed_float16 as it has compute capability of at least 7.0. Your GPU: GeForce RTX 2070 SUPER, compute capability 7.5\nModel: \"functional_1\"\n__________________________________________________________________________________________________\nLayer (type)                    Output Shape         Param #     Connected to\n==================================================================================================\ninput_1 (InputLayer)            [(None, 200, 200, 3) 0\n__________________________________________________________________________________________________\nconv2d_1 (Conv2D)               (None, 200, 200, 32) 896         input_1[0][0]\n__________________________________________________________________________________________________\nconv2d_2 (Conv2D)               (None, 200, 200, 32) 9248        conv2d_1[0][0]\n__________________________________________________________________________________________________\nconv2d (Conv2D)                 (None, 200, 200, 32) 128         input_1[0][0]\n__________________________________________________________________________________________________\ntf_op_layer_AddV2 (TensorFlowOp [(None, 200, 200, 32 0           conv2d_2[0][0]\n                                                                 conv2d[0][0]\n__________________________________________________________________________________________________\nre_lu (ReLU)                    (None, 200, 200, 32) 0           tf_op_layer_AddV2[0][0]\n__________________________________________________________________________________________________\nconv2d_3 (Conv2D)               (None, 200, 200, 32) 9248        re_lu[0][0]\n__________________________________________________________________________________________________\nconv2d_4 (Conv2D)               (None, 200, 200, 32) 9248        conv2d_3[0][0]\n__________________________________________________________________________________________________\ntf_op_layer_AddV2_1 (TensorFlow [(None, 200, 200, 32 0           conv2d_4[0][0]\n                                                                 re_lu[0][0]\n__________________________________________________________________________________________________\nre_lu_1 (ReLU)                  (None, 200, 200, 32) 0           tf_op_layer_AddV2_1[0][0]\n__________________________________________________________________________________________________\nconv2d_5 (Conv2D)               (None, 200, 200, 32) 9248        re_lu_1[0][0]\n__________________________________________________________________________________________________\nconv2d_6 (Conv2D)               (None, 200, 200, 32) 9248        conv2d_5[0][0]\n__________________________________________________________________________________________________\ntf_op_layer_AddV2_2 (TensorFlow [(None, 200, 200, 32 0           conv2d_6[0][0]\n                                                                 re_lu_1[0][0]\n__________________________________________________________________________________________________\nre_lu_2 (ReLU)                  (None, 200, 200, 32) 0           tf_op_layer_AddV2_2[0][0]\n__________________________________________________________________________________________________\nconv2d_7 (Conv2D)               (None, 200, 200, 32) 9248        re_lu_2[0][0]\n__________________________________________________________________________________________________\nconv2d_8 (Conv2D)               (None, 200, 200, 32) 9248        conv2d_7[0][0]\n__________________________________________________________________________________________________\ntf_op_layer_AddV2_3 (TensorFlow [(None, 200, 200, 32 0           conv2d_8[0][0]\n                                                                 re_lu_2[0][0]\n__________________________________________________________________________________________________\nre_lu_3 (ReLU)                  (None, 200, 200, 32) 0           tf_op_layer_AddV2_3[0][0]\n__________________________________________________________________________________________________\nconv2d_9 (Conv2D)               (None, 200, 200, 1)  289         re_lu_3[0][0]\n__________________________________________________________________________________________________\ntf_op_layer_Squeeze (TensorFlow [(None, 200, 200)]   0           conv2d_9[0][0]\n__________________________________________________________________________________________________\nactivation (Activation)         (None, 200, 200)     0           tf_op_layer_Squeeze[0][0]\n==================================================================================================\nTotal params: 66,049\nTrainable params: 66,049\nNon-trainable params: 0\n__________________________________________________________________________________________________\n"
    },
    {
     "output_type": "display_data",
     "data": {
      "text/plain": "HBox(children=(FloatProgress(value=0.0, description='Training', max=10.0, style=ProgressStyle(description_widt…",
      "application/vnd.jupyter.widget-view+json": {
       "version_major": 2,
       "version_minor": 0,
       "model_id": "c4b068134987466fa7a62784b43f59f6"
      }
     },
     "metadata": {}
    },
    {
     "output_type": "stream",
     "name": "stdout",
     "text": "\nEpoch 00001: LearningRateScheduler reducing learning rate to 0.01.\n"
    },
    {
     "output_type": "display_data",
     "data": {
      "text/plain": "HBox(children=(FloatProgress(value=0.0, description='Epoch 0', max=19.0, style=ProgressStyle(description_width…",
      "application/vnd.jupyter.widget-view+json": {
       "version_major": 2,
       "version_minor": 0,
       "model_id": "bf021a1057b1422597508ba4c984b58b"
      }
     },
     "metadata": {}
    },
    {
     "output_type": "stream",
     "name": "stdout",
     "text": "WARNING:tensorflow:From /home/jaentrouble/adipose_train2/env/lib/python3.7/site-packages/tensorflow/python/ops/summary_ops_v2.py:1277: stop (from tensorflow.python.eager.profiler) is deprecated and will be removed after 2020-07-01.\nInstructions for updating:\nuse `tf.profiler.experimental.stop` instead.\n\nEpoch 00001: saving model to savedmodels/res_4_2_0_noBN_1/1\n\nloss:95.30526733398438, binary_accuracy:0.6133623719215393, val_loss:0.8002502918243408, val_binary_accuracy:0.35349583625793457, lr:0.01\n\nEpoch 00002: LearningRateScheduler reducing learning rate to 0.005.\n"
    },
    {
     "output_type": "display_data",
     "data": {
      "text/plain": "HBox(children=(FloatProgress(value=0.0, description='Epoch 1', max=19.0, style=ProgressStyle(description_width…",
      "application/vnd.jupyter.widget-view+json": {
       "version_major": 2,
       "version_minor": 0,
       "model_id": "4d0a786c6af64927ba83a9868a47ce58"
      }
     },
     "metadata": {}
    },
    {
     "output_type": "stream",
     "name": "stdout",
     "text": "\nEpoch 00002: saving model to savedmodels/res_4_2_0_noBN_1/2\n\nloss:0.6090110540390015, binary_accuracy:0.7428805232048035, val_loss:0.7375646233558655, val_binary_accuracy:0.4223291277885437, lr:0.005\n\nEpoch 00003: LearningRateScheduler reducing learning rate to 0.0033333333333333335.\n"
    },
    {
     "output_type": "display_data",
     "data": {
      "text/plain": "HBox(children=(FloatProgress(value=0.0, description='Epoch 2', max=19.0, style=ProgressStyle(description_width…",
      "application/vnd.jupyter.widget-view+json": {
       "version_major": 2,
       "version_minor": 0,
       "model_id": "2705c3c521fd44949781e29cc623fdeb"
      }
     },
     "metadata": {}
    },
    {
     "output_type": "stream",
     "name": "stdout",
     "text": "\nEpoch 00003: saving model to savedmodels/res_4_2_0_noBN_1/3\n\nloss:0.5351216197013855, binary_accuracy:0.7434772253036499, val_loss:0.7364553213119507, val_binary_accuracy:0.46161749958992004, lr:0.0033333334\n\nEpoch 00004: LearningRateScheduler reducing learning rate to 0.0025.\n"
    },
    {
     "output_type": "display_data",
     "data": {
      "text/plain": "HBox(children=(FloatProgress(value=0.0, description='Epoch 3', max=19.0, style=ProgressStyle(description_width…",
      "application/vnd.jupyter.widget-view+json": {
       "version_major": 2,
       "version_minor": 0,
       "model_id": "afebc5af38d9428e94e46e300184d86a"
      }
     },
     "metadata": {}
    },
    {
     "output_type": "stream",
     "name": "stdout",
     "text": "\nEpoch 00004: saving model to savedmodels/res_4_2_0_noBN_1/4\n\nloss:0.521745502948761, binary_accuracy:0.7434772253036499, val_loss:0.7346315383911133, val_binary_accuracy:0.47128984332084656, lr:0.0025\n\nEpoch 00005: LearningRateScheduler reducing learning rate to 0.002.\n"
    },
    {
     "output_type": "display_data",
     "data": {
      "text/plain": "HBox(children=(FloatProgress(value=0.0, description='Epoch 4', max=19.0, style=ProgressStyle(description_width…",
      "application/vnd.jupyter.widget-view+json": {
       "version_major": 2,
       "version_minor": 0,
       "model_id": "081aa425a9ae4f2291cab9cb608f3cb0"
      }
     },
     "metadata": {}
    },
    {
     "output_type": "stream",
     "name": "stdout",
     "text": "\nEpoch 00005: saving model to savedmodels/res_4_2_0_noBN_1/5\n\nloss:0.518979012966156, binary_accuracy:0.7434772253036499, val_loss:0.7338798642158508, val_binary_accuracy:0.47576281428337097, lr:0.002\n\nEpoch 00006: LearningRateScheduler reducing learning rate to 0.0016666666666666668.\n"
    },
    {
     "output_type": "display_data",
     "data": {
      "text/plain": "HBox(children=(FloatProgress(value=0.0, description='Epoch 5', max=19.0, style=ProgressStyle(description_width…",
      "application/vnd.jupyter.widget-view+json": {
       "version_major": 2,
       "version_minor": 0,
       "model_id": "871e077e35c748b497d7e38476dc12f5"
      }
     },
     "metadata": {}
    },
    {
     "output_type": "stream",
     "name": "stdout",
     "text": "\nEpoch 00006: saving model to savedmodels/res_4_2_0_noBN_1/6\n\nloss:0.5184273719787598, binary_accuracy:0.7434772253036499, val_loss:0.7345063090324402, val_binary_accuracy:0.47576281428337097, lr:0.0016666667\n\nEpoch 00007: LearningRateScheduler reducing learning rate to 0.0014285714285714286.\n"
    },
    {
     "output_type": "display_data",
     "data": {
      "text/plain": "HBox(children=(FloatProgress(value=0.0, description='Epoch 6', max=19.0, style=ProgressStyle(description_width…",
      "application/vnd.jupyter.widget-view+json": {
       "version_major": 2,
       "version_minor": 0,
       "model_id": "42fd0222d80d4ecc8f7d8b91c113855a"
      }
     },
     "metadata": {}
    },
    {
     "output_type": "stream",
     "name": "stdout",
     "text": "\nEpoch 00007: saving model to savedmodels/res_4_2_0_noBN_1/7\n\nloss:0.5183126330375671, binary_accuracy:0.7434773445129395, val_loss:0.7334213256835938, val_binary_accuracy:0.47576281428337097, lr:0.0014285714\n\nEpoch 00008: LearningRateScheduler reducing learning rate to 0.00125.\n"
    },
    {
     "output_type": "display_data",
     "data": {
      "text/plain": "HBox(children=(FloatProgress(value=0.0, description='Epoch 7', max=19.0, style=ProgressStyle(description_width…",
      "application/vnd.jupyter.widget-view+json": {
       "version_major": 2,
       "version_minor": 0,
       "model_id": "764afd2691594bba821aba12d8ca3e64"
      }
     },
     "metadata": {}
    },
    {
     "output_type": "stream",
     "name": "stdout",
     "text": "\nEpoch 00008: saving model to savedmodels/res_4_2_0_noBN_1/8\n\nloss:0.51814204454422, binary_accuracy:0.7434772253036499, val_loss:0.7346137166023254, val_binary_accuracy:0.47576263546943665, lr:0.00125\n\nEpoch 00009: LearningRateScheduler reducing learning rate to 0.0011111111111111111.\n"
    },
    {
     "output_type": "display_data",
     "data": {
      "text/plain": "HBox(children=(FloatProgress(value=0.0, description='Epoch 8', max=19.0, style=ProgressStyle(description_width…",
      "application/vnd.jupyter.widget-view+json": {
       "version_major": 2,
       "version_minor": 0,
       "model_id": "87ad6a49acd84014ac7f4bf2cb65794a"
      }
     },
     "metadata": {}
    },
    {
     "output_type": "stream",
     "name": "stdout",
     "text": "\nEpoch 00009: saving model to savedmodels/res_4_2_0_noBN_1/9\n\nloss:0.5180450677871704, binary_accuracy:0.7434773445129395, val_loss:0.7344118356704712, val_binary_accuracy:0.47576263546943665, lr:0.0011111111\n\nEpoch 00010: LearningRateScheduler reducing learning rate to 0.001.\n"
    },
    {
     "output_type": "display_data",
     "data": {
      "text/plain": "HBox(children=(FloatProgress(value=0.0, description='Epoch 9', max=19.0, style=ProgressStyle(description_width…",
      "application/vnd.jupyter.widget-view+json": {
       "version_major": 2,
       "version_minor": 0,
       "model_id": "5f25e6fef0df47b4bdcc966d77115f7a"
      }
     },
     "metadata": {}
    },
    {
     "output_type": "stream",
     "name": "stdout",
     "text": "\nEpoch 00010: saving model to savedmodels/res_4_2_0_noBN_1/10\n\nloss:0.5179722309112549, binary_accuracy:0.7434772253036499, val_loss:0.7339316010475159, val_binary_accuracy:0.47576263546943665, lr:0.001\n\nTook 51.0913827419281 seconds\n"
    }
   ],
   "source": [
    "kwargs = {}\n",
    "kwargs['model_f'] = model_f\n",
    "kwargs['lr_f'] = lr_f\n",
    "kwargs['name'] = name\n",
    "kwargs['epochs'] = epochs\n",
    "kwargs['batch_size'] = 64\n",
    "kwargs['X_train'] = X_train\n",
    "kwargs['Y_train'] = Y_train\n",
    "kwargs['val_data'] = (X_val, Y_val)\n",
    "kwargs['mixed_float'] = mixed_float\n",
    "p = Process(target=run_training, kwargs=kwargs)\n",
    "p.start()\n",
    "p.join()"
   ]
  },
  {
   "cell_type": "code",
   "execution_count": null,
   "metadata": {},
   "outputs": [],
   "source": []
  }
 ]
}