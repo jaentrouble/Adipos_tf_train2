{
 "metadata": {
  "language_info": {
   "codemirror_mode": {
    "name": "ipython",
    "version": 3
   },
   "file_extension": ".py",
   "mimetype": "text/x-python",
   "name": "python",
   "nbconvert_exporter": "python",
   "pygments_lexer": "ipython3",
   "version": "3.7.8-final"
  },
  "orig_nbformat": 2,
  "kernelspec": {
   "name": "train2_venv",
   "display_name": "train2_venv"
  }
 },
 "nbformat": 4,
 "nbformat_minor": 2,
 "cells": [
  {
   "cell_type": "code",
   "execution_count": 1,
   "metadata": {
    "tags": []
   },
   "outputs": [],
   "source": [
    "%matplotlib inline\n",
    "%load_ext autoreload"
   ]
  },
  {
   "cell_type": "code",
   "execution_count": 2,
   "metadata": {},
   "outputs": [],
   "source": [
    "import numpy as np\n",
    "import matplotlib.pyplot as plt\n",
    "from multiprocessing import Process"
   ]
  },
  {
   "cell_type": "code",
   "execution_count": 3,
   "metadata": {
    "tags": []
   },
   "outputs": [
    {
     "output_type": "stream",
     "name": "stdout",
     "text": "/home/jaentrouble/adipose_train2\n"
    }
   ],
   "source": [
    "import os\n",
    "os.chdir('/home/jaentrouble/adipose_train2')\n",
    "print(os.getcwd())"
   ]
  },
  {
   "cell_type": "code",
   "execution_count": 4,
   "metadata": {
    "tags": []
   },
   "outputs": [],
   "source": [
    "with np.load('cell_mask_data.npz') as data:\n",
    "    X = data['img']\n",
    "    Y = data['mask']"
   ]
  },
  {
   "cell_type": "code",
   "execution_count": 5,
   "metadata": {
    "tags": []
   },
   "outputs": [
    {
     "output_type": "stream",
     "name": "stdout",
     "text": "X shape: (1533, 200, 200, 3)\nY shape: (1533, 200, 200)\n"
    }
   ],
   "source": [
    "print('X shape:',X.shape)\n",
    "print('Y shape:',Y.shape)"
   ]
  },
  {
   "cell_type": "code",
   "execution_count": 6,
   "metadata": {},
   "outputs": [],
   "source": [
    "X_train = X[:1200]\n",
    "Y_train = Y[:1200]\n",
    "X_val = X[1200:1350]\n",
    "Y_val = Y[1200:1350]\n",
    "X_test = X[1350:]\n",
    "Y_test = Y[1350:]"
   ]
  },
  {
   "cell_type": "code",
   "execution_count": 7,
   "metadata": {
    "tags": []
   },
   "outputs": [
    {
     "output_type": "stream",
     "name": "stdout",
     "text": "remote: Enumerating objects: 12, done.\u001b[K\nremote: Counting objects: 100% (12/12), done.\u001b[K\nremote: Compressing objects: 100% (4/4), done.\u001b[K\nremote: Total 8 (delta 6), reused 6 (delta 4), pack-reused 0\u001b[K\nUnpacking objects: 100% (8/8), 6.57 KiB | 1.09 MiB/s, done.\nFrom https://github.com/jaentrouble/Adipos_tf_train2\n   1197864..c710889  master     -> origin/master\nUpdating 1197864..c710889\nFast-forward\n custom_tqdm.py    |   2 \u001b[32m+\u001b[m\u001b[31m-\u001b[m\n model_trainer.py  |   6 \u001b[32m+\u001b[m\u001b[31m-\u001b[m\n train_model.ipynb | 258 \u001b[32m++++++++++++++++++++++++++\u001b[m\u001b[31m----------------------------\u001b[m\n 3 files changed, 131 insertions(+), 135 deletions(-)\n"
    }
   ],
   "source": [
    "!git pull\n",
    "%autoreload"
   ]
  },
  {
   "cell_type": "code",
   "execution_count": 8,
   "metadata": {},
   "outputs": [],
   "source": [
    "from model_trainer import run_training\n",
    "from adipose_models import *\n",
    "from model_lr import *"
   ]
  },
  {
   "cell_type": "code",
   "execution_count": 9,
   "metadata": {},
   "outputs": [],
   "source": [
    "model_f = conv16_b4_1\n",
    "lr_f = lr_step2\n",
    "name = 'conv16_b4_1_1'\n",
    "epochs = 50\n",
    "mixed_float = False"
   ]
  },
  {
   "cell_type": "code",
   "execution_count": 10,
   "metadata": {
    "tags": []
   },
   "outputs": [
    {
     "output_type": "stream",
     "name": "stdout",
     "text": "Model: \"functional_1\"\n_________________________________________________________________\nLayer (type)                 Output Shape              Param #\n=================================================================\ninput_1 (InputLayer)         [(None, 200, 200, 3)]     0\n_________________________________________________________________\nconv2d (Conv2D)              (None, 200, 200, 32)      896\n_________________________________________________________________\nconv2d_1 (Conv2D)            (None, 200, 200, 32)      9248\n_________________________________________________________________\nbatch_normalization (BatchNo (None, 200, 200, 32)      128\n_________________________________________________________________\nre_lu (ReLU)                 (None, 200, 200, 32)      0\n_________________________________________________________________\nconv2d_2 (Conv2D)            (None, 200, 200, 32)      9248\n_________________________________________________________________\nconv2d_3 (Conv2D)            (None, 200, 200, 32)      9248\n_________________________________________________________________\nbatch_normalization_1 (Batch (None, 200, 200, 32)      128\n_________________________________________________________________\nre_lu_1 (ReLU)               (None, 200, 200, 32)      0\n_________________________________________________________________\nconv2d_4 (Conv2D)            (None, 200, 200, 32)      9248\n_________________________________________________________________\nconv2d_5 (Conv2D)            (None, 200, 200, 32)      9248\n_________________________________________________________________\nbatch_normalization_2 (Batch (None, 200, 200, 32)      128\n_________________________________________________________________\nre_lu_2 (ReLU)               (None, 200, 200, 32)      0\n_________________________________________________________________\nconv2d_6 (Conv2D)            (None, 200, 200, 32)      9248\n_________________________________________________________________\nconv2d_7 (Conv2D)            (None, 200, 200, 32)      9248\n_________________________________________________________________\nbatch_normalization_3 (Batch (None, 200, 200, 32)      128\n_________________________________________________________________\nre_lu_3 (ReLU)               (None, 200, 200, 32)      0\n_________________________________________________________________\nconv2d_8 (Conv2D)            (None, 200, 200, 1)       289\n_________________________________________________________________\ntf_op_layer_Squeeze (TensorF [(None, 200, 200)]        0\n_________________________________________________________________\nactivation (Activation)      (None, 200, 200)          0\n=================================================================\nTotal params: 66,433\nTrainable params: 66,177\nNon-trainable params: 256\n_________________________________________________________________\n"
    },
    {
     "output_type": "display_data",
     "data": {
      "text/plain": "HBox(children=(FloatProgress(value=0.0, description='Training', max=50.0, style=ProgressStyle(description_widt…",
      "application/vnd.jupyter.widget-view+json": {
       "version_major": 2,
       "version_minor": 0,
       "model_id": "3e867b5ba7d344bca57accb1c6124545"
      }
     },
     "metadata": {}
    },
    {
     "output_type": "stream",
     "name": "stdout",
     "text": "\nEpoch 00001: LearningRateScheduler reducing learning rate to 0.01.\n"
    },
    {
     "output_type": "display_data",
     "data": {
      "text/plain": "HBox(children=(FloatProgress(value=0.0, description='Epoch 0', max=19.0, style=ProgressStyle(description_width…",
      "application/vnd.jupyter.widget-view+json": {
       "version_major": 2,
       "version_minor": 0,
       "model_id": "ed6f1ef71cc84b8d9ecf73eebdc8abb1"
      }
     },
     "metadata": {}
    },
    {
     "output_type": "stream",
     "name": "stdout",
     "text": "WARNING:tensorflow:Callbacks method `on_train_batch_end` is slow compared to the batch time (batch time: 0.0938s vs `on_train_batch_end` time: 0.2126s). Check your callbacks.\nWARNING:tensorflow:From /home/jaentrouble/adipose_train2/env/lib/python3.7/site-packages/tensorflow/python/ops/summary_ops_v2.py:1277: stop (from tensorflow.python.eager.profiler) is deprecated and will be removed after 2020-07-01.\nInstructions for updating:\nuse `tf.profiler.experimental.stop` instead.\n\nEpoch 00001: saving model to savedmodels/conv16_b4_1_1/1\nloss:0.5663349032402039, binary_accuracy:0.7361724972724915, val_loss:0.6931471824645996, val_binary_accuracy:0.6808908581733704, lr:0.01\n\nEpoch 00002: LearningRateScheduler reducing learning rate to 0.02.\n"
    },
    {
     "output_type": "display_data",
     "data": {
      "text/plain": "HBox(children=(FloatProgress(value=0.0, description='Epoch 1', max=19.0, style=ProgressStyle(description_width…",
      "application/vnd.jupyter.widget-view+json": {
       "version_major": 2,
       "version_minor": 0,
       "model_id": "8784f9e433ae4db18f10256cacdf2dc2"
      }
     },
     "metadata": {}
    },
    {
     "output_type": "stream",
     "name": "stdout",
     "text": "\nEpoch 00002: saving model to savedmodels/conv16_b4_1_1/2\nloss:0.5170249938964844, binary_accuracy:0.7434766292572021, val_loss:0.6931471824645996, val_binary_accuracy:0.6808908581733704, lr:0.02\n\nEpoch 00003: LearningRateScheduler reducing learning rate to 0.03.\n"
    },
    {
     "output_type": "display_data",
     "data": {
      "text/plain": "HBox(children=(FloatProgress(value=0.0, description='Epoch 2', max=19.0, style=ProgressStyle(description_width…",
      "application/vnd.jupyter.widget-view+json": {
       "version_major": 2,
       "version_minor": 0,
       "model_id": "05c1d4ee5794422aa2c1341004834005"
      }
     },
     "metadata": {}
    },
    {
     "output_type": "stream",
     "name": "stdout",
     "text": "\nEpoch 00003: saving model to savedmodels/conv16_b4_1_1/3\nloss:0.5260240435600281, binary_accuracy:0.7427850365638733, val_loss:0.6931471824645996, val_binary_accuracy:0.6808908581733704, lr:0.03\n\nEpoch 00004: LearningRateScheduler reducing learning rate to 0.04.\n"
    },
    {
     "output_type": "display_data",
     "data": {
      "text/plain": "HBox(children=(FloatProgress(value=0.0, description='Epoch 3', max=19.0, style=ProgressStyle(description_width…",
      "application/vnd.jupyter.widget-view+json": {
       "version_major": 2,
       "version_minor": 0,
       "model_id": "209e4d74cd6142518a472c25d793aea3"
      }
     },
     "metadata": {}
    },
    {
     "output_type": "stream",
     "name": "stdout",
     "text": "\nEpoch 00004: saving model to savedmodels/conv16_b4_1_1/4\nloss:0.5115986466407776, binary_accuracy:0.7434772849082947, val_loss:0.6931471824645996, val_binary_accuracy:0.6808908581733704, lr:0.04\n\nEpoch 00005: LearningRateScheduler reducing learning rate to 0.05.\n"
    },
    {
     "output_type": "display_data",
     "data": {
      "text/plain": "HBox(children=(FloatProgress(value=0.0, description='Epoch 4', max=19.0, style=ProgressStyle(description_width…",
      "application/vnd.jupyter.widget-view+json": {
       "version_major": 2,
       "version_minor": 0,
       "model_id": "f26d01bbb1bc4d0c85d52f9f02e7bf09"
      }
     },
     "metadata": {}
    },
    {
     "output_type": "stream",
     "name": "stdout",
     "text": "\nEpoch 00005: saving model to savedmodels/conv16_b4_1_1/5\nloss:0.5174720883369446, binary_accuracy:0.7434767484664917, val_loss:0.6931471824645996, val_binary_accuracy:0.6808908581733704, lr:0.05\n\nEpoch 00006: LearningRateScheduler reducing learning rate to 0.06.\n"
    },
    {
     "output_type": "display_data",
     "data": {
      "text/plain": "HBox(children=(FloatProgress(value=0.0, description='Epoch 5', max=19.0, style=ProgressStyle(description_width…",
      "application/vnd.jupyter.widget-view+json": {
       "version_major": 2,
       "version_minor": 0,
       "model_id": "4c217c64c6bb422e9d0bf01955990e21"
      }
     },
     "metadata": {}
    },
    {
     "output_type": "stream",
     "name": "stdout",
     "text": "\nEpoch 00006: saving model to savedmodels/conv16_b4_1_1/6\nloss:0.511863112449646, binary_accuracy:0.7434753179550171, val_loss:0.6931471824645996, val_binary_accuracy:0.6808908581733704, lr:0.06\n\nEpoch 00007: LearningRateScheduler reducing learning rate to 0.07.\n"
    },
    {
     "output_type": "display_data",
     "data": {
      "text/plain": "HBox(children=(FloatProgress(value=0.0, description='Epoch 6', max=19.0, style=ProgressStyle(description_width…",
      "application/vnd.jupyter.widget-view+json": {
       "version_major": 2,
       "version_minor": 0,
       "model_id": "0f9a35b9acbe40e88eff7b748689e2ea"
      }
     },
     "metadata": {}
    },
    {
     "output_type": "stream",
     "name": "stdout",
     "text": "\nEpoch 00007: saving model to savedmodels/conv16_b4_1_1/7\nloss:0.5093808770179749, binary_accuracy:0.7434607148170471, val_loss:0.6931471824645996, val_binary_accuracy:0.6808908581733704, lr:0.07\n\nEpoch 00008: LearningRateScheduler reducing learning rate to 0.08.\n"
    },
    {
     "output_type": "display_data",
     "data": {
      "text/plain": "HBox(children=(FloatProgress(value=0.0, description='Epoch 7', max=19.0, style=ProgressStyle(description_width…",
      "application/vnd.jupyter.widget-view+json": {
       "version_major": 2,
       "version_minor": 0,
       "model_id": "1d4eb87259b644e5932bba02405e3b17"
      }
     },
     "metadata": {}
    },
    {
     "output_type": "stream",
     "name": "stdout",
     "text": "\nEpoch 00008: saving model to savedmodels/conv16_b4_1_1/8\nloss:0.5115509629249573, binary_accuracy:0.7434771060943604, val_loss:0.6931471824645996, val_binary_accuracy:0.6808908581733704, lr:0.08\n\nEpoch 00009: LearningRateScheduler reducing learning rate to 0.09.\n"
    },
    {
     "output_type": "display_data",
     "data": {
      "text/plain": "HBox(children=(FloatProgress(value=0.0, description='Epoch 8', max=19.0, style=ProgressStyle(description_width…",
      "application/vnd.jupyter.widget-view+json": {
       "version_major": 2,
       "version_minor": 0,
       "model_id": "baf682ae45124096b0400064cca78755"
      }
     },
     "metadata": {}
    },
    {
     "output_type": "stream",
     "name": "stdout",
     "text": "\nEpoch 00009: saving model to savedmodels/conv16_b4_1_1/9\nloss:0.5075903534889221, binary_accuracy:0.7434772849082947, val_loss:0.6931471824645996, val_binary_accuracy:0.6808908581733704, lr:0.09\n\nEpoch 00010: LearningRateScheduler reducing learning rate to 0.1.\n"
    },
    {
     "output_type": "display_data",
     "data": {
      "text/plain": "HBox(children=(FloatProgress(value=0.0, description='Epoch 9', max=19.0, style=ProgressStyle(description_width…",
      "application/vnd.jupyter.widget-view+json": {
       "version_major": 2,
       "version_minor": 0,
       "model_id": "3ea70abc7c9a4b289c96f18d48cb3701"
      }
     },
     "metadata": {}
    },
    {
     "output_type": "stream",
     "name": "stdout",
     "text": "\nEpoch 00010: saving model to savedmodels/conv16_b4_1_1/10\nloss:0.5070167779922485, binary_accuracy:0.7434772253036499, val_loss:0.6931471824645996, val_binary_accuracy:0.6808908581733704, lr:0.1\n\nEpoch 00011: LearningRateScheduler reducing learning rate to 0.11.\n"
    },
    {
     "output_type": "display_data",
     "data": {
      "text/plain": "HBox(children=(FloatProgress(value=0.0, description='Epoch 10', max=19.0, style=ProgressStyle(description_widt…",
      "application/vnd.jupyter.widget-view+json": {
       "version_major": 2,
       "version_minor": 0,
       "model_id": "89bf3d0115db4d27b70a84854b539e2c"
      }
     },
     "metadata": {}
    },
    {
     "output_type": "stream",
     "name": "stdout",
     "text": "\nEpoch 00011: saving model to savedmodels/conv16_b4_1_1/11\nloss:0.5036022663116455, binary_accuracy:0.7434771656990051, val_loss:0.6931471824645996, val_binary_accuracy:0.6808908581733704, lr:0.11\n\nEpoch 00012: LearningRateScheduler reducing learning rate to 0.02.\n"
    },
    {
     "output_type": "display_data",
     "data": {
      "text/plain": "HBox(children=(FloatProgress(value=0.0, description='Epoch 11', max=19.0, style=ProgressStyle(description_widt…",
      "application/vnd.jupyter.widget-view+json": {
       "version_major": 2,
       "version_minor": 0,
       "model_id": "769c5736d5f148c7b7f12991d82df0ae"
      }
     },
     "metadata": {}
    },
    {
     "output_type": "stream",
     "name": "stdout",
     "text": "\nEpoch 00012: saving model to savedmodels/conv16_b4_1_1/12\nloss:0.50054532289505, binary_accuracy:0.7434771656990051, val_loss:0.6931512355804443, val_binary_accuracy:0.6808908581733704, lr:0.02\n\nEpoch 00013: LearningRateScheduler reducing learning rate to 0.02.\n"
    },
    {
     "output_type": "display_data",
     "data": {
      "text/plain": "HBox(children=(FloatProgress(value=0.0, description='Epoch 12', max=19.0, style=ProgressStyle(description_widt…",
      "application/vnd.jupyter.widget-view+json": {
       "version_major": 2,
       "version_minor": 0,
       "model_id": "8b3cad4398604aae91bd97f825dc782f"
      }
     },
     "metadata": {}
    },
    {
     "output_type": "stream",
     "name": "stdout",
     "text": "\nEpoch 00013: saving model to savedmodels/conv16_b4_1_1/13\nloss:0.49924376606941223, binary_accuracy:0.7434771656990051, val_loss:0.7111294269561768, val_binary_accuracy:0.4893764853477478, lr:0.02\n\nEpoch 00014: LearningRateScheduler reducing learning rate to 0.02.\n"
    },
    {
     "output_type": "display_data",
     "data": {
      "text/plain": "HBox(children=(FloatProgress(value=0.0, description='Epoch 13', max=19.0, style=ProgressStyle(description_widt…",
      "application/vnd.jupyter.widget-view+json": {
       "version_major": 2,
       "version_minor": 0,
       "model_id": "0d802458a7184adb85239265a6558c60"
      }
     },
     "metadata": {}
    },
    {
     "output_type": "stream",
     "name": "stdout",
     "text": "\nEpoch 00014: saving model to savedmodels/conv16_b4_1_1/14\nloss:0.4941551685333252, binary_accuracy:0.7434767484664917, val_loss:0.7179796099662781, val_binary_accuracy:0.4822525084018707, lr:0.02\n\nEpoch 00015: LearningRateScheduler reducing learning rate to 0.02.\n"
    },
    {
     "output_type": "display_data",
     "data": {
      "text/plain": "HBox(children=(FloatProgress(value=0.0, description='Epoch 14', max=19.0, style=ProgressStyle(description_widt…",
      "application/vnd.jupyter.widget-view+json": {
       "version_major": 2,
       "version_minor": 0,
       "model_id": "88f19f5b45a6437596a258a373fea7bc"
      }
     },
     "metadata": {}
    },
    {
     "output_type": "stream",
     "name": "stdout",
     "text": "\nEpoch 00015: saving model to savedmodels/conv16_b4_1_1/15\nloss:0.4899602234363556, binary_accuracy:0.7434772253036499, val_loss:0.7347070574760437, val_binary_accuracy:0.464465856552124, lr:0.02\n\nEpoch 00016: LearningRateScheduler reducing learning rate to 0.02.\n"
    },
    {
     "output_type": "display_data",
     "data": {
      "text/plain": "HBox(children=(FloatProgress(value=0.0, description='Epoch 15', max=19.0, style=ProgressStyle(description_widt…",
      "application/vnd.jupyter.widget-view+json": {
       "version_major": 2,
       "version_minor": 0,
       "model_id": "fd46b8be7e4c4f898c0e2f99483975fa"
      }
     },
     "metadata": {}
    },
    {
     "output_type": "stream",
     "name": "stdout",
     "text": "\nEpoch 00016: saving model to savedmodels/conv16_b4_1_1/16\nloss:0.48666906356811523, binary_accuracy:0.7434772849082947, val_loss:0.7404299378395081, val_binary_accuracy:0.47091832756996155, lr:0.02\n\nEpoch 00017: LearningRateScheduler reducing learning rate to 0.02.\n"
    },
    {
     "output_type": "display_data",
     "data": {
      "text/plain": "HBox(children=(FloatProgress(value=0.0, description='Epoch 16', max=19.0, style=ProgressStyle(description_widt…",
      "application/vnd.jupyter.widget-view+json": {
       "version_major": 2,
       "version_minor": 0,
       "model_id": "d17aca71a8d4445ea4f2303eb7d3da6a"
      }
     },
     "metadata": {}
    },
    {
     "output_type": "stream",
     "name": "stdout",
     "text": "\nEpoch 00017: saving model to savedmodels/conv16_b4_1_1/17\nloss:0.48524078726768494, binary_accuracy:0.7434772849082947, val_loss:0.7419675588607788, val_binary_accuracy:0.48972833156585693, lr:0.02\n\nEpoch 00018: LearningRateScheduler reducing learning rate to 0.02.\n"
    },
    {
     "output_type": "display_data",
     "data": {
      "text/plain": "HBox(children=(FloatProgress(value=0.0, description='Epoch 17', max=19.0, style=ProgressStyle(description_widt…",
      "application/vnd.jupyter.widget-view+json": {
       "version_major": 2,
       "version_minor": 0,
       "model_id": "c34d4020352340b0ae467be147213c7c"
      }
     },
     "metadata": {}
    },
    {
     "output_type": "stream",
     "name": "stdout",
     "text": "\nEpoch 00018: saving model to savedmodels/conv16_b4_1_1/18\nloss:0.4855397641658783, binary_accuracy:0.7434772253036499, val_loss:0.7358019948005676, val_binary_accuracy:0.489587664604187, lr:0.02\n\nEpoch 00019: LearningRateScheduler reducing learning rate to 0.02.\n"
    },
    {
     "output_type": "display_data",
     "data": {
      "text/plain": "HBox(children=(FloatProgress(value=0.0, description='Epoch 18', max=19.0, style=ProgressStyle(description_widt…",
      "application/vnd.jupyter.widget-view+json": {
       "version_major": 2,
       "version_minor": 0,
       "model_id": "5d4b800685de4fb2b4fe7ca71122ff39"
      }
     },
     "metadata": {}
    },
    {
     "output_type": "stream",
     "name": "stdout",
     "text": "\nEpoch 00019: saving model to savedmodels/conv16_b4_1_1/19\nloss:0.48580241203308105, binary_accuracy:0.7434772253036499, val_loss:0.7388979196548462, val_binary_accuracy:0.49304133653640747, lr:0.02\n\nEpoch 00020: LearningRateScheduler reducing learning rate to 0.02.\n"
    },
    {
     "output_type": "display_data",
     "data": {
      "text/plain": "HBox(children=(FloatProgress(value=0.0, description='Epoch 19', max=19.0, style=ProgressStyle(description_widt…",
      "application/vnd.jupyter.widget-view+json": {
       "version_major": 2,
       "version_minor": 0,
       "model_id": "503f26312fe84ea5ae17055fe51f47db"
      }
     },
     "metadata": {}
    },
    {
     "output_type": "stream",
     "name": "stdout",
     "text": "\nEpoch 00020: saving model to savedmodels/conv16_b4_1_1/20\nloss:0.4839552342891693, binary_accuracy:0.7434771656990051, val_loss:0.7280929088592529, val_binary_accuracy:0.5051233172416687, lr:0.02\n\nEpoch 00021: LearningRateScheduler reducing learning rate to 0.02.\n"
    },
    {
     "output_type": "display_data",
     "data": {
      "text/plain": "HBox(children=(FloatProgress(value=0.0, description='Epoch 20', max=19.0, style=ProgressStyle(description_widt…",
      "application/vnd.jupyter.widget-view+json": {
       "version_major": 2,
       "version_minor": 0,
       "model_id": "10ebc90a3d99497fa1f2d1118e2085ac"
      }
     },
     "metadata": {}
    },
    {
     "output_type": "stream",
     "name": "stdout",
     "text": "\nEpoch 00021: saving model to savedmodels/conv16_b4_1_1/21\nloss:0.48240000009536743, binary_accuracy:0.7434771656990051, val_loss:0.7189217805862427, val_binary_accuracy:0.5131816864013672, lr:0.02\n\nEpoch 00022: LearningRateScheduler reducing learning rate to 0.01.\n"
    },
    {
     "output_type": "display_data",
     "data": {
      "text/plain": "HBox(children=(FloatProgress(value=0.0, description='Epoch 21', max=19.0, style=ProgressStyle(description_widt…",
      "application/vnd.jupyter.widget-view+json": {
       "version_major": 2,
       "version_minor": 0,
       "model_id": "4b218c7a478542639f6dccae0753b147"
      }
     },
     "metadata": {}
    },
    {
     "output_type": "stream",
     "name": "stdout",
     "text": "\nEpoch 00022: saving model to savedmodels/conv16_b4_1_1/22\nloss:0.4814426600933075, binary_accuracy:0.7434772253036499, val_loss:0.7424801588058472, val_binary_accuracy:0.49631568789482117, lr:0.01\n\nEpoch 00023: LearningRateScheduler reducing learning rate to 0.01.\n"
    },
    {
     "output_type": "display_data",
     "data": {
      "text/plain": "HBox(children=(FloatProgress(value=0.0, description='Epoch 22', max=19.0, style=ProgressStyle(description_widt…",
      "application/vnd.jupyter.widget-view+json": {
       "version_major": 2,
       "version_minor": 0,
       "model_id": "5281674cf0ff4e4899d1eee9c6205d26"
      }
     },
     "metadata": {}
    },
    {
     "output_type": "stream",
     "name": "stdout",
     "text": "\nEpoch 00023: saving model to savedmodels/conv16_b4_1_1/23\nloss:0.48122188448905945, binary_accuracy:0.7434772849082947, val_loss:0.7395787239074707, val_binary_accuracy:0.4997895061969757, lr:0.01\n\nEpoch 00024: LearningRateScheduler reducing learning rate to 0.01.\n"
    },
    {
     "output_type": "display_data",
     "data": {
      "text/plain": "HBox(children=(FloatProgress(value=0.0, description='Epoch 23', max=19.0, style=ProgressStyle(description_widt…",
      "application/vnd.jupyter.widget-view+json": {
       "version_major": 2,
       "version_minor": 0,
       "model_id": "9cf9d6fde9424fe780009ec3144ecdbf"
      }
     },
     "metadata": {}
    },
    {
     "output_type": "stream",
     "name": "stdout",
     "text": "\nEpoch 00024: saving model to savedmodels/conv16_b4_1_1/24\nloss:0.4812104403972626, binary_accuracy:0.7434772849082947, val_loss:0.7341258525848389, val_binary_accuracy:0.49979451298713684, lr:0.01\n\nEpoch 00025: LearningRateScheduler reducing learning rate to 0.01.\n"
    },
    {
     "output_type": "display_data",
     "data": {
      "text/plain": "HBox(children=(FloatProgress(value=0.0, description='Epoch 24', max=19.0, style=ProgressStyle(description_widt…",
      "application/vnd.jupyter.widget-view+json": {
       "version_major": 2,
       "version_minor": 0,
       "model_id": "1154c9c61d384cd88ccd2518492b4454"
      }
     },
     "metadata": {}
    },
    {
     "output_type": "stream",
     "name": "stdout",
     "text": "\nEpoch 00025: saving model to savedmodels/conv16_b4_1_1/25\nloss:0.481138676404953, binary_accuracy:0.7434772849082947, val_loss:0.7300243377685547, val_binary_accuracy:0.511361300945282, lr:0.01\n\nEpoch 00026: LearningRateScheduler reducing learning rate to 0.01.\n"
    },
    {
     "output_type": "display_data",
     "data": {
      "text/plain": "HBox(children=(FloatProgress(value=0.0, description='Epoch 25', max=19.0, style=ProgressStyle(description_widt…",
      "application/vnd.jupyter.widget-view+json": {
       "version_major": 2,
       "version_minor": 0,
       "model_id": "a795a0ff0a7e4fb7ade678e8fdfbde12"
      }
     },
     "metadata": {}
    },
    {
     "output_type": "stream",
     "name": "stdout",
     "text": "\nEpoch 00026: saving model to savedmodels/conv16_b4_1_1/26\nloss:0.48127689957618713, binary_accuracy:0.7434772849082947, val_loss:0.7324596047401428, val_binary_accuracy:0.5224384665489197, lr:0.01\n\nEpoch 00027: LearningRateScheduler reducing learning rate to 0.01.\n"
    },
    {
     "output_type": "display_data",
     "data": {
      "text/plain": "HBox(children=(FloatProgress(value=0.0, description='Epoch 26', max=19.0, style=ProgressStyle(description_widt…",
      "application/vnd.jupyter.widget-view+json": {
       "version_major": 2,
       "version_minor": 0,
       "model_id": "38ab8cb61c7342cfac16d92fe3c45dff"
      }
     },
     "metadata": {}
    },
    {
     "output_type": "stream",
     "name": "stdout",
     "text": "\nEpoch 00027: saving model to savedmodels/conv16_b4_1_1/27\nloss:0.481230765581131, binary_accuracy:0.7434772253036499, val_loss:0.7321566939353943, val_binary_accuracy:0.5266886949539185, lr:0.01\n\nEpoch 00028: LearningRateScheduler reducing learning rate to 0.01.\n"
    },
    {
     "output_type": "display_data",
     "data": {
      "text/plain": "HBox(children=(FloatProgress(value=0.0, description='Epoch 27', max=19.0, style=ProgressStyle(description_widt…",
      "application/vnd.jupyter.widget-view+json": {
       "version_major": 2,
       "version_minor": 0,
       "model_id": "e9569a4f0ea1465abf7ca276a39f239f"
      }
     },
     "metadata": {}
    },
    {
     "output_type": "stream",
     "name": "stdout",
     "text": "\nEpoch 00028: saving model to savedmodels/conv16_b4_1_1/28\nloss:0.48067691922187805, binary_accuracy:0.7434773445129395, val_loss:0.7296379804611206, val_binary_accuracy:0.5389580130577087, lr:0.01\n\nEpoch 00029: LearningRateScheduler reducing learning rate to 0.01.\n"
    },
    {
     "output_type": "display_data",
     "data": {
      "text/plain": "HBox(children=(FloatProgress(value=0.0, description='Epoch 28', max=19.0, style=ProgressStyle(description_widt…",
      "application/vnd.jupyter.widget-view+json": {
       "version_major": 2,
       "version_minor": 0,
       "model_id": "076a3a46a7c9450d994859a4e647b490"
      }
     },
     "metadata": {}
    },
    {
     "output_type": "stream",
     "name": "stdout",
     "text": "\nEpoch 00029: saving model to savedmodels/conv16_b4_1_1/29\nloss:0.4804218113422394, binary_accuracy:0.7434772849082947, val_loss:0.7264515161514282, val_binary_accuracy:0.5534482002258301, lr:0.01\n\nEpoch 00030: LearningRateScheduler reducing learning rate to 0.01.\n"
    },
    {
     "output_type": "display_data",
     "data": {
      "text/plain": "HBox(children=(FloatProgress(value=0.0, description='Epoch 29', max=19.0, style=ProgressStyle(description_widt…",
      "application/vnd.jupyter.widget-view+json": {
       "version_major": 2,
       "version_minor": 0,
       "model_id": "f9ac47990f2c4d269164acab3f9cbc7c"
      }
     },
     "metadata": {}
    },
    {
     "output_type": "stream",
     "name": "stdout",
     "text": "\nEpoch 00030: saving model to savedmodels/conv16_b4_1_1/30\nloss:0.4818229675292969, binary_accuracy:0.7434772253036499, val_loss:0.7254330515861511, val_binary_accuracy:0.5655355453491211, lr:0.01\n\nEpoch 00031: LearningRateScheduler reducing learning rate to 0.01.\n"
    },
    {
     "output_type": "display_data",
     "data": {
      "text/plain": "HBox(children=(FloatProgress(value=0.0, description='Epoch 30', max=19.0, style=ProgressStyle(description_widt…",
      "application/vnd.jupyter.widget-view+json": {
       "version_major": 2,
       "version_minor": 0,
       "model_id": "f56ca494b7d64930bed9a0075657c127"
      }
     },
     "metadata": {}
    },
    {
     "output_type": "stream",
     "name": "stdout",
     "text": "\nEpoch 00031: saving model to savedmodels/conv16_b4_1_1/31\nloss:0.4807078540325165, binary_accuracy:0.7434772253036499, val_loss:0.718059778213501, val_binary_accuracy:0.5872829556465149, lr:0.01\n\nEpoch 00032: LearningRateScheduler reducing learning rate to 0.01.\n"
    },
    {
     "output_type": "display_data",
     "data": {
      "text/plain": "HBox(children=(FloatProgress(value=0.0, description='Epoch 31', max=19.0, style=ProgressStyle(description_widt…",
      "application/vnd.jupyter.widget-view+json": {
       "version_major": 2,
       "version_minor": 0,
       "model_id": "e550f5fbeb8d45b4b8fe0bb964a2cf33"
      }
     },
     "metadata": {}
    },
    {
     "output_type": "stream",
     "name": "stdout",
     "text": "\nEpoch 00032: saving model to savedmodels/conv16_b4_1_1/32\nloss:0.4797263443470001, binary_accuracy:0.7434772253036499, val_loss:0.7241563200950623, val_binary_accuracy:0.5694000124931335, lr:0.01\n\nEpoch 00033: LearningRateScheduler reducing learning rate to 0.01.\n"
    },
    {
     "output_type": "display_data",
     "data": {
      "text/plain": "HBox(children=(FloatProgress(value=0.0, description='Epoch 32', max=19.0, style=ProgressStyle(description_widt…",
      "application/vnd.jupyter.widget-view+json": {
       "version_major": 2,
       "version_minor": 0,
       "model_id": "a3fce36f69474aebbcfd2a67185df772"
      }
     },
     "metadata": {}
    },
    {
     "output_type": "stream",
     "name": "stdout",
     "text": "\nEpoch 00033: saving model to savedmodels/conv16_b4_1_1/33\nloss:0.48004114627838135, binary_accuracy:0.7434772253036499, val_loss:0.7199116945266724, val_binary_accuracy:0.5815446376800537, lr:0.01\n\nEpoch 00034: LearningRateScheduler reducing learning rate to 0.01.\n"
    },
    {
     "output_type": "display_data",
     "data": {
      "text/plain": "HBox(children=(FloatProgress(value=0.0, description='Epoch 33', max=19.0, style=ProgressStyle(description_widt…",
      "application/vnd.jupyter.widget-view+json": {
       "version_major": 2,
       "version_minor": 0,
       "model_id": "8bd3ec8914f44670a93147020a099bee"
      }
     },
     "metadata": {}
    },
    {
     "output_type": "stream",
     "name": "stdout",
     "text": "\nEpoch 00034: saving model to savedmodels/conv16_b4_1_1/34\nloss:0.4801396131515503, binary_accuracy:0.7434772253036499, val_loss:0.7171584367752075, val_binary_accuracy:0.5921702980995178, lr:0.01\n\nEpoch 00035: LearningRateScheduler reducing learning rate to 0.01.\n"
    },
    {
     "output_type": "display_data",
     "data": {
      "text/plain": "HBox(children=(FloatProgress(value=0.0, description='Epoch 34', max=19.0, style=ProgressStyle(description_widt…",
      "application/vnd.jupyter.widget-view+json": {
       "version_major": 2,
       "version_minor": 0,
       "model_id": "54b87602295a49569072c66b8caa4ac4"
      }
     },
     "metadata": {}
    },
    {
     "output_type": "stream",
     "name": "stdout",
     "text": "\nEpoch 00035: saving model to savedmodels/conv16_b4_1_1/35\nloss:0.47991058230400085, binary_accuracy:0.7434772253036499, val_loss:0.7173696756362915, val_binary_accuracy:0.5924690365791321, lr:0.01\n\nEpoch 00036: LearningRateScheduler reducing learning rate to 0.01.\n"
    },
    {
     "output_type": "display_data",
     "data": {
      "text/plain": "HBox(children=(FloatProgress(value=0.0, description='Epoch 35', max=19.0, style=ProgressStyle(description_widt…",
      "application/vnd.jupyter.widget-view+json": {
       "version_major": 2,
       "version_minor": 0,
       "model_id": "913ee248383649c3a0c1420fcb28f0be"
      }
     },
     "metadata": {}
    },
    {
     "output_type": "stream",
     "name": "stdout",
     "text": "\nEpoch 00036: saving model to savedmodels/conv16_b4_1_1/36\nloss:0.4797274172306061, binary_accuracy:0.7434773445129395, val_loss:0.7251016497612, val_binary_accuracy:0.5578306913375854, lr:0.01\n\nEpoch 00037: LearningRateScheduler reducing learning rate to 0.01.\n"
    },
    {
     "output_type": "display_data",
     "data": {
      "text/plain": "HBox(children=(FloatProgress(value=0.0, description='Epoch 36', max=19.0, style=ProgressStyle(description_widt…",
      "application/vnd.jupyter.widget-view+json": {
       "version_major": 2,
       "version_minor": 0,
       "model_id": "9ca1d8e2f49142bd95d16835af252829"
      }
     },
     "metadata": {}
    },
    {
     "output_type": "stream",
     "name": "stdout",
     "text": "\nEpoch 00037: saving model to savedmodels/conv16_b4_1_1/37\nloss:0.4797404408454895, binary_accuracy:0.7434772849082947, val_loss:0.7225991487503052, val_binary_accuracy:0.5639628171920776, lr:0.01\n\nEpoch 00038: LearningRateScheduler reducing learning rate to 0.01.\n"
    },
    {
     "output_type": "display_data",
     "data": {
      "text/plain": "HBox(children=(FloatProgress(value=0.0, description='Epoch 37', max=19.0, style=ProgressStyle(description_widt…",
      "application/vnd.jupyter.widget-view+json": {
       "version_major": 2,
       "version_minor": 0,
       "model_id": "433c9f1af6664bfd9bd9c4d228c53729"
      }
     },
     "metadata": {}
    },
    {
     "output_type": "stream",
     "name": "stdout",
     "text": "\nEpoch 00038: saving model to savedmodels/conv16_b4_1_1/38\nloss:0.47952210903167725, binary_accuracy:0.7434771656990051, val_loss:0.7223539352416992, val_binary_accuracy:0.5596593022346497, lr:0.01\n\nEpoch 00039: LearningRateScheduler reducing learning rate to 0.01.\n"
    },
    {
     "output_type": "display_data",
     "data": {
      "text/plain": "HBox(children=(FloatProgress(value=0.0, description='Epoch 38', max=19.0, style=ProgressStyle(description_widt…",
      "application/vnd.jupyter.widget-view+json": {
       "version_major": 2,
       "version_minor": 0,
       "model_id": "b9f709b3027a4ace8764cb32458c6baa"
      }
     },
     "metadata": {}
    },
    {
     "output_type": "stream",
     "name": "stdout",
     "text": "\nEpoch 00039: saving model to savedmodels/conv16_b4_1_1/39\nloss:0.4796893298625946, binary_accuracy:0.7434772849082947, val_loss:0.718350350856781, val_binary_accuracy:0.5860724449157715, lr:0.01\n\nEpoch 00040: LearningRateScheduler reducing learning rate to 0.01.\n"
    },
    {
     "output_type": "display_data",
     "data": {
      "text/plain": "HBox(children=(FloatProgress(value=0.0, description='Epoch 39', max=19.0, style=ProgressStyle(description_widt…",
      "application/vnd.jupyter.widget-view+json": {
       "version_major": 2,
       "version_minor": 0,
       "model_id": "f1cc2e7eeecd48f39e800d7089be1088"
      }
     },
     "metadata": {}
    },
    {
     "output_type": "stream",
     "name": "stdout",
     "text": "\nEpoch 00040: saving model to savedmodels/conv16_b4_1_1/40\nloss:0.4797324538230896, binary_accuracy:0.7434771656990051, val_loss:0.71646648645401, val_binary_accuracy:0.5949342846870422, lr:0.01\n\nEpoch 00041: LearningRateScheduler reducing learning rate to 0.01.\n"
    },
    {
     "output_type": "display_data",
     "data": {
      "text/plain": "HBox(children=(FloatProgress(value=0.0, description='Epoch 40', max=19.0, style=ProgressStyle(description_widt…",
      "application/vnd.jupyter.widget-view+json": {
       "version_major": 2,
       "version_minor": 0,
       "model_id": "252b0e505887430796fb27da325eb53e"
      }
     },
     "metadata": {}
    },
    {
     "output_type": "stream",
     "name": "stdout",
     "text": "\nEpoch 00041: saving model to savedmodels/conv16_b4_1_1/41\nloss:0.4790077209472656, binary_accuracy:0.7434773445129395, val_loss:0.723588764667511, val_binary_accuracy:0.5599614977836609, lr:0.01\n\nEpoch 00042: LearningRateScheduler reducing learning rate to 0.01.\n"
    },
    {
     "output_type": "display_data",
     "data": {
      "text/plain": "HBox(children=(FloatProgress(value=0.0, description='Epoch 41', max=19.0, style=ProgressStyle(description_widt…",
      "application/vnd.jupyter.widget-view+json": {
       "version_major": 2,
       "version_minor": 0,
       "model_id": "d724a0c3cfa64a1f806479f360e9c5a4"
      }
     },
     "metadata": {}
    },
    {
     "output_type": "stream",
     "name": "stdout",
     "text": "\nEpoch 00042: saving model to savedmodels/conv16_b4_1_1/42\nloss:0.4792737364768982, binary_accuracy:0.7434772253036499, val_loss:0.7186095714569092, val_binary_accuracy:0.5874105095863342, lr:0.01\n\nEpoch 00043: LearningRateScheduler reducing learning rate to 0.01.\n"
    },
    {
     "output_type": "display_data",
     "data": {
      "text/plain": "HBox(children=(FloatProgress(value=0.0, description='Epoch 42', max=19.0, style=ProgressStyle(description_widt…",
      "application/vnd.jupyter.widget-view+json": {
       "version_major": 2,
       "version_minor": 0,
       "model_id": "6403ff93cad04ce4ba41ce06747a86da"
      }
     },
     "metadata": {}
    },
    {
     "output_type": "stream",
     "name": "stdout",
     "text": "\nEpoch 00043: saving model to savedmodels/conv16_b4_1_1/43\nloss:0.4789195656776428, binary_accuracy:0.7434772849082947, val_loss:0.7223309278488159, val_binary_accuracy:0.5772752165794373, lr:0.01\n\nEpoch 00044: LearningRateScheduler reducing learning rate to 0.01.\n"
    },
    {
     "output_type": "display_data",
     "data": {
      "text/plain": "HBox(children=(FloatProgress(value=0.0, description='Epoch 43', max=19.0, style=ProgressStyle(description_widt…",
      "application/vnd.jupyter.widget-view+json": {
       "version_major": 2,
       "version_minor": 0,
       "model_id": "acaf8aa0cd6444f4a579e7d9dd201326"
      }
     },
     "metadata": {}
    },
    {
     "output_type": "stream",
     "name": "stdout",
     "text": "\nEpoch 00044: saving model to savedmodels/conv16_b4_1_1/44\nloss:0.4787029027938843, binary_accuracy:0.7434772253036499, val_loss:0.7230144143104553, val_binary_accuracy:0.5741463303565979, lr:0.01\n\nEpoch 00045: LearningRateScheduler reducing learning rate to 0.01.\n"
    },
    {
     "output_type": "display_data",
     "data": {
      "text/plain": "HBox(children=(FloatProgress(value=0.0, description='Epoch 44', max=19.0, style=ProgressStyle(description_widt…",
      "application/vnd.jupyter.widget-view+json": {
       "version_major": 2,
       "version_minor": 0,
       "model_id": "6570af940dfd41a882fc85384546d09f"
      }
     },
     "metadata": {}
    },
    {
     "output_type": "stream",
     "name": "stdout",
     "text": "\nEpoch 00045: saving model to savedmodels/conv16_b4_1_1/45\nloss:0.479468435049057, binary_accuracy:0.7434773445129395, val_loss:0.7144110202789307, val_binary_accuracy:0.5976409912109375, lr:0.01\n\nEpoch 00046: LearningRateScheduler reducing learning rate to 0.01.\n"
    },
    {
     "output_type": "display_data",
     "data": {
      "text/plain": "HBox(children=(FloatProgress(value=0.0, description='Epoch 45', max=19.0, style=ProgressStyle(description_widt…",
      "application/vnd.jupyter.widget-view+json": {
       "version_major": 2,
       "version_minor": 0,
       "model_id": "caea8eb81873471c9bbb6b82eb2b607f"
      }
     },
     "metadata": {}
    },
    {
     "output_type": "stream",
     "name": "stdout",
     "text": "\nEpoch 00046: saving model to savedmodels/conv16_b4_1_1/46\nloss:0.47949808835983276, binary_accuracy:0.7434772253036499, val_loss:0.7229087352752686, val_binary_accuracy:0.5729659795761108, lr:0.01\n\nEpoch 00047: LearningRateScheduler reducing learning rate to 0.01.\n"
    },
    {
     "output_type": "display_data",
     "data": {
      "text/plain": "HBox(children=(FloatProgress(value=0.0, description='Epoch 46', max=19.0, style=ProgressStyle(description_widt…",
      "application/vnd.jupyter.widget-view+json": {
       "version_major": 2,
       "version_minor": 0,
       "model_id": "de1a70978a3a4c2798a27592b8ddec32"
      }
     },
     "metadata": {}
    },
    {
     "output_type": "stream",
     "name": "stdout",
     "text": "\nEpoch 00047: saving model to savedmodels/conv16_b4_1_1/47\nloss:0.4790891110897064, binary_accuracy:0.7434772849082947, val_loss:0.7157305479049683, val_binary_accuracy:0.596740186214447, lr:0.01\n\nEpoch 00048: LearningRateScheduler reducing learning rate to 0.01.\n"
    },
    {
     "output_type": "display_data",
     "data": {
      "text/plain": "HBox(children=(FloatProgress(value=0.0, description='Epoch 47', max=19.0, style=ProgressStyle(description_widt…",
      "application/vnd.jupyter.widget-view+json": {
       "version_major": 2,
       "version_minor": 0,
       "model_id": "83681e23842e4a7fa184fd22a2924c33"
      }
     },
     "metadata": {}
    },
    {
     "output_type": "stream",
     "name": "stdout",
     "text": "\nEpoch 00048: saving model to savedmodels/conv16_b4_1_1/48\nloss:0.47890380024909973, binary_accuracy:0.7434772253036499, val_loss:0.7199296355247498, val_binary_accuracy:0.5787400007247925, lr:0.01\n\nEpoch 00049: LearningRateScheduler reducing learning rate to 0.01.\n"
    },
    {
     "output_type": "display_data",
     "data": {
      "text/plain": "HBox(children=(FloatProgress(value=0.0, description='Epoch 48', max=19.0, style=ProgressStyle(description_widt…",
      "application/vnd.jupyter.widget-view+json": {
       "version_major": 2,
       "version_minor": 0,
       "model_id": "a4aa2d49f1f5479c9a1d5361fb64b8f9"
      }
     },
     "metadata": {}
    },
    {
     "output_type": "stream",
     "name": "stdout",
     "text": "\nEpoch 00049: saving model to savedmodels/conv16_b4_1_1/49\nloss:0.4787484109401703, binary_accuracy:0.7434772849082947, val_loss:0.7202801704406738, val_binary_accuracy:0.5765026807785034, lr:0.01\n\nEpoch 00050: LearningRateScheduler reducing learning rate to 0.01.\n"
    },
    {
     "output_type": "display_data",
     "data": {
      "text/plain": "HBox(children=(FloatProgress(value=0.0, description='Epoch 49', max=19.0, style=ProgressStyle(description_widt…",
      "application/vnd.jupyter.widget-view+json": {
       "version_major": 2,
       "version_minor": 0,
       "model_id": "9e61542592824574998ed1541d3363b0"
      }
     },
     "metadata": {}
    },
    {
     "output_type": "stream",
     "name": "stdout",
     "text": "\nEpoch 00050: saving model to savedmodels/conv16_b4_1_1/50\nloss:0.4792381823062897, binary_accuracy:0.7434772253036499, val_loss:0.723670244216919, val_binary_accuracy:0.5643627047538757, lr:0.01\n\nTook 309.33787870407104 seconds\n"
    }
   ],
   "source": [
    "kwargs = {}\n",
    "kwargs['model_f'] = model_f\n",
    "kwargs['lr_f'] = lr_f\n",
    "kwargs['name'] = name\n",
    "kwargs['epochs'] = epochs\n",
    "kwargs['batch_size'] = 64\n",
    "kwargs['X_train'] = X_train\n",
    "kwargs['Y_train'] = Y_train\n",
    "kwargs['val_data'] = (X_val, Y_val)\n",
    "kwargs['mixed_float'] = mixed_float\n",
    "p = Process(target=run_training, kwargs=kwargs)\n",
    "p.start()\n",
    "p.join()"
   ]
  },
  {
   "cell_type": "code",
   "execution_count": 7,
   "metadata": {
    "tags": []
   },
   "outputs": [
    {
     "output_type": "stream",
     "name": "stderr",
     "text": "/home/jaentrouble/adipose_train2/env/lib/python3.7/site-packages/ipykernel_launcher.py:2: TqdmDeprecationWarning: This function will be removed in tqdm==5.0.0\nPlease use `tqdm.notebook.tqdm` instead of `tqdm.tqdm_notebook`\n  \n"
    },
    {
     "output_type": "display_data",
     "data": {
      "text/plain": "HBox(children=(FloatProgress(value=0.0), HTML(value='')))",
      "application/vnd.jupyter.widget-view+json": {
       "version_major": 2,
       "version_minor": 0,
       "model_id": "42de4636eaaa4b639535cb649d6ed6df"
      }
     },
     "metadata": {}
    }
   ],
   "source": [
    "import tqdm\n",
    "a = tqdm.tqdm_notebook(total=100, leave=True)"
   ]
  },
  {
   "cell_type": "code",
   "execution_count": 14,
   "metadata": {},
   "outputs": [],
   "source": [
    "a.update(10)"
   ]
  },
  {
   "cell_type": "code",
   "execution_count": 6,
   "metadata": {
    "tags": []
   },
   "outputs": [
    {
     "output_type": "execute_result",
     "data": {
      "text/plain": "['tqdm',\n 'tqdm_gui',\n 'trange',\n 'tgrange',\n 'tqdm_pandas',\n 'tqdm_notebook',\n 'tnrange',\n 'main',\n 'TMonitor',\n 'TqdmTypeError',\n 'TqdmKeyError',\n 'TqdmWarning',\n 'TqdmDeprecationWarning',\n 'TqdmExperimentalWarning',\n 'TqdmMonitorWarning',\n 'TqdmSynchronisationWarning',\n '__version__']"
     },
     "metadata": {},
     "execution_count": 6
    }
   ],
   "source": [
    "tqdm.__all__"
   ]
  },
  {
   "cell_type": "code",
   "execution_count": null,
   "metadata": {},
   "outputs": [],
   "source": [
    "tqdm.notebook"
   ]
  }
 ]
}