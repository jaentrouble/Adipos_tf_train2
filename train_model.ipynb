{
 "metadata": {
  "language_info": {
   "codemirror_mode": {
    "name": "ipython",
    "version": 3
   },
   "file_extension": ".py",
   "mimetype": "text/x-python",
   "name": "python",
   "nbconvert_exporter": "python",
   "pygments_lexer": "ipython3",
   "version": "3.7.8-final"
  },
  "orig_nbformat": 2,
  "kernelspec": {
   "name": "train2_venv",
   "display_name": "train2_venv"
  }
 },
 "nbformat": 4,
 "nbformat_minor": 2,
 "cells": [
  {
   "cell_type": "code",
   "execution_count": 1,
   "metadata": {
    "tags": []
   },
   "outputs": [],
   "source": [
    "%matplotlib inline\n",
    "%load_ext autoreload"
   ]
  },
  {
   "cell_type": "code",
   "execution_count": 2,
   "metadata": {},
   "outputs": [],
   "source": [
    "import numpy as np\n",
    "import matplotlib.pyplot as plt\n",
    "from multiprocessing import Process"
   ]
  },
  {
   "cell_type": "code",
   "execution_count": 3,
   "metadata": {
    "tags": []
   },
   "outputs": [
    {
     "output_type": "stream",
     "name": "stdout",
     "text": "/home/jaentrouble/adipose_train2\n"
    }
   ],
   "source": [
    "import os\n",
    "os.chdir('/home/jaentrouble/adipose_train2')\n",
    "print(os.getcwd())"
   ]
  },
  {
   "cell_type": "code",
   "execution_count": 4,
   "metadata": {
    "tags": []
   },
   "outputs": [],
   "source": [
    "with np.load('cell_mask_data.npz') as data:\n",
    "    X = data['img']\n",
    "    Y = data['mask']"
   ]
  },
  {
   "cell_type": "code",
   "execution_count": 5,
   "metadata": {
    "tags": []
   },
   "outputs": [
    {
     "output_type": "stream",
     "name": "stdout",
     "text": "X shape: (1533, 200, 200, 3)\nY shape: (1533, 200, 200)\n"
    }
   ],
   "source": [
    "print('X shape:',X.shape)\n",
    "print('Y shape:',Y.shape)"
   ]
  },
  {
   "cell_type": "code",
   "execution_count": 6,
   "metadata": {},
   "outputs": [],
   "source": [
    "X_train = X[:1200]\n",
    "Y_train = Y[:1200]\n",
    "X_val = X[1200:1350]\n",
    "Y_val = Y[1200:1350]\n",
    "X_test = X[1350:]\n",
    "Y_test = Y[1350:]"
   ]
  },
  {
   "cell_type": "code",
   "execution_count": 7,
   "metadata": {
    "tags": []
   },
   "outputs": [
    {
     "output_type": "stream",
     "name": "stdout",
     "text": "remote: Enumerating objects: 4, done.\u001b[K\nremote: Counting objects: 100% (4/4), done.\u001b[K\nremote: Total 4 (delta 3), reused 4 (delta 3), pack-reused 0\u001b[K\nUnpacking objects: 100% (4/4), 565 bytes | 188.00 KiB/s, done.\nFrom https://github.com/jaentrouble/Adipos_tf_train2\n   7b9f4ea..d51b576  master     -> origin/master\nUpdating 7b9f4ea..d51b576\nFast-forward\n adipose_models.py | 2 \u001b[32m+\u001b[m\u001b[31m-\u001b[m\n train_model.ipynb | 6 \u001b[32m+++\u001b[m\u001b[31m---\u001b[m\n 2 files changed, 4 insertions(+), 4 deletions(-)\n"
    }
   ],
   "source": [
    "!git pull\n",
    "%autoreload"
   ]
  },
  {
   "cell_type": "code",
   "execution_count": 8,
   "metadata": {},
   "outputs": [],
   "source": [
    "from model_trainer import run_training\n",
    "from adipose_models import *\n",
    "from model_lr import *"
   ]
  },
  {
   "cell_type": "code",
   "execution_count": 9,
   "metadata": {},
   "outputs": [],
   "source": [
    "model_f = hr_2_2_0\n",
    "lr_f = lr_mul_inv\n",
    "name = 'hr_2_2_0'\n",
    "epochs = 20\n",
    "mixed_float = True"
   ]
  },
  {
   "cell_type": "code",
   "execution_count": 10,
   "metadata": {
    "tags": []
   },
   "outputs": [
    {
     "output_type": "stream",
     "name": "stdout",
     "text": "INFO:tensorflow:Mixed precision compatibility check (mixed_float16): OK\nYour GPU will likely run quickly with dtype policy mixed_float16 as it has compute capability of at least 7.0. Your GPU: GeForce RTX 2070 SUPER, compute capability 7.5\nModel: \"functional_1\"\n__________________________________________________________________________________________________\nLayer (type)                    Output Shape         Param #     Connected to\n==================================================================================================\ninput_1 (InputLayer)            [(None, 200, 200, 3) 0\n__________________________________________________________________________________________________\nHR_0 (HighResolutionModule)     [(None, 200, 200, 8) 2528        input_1[0][0]\n__________________________________________________________________________________________________\nHR_1 (HighResolutionModule)     [(None, 200, 200, 8) 13336       HR_0[0][0]\n__________________________________________________________________________________________________\nHR_2 (HighResolutionModule)     [(None, 200, 200, 8) 67952       HR_1[0][0]\n                                                                 HR_1[0][1]\n__________________________________________________________________________________________________\nFusion_0 (HighResolutionFusion) [(None, 200, 200, 8) 568         HR_2[0][0]\n                                                                 HR_2[0][1]\n                                                                 HR_2[0][2]\n__________________________________________________________________________________________________\nFinal_conv (Conv2D)             (None, 200, 200, 1)  9           Fusion_0[0][0]\n__________________________________________________________________________________________________\ntf_op_layer_Squeeze (TensorFlow [(None, 200, 200)]   0           Final_conv[0][0]\n__________________________________________________________________________________________________\nactivation (Activation)         (None, 200, 200)     0           tf_op_layer_Squeeze[0][0]\n==================================================================================================\nTotal params: 84,393\nTrainable params: 83,289\nNon-trainable params: 1,104\n__________________________________________________________________________________________________\n"
    },
    {
     "output_type": "display_data",
     "data": {
      "text/plain": "HBox(children=(FloatProgress(value=0.0, description='Training', layout=Layout(flex='2'), max=20.0, style=Progr…",
      "application/vnd.jupyter.widget-view+json": {
       "version_major": 2,
       "version_minor": 0,
       "model_id": "4e5c2504caa1427a8c24d12190f47057"
      }
     },
     "metadata": {}
    },
    {
     "output_type": "stream",
     "name": "stdout",
     "text": "\nEpoch 00001: LearningRateScheduler reducing learning rate to 0.01.\n"
    },
    {
     "output_type": "display_data",
     "data": {
      "text/plain": "HBox(children=(FloatProgress(value=0.0, description='Epoch 0', layout=Layout(flex='2'), max=38.0, style=Progre…",
      "application/vnd.jupyter.widget-view+json": {
       "version_major": 2,
       "version_minor": 0,
       "model_id": "7f846332d36d4c9a801af3de5d32be2e"
      }
     },
     "metadata": {}
    },
    {
     "output_type": "stream",
     "name": "stdout",
     "text": "WARNING:tensorflow:From /home/jaentrouble/adipose_train2/env/lib/python3.7/site-packages/tensorflow/python/ops/summary_ops_v2.py:1277: stop (from tensorflow.python.eager.profiler) is deprecated and will be removed after 2020-07-01.\nInstructions for updating:\nuse `tf.profiler.experimental.stop` instead.\n\nEpoch 00001: saving model to savedmodels/hr_2_2_0/1\nloss:0.5515018701553345, binary_accuracy:0.7140550017356873, val_loss:0.703186571598053, val_binary_accuracy:0.6363252997398376, lr:0.01\n\nEpoch 00002: LearningRateScheduler reducing learning rate to 0.005.\n"
    },
    {
     "output_type": "display_data",
     "data": {
      "text/plain": "HBox(children=(FloatProgress(value=0.0, description='Epoch 1', layout=Layout(flex='2'), max=38.0, style=Progre…",
      "application/vnd.jupyter.widget-view+json": {
       "version_major": 2,
       "version_minor": 0,
       "model_id": "d28e56f4932d4cd5943370657328603c"
      }
     },
     "metadata": {}
    },
    {
     "output_type": "stream",
     "name": "stdout",
     "text": "\nEpoch 00002: saving model to savedmodels/hr_2_2_0/2\nloss:0.42110690474510193, binary_accuracy:0.7541340589523315, val_loss:0.6860392093658447, val_binary_accuracy:0.7290534377098083, lr:0.005\n\nEpoch 00003: LearningRateScheduler reducing learning rate to 0.0033333333333333335.\n"
    },
    {
     "output_type": "display_data",
     "data": {
      "text/plain": "HBox(children=(FloatProgress(value=0.0, description='Epoch 2', layout=Layout(flex='2'), max=38.0, style=Progre…",
      "application/vnd.jupyter.widget-view+json": {
       "version_major": 2,
       "version_minor": 0,
       "model_id": "8a4d87ead71a463285da1ee14747b917"
      }
     },
     "metadata": {}
    },
    {
     "output_type": "stream",
     "name": "stdout",
     "text": "\nEpoch 00003: saving model to savedmodels/hr_2_2_0/3\nloss:0.3844221234321594, binary_accuracy:0.7743957042694092, val_loss:0.6798972487449646, val_binary_accuracy:0.7553360462188721, lr:0.0033333334\n\nEpoch 00004: LearningRateScheduler reducing learning rate to 0.0025.\n"
    },
    {
     "output_type": "display_data",
     "data": {
      "text/plain": "HBox(children=(FloatProgress(value=0.0, description='Epoch 3', layout=Layout(flex='2'), max=38.0, style=Progre…",
      "application/vnd.jupyter.widget-view+json": {
       "version_major": 2,
       "version_minor": 0,
       "model_id": "e45cac32cd0a4b45817940be1031adcc"
      }
     },
     "metadata": {}
    },
    {
     "output_type": "stream",
     "name": "stdout",
     "text": "\nEpoch 00004: saving model to savedmodels/hr_2_2_0/4\nloss:0.37253597378730774, binary_accuracy:0.7848540544509888, val_loss:0.6773781776428223, val_binary_accuracy:0.7584624886512756, lr:0.0025\n\nEpoch 00005: LearningRateScheduler reducing learning rate to 0.002.\n"
    },
    {
     "output_type": "display_data",
     "data": {
      "text/plain": "HBox(children=(FloatProgress(value=0.0, description='Epoch 4', layout=Layout(flex='2'), max=38.0, style=Progre…",
      "application/vnd.jupyter.widget-view+json": {
       "version_major": 2,
       "version_minor": 0,
       "model_id": "0a0dc78f4cd8410fa03cd91d8502e90d"
      }
     },
     "metadata": {}
    },
    {
     "output_type": "stream",
     "name": "stdout",
     "text": "\nEpoch 00005: saving model to savedmodels/hr_2_2_0/5\nloss:0.3499874472618103, binary_accuracy:0.8008501529693604, val_loss:0.6687887907028198, val_binary_accuracy:0.7908397316932678, lr:0.002\n\nEpoch 00006: LearningRateScheduler reducing learning rate to 0.0016666666666666668.\n"
    },
    {
     "output_type": "display_data",
     "data": {
      "text/plain": "HBox(children=(FloatProgress(value=0.0, description='Epoch 5', layout=Layout(flex='2'), max=38.0, style=Progre…",
      "application/vnd.jupyter.widget-view+json": {
       "version_major": 2,
       "version_minor": 0,
       "model_id": "887d331228b8419d84e88aeb3259df81"
      }
     },
     "metadata": {}
    },
    {
     "output_type": "stream",
     "name": "stdout",
     "text": "\nEpoch 00006: saving model to savedmodels/hr_2_2_0/6\nloss:0.3296617269515991, binary_accuracy:0.817039966583252, val_loss:0.6621060967445374, val_binary_accuracy:0.8136558532714844, lr:0.0016666667\n\nEpoch 00007: LearningRateScheduler reducing learning rate to 0.0014285714285714286.\n"
    },
    {
     "output_type": "display_data",
     "data": {
      "text/plain": "HBox(children=(FloatProgress(value=0.0, description='Epoch 6', layout=Layout(flex='2'), max=38.0, style=Progre…",
      "application/vnd.jupyter.widget-view+json": {
       "version_major": 2,
       "version_minor": 0,
       "model_id": "a02fa5523a544530b2822e28cdf0ec00"
      }
     },
     "metadata": {}
    },
    {
     "output_type": "stream",
     "name": "stdout",
     "text": "\nEpoch 00007: saving model to savedmodels/hr_2_2_0/7\nloss:0.32054629921913147, binary_accuracy:0.8246595859527588, val_loss:0.6618117690086365, val_binary_accuracy:0.821466326713562, lr:0.0014285714\n\nEpoch 00008: LearningRateScheduler reducing learning rate to 0.00125.\n"
    },
    {
     "output_type": "display_data",
     "data": {
      "text/plain": "HBox(children=(FloatProgress(value=0.0, description='Epoch 7', layout=Layout(flex='2'), max=38.0, style=Progre…",
      "application/vnd.jupyter.widget-view+json": {
       "version_major": 2,
       "version_minor": 0,
       "model_id": "2084ab350356460ab0e831e6c51004da"
      }
     },
     "metadata": {}
    },
    {
     "output_type": "stream",
     "name": "stdout",
     "text": "\nEpoch 00008: saving model to savedmodels/hr_2_2_0/8\nloss:0.31502994894981384, binary_accuracy:0.8281628489494324, val_loss:0.6606367230415344, val_binary_accuracy:0.8116004467010498, lr:0.00125\n\nEpoch 00009: LearningRateScheduler reducing learning rate to 0.0011111111111111111.\n"
    },
    {
     "output_type": "display_data",
     "data": {
      "text/plain": "HBox(children=(FloatProgress(value=0.0, description='Epoch 8', layout=Layout(flex='2'), max=38.0, style=Progre…",
      "application/vnd.jupyter.widget-view+json": {
       "version_major": 2,
       "version_minor": 0,
       "model_id": "850d4671036f432ca40d82f6d5da1b82"
      }
     },
     "metadata": {}
    },
    {
     "output_type": "stream",
     "name": "stdout",
     "text": "\nEpoch 00009: saving model to savedmodels/hr_2_2_0/9\nloss:0.3096688389778137, binary_accuracy:0.8321506977081299, val_loss:0.6616162061691284, val_binary_accuracy:0.8207092881202698, lr:0.0011111111\n\nEpoch 00010: LearningRateScheduler reducing learning rate to 0.001.\n"
    },
    {
     "output_type": "display_data",
     "data": {
      "text/plain": "HBox(children=(FloatProgress(value=0.0, description='Epoch 9', layout=Layout(flex='2'), max=38.0, style=Progre…",
      "application/vnd.jupyter.widget-view+json": {
       "version_major": 2,
       "version_minor": 0,
       "model_id": "0a852e9b295f4611b05bb1f16d1bff61"
      }
     },
     "metadata": {}
    },
    {
     "output_type": "stream",
     "name": "stdout",
     "text": "\nEpoch 00010: saving model to savedmodels/hr_2_2_0/10\nloss:0.30154645442962646, binary_accuracy:0.8383132219314575, val_loss:0.6567192077636719, val_binary_accuracy:0.8265334367752075, lr:0.001\n\nEpoch 00011: LearningRateScheduler reducing learning rate to 0.0009090909090909091.\n"
    },
    {
     "output_type": "display_data",
     "data": {
      "text/plain": "HBox(children=(FloatProgress(value=0.0, description='Epoch 10', layout=Layout(flex='2'), max=38.0, style=Progr…",
      "application/vnd.jupyter.widget-view+json": {
       "version_major": 2,
       "version_minor": 0,
       "model_id": "a2d0b5c128b64c3d8de89d340370cb18"
      }
     },
     "metadata": {}
    },
    {
     "output_type": "stream",
     "name": "stdout",
     "text": "\nEpoch 00011: saving model to savedmodels/hr_2_2_0/11\nloss:0.2974179983139038, binary_accuracy:0.8410691022872925, val_loss:0.6573350429534912, val_binary_accuracy:0.8329740166664124, lr:0.0009090909\n\nEpoch 00012: LearningRateScheduler reducing learning rate to 0.0008333333333333334.\n"
    },
    {
     "output_type": "display_data",
     "data": {
      "text/plain": "HBox(children=(FloatProgress(value=0.0, description='Epoch 11', layout=Layout(flex='2'), max=38.0, style=Progr…",
      "application/vnd.jupyter.widget-view+json": {
       "version_major": 2,
       "version_minor": 0,
       "model_id": "30ea3c5bf1174ad1b0f782ffece32dd6"
      }
     },
     "metadata": {}
    },
    {
     "output_type": "stream",
     "name": "stdout",
     "text": "\nEpoch 00012: saving model to savedmodels/hr_2_2_0/12\nloss:0.2942054867744446, binary_accuracy:0.8431810140609741, val_loss:0.6613388657569885, val_binary_accuracy:0.8335303664207458, lr:0.00083333335\n\nEpoch 00013: LearningRateScheduler reducing learning rate to 0.0007692307692307692.\n"
    },
    {
     "output_type": "display_data",
     "data": {
      "text/plain": "HBox(children=(FloatProgress(value=0.0, description='Epoch 12', layout=Layout(flex='2'), max=38.0, style=Progr…",
      "application/vnd.jupyter.widget-view+json": {
       "version_major": 2,
       "version_minor": 0,
       "model_id": "1b313f5900c14da38a92df03c49f612e"
      }
     },
     "metadata": {}
    },
    {
     "output_type": "stream",
     "name": "stdout",
     "text": "\nEpoch 00013: saving model to savedmodels/hr_2_2_0/13\nloss:0.2907090485095978, binary_accuracy:0.8454519510269165, val_loss:0.6578370928764343, val_binary_accuracy:0.8338008522987366, lr:0.00076923077\n\nEpoch 00014: LearningRateScheduler reducing learning rate to 0.0007142857142857143.\n"
    },
    {
     "output_type": "display_data",
     "data": {
      "text/plain": "HBox(children=(FloatProgress(value=0.0, description='Epoch 13', layout=Layout(flex='2'), max=38.0, style=Progr…",
      "application/vnd.jupyter.widget-view+json": {
       "version_major": 2,
       "version_minor": 0,
       "model_id": "e1851417a02f40d5aab0ec10b27dd173"
      }
     },
     "metadata": {}
    },
    {
     "output_type": "stream",
     "name": "stdout",
     "text": "\nEpoch 00014: saving model to savedmodels/hr_2_2_0/14\nloss:0.28982603549957275, binary_accuracy:0.8460567593574524, val_loss:0.6654201149940491, val_binary_accuracy:0.827716052532196, lr:0.0007142857\n\nEpoch 00015: LearningRateScheduler reducing learning rate to 0.0006666666666666666.\n"
    },
    {
     "output_type": "display_data",
     "data": {
      "text/plain": "HBox(children=(FloatProgress(value=0.0, description='Epoch 14', layout=Layout(flex='2'), max=38.0, style=Progr…",
      "application/vnd.jupyter.widget-view+json": {
       "version_major": 2,
       "version_minor": 0,
       "model_id": "0f8570f721fa488e8570128e7ba705dc"
      }
     },
     "metadata": {}
    },
    {
     "output_type": "stream",
     "name": "stdout",
     "text": "\nEpoch 00015: saving model to savedmodels/hr_2_2_0/15\nloss:0.2882349491119385, binary_accuracy:0.8470585942268372, val_loss:0.6587797403335571, val_binary_accuracy:0.8322203159332275, lr:0.00066666666\n\nEpoch 00016: LearningRateScheduler reducing learning rate to 0.000625.\n"
    },
    {
     "output_type": "display_data",
     "data": {
      "text/plain": "HBox(children=(FloatProgress(value=0.0, description='Epoch 15', layout=Layout(flex='2'), max=38.0, style=Progr…",
      "application/vnd.jupyter.widget-view+json": {
       "version_major": 2,
       "version_minor": 0,
       "model_id": "5d5a2293281d409eaa426900c6afef20"
      }
     },
     "metadata": {}
    },
    {
     "output_type": "stream",
     "name": "stdout",
     "text": "\nEpoch 00016: saving model to savedmodels/hr_2_2_0/16\nloss:0.2857874929904938, binary_accuracy:0.8489574790000916, val_loss:0.6552906036376953, val_binary_accuracy:0.8309233784675598, lr:0.000625\n\nEpoch 00017: LearningRateScheduler reducing learning rate to 0.0005882352941176471.\n"
    },
    {
     "output_type": "display_data",
     "data": {
      "text/plain": "HBox(children=(FloatProgress(value=0.0, description='Epoch 16', layout=Layout(flex='2'), max=38.0, style=Progr…",
      "application/vnd.jupyter.widget-view+json": {
       "version_major": 2,
       "version_minor": 0,
       "model_id": "5f8c8d4d4f4e4cd0806554a859a91fc6"
      }
     },
     "metadata": {}
    },
    {
     "output_type": "stream",
     "name": "stdout",
     "text": "\nEpoch 00017: saving model to savedmodels/hr_2_2_0/17\nloss:0.2822890281677246, binary_accuracy:0.8514453768730164, val_loss:0.6549541354179382, val_binary_accuracy:0.8380143642425537, lr:0.00058823527\n\nEpoch 00018: LearningRateScheduler reducing learning rate to 0.0005555555555555556.\n"
    },
    {
     "output_type": "display_data",
     "data": {
      "text/plain": "HBox(children=(FloatProgress(value=0.0, description='Epoch 17', layout=Layout(flex='2'), max=38.0, style=Progr…",
      "application/vnd.jupyter.widget-view+json": {
       "version_major": 2,
       "version_minor": 0,
       "model_id": "3e0e192729e0467eada75a8655859e9d"
      }
     },
     "metadata": {}
    },
    {
     "output_type": "stream",
     "name": "stdout",
     "text": "\nEpoch 00018: saving model to savedmodels/hr_2_2_0/18\nloss:0.2785314619541168, binary_accuracy:0.8540253043174744, val_loss:0.6534179449081421, val_binary_accuracy:0.8431437611579895, lr:0.00055555557\n\nEpoch 00019: LearningRateScheduler reducing learning rate to 0.0005263157894736842.\n"
    },
    {
     "output_type": "display_data",
     "data": {
      "text/plain": "HBox(children=(FloatProgress(value=0.0, description='Epoch 18', layout=Layout(flex='2'), max=38.0, style=Progr…",
      "application/vnd.jupyter.widget-view+json": {
       "version_major": 2,
       "version_minor": 0,
       "model_id": "d0146ff8932e4befb59c0be711a6af6d"
      }
     },
     "metadata": {}
    },
    {
     "output_type": "stream",
     "name": "stdout",
     "text": "\nEpoch 00019: saving model to savedmodels/hr_2_2_0/19\nloss:0.27469003200531006, binary_accuracy:0.8570564389228821, val_loss:0.6526473760604858, val_binary_accuracy:0.8413363099098206, lr:0.00052631577\n\nEpoch 00020: LearningRateScheduler reducing learning rate to 0.0005.\n"
    },
    {
     "output_type": "display_data",
     "data": {
      "text/plain": "HBox(children=(FloatProgress(value=0.0, description='Epoch 19', layout=Layout(flex='2'), max=38.0, style=Progr…",
      "application/vnd.jupyter.widget-view+json": {
       "version_major": 2,
       "version_minor": 0,
       "model_id": "27a0f21051db4d7986cf7f1524fb5b2b"
      }
     },
     "metadata": {}
    },
    {
     "output_type": "stream",
     "name": "stdout",
     "text": "\nEpoch 00020: saving model to savedmodels/hr_2_2_0/20\nloss:0.2716805636882782, binary_accuracy:0.8592574000358582, val_loss:0.6499109864234924, val_binary_accuracy:0.8471945524215698, lr:0.0005\n\nTook 404.5226833820343 seconds\n"
    }
   ],
   "source": [
    "kwargs = {}\n",
    "kwargs['model_f'] = model_f\n",
    "kwargs['lr_f'] = lr_f\n",
    "kwargs['name'] = name\n",
    "kwargs['epochs'] = epochs\n",
    "kwargs['batch_size'] = 32\n",
    "kwargs['X_train'] = X_train\n",
    "kwargs['Y_train'] = Y_train\n",
    "kwargs['val_data'] = (X_val, Y_val)\n",
    "kwargs['mixed_float'] = mixed_float\n",
    "p = Process(target=run_training, kwargs=kwargs)\n",
    "p.start()\n",
    "p.join()"
   ]
  },
  {
   "cell_type": "code",
   "execution_count": null,
   "metadata": {},
   "outputs": [],
   "source": []
  }
 ]
}