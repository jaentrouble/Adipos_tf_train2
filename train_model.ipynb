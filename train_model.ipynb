{
 "metadata": {
  "language_info": {
   "codemirror_mode": {
    "name": "ipython",
    "version": 3
   },
   "file_extension": ".py",
   "mimetype": "text/x-python",
   "name": "python",
   "nbconvert_exporter": "python",
   "pygments_lexer": "ipython3",
   "version": "3.7.8-final"
  },
  "orig_nbformat": 2,
  "kernelspec": {
   "name": "train2_venv",
   "display_name": "train2_venv"
  }
 },
 "nbformat": 4,
 "nbformat_minor": 2,
 "cells": [
  {
   "cell_type": "code",
   "execution_count": 1,
   "metadata": {
    "tags": []
   },
   "outputs": [],
   "source": [
    "%matplotlib inline\n",
    "%load_ext autoreload"
   ]
  },
  {
   "cell_type": "code",
   "execution_count": 2,
   "metadata": {},
   "outputs": [],
   "source": [
    "import numpy as np\n",
    "import matplotlib.pyplot as plt\n",
    "from multiprocessing import Process"
   ]
  },
  {
   "cell_type": "code",
   "execution_count": 3,
   "metadata": {
    "tags": []
   },
   "outputs": [
    {
     "output_type": "stream",
     "name": "stdout",
     "text": "/home/jaentrouble/adipose_train2\n"
    }
   ],
   "source": [
    "import os\n",
    "os.chdir('/home/jaentrouble/adipose_train2')\n",
    "print(os.getcwd())"
   ]
  },
  {
   "cell_type": "code",
   "execution_count": 4,
   "metadata": {
    "tags": []
   },
   "outputs": [],
   "source": [
    "with np.load('cell_mask_data.npz') as data:\n",
    "    X = data['img']\n",
    "    Y = data['mask']"
   ]
  },
  {
   "cell_type": "code",
   "execution_count": 5,
   "metadata": {
    "tags": []
   },
   "outputs": [
    {
     "output_type": "stream",
     "name": "stdout",
     "text": "X shape: (1533, 200, 200, 3)\nY shape: (1533, 200, 200)\n"
    }
   ],
   "source": [
    "print('X shape:',X.shape)\n",
    "print('Y shape:',Y.shape)"
   ]
  },
  {
   "cell_type": "code",
   "execution_count": 6,
   "metadata": {},
   "outputs": [],
   "source": [
    "X_train = X[:1200]\n",
    "Y_train = Y[:1200]\n",
    "X_val = X[1200:1350]\n",
    "Y_val = Y[1200:1350]\n",
    "X_test = X[1350:]\n",
    "Y_test = Y[1350:]"
   ]
  },
  {
   "cell_type": "code",
   "execution_count": 7,
   "metadata": {
    "tags": []
   },
   "outputs": [
    {
     "output_type": "stream",
     "name": "stdout",
     "text": "remote: Enumerating objects: 7, done.\u001b[K\nremote: Counting objects: 100% (7/7), done.\u001b[K\nremote: Compressing objects: 100% (2/2), done.\u001b[K\nremote: Total 4 (delta 2), reused 4 (delta 2), pack-reused 0\u001b[K\nUnpacking objects: 100% (4/4), 2.01 KiB | 1.00 MiB/s, done.\nFrom https://github.com/jaentrouble/Adipos_tf_train2\n   b259e85..7c80220  master     -> origin/master\nUpdating b259e85..7c80220\nFast-forward\n model_trainer.py  |   8 \u001b[32m+\u001b[m\u001b[31m-\u001b[m\n train_model.ipynb | 575 \u001b[32m++\u001b[m\u001b[31m----------------------------------------------------\u001b[m\n 2 files changed, 18 insertions(+), 565 deletions(-)\n"
    }
   ],
   "source": [
    "!git pull\n",
    "%autoreload"
   ]
  },
  {
   "cell_type": "code",
   "execution_count": 8,
   "metadata": {},
   "outputs": [],
   "source": [
    "from model_trainer import run_training\n",
    "from adipose_models import *\n",
    "from model_lr import *"
   ]
  },
  {
   "cell_type": "code",
   "execution_count": 9,
   "metadata": {},
   "outputs": [],
   "source": [
    "model_f = res_12_2_0_BN\n",
    "lr_f = lr_step5\n",
    "name = 'res_12_2_0_BN_2'\n",
    "epochs = 100\n",
    "mixed_float = True"
   ]
  },
  {
   "cell_type": "code",
   "execution_count": 10,
   "metadata": {
    "tags": []
   },
   "outputs": [
    {
     "output_type": "stream",
     "name": "stdout",
     "text": "INFO:tensorflow:Mixed precision compatibility check (mixed_float16): OK\nYour GPU will likely run quickly with dtype policy mixed_float16 as it has compute capability of at least 7.0. Your GPU: GeForce RTX 2070 SUPER, compute capability 7.5\nModel: \"functional_1\"\n__________________________________________________________________________________________________\nLayer (type)                    Output Shape         Param #     Connected to\n==================================================================================================\ninput_1 (InputLayer)            [(None, 200, 200, 3) 0\n__________________________________________________________________________________________________\nconv2d_1 (Conv2D)               (None, 200, 200, 32) 896         input_1[0][0]\n__________________________________________________________________________________________________\nconv2d_2 (Conv2D)               (None, 200, 200, 32) 9248        conv2d_1[0][0]\n__________________________________________________________________________________________________\nconv2d (Conv2D)                 (None, 200, 200, 32) 128         input_1[0][0]\n__________________________________________________________________________________________________\ntf_op_layer_AddV2 (TensorFlowOp [(None, 200, 200, 32 0           conv2d_2[0][0]\n                                                                 conv2d[0][0]\n__________________________________________________________________________________________________\nbatch_normalization (BatchNorma (None, 200, 200, 32) 128         tf_op_layer_AddV2[0][0]\n__________________________________________________________________________________________________\nre_lu (ReLU)                    (None, 200, 200, 32) 0           batch_normalization[0][0]\n__________________________________________________________________________________________________\nconv2d_3 (Conv2D)               (None, 200, 200, 32) 9248        re_lu[0][0]\n__________________________________________________________________________________________________\nconv2d_4 (Conv2D)               (None, 200, 200, 32) 9248        conv2d_3[0][0]\n__________________________________________________________________________________________________\ntf_op_layer_AddV2_1 (TensorFlow [(None, 200, 200, 32 0           conv2d_4[0][0]\n                                                                 re_lu[0][0]\n__________________________________________________________________________________________________\nbatch_normalization_1 (BatchNor (None, 200, 200, 32) 128         tf_op_layer_AddV2_1[0][0]\n__________________________________________________________________________________________________\nre_lu_1 (ReLU)                  (None, 200, 200, 32) 0           batch_normalization_1[0][0]\n__________________________________________________________________________________________________\nconv2d_5 (Conv2D)               (None, 200, 200, 32) 9248        re_lu_1[0][0]\n__________________________________________________________________________________________________\nconv2d_6 (Conv2D)               (None, 200, 200, 32) 9248        conv2d_5[0][0]\n__________________________________________________________________________________________________\ntf_op_layer_AddV2_2 (TensorFlow [(None, 200, 200, 32 0           conv2d_6[0][0]\n                                                                 re_lu_1[0][0]\n__________________________________________________________________________________________________\nbatch_normalization_2 (BatchNor (None, 200, 200, 32) 128         tf_op_layer_AddV2_2[0][0]\n__________________________________________________________________________________________________\nre_lu_2 (ReLU)                  (None, 200, 200, 32) 0           batch_normalization_2[0][0]\n__________________________________________________________________________________________________\nconv2d_7 (Conv2D)               (None, 200, 200, 32) 9248        re_lu_2[0][0]\n__________________________________________________________________________________________________\nconv2d_8 (Conv2D)               (None, 200, 200, 32) 9248        conv2d_7[0][0]\n__________________________________________________________________________________________________\ntf_op_layer_AddV2_3 (TensorFlow [(None, 200, 200, 32 0           conv2d_8[0][0]\n                                                                 re_lu_2[0][0]\n__________________________________________________________________________________________________\nbatch_normalization_3 (BatchNor (None, 200, 200, 32) 128         tf_op_layer_AddV2_3[0][0]\n__________________________________________________________________________________________________\nre_lu_3 (ReLU)                  (None, 200, 200, 32) 0           batch_normalization_3[0][0]\n__________________________________________________________________________________________________\nconv2d_9 (Conv2D)               (None, 200, 200, 32) 9248        re_lu_3[0][0]\n__________________________________________________________________________________________________\nconv2d_10 (Conv2D)              (None, 200, 200, 32) 9248        conv2d_9[0][0]\n__________________________________________________________________________________________________\ntf_op_layer_AddV2_4 (TensorFlow [(None, 200, 200, 32 0           conv2d_10[0][0]\n                                                                 re_lu_3[0][0]\n__________________________________________________________________________________________________\nbatch_normalization_4 (BatchNor (None, 200, 200, 32) 128         tf_op_layer_AddV2_4[0][0]\n__________________________________________________________________________________________________\nre_lu_4 (ReLU)                  (None, 200, 200, 32) 0           batch_normalization_4[0][0]\n__________________________________________________________________________________________________\nconv2d_11 (Conv2D)              (None, 200, 200, 32) 9248        re_lu_4[0][0]\n__________________________________________________________________________________________________\nconv2d_12 (Conv2D)              (None, 200, 200, 32) 9248        conv2d_11[0][0]\n__________________________________________________________________________________________________\ntf_op_layer_AddV2_5 (TensorFlow [(None, 200, 200, 32 0           conv2d_12[0][0]\n                                                                 re_lu_4[0][0]\n__________________________________________________________________________________________________\nbatch_normalization_5 (BatchNor (None, 200, 200, 32) 128         tf_op_layer_AddV2_5[0][0]\n__________________________________________________________________________________________________\nre_lu_5 (ReLU)                  (None, 200, 200, 32) 0           batch_normalization_5[0][0]\n__________________________________________________________________________________________________\nconv2d_13 (Conv2D)              (None, 200, 200, 32) 9248        re_lu_5[0][0]\n__________________________________________________________________________________________________\nconv2d_14 (Conv2D)              (None, 200, 200, 32) 9248        conv2d_13[0][0]\n__________________________________________________________________________________________________\ntf_op_layer_AddV2_6 (TensorFlow [(None, 200, 200, 32 0           conv2d_14[0][0]\n                                                                 re_lu_5[0][0]\n__________________________________________________________________________________________________\nbatch_normalization_6 (BatchNor (None, 200, 200, 32) 128         tf_op_layer_AddV2_6[0][0]\n__________________________________________________________________________________________________\nre_lu_6 (ReLU)                  (None, 200, 200, 32) 0           batch_normalization_6[0][0]\n__________________________________________________________________________________________________\nconv2d_15 (Conv2D)              (None, 200, 200, 32) 9248        re_lu_6[0][0]\n__________________________________________________________________________________________________\nconv2d_16 (Conv2D)              (None, 200, 200, 32) 9248        conv2d_15[0][0]\n__________________________________________________________________________________________________\ntf_op_layer_AddV2_7 (TensorFlow [(None, 200, 200, 32 0           conv2d_16[0][0]\n                                                                 re_lu_6[0][0]\n__________________________________________________________________________________________________\nbatch_normalization_7 (BatchNor (None, 200, 200, 32) 128         tf_op_layer_AddV2_7[0][0]\n__________________________________________________________________________________________________\nre_lu_7 (ReLU)                  (None, 200, 200, 32) 0           batch_normalization_7[0][0]\n__________________________________________________________________________________________________\nconv2d_17 (Conv2D)              (None, 200, 200, 32) 9248        re_lu_7[0][0]\n__________________________________________________________________________________________________\nconv2d_18 (Conv2D)              (None, 200, 200, 32) 9248        conv2d_17[0][0]\n__________________________________________________________________________________________________\ntf_op_layer_AddV2_8 (TensorFlow [(None, 200, 200, 32 0           conv2d_18[0][0]\n                                                                 re_lu_7[0][0]\n__________________________________________________________________________________________________\nbatch_normalization_8 (BatchNor (None, 200, 200, 32) 128         tf_op_layer_AddV2_8[0][0]\n__________________________________________________________________________________________________\nre_lu_8 (ReLU)                  (None, 200, 200, 32) 0           batch_normalization_8[0][0]\n__________________________________________________________________________________________________\nconv2d_19 (Conv2D)              (None, 200, 200, 32) 9248        re_lu_8[0][0]\n__________________________________________________________________________________________________\nconv2d_20 (Conv2D)              (None, 200, 200, 32) 9248        conv2d_19[0][0]\n__________________________________________________________________________________________________\ntf_op_layer_AddV2_9 (TensorFlow [(None, 200, 200, 32 0           conv2d_20[0][0]\n                                                                 re_lu_8[0][0]\n__________________________________________________________________________________________________\nbatch_normalization_9 (BatchNor (None, 200, 200, 32) 128         tf_op_layer_AddV2_9[0][0]\n__________________________________________________________________________________________________\nre_lu_9 (ReLU)                  (None, 200, 200, 32) 0           batch_normalization_9[0][0]\n__________________________________________________________________________________________________\nconv2d_21 (Conv2D)              (None, 200, 200, 32) 9248        re_lu_9[0][0]\n__________________________________________________________________________________________________\nconv2d_22 (Conv2D)              (None, 200, 200, 32) 9248        conv2d_21[0][0]\n__________________________________________________________________________________________________\ntf_op_layer_AddV2_10 (TensorFlo [(None, 200, 200, 32 0           conv2d_22[0][0]\n                                                                 re_lu_9[0][0]\n__________________________________________________________________________________________________\nbatch_normalization_10 (BatchNo (None, 200, 200, 32) 128         tf_op_layer_AddV2_10[0][0]\n__________________________________________________________________________________________________\nre_lu_10 (ReLU)                 (None, 200, 200, 32) 0           batch_normalization_10[0][0]\n__________________________________________________________________________________________________\nconv2d_23 (Conv2D)              (None, 200, 200, 32) 9248        re_lu_10[0][0]\n__________________________________________________________________________________________________\nconv2d_24 (Conv2D)              (None, 200, 200, 32) 9248        conv2d_23[0][0]\n__________________________________________________________________________________________________\ntf_op_layer_AddV2_11 (TensorFlo [(None, 200, 200, 32 0           conv2d_24[0][0]\n                                                                 re_lu_10[0][0]\n__________________________________________________________________________________________________\nbatch_normalization_11 (BatchNo (None, 200, 200, 32) 128         tf_op_layer_AddV2_11[0][0]\n__________________________________________________________________________________________________\nre_lu_11 (ReLU)                 (None, 200, 200, 32) 0           batch_normalization_11[0][0]\n__________________________________________________________________________________________________\nconv2d_25 (Conv2D)              (None, 200, 200, 1)  289         re_lu_11[0][0]\n__________________________________________________________________________________________________\ntf_op_layer_Squeeze (TensorFlow [(None, 200, 200)]   0           conv2d_25[0][0]\n__________________________________________________________________________________________________\nactivation (Activation)         (None, 200, 200)     0           tf_op_layer_Squeeze[0][0]\n==================================================================================================\nTotal params: 215,553\nTrainable params: 214,785\nNon-trainable params: 768\n__________________________________________________________________________________________________\n"
    },
    {
     "output_type": "display_data",
     "data": {
      "text/plain": "HBox(children=(FloatProgress(value=0.0, description='Training', layout=Layout(flex='2'), style=ProgressStyle(d…",
      "application/vnd.jupyter.widget-view+json": {
       "version_major": 2,
       "version_minor": 0,
       "model_id": "92c309e28aaa41bfb0c97d7597619791"
      }
     },
     "metadata": {}
    },
    {
     "output_type": "stream",
     "name": "stdout",
     "text": "\nEpoch 00001: LearningRateScheduler reducing learning rate to 0.001.\n"
    },
    {
     "output_type": "display_data",
     "data": {
      "text/plain": "HBox(children=(FloatProgress(value=0.0, description='Epoch 0', layout=Layout(flex='2'), max=38.0, style=Progre…",
      "application/vnd.jupyter.widget-view+json": {
       "version_major": 2,
       "version_minor": 0,
       "model_id": "2dee4b4e4ee64885add5a0b81dec1361"
      }
     },
     "metadata": {}
    },
    {
     "output_type": "stream",
     "name": "stdout",
     "text": "WARNING:tensorflow:From /home/jaentrouble/adipose_train2/env/lib/python3.7/site-packages/tensorflow/python/ops/summary_ops_v2.py:1277: stop (from tensorflow.python.eager.profiler) is deprecated and will be removed after 2020-07-01.\nInstructions for updating:\nuse `tf.profiler.experimental.stop` instead.\n\nEpoch 00001: saving model to savedmodels/res_12_2_0_BN_2/1\nloss:0.4971252977848053, binary_accuracy:0.7403853535652161, val_loss:0.6931471824645996, val_binary_accuracy:0.6808908581733704, lr:0.001\n\nEpoch 00002: LearningRateScheduler reducing learning rate to 0.002.\n"
    },
    {
     "output_type": "display_data",
     "data": {
      "text/plain": "HBox(children=(FloatProgress(value=0.0, description='Epoch 1', layout=Layout(flex='2'), max=38.0, style=Progre…",
      "application/vnd.jupyter.widget-view+json": {
       "version_major": 2,
       "version_minor": 0,
       "model_id": "afc818eaa7eb4fe1a48e830679e87963"
      }
     },
     "metadata": {}
    },
    {
     "output_type": "stream",
     "name": "stdout",
     "text": "\nEpoch 00002: saving model to savedmodels/res_12_2_0_BN_2/2\nloss:0.39394378662109375, binary_accuracy:0.7628624439239502, val_loss:0.6931471824645996, val_binary_accuracy:0.6808908581733704, lr:0.002\n\nEpoch 00003: LearningRateScheduler reducing learning rate to 0.003.\n"
    },
    {
     "output_type": "display_data",
     "data": {
      "text/plain": "HBox(children=(FloatProgress(value=0.0, description='Epoch 2', layout=Layout(flex='2'), max=38.0, style=Progre…",
      "application/vnd.jupyter.widget-view+json": {
       "version_major": 2,
       "version_minor": 0,
       "model_id": "ab7a36cde8a043df9664c5f598c73924"
      }
     },
     "metadata": {}
    },
    {
     "output_type": "stream",
     "name": "stdout",
     "text": "\nEpoch 00003: saving model to savedmodels/res_12_2_0_BN_2/3\nloss:0.3446628749370575, binary_accuracy:0.799249529838562, val_loss:0.693147599697113, val_binary_accuracy:0.6808908581733704, lr:0.003\n\nEpoch 00004: LearningRateScheduler reducing learning rate to 0.004.\n"
    },
    {
     "output_type": "display_data",
     "data": {
      "text/plain": "HBox(children=(FloatProgress(value=0.0, description='Epoch 3', layout=Layout(flex='2'), max=38.0, style=Progre…",
      "application/vnd.jupyter.widget-view+json": {
       "version_major": 2,
       "version_minor": 0,
       "model_id": "40c1b11ba8ea48d4a6f73bffa451f51d"
      }
     },
     "metadata": {}
    },
    {
     "output_type": "stream",
     "name": "stdout",
     "text": "\nEpoch 00004: saving model to savedmodels/res_12_2_0_BN_2/4\nloss:0.3549253046512604, binary_accuracy:0.7951671481132507, val_loss:0.6931471824645996, val_binary_accuracy:0.6808908581733704, lr:0.004\n\nEpoch 00005: LearningRateScheduler reducing learning rate to 0.005.\n"
    },
    {
     "output_type": "display_data",
     "data": {
      "text/plain": "HBox(children=(FloatProgress(value=0.0, description='Epoch 4', layout=Layout(flex='2'), max=38.0, style=Progre…",
      "application/vnd.jupyter.widget-view+json": {
       "version_major": 2,
       "version_minor": 0,
       "model_id": "f558abbde2e94d5e978154cfde4590d4"
      }
     },
     "metadata": {}
    },
    {
     "output_type": "stream",
     "name": "stdout",
     "text": "\nEpoch 00005: saving model to savedmodels/res_12_2_0_BN_2/5\nloss:0.34450435638427734, binary_accuracy:0.8015058636665344, val_loss:0.6931471824645996, val_binary_accuracy:0.6808908581733704, lr:0.005\n\nEpoch 00006: LearningRateScheduler reducing learning rate to 0.006.\n"
    },
    {
     "output_type": "display_data",
     "data": {
      "text/plain": "HBox(children=(FloatProgress(value=0.0, description='Epoch 5', layout=Layout(flex='2'), max=38.0, style=Progre…",
      "application/vnd.jupyter.widget-view+json": {
       "version_major": 2,
       "version_minor": 0,
       "model_id": "5d3c1e09dfc949fe9da27682da2f7dc8"
      }
     },
     "metadata": {}
    },
    {
     "output_type": "stream",
     "name": "stdout",
     "text": "\nEpoch 00006: saving model to savedmodels/res_12_2_0_BN_2/6\nloss:0.3823762834072113, binary_accuracy:0.7649250030517578, val_loss:nan, val_binary_accuracy:0.6808871626853943, lr:0.006\n\nEpoch 00007: LearningRateScheduler reducing learning rate to 0.007.\n"
    },
    {
     "output_type": "display_data",
     "data": {
      "text/plain": "HBox(children=(FloatProgress(value=0.0, description='Epoch 6', layout=Layout(flex='2'), max=38.0, style=Progre…",
      "application/vnd.jupyter.widget-view+json": {
       "version_major": 2,
       "version_minor": 0,
       "model_id": "d3315f5f81d740a3a3892fbc0f16808f"
      }
     },
     "metadata": {}
    },
    {
     "output_type": "stream",
     "name": "stdout",
     "text": "\nEpoch 00007: saving model to savedmodels/res_12_2_0_BN_2/7\nloss:0.3669050931930542, binary_accuracy:0.7733625769615173, val_loss:0.6931471824645996, val_binary_accuracy:0.6808908581733704, lr:0.007\n\nEpoch 00008: LearningRateScheduler reducing learning rate to 0.008.\n"
    },
    {
     "output_type": "display_data",
     "data": {
      "text/plain": "HBox(children=(FloatProgress(value=0.0, description='Epoch 7', layout=Layout(flex='2'), max=38.0, style=Progre…",
      "application/vnd.jupyter.widget-view+json": {
       "version_major": 2,
       "version_minor": 0,
       "model_id": "a713f271d69c49df83281c0b7142b3ee"
      }
     },
     "metadata": {}
    },
    {
     "output_type": "stream",
     "name": "stdout",
     "text": "\nEpoch 00008: saving model to savedmodels/res_12_2_0_BN_2/8\nloss:0.35907313227653503, binary_accuracy:0.7849568128585815, val_loss:0.6931471824645996, val_binary_accuracy:0.6808908581733704, lr:0.008\n\nEpoch 00009: LearningRateScheduler reducing learning rate to 0.009000000000000001.\n"
    },
    {
     "output_type": "display_data",
     "data": {
      "text/plain": "HBox(children=(FloatProgress(value=0.0, description='Epoch 8', layout=Layout(flex='2'), max=38.0, style=Progre…",
      "application/vnd.jupyter.widget-view+json": {
       "version_major": 2,
       "version_minor": 0,
       "model_id": "87bfb6548c83443bb3a9902dba0ccedd"
      }
     },
     "metadata": {}
    },
    {
     "output_type": "stream",
     "name": "stdout",
     "text": "\nEpoch 00009: saving model to savedmodels/res_12_2_0_BN_2/9\nloss:0.34632253646850586, binary_accuracy:0.8008220791816711, val_loss:0.6931483745574951, val_binary_accuracy:0.6808908581733704, lr:0.009\n\nEpoch 00010: LearningRateScheduler reducing learning rate to 0.01.\n"
    },
    {
     "output_type": "display_data",
     "data": {
      "text/plain": "HBox(children=(FloatProgress(value=0.0, description='Epoch 9', layout=Layout(flex='2'), max=38.0, style=Progre…",
      "application/vnd.jupyter.widget-view+json": {
       "version_major": 2,
       "version_minor": 0,
       "model_id": "171ed48f924b42e28d57a8e0287a6ddf"
      }
     },
     "metadata": {}
    },
    {
     "output_type": "stream",
     "name": "stdout",
     "text": "\nEpoch 00010: saving model to savedmodels/res_12_2_0_BN_2/10\nloss:0.3427131474018097, binary_accuracy:0.8031629920005798, val_loss:0.6931482553482056, val_binary_accuracy:0.6808908581733704, lr:0.01\n\nEpoch 00011: LearningRateScheduler reducing learning rate to 0.011.\n"
    },
    {
     "output_type": "display_data",
     "data": {
      "text/plain": "HBox(children=(FloatProgress(value=0.0, description='Epoch 10', layout=Layout(flex='2'), max=38.0, style=Progr…",
      "application/vnd.jupyter.widget-view+json": {
       "version_major": 2,
       "version_minor": 0,
       "model_id": "4e3009208daa473993b16ebc02b1611c"
      }
     },
     "metadata": {}
    },
    {
     "output_type": "stream",
     "name": "stdout",
     "text": "\nEpoch 00011: saving model to savedmodels/res_12_2_0_BN_2/11\nloss:0.3449490964412689, binary_accuracy:0.8021223545074463, val_loss:0.6981744170188904, val_binary_accuracy:0.6701235175132751, lr:0.011\n\nEpoch 00012: LearningRateScheduler reducing learning rate to 0.01.\n"
    },
    {
     "output_type": "display_data",
     "data": {
      "text/plain": "HBox(children=(FloatProgress(value=0.0, description='Epoch 11', layout=Layout(flex='2'), max=38.0, style=Progr…",
      "application/vnd.jupyter.widget-view+json": {
       "version_major": 2,
       "version_minor": 0,
       "model_id": "c215396f8a4349c6998e86dc96feb8d3"
      }
     },
     "metadata": {}
    },
    {
     "output_type": "stream",
     "name": "stdout",
     "text": "\nEpoch 00012: saving model to savedmodels/res_12_2_0_BN_2/12\nloss:0.34292471408843994, binary_accuracy:0.8016378879547119, val_loss:0.6874064207077026, val_binary_accuracy:0.7475759387016296, lr:0.01\n\nEpoch 00013: LearningRateScheduler reducing learning rate to 0.01.\n"
    },
    {
     "output_type": "display_data",
     "data": {
      "text/plain": "HBox(children=(FloatProgress(value=0.0, description='Epoch 12', layout=Layout(flex='2'), max=38.0, style=Progr…",
      "application/vnd.jupyter.widget-view+json": {
       "version_major": 2,
       "version_minor": 0,
       "model_id": "56af6c966db547849c21ad250e7e38d4"
      }
     },
     "metadata": {}
    },
    {
     "output_type": "stream",
     "name": "stdout",
     "text": "\nEpoch 00013: saving model to savedmodels/res_12_2_0_BN_2/13\nloss:0.33977630734443665, binary_accuracy:0.8052846193313599, val_loss:0.6933904886245728, val_binary_accuracy:0.6797505617141724, lr:0.01\n\nEpoch 00014: LearningRateScheduler reducing learning rate to 0.01.\n"
    },
    {
     "output_type": "display_data",
     "data": {
      "text/plain": "HBox(children=(FloatProgress(value=0.0, description='Epoch 13', layout=Layout(flex='2'), max=38.0, style=Progr…",
      "application/vnd.jupyter.widget-view+json": {
       "version_major": 2,
       "version_minor": 0,
       "model_id": "c37078055d56473984d4f01b72d1a4dd"
      }
     },
     "metadata": {}
    },
    {
     "output_type": "stream",
     "name": "stdout",
     "text": "\nEpoch 00014: saving model to savedmodels/res_12_2_0_BN_2/14\nloss:0.3380173146724701, binary_accuracy:0.8062970042228699, val_loss:0.6951531767845154, val_binary_accuracy:0.6698898077011108, lr:0.01\n\nEpoch 00015: LearningRateScheduler reducing learning rate to 0.01.\n"
    },
    {
     "output_type": "display_data",
     "data": {
      "text/plain": "HBox(children=(FloatProgress(value=0.0, description='Epoch 14', layout=Layout(flex='2'), max=38.0, style=Progr…",
      "application/vnd.jupyter.widget-view+json": {
       "version_major": 2,
       "version_minor": 0,
       "model_id": "635013844a3e404a931d87f4b163ff7a"
      }
     },
     "metadata": {}
    },
    {
     "output_type": "stream",
     "name": "stdout",
     "text": "\nEpoch 00015: saving model to savedmodels/res_12_2_0_BN_2/15\nloss:0.33454301953315735, binary_accuracy:0.8075054287910461, val_loss:0.6965343952178955, val_binary_accuracy:0.6590580344200134, lr:0.01\n\nEpoch 00016: LearningRateScheduler reducing learning rate to 0.01.\n"
    },
    {
     "output_type": "display_data",
     "data": {
      "text/plain": "HBox(children=(FloatProgress(value=0.0, description='Epoch 15', layout=Layout(flex='2'), max=38.0, style=Progr…",
      "application/vnd.jupyter.widget-view+json": {
       "version_major": 2,
       "version_minor": 0,
       "model_id": "e9c93bc537ba424a8b63ebccb051a83a"
      }
     },
     "metadata": {}
    },
    {
     "output_type": "stream",
     "name": "stdout",
     "text": "\nEpoch 00016: saving model to savedmodels/res_12_2_0_BN_2/16\nloss:0.332762748003006, binary_accuracy:0.8088980317115784, val_loss:0.6933707594871521, val_binary_accuracy:0.6798553466796875, lr:0.01\n\nEpoch 00017: LearningRateScheduler reducing learning rate to 0.01.\n"
    },
    {
     "output_type": "display_data",
     "data": {
      "text/plain": "HBox(children=(FloatProgress(value=0.0, description='Epoch 16', layout=Layout(flex='2'), max=38.0, style=Progr…",
      "application/vnd.jupyter.widget-view+json": {
       "version_major": 2,
       "version_minor": 0,
       "model_id": "eb4b2dcab8a94f35a1b19a0376656f00"
      }
     },
     "metadata": {}
    },
    {
     "output_type": "stream",
     "name": "stdout",
     "text": "\nEpoch 00017: saving model to savedmodels/res_12_2_0_BN_2/17\nloss:0.33144402503967285, binary_accuracy:0.810176432132721, val_loss:0.693439781665802, val_binary_accuracy:0.6788855195045471, lr:0.01\n\nEpoch 00018: LearningRateScheduler reducing learning rate to 0.01.\n"
    },
    {
     "output_type": "display_data",
     "data": {
      "text/plain": "HBox(children=(FloatProgress(value=0.0, description='Epoch 17', layout=Layout(flex='2'), max=38.0, style=Progr…",
      "application/vnd.jupyter.widget-view+json": {
       "version_major": 2,
       "version_minor": 0,
       "model_id": "00e86c6b52094d6294535b2b2feb0fa1"
      }
     },
     "metadata": {}
    },
    {
     "output_type": "stream",
     "name": "stdout",
     "text": "\nEpoch 00018: saving model to savedmodels/res_12_2_0_BN_2/18\nloss:0.3330461084842682, binary_accuracy:0.8084354996681213, val_loss:0.6883624196052551, val_binary_accuracy:0.7529593706130981, lr:0.01\n\nEpoch 00019: LearningRateScheduler reducing learning rate to 0.01.\n"
    },
    {
     "output_type": "display_data",
     "data": {
      "text/plain": "HBox(children=(FloatProgress(value=0.0, description='Epoch 18', layout=Layout(flex='2'), max=38.0, style=Progr…",
      "application/vnd.jupyter.widget-view+json": {
       "version_major": 2,
       "version_minor": 0,
       "model_id": "b66d5cf077eb42659fd50fbd5375f648"
      }
     },
     "metadata": {}
    },
    {
     "output_type": "stream",
     "name": "stdout",
     "text": "\nEpoch 00019: saving model to savedmodels/res_12_2_0_BN_2/19\nloss:0.3305111825466156, binary_accuracy:0.8117620944976807, val_loss:0.6909419298171997, val_binary_accuracy:0.7274739742279053, lr:0.01\n\nEpoch 00020: LearningRateScheduler reducing learning rate to 0.01.\n"
    },
    {
     "output_type": "display_data",
     "data": {
      "text/plain": "HBox(children=(FloatProgress(value=0.0, description='Epoch 19', layout=Layout(flex='2'), max=38.0, style=Progr…",
      "application/vnd.jupyter.widget-view+json": {
       "version_major": 2,
       "version_minor": 0,
       "model_id": "fd23caf9a8ab4bfcbdafd883991f76fb"
      }
     },
     "metadata": {}
    },
    {
     "output_type": "stream",
     "name": "stdout",
     "text": "\nEpoch 00020: saving model to savedmodels/res_12_2_0_BN_2/20\nloss:0.330322802066803, binary_accuracy:0.8094725012779236, val_loss:0.6931664943695068, val_binary_accuracy:0.6808908581733704, lr:0.01\n\nEpoch 00021: LearningRateScheduler reducing learning rate to 0.01.\n"
    },
    {
     "output_type": "display_data",
     "data": {
      "text/plain": "HBox(children=(FloatProgress(value=0.0, description='Epoch 20', layout=Layout(flex='2'), max=38.0, style=Progr…",
      "application/vnd.jupyter.widget-view+json": {
       "version_major": 2,
       "version_minor": 0,
       "model_id": "72e78b5c23374265b9f4946381b3984c"
      }
     },
     "metadata": {}
    },
    {
     "output_type": "stream",
     "name": "stdout",
     "text": "\nEpoch 00021: saving model to savedmodels/res_12_2_0_BN_2/21\nloss:0.34161177277565, binary_accuracy:0.8019921779632568, val_loss:0.7481693625450134, val_binary_accuracy:0.5447056889533997, lr:0.01\n\nEpoch 00022: LearningRateScheduler reducing learning rate to 0.005.\n"
    },
    {
     "output_type": "display_data",
     "data": {
      "text/plain": "HBox(children=(FloatProgress(value=0.0, description='Epoch 21', layout=Layout(flex='2'), max=38.0, style=Progr…",
      "application/vnd.jupyter.widget-view+json": {
       "version_major": 2,
       "version_minor": 0,
       "model_id": "03adf58d2e7c4ef7b2874231568dfd76"
      }
     },
     "metadata": {}
    },
    {
     "output_type": "stream",
     "name": "stdout",
     "text": "\nEpoch 00022: saving model to savedmodels/res_12_2_0_BN_2/22\nloss:0.33558523654937744, binary_accuracy:0.8054043650627136, val_loss:0.6934089064598083, val_binary_accuracy:0.6791772246360779, lr:0.005\n\nEpoch 00023: LearningRateScheduler reducing learning rate to 0.005.\n"
    },
    {
     "output_type": "display_data",
     "data": {
      "text/plain": "HBox(children=(FloatProgress(value=0.0, description='Epoch 22', layout=Layout(flex='2'), max=38.0, style=Progr…",
      "application/vnd.jupyter.widget-view+json": {
       "version_major": 2,
       "version_minor": 0,
       "model_id": "42c470aa35cc499a8396713d090bdf76"
      }
     },
     "metadata": {}
    },
    {
     "output_type": "stream",
     "name": "stdout",
     "text": "\nEpoch 00023: saving model to savedmodels/res_12_2_0_BN_2/23\nloss:0.32943442463874817, binary_accuracy:0.8117313981056213, val_loss:0.6867761015892029, val_binary_accuracy:0.7649056911468506, lr:0.005\n\nEpoch 00024: LearningRateScheduler reducing learning rate to 0.005.\n"
    },
    {
     "output_type": "display_data",
     "data": {
      "text/plain": "HBox(children=(FloatProgress(value=0.0, description='Epoch 23', layout=Layout(flex='2'), max=38.0, style=Progr…",
      "application/vnd.jupyter.widget-view+json": {
       "version_major": 2,
       "version_minor": 0,
       "model_id": "9b967b6897734678aa4d5f1d57814cba"
      }
     },
     "metadata": {}
    },
    {
     "output_type": "stream",
     "name": "stdout",
     "text": "\nEpoch 00024: saving model to savedmodels/res_12_2_0_BN_2/24\nloss:0.3250308632850647, binary_accuracy:0.8162214756011963, val_loss:0.6807915568351746, val_binary_accuracy:0.8103528022766113, lr:0.005\n\nEpoch 00025: LearningRateScheduler reducing learning rate to 0.005.\n"
    },
    {
     "output_type": "display_data",
     "data": {
      "text/plain": "HBox(children=(FloatProgress(value=0.0, description='Epoch 24', layout=Layout(flex='2'), max=38.0, style=Progr…",
      "application/vnd.jupyter.widget-view+json": {
       "version_major": 2,
       "version_minor": 0,
       "model_id": "a3eefaab5fe1402fa22ce7f4733f1096"
      }
     },
     "metadata": {}
    },
    {
     "output_type": "stream",
     "name": "stdout",
     "text": "\nEpoch 00025: saving model to savedmodels/res_12_2_0_BN_2/25\nloss:0.3236483931541443, binary_accuracy:0.8177793025970459, val_loss:0.6933752298355103, val_binary_accuracy:0.679481029510498, lr:0.005\n\nEpoch 00026: LearningRateScheduler reducing learning rate to 0.005.\n"
    },
    {
     "output_type": "display_data",
     "data": {
      "text/plain": "HBox(children=(FloatProgress(value=0.0, description='Epoch 25', layout=Layout(flex='2'), max=38.0, style=Progr…",
      "application/vnd.jupyter.widget-view+json": {
       "version_major": 2,
       "version_minor": 0,
       "model_id": "bf58a4d36ce0440daf7a4a1c2870ecd9"
      }
     },
     "metadata": {}
    },
    {
     "output_type": "stream",
     "name": "stdout",
     "text": "\nEpoch 00026: saving model to savedmodels/res_12_2_0_BN_2/26\nloss:0.3226930499076843, binary_accuracy:0.8174762725830078, val_loss:0.6885456442832947, val_binary_accuracy:0.7472793459892273, lr:0.005\n\nEpoch 00027: LearningRateScheduler reducing learning rate to 0.005.\n"
    },
    {
     "output_type": "display_data",
     "data": {
      "text/plain": "HBox(children=(FloatProgress(value=0.0, description='Epoch 26', layout=Layout(flex='2'), max=38.0, style=Progr…",
      "application/vnd.jupyter.widget-view+json": {
       "version_major": 2,
       "version_minor": 0,
       "model_id": "d3892422d50d4cdb9fa07d4d66c0f01c"
      }
     },
     "metadata": {}
    },
    {
     "output_type": "stream",
     "name": "stdout",
     "text": "\nEpoch 00027: saving model to savedmodels/res_12_2_0_BN_2/27\nloss:0.3215419054031372, binary_accuracy:0.8200215101242065, val_loss:0.6770458221435547, val_binary_accuracy:0.7797178626060486, lr:0.005\n\nEpoch 00028: LearningRateScheduler reducing learning rate to 0.005.\n"
    },
    {
     "output_type": "display_data",
     "data": {
      "text/plain": "HBox(children=(FloatProgress(value=0.0, description='Epoch 27', layout=Layout(flex='2'), max=38.0, style=Progr…",
      "application/vnd.jupyter.widget-view+json": {
       "version_major": 2,
       "version_minor": 0,
       "model_id": "eb841f2af78448a3b8b17862e3e4e102"
      }
     },
     "metadata": {}
    },
    {
     "output_type": "stream",
     "name": "stdout",
     "text": "\nEpoch 00028: saving model to savedmodels/res_12_2_0_BN_2/28\nloss:0.3213099241256714, binary_accuracy:0.8193222284317017, val_loss:0.6699489951133728, val_binary_accuracy:0.7930176258087158, lr:0.005\n\nEpoch 00029: LearningRateScheduler reducing learning rate to 0.005.\n"
    },
    {
     "output_type": "display_data",
     "data": {
      "text/plain": "HBox(children=(FloatProgress(value=0.0, description='Epoch 28', layout=Layout(flex='2'), max=38.0, style=Progr…",
      "application/vnd.jupyter.widget-view+json": {
       "version_major": 2,
       "version_minor": 0,
       "model_id": "ad01227da767436b93943f456b2a9f00"
      }
     },
     "metadata": {}
    },
    {
     "output_type": "stream",
     "name": "stdout",
     "text": "\nEpoch 00029: saving model to savedmodels/res_12_2_0_BN_2/29\nloss:0.32093334197998047, binary_accuracy:0.8200408816337585, val_loss:0.6695040464401245, val_binary_accuracy:0.7916853427886963, lr:0.005\n\nEpoch 00030: LearningRateScheduler reducing learning rate to 0.005.\n"
    },
    {
     "output_type": "display_data",
     "data": {
      "text/plain": "HBox(children=(FloatProgress(value=0.0, description='Epoch 29', layout=Layout(flex='2'), max=38.0, style=Progr…",
      "application/vnd.jupyter.widget-view+json": {
       "version_major": 2,
       "version_minor": 0,
       "model_id": "3203b190214a4d76979512f207d9882a"
      }
     },
     "metadata": {}
    },
    {
     "output_type": "stream",
     "name": "stdout",
     "text": "\nEpoch 00030: saving model to savedmodels/res_12_2_0_BN_2/30\nloss:0.3206593692302704, binary_accuracy:0.82070392370224, val_loss:0.6818719506263733, val_binary_accuracy:0.7675173282623291, lr:0.005\n\nEpoch 00031: LearningRateScheduler reducing learning rate to 0.005.\n"
    },
    {
     "output_type": "display_data",
     "data": {
      "text/plain": "HBox(children=(FloatProgress(value=0.0, description='Epoch 30', layout=Layout(flex='2'), max=38.0, style=Progr…",
      "application/vnd.jupyter.widget-view+json": {
       "version_major": 2,
       "version_minor": 0,
       "model_id": "35489b109160409d920c8c99f100e68e"
      }
     },
     "metadata": {}
    },
    {
     "output_type": "stream",
     "name": "stdout",
     "text": "\nEpoch 00031: saving model to savedmodels/res_12_2_0_BN_2/31\nloss:0.3201880156993866, binary_accuracy:0.8205386996269226, val_loss:0.6802099347114563, val_binary_accuracy:0.7749045491218567, lr:0.005\n\nEpoch 00032: LearningRateScheduler reducing learning rate to 0.005.\n"
    },
    {
     "output_type": "display_data",
     "data": {
      "text/plain": "HBox(children=(FloatProgress(value=0.0, description='Epoch 31', layout=Layout(flex='2'), max=38.0, style=Progr…",
      "application/vnd.jupyter.widget-view+json": {
       "version_major": 2,
       "version_minor": 0,
       "model_id": "463ae17212164f859cdd2d9352b56a2a"
      }
     },
     "metadata": {}
    },
    {
     "output_type": "stream",
     "name": "stdout",
     "text": "\nEpoch 00032: saving model to savedmodels/res_12_2_0_BN_2/32\nloss:0.3194900453090668, binary_accuracy:0.8210892081260681, val_loss:0.6739577054977417, val_binary_accuracy:0.7901268005371094, lr:0.005\n\nEpoch 00033: LearningRateScheduler reducing learning rate to 0.005.\n"
    },
    {
     "output_type": "display_data",
     "data": {
      "text/plain": "HBox(children=(FloatProgress(value=0.0, description='Epoch 32', layout=Layout(flex='2'), max=38.0, style=Progr…",
      "application/vnd.jupyter.widget-view+json": {
       "version_major": 2,
       "version_minor": 0,
       "model_id": "7b35bd54c6e14c56869f69dbbe928855"
      }
     },
     "metadata": {}
    },
    {
     "output_type": "stream",
     "name": "stdout",
     "text": "\nEpoch 00033: saving model to savedmodels/res_12_2_0_BN_2/33\nloss:0.3197517395019531, binary_accuracy:0.8214343786239624, val_loss:0.6790866255760193, val_binary_accuracy:0.7745921611785889, lr:0.005\n\nEpoch 00034: LearningRateScheduler reducing learning rate to 0.005.\n"
    },
    {
     "output_type": "display_data",
     "data": {
      "text/plain": "HBox(children=(FloatProgress(value=0.0, description='Epoch 33', layout=Layout(flex='2'), max=38.0, style=Progr…",
      "application/vnd.jupyter.widget-view+json": {
       "version_major": 2,
       "version_minor": 0,
       "model_id": "3f655eba548c47418f6b5fed00ae543c"
      }
     },
     "metadata": {}
    },
    {
     "output_type": "stream",
     "name": "stdout",
     "text": "\nEpoch 00034: saving model to savedmodels/res_12_2_0_BN_2/34\nloss:0.31968599557876587, binary_accuracy:0.8211856484413147, val_loss:0.6703500151634216, val_binary_accuracy:0.7847920060157776, lr:0.005\n\nEpoch 00035: LearningRateScheduler reducing learning rate to 0.005.\n"
    },
    {
     "output_type": "display_data",
     "data": {
      "text/plain": "HBox(children=(FloatProgress(value=0.0, description='Epoch 34', layout=Layout(flex='2'), max=38.0, style=Progr…",
      "application/vnd.jupyter.widget-view+json": {
       "version_major": 2,
       "version_minor": 0,
       "model_id": "2e8e632d4ab04a0ba82332d637bb0f98"
      }
     },
     "metadata": {}
    },
    {
     "output_type": "stream",
     "name": "stdout",
     "text": "\nEpoch 00035: saving model to savedmodels/res_12_2_0_BN_2/35\nloss:0.3186885416507721, binary_accuracy:0.8219520449638367, val_loss:0.6888858675956726, val_binary_accuracy:0.7465720176696777, lr:0.005\n\nEpoch 00036: LearningRateScheduler reducing learning rate to 0.005.\n"
    },
    {
     "output_type": "display_data",
     "data": {
      "text/plain": "HBox(children=(FloatProgress(value=0.0, description='Epoch 35', layout=Layout(flex='2'), max=38.0, style=Progr…",
      "application/vnd.jupyter.widget-view+json": {
       "version_major": 2,
       "version_minor": 0,
       "model_id": "0e393710adf848ba906b72b052273d9a"
      }
     },
     "metadata": {}
    },
    {
     "output_type": "stream",
     "name": "stdout",
     "text": "\nEpoch 00036: saving model to savedmodels/res_12_2_0_BN_2/36\nloss:0.3195420205593109, binary_accuracy:0.8215028643608093, val_loss:0.69286048412323, val_binary_accuracy:0.6767266988754272, lr:0.005\n\nEpoch 00037: LearningRateScheduler reducing learning rate to 0.005.\n"
    },
    {
     "output_type": "display_data",
     "data": {
      "text/plain": "HBox(children=(FloatProgress(value=0.0, description='Epoch 36', layout=Layout(flex='2'), max=38.0, style=Progr…",
      "application/vnd.jupyter.widget-view+json": {
       "version_major": 2,
       "version_minor": 0,
       "model_id": "cc2dbe5336b7479485041a635a06c0e4"
      }
     },
     "metadata": {}
    },
    {
     "output_type": "stream",
     "name": "stdout",
     "text": "\nEpoch 00037: saving model to savedmodels/res_12_2_0_BN_2/37\nloss:0.3191688358783722, binary_accuracy:0.8216720223426819, val_loss:0.6760775446891785, val_binary_accuracy:0.7888357043266296, lr:0.005\n\nEpoch 00038: LearningRateScheduler reducing learning rate to 0.005.\n"
    },
    {
     "output_type": "display_data",
     "data": {
      "text/plain": "HBox(children=(FloatProgress(value=0.0, description='Epoch 37', layout=Layout(flex='2'), max=38.0, style=Progr…",
      "application/vnd.jupyter.widget-view+json": {
       "version_major": 2,
       "version_minor": 0,
       "model_id": "29f1dc90f22e4623a51285a466440495"
      }
     },
     "metadata": {}
    },
    {
     "output_type": "stream",
     "name": "stdout",
     "text": "\nEpoch 00038: saving model to savedmodels/res_12_2_0_BN_2/38\nloss:0.31845247745513916, binary_accuracy:0.822312593460083, val_loss:0.7398099899291992, val_binary_accuracy:0.6724568605422974, lr:0.005\n\nEpoch 00039: LearningRateScheduler reducing learning rate to 0.005.\n"
    },
    {
     "output_type": "display_data",
     "data": {
      "text/plain": "HBox(children=(FloatProgress(value=0.0, description='Epoch 38', layout=Layout(flex='2'), max=38.0, style=Progr…",
      "application/vnd.jupyter.widget-view+json": {
       "version_major": 2,
       "version_minor": 0,
       "model_id": "c799a3287c8842569170bb8a081af827"
      }
     },
     "metadata": {}
    },
    {
     "output_type": "stream",
     "name": "stdout",
     "text": "\nEpoch 00039: saving model to savedmodels/res_12_2_0_BN_2/39\nloss:0.31771060824394226, binary_accuracy:0.8221554160118103, val_loss:0.6711905002593994, val_binary_accuracy:0.7685559988021851, lr:0.005\n\nEpoch 00040: LearningRateScheduler reducing learning rate to 0.005.\n"
    },
    {
     "output_type": "display_data",
     "data": {
      "text/plain": "HBox(children=(FloatProgress(value=0.0, description='Epoch 39', layout=Layout(flex='2'), max=38.0, style=Progr…",
      "application/vnd.jupyter.widget-view+json": {
       "version_major": 2,
       "version_minor": 0,
       "model_id": "4e345115f61248e28b57f1ff47fdc5ee"
      }
     },
     "metadata": {}
    },
    {
     "output_type": "stream",
     "name": "stdout",
     "text": "\nEpoch 00040: saving model to savedmodels/res_12_2_0_BN_2/40\nloss:0.3180586099624634, binary_accuracy:0.8220199942588806, val_loss:0.6928319334983826, val_binary_accuracy:0.6753787994384766, lr:0.005\n\nEpoch 00041: LearningRateScheduler reducing learning rate to 0.005.\n"
    },
    {
     "output_type": "display_data",
     "data": {
      "text/plain": "HBox(children=(FloatProgress(value=0.0, description='Epoch 40', layout=Layout(flex='2'), max=38.0, style=Progr…",
      "application/vnd.jupyter.widget-view+json": {
       "version_major": 2,
       "version_minor": 0,
       "model_id": "a3b5178fed6f4c74aa00ca129f24f681"
      }
     },
     "metadata": {}
    },
    {
     "output_type": "stream",
     "name": "stdout",
     "text": "\nEpoch 00041: saving model to savedmodels/res_12_2_0_BN_2/41\nloss:0.3179149925708771, binary_accuracy:0.8223065733909607, val_loss:0.7278158068656921, val_binary_accuracy:0.6251363158226013, lr:0.005\n\nEpoch 00042: LearningRateScheduler reducing learning rate to 0.005.\n"
    },
    {
     "output_type": "display_data",
     "data": {
      "text/plain": "HBox(children=(FloatProgress(value=0.0, description='Epoch 41', layout=Layout(flex='2'), max=38.0, style=Progr…",
      "application/vnd.jupyter.widget-view+json": {
       "version_major": 2,
       "version_minor": 0,
       "model_id": "9400b430fbab431da2d6bbc41e2e647a"
      }
     },
     "metadata": {}
    },
    {
     "output_type": "stream",
     "name": "stdout",
     "text": "\nEpoch 00042: saving model to savedmodels/res_12_2_0_BN_2/42\nloss:0.31889089941978455, binary_accuracy:0.8207548260688782, val_loss:0.6724590063095093, val_binary_accuracy:0.7798091173171997, lr:0.005\n\nEpoch 00043: LearningRateScheduler reducing learning rate to 0.005.\n"
    },
    {
     "output_type": "display_data",
     "data": {
      "text/plain": "HBox(children=(FloatProgress(value=0.0, description='Epoch 42', layout=Layout(flex='2'), max=38.0, style=Progr…",
      "application/vnd.jupyter.widget-view+json": {
       "version_major": 2,
       "version_minor": 0,
       "model_id": "b6c5f5f984e04612909273733a7b8927"
      }
     },
     "metadata": {}
    },
    {
     "output_type": "stream",
     "name": "stdout",
     "text": "\nEpoch 00043: saving model to savedmodels/res_12_2_0_BN_2/43\nloss:0.31715285778045654, binary_accuracy:0.8231732249259949, val_loss:0.6755900979042053, val_binary_accuracy:0.7741992473602295, lr:0.005\n\nEpoch 00044: LearningRateScheduler reducing learning rate to 0.005.\n"
    },
    {
     "output_type": "display_data",
     "data": {
      "text/plain": "HBox(children=(FloatProgress(value=0.0, description='Epoch 43', layout=Layout(flex='2'), max=38.0, style=Progr…",
      "application/vnd.jupyter.widget-view+json": {
       "version_major": 2,
       "version_minor": 0,
       "model_id": "42d7b025381843ada40723a84a79f48d"
      }
     },
     "metadata": {}
    },
    {
     "output_type": "stream",
     "name": "stdout",
     "text": "\nEpoch 00044: saving model to savedmodels/res_12_2_0_BN_2/44\nloss:0.3164438307285309, binary_accuracy:0.8233721256256104, val_loss:0.6697463393211365, val_binary_accuracy:0.808610200881958, lr:0.005\n\nEpoch 00045: LearningRateScheduler reducing learning rate to 0.005.\n"
    },
    {
     "output_type": "display_data",
     "data": {
      "text/plain": "HBox(children=(FloatProgress(value=0.0, description='Epoch 44', layout=Layout(flex='2'), max=38.0, style=Progr…",
      "application/vnd.jupyter.widget-view+json": {
       "version_major": 2,
       "version_minor": 0,
       "model_id": "c053d770e81e4399ac5a54cedf8fca0b"
      }
     },
     "metadata": {}
    },
    {
     "output_type": "stream",
     "name": "stdout",
     "text": "\nEpoch 00045: saving model to savedmodels/res_12_2_0_BN_2/45\nloss:0.31668412685394287, binary_accuracy:0.8228760957717896, val_loss:0.681374728679657, val_binary_accuracy:0.7550556659698486, lr:0.005\n\nEpoch 00046: LearningRateScheduler reducing learning rate to 0.00475.\n"
    },
    {
     "output_type": "display_data",
     "data": {
      "text/plain": "HBox(children=(FloatProgress(value=0.0, description='Epoch 45', layout=Layout(flex='2'), max=38.0, style=Progr…",
      "application/vnd.jupyter.widget-view+json": {
       "version_major": 2,
       "version_minor": 0,
       "model_id": "136acd330a3640c1a48c73c8012ee5f5"
      }
     },
     "metadata": {}
    },
    {
     "output_type": "stream",
     "name": "stdout",
     "text": "\nEpoch 00046: saving model to savedmodels/res_12_2_0_BN_2/46\nloss:0.31664368510246277, binary_accuracy:0.8238961696624756, val_loss:0.6657834053039551, val_binary_accuracy:0.8042783141136169, lr:0.00475\n\nEpoch 00047: LearningRateScheduler reducing learning rate to 0.005.\n"
    },
    {
     "output_type": "display_data",
     "data": {
      "text/plain": "HBox(children=(FloatProgress(value=0.0, description='Epoch 46', layout=Layout(flex='2'), max=38.0, style=Progr…",
      "application/vnd.jupyter.widget-view+json": {
       "version_major": 2,
       "version_minor": 0,
       "model_id": "f578b5aaed3048bda47e565dbf8d9fe5"
      }
     },
     "metadata": {}
    },
    {
     "output_type": "stream",
     "name": "stdout",
     "text": "\nEpoch 00047: saving model to savedmodels/res_12_2_0_BN_2/47\nloss:0.31610020995140076, binary_accuracy:0.8243594169616699, val_loss:0.6698564887046814, val_binary_accuracy:0.7929452657699585, lr:0.005\n\nEpoch 00048: LearningRateScheduler reducing learning rate to 0.005.\n"
    },
    {
     "output_type": "display_data",
     "data": {
      "text/plain": "HBox(children=(FloatProgress(value=0.0, description='Epoch 47', layout=Layout(flex='2'), max=38.0, style=Progr…",
      "application/vnd.jupyter.widget-view+json": {
       "version_major": 2,
       "version_minor": 0,
       "model_id": "bc23311df6b841a0951225530d33883b"
      }
     },
     "metadata": {}
    },
    {
     "output_type": "stream",
     "name": "stdout",
     "text": "\nEpoch 00048: saving model to savedmodels/res_12_2_0_BN_2/48\nloss:0.315176784992218, binary_accuracy:0.8246683478355408, val_loss:0.6906931400299072, val_binary_accuracy:0.6960700750350952, lr:0.005\n\nEpoch 00049: LearningRateScheduler reducing learning rate to 0.005.\n"
    },
    {
     "output_type": "display_data",
     "data": {
      "text/plain": "HBox(children=(FloatProgress(value=0.0, description='Epoch 48', layout=Layout(flex='2'), max=38.0, style=Progr…",
      "application/vnd.jupyter.widget-view+json": {
       "version_major": 2,
       "version_minor": 0,
       "model_id": "af6968f39715463a80195a2ad05597f2"
      }
     },
     "metadata": {}
    },
    {
     "output_type": "stream",
     "name": "stdout",
     "text": "\nEpoch 00049: saving model to savedmodels/res_12_2_0_BN_2/49\nloss:0.3161817491054535, binary_accuracy:0.8243047595024109, val_loss:0.6686708331108093, val_binary_accuracy:0.7941471934318542, lr:0.005\n\nEpoch 00050: LearningRateScheduler reducing learning rate to 0.005.\n"
    },
    {
     "output_type": "display_data",
     "data": {
      "text/plain": "HBox(children=(FloatProgress(value=0.0, description='Epoch 49', layout=Layout(flex='2'), max=38.0, style=Progr…",
      "application/vnd.jupyter.widget-view+json": {
       "version_major": 2,
       "version_minor": 0,
       "model_id": "f0a26f4901ba47bf9475d36cbc017699"
      }
     },
     "metadata": {}
    },
    {
     "output_type": "stream",
     "name": "stdout",
     "text": "\nEpoch 00050: saving model to savedmodels/res_12_2_0_BN_2/50\nloss:0.3165861964225769, binary_accuracy:0.8230104446411133, val_loss:0.6674237847328186, val_binary_accuracy:0.7956814169883728, lr:0.005\n\nEpoch 00051: LearningRateScheduler reducing learning rate to 0.00475.\n"
    },
    {
     "output_type": "display_data",
     "data": {
      "text/plain": "HBox(children=(FloatProgress(value=0.0, description='Epoch 50', layout=Layout(flex='2'), max=38.0, style=Progr…",
      "application/vnd.jupyter.widget-view+json": {
       "version_major": 2,
       "version_minor": 0,
       "model_id": "b0d8d8a6a1534e70aa55d9c0d49890f9"
      }
     },
     "metadata": {}
    },
    {
     "output_type": "stream",
     "name": "stdout",
     "text": "\nEpoch 00051: saving model to savedmodels/res_12_2_0_BN_2/51\nloss:0.31679654121398926, binary_accuracy:0.8237521052360535, val_loss:0.6794964075088501, val_binary_accuracy:0.774519145488739, lr:0.00475\n\nEpoch 00052: LearningRateScheduler reducing learning rate to 0.005.\n"
    },
    {
     "output_type": "display_data",
     "data": {
      "text/plain": "HBox(children=(FloatProgress(value=0.0, description='Epoch 51', layout=Layout(flex='2'), max=38.0, style=Progr…",
      "application/vnd.jupyter.widget-view+json": {
       "version_major": 2,
       "version_minor": 0,
       "model_id": "d4d53e7bee934d25a026b088cfe238bb"
      }
     },
     "metadata": {}
    },
    {
     "output_type": "stream",
     "name": "stdout",
     "text": "\nEpoch 00052: saving model to savedmodels/res_12_2_0_BN_2/52\nloss:0.315029501914978, binary_accuracy:0.824698269367218, val_loss:0.6653531193733215, val_binary_accuracy:0.8013752102851868, lr:0.005\n\nEpoch 00053: LearningRateScheduler reducing learning rate to 0.005.\n"
    },
    {
     "output_type": "display_data",
     "data": {
      "text/plain": "HBox(children=(FloatProgress(value=0.0, description='Epoch 52', layout=Layout(flex='2'), max=38.0, style=Progr…",
      "application/vnd.jupyter.widget-view+json": {
       "version_major": 2,
       "version_minor": 0,
       "model_id": "12138b24e7834255a34f281e38a50a0e"
      }
     },
     "metadata": {}
    },
    {
     "output_type": "stream",
     "name": "stdout",
     "text": "\nEpoch 00053: saving model to savedmodels/res_12_2_0_BN_2/53\nloss:0.3160898983478546, binary_accuracy:0.8243210911750793, val_loss:0.6786311268806458, val_binary_accuracy:0.7731428146362305, lr:0.005\n\nEpoch 00054: LearningRateScheduler reducing learning rate to 0.005.\n"
    },
    {
     "output_type": "display_data",
     "data": {
      "text/plain": "HBox(children=(FloatProgress(value=0.0, description='Epoch 53', layout=Layout(flex='2'), max=38.0, style=Progr…",
      "application/vnd.jupyter.widget-view+json": {
       "version_major": 2,
       "version_minor": 0,
       "model_id": "7faefa72a1d64c7c9d34c0e43ba35caa"
      }
     },
     "metadata": {}
    },
    {
     "output_type": "stream",
     "name": "stdout",
     "text": "\nEpoch 00054: saving model to savedmodels/res_12_2_0_BN_2/54\nloss:0.31418830156326294, binary_accuracy:0.8257415294647217, val_loss:0.6728709936141968, val_binary_accuracy:0.7706024646759033, lr:0.005\n\nEpoch 00055: LearningRateScheduler reducing learning rate to 0.005.\n"
    },
    {
     "output_type": "display_data",
     "data": {
      "text/plain": "HBox(children=(FloatProgress(value=0.0, description='Epoch 54', layout=Layout(flex='2'), max=38.0, style=Progr…",
      "application/vnd.jupyter.widget-view+json": {
       "version_major": 2,
       "version_minor": 0,
       "model_id": "2f471d42469343bf8bcb3cad092d6b65"
      }
     },
     "metadata": {}
    },
    {
     "output_type": "stream",
     "name": "stdout",
     "text": "\nEpoch 00055: saving model to savedmodels/res_12_2_0_BN_2/55\nloss:0.31459954380989075, binary_accuracy:0.8257858157157898, val_loss:0.6814557909965515, val_binary_accuracy:0.7775872945785522, lr:0.005\n\nEpoch 00056: LearningRateScheduler reducing learning rate to 0.00475.\n"
    },
    {
     "output_type": "display_data",
     "data": {
      "text/plain": "HBox(children=(FloatProgress(value=0.0, description='Epoch 55', layout=Layout(flex='2'), max=38.0, style=Progr…",
      "application/vnd.jupyter.widget-view+json": {
       "version_major": 2,
       "version_minor": 0,
       "model_id": "fca3c5de0cf544daa991bb8a0d4a7605"
      }
     },
     "metadata": {}
    },
    {
     "output_type": "stream",
     "name": "stdout",
     "text": "\nEpoch 00056: saving model to savedmodels/res_12_2_0_BN_2/56\nloss:0.3148094415664673, binary_accuracy:0.8254461884498596, val_loss:0.6718853712081909, val_binary_accuracy:0.7798714637756348, lr:0.00475\n\nEpoch 00057: LearningRateScheduler reducing learning rate to 0.005.\n"
    },
    {
     "output_type": "display_data",
     "data": {
      "text/plain": "HBox(children=(FloatProgress(value=0.0, description='Epoch 56', layout=Layout(flex='2'), max=38.0, style=Progr…",
      "application/vnd.jupyter.widget-view+json": {
       "version_major": 2,
       "version_minor": 0,
       "model_id": "5487909892c44b84b382f826b629ccee"
      }
     },
     "metadata": {}
    },
    {
     "output_type": "stream",
     "name": "stdout",
     "text": "\nEpoch 00057: saving model to savedmodels/res_12_2_0_BN_2/57\nloss:0.3149179220199585, binary_accuracy:0.8253302574157715, val_loss:0.6934701800346375, val_binary_accuracy:0.6741623282432556, lr:0.005\n\nEpoch 00058: LearningRateScheduler reducing learning rate to 0.005.\n"
    },
    {
     "output_type": "display_data",
     "data": {
      "text/plain": "HBox(children=(FloatProgress(value=0.0, description='Epoch 57', layout=Layout(flex='2'), max=38.0, style=Progr…",
      "application/vnd.jupyter.widget-view+json": {
       "version_major": 2,
       "version_minor": 0,
       "model_id": "f7e5f2ef4fb041d1b47019703950b5e2"
      }
     },
     "metadata": {}
    },
    {
     "output_type": "stream",
     "name": "stdout",
     "text": "\nEpoch 00058: saving model to savedmodels/res_12_2_0_BN_2/58\nloss:0.31451094150543213, binary_accuracy:0.8258107900619507, val_loss:0.6807815432548523, val_binary_accuracy:0.7644211053848267, lr:0.005\n\nEpoch 00059: LearningRateScheduler reducing learning rate to 0.005.\n"
    },
    {
     "output_type": "display_data",
     "data": {
      "text/plain": "HBox(children=(FloatProgress(value=0.0, description='Epoch 58', layout=Layout(flex='2'), max=38.0, style=Progr…",
      "application/vnd.jupyter.widget-view+json": {
       "version_major": 2,
       "version_minor": 0,
       "model_id": "ddcd0d01cc624d81acb7348722c15307"
      }
     },
     "metadata": {}
    },
    {
     "output_type": "stream",
     "name": "stdout",
     "text": "\nEpoch 00059: saving model to savedmodels/res_12_2_0_BN_2/59\nloss:0.31372708082199097, binary_accuracy:0.8266962766647339, val_loss:0.6806380748748779, val_binary_accuracy:0.7727811932563782, lr:0.005\n\nEpoch 00060: LearningRateScheduler reducing learning rate to 0.005.\n"
    },
    {
     "output_type": "display_data",
     "data": {
      "text/plain": "HBox(children=(FloatProgress(value=0.0, description='Epoch 59', layout=Layout(flex='2'), max=38.0, style=Progr…",
      "application/vnd.jupyter.widget-view+json": {
       "version_major": 2,
       "version_minor": 0,
       "model_id": "485f282f66c741fc91299a01b7aad9a7"
      }
     },
     "metadata": {}
    },
    {
     "output_type": "stream",
     "name": "stdout",
     "text": "\nEpoch 00060: saving model to savedmodels/res_12_2_0_BN_2/60\nloss:0.31340092420578003, binary_accuracy:0.826401948928833, val_loss:0.6846396327018738, val_binary_accuracy:0.7496838569641113, lr:0.005\n\nEpoch 00061: LearningRateScheduler reducing learning rate to 0.00475.\n"
    },
    {
     "output_type": "display_data",
     "data": {
      "text/plain": "HBox(children=(FloatProgress(value=0.0, description='Epoch 60', layout=Layout(flex='2'), max=38.0, style=Progr…",
      "application/vnd.jupyter.widget-view+json": {
       "version_major": 2,
       "version_minor": 0,
       "model_id": "be587f5075b747b3976fde0fb1e29a32"
      }
     },
     "metadata": {}
    },
    {
     "output_type": "stream",
     "name": "stdout",
     "text": "\nEpoch 00061: saving model to savedmodels/res_12_2_0_BN_2/61\nloss:0.3135077655315399, binary_accuracy:0.8268499970436096, val_loss:0.6904970407485962, val_binary_accuracy:0.7098070383071899, lr:0.00475\n\nEpoch 00062: LearningRateScheduler reducing learning rate to 0.005.\n"
    },
    {
     "output_type": "display_data",
     "data": {
      "text/plain": "HBox(children=(FloatProgress(value=0.0, description='Epoch 61', layout=Layout(flex='2'), max=38.0, style=Progr…",
      "application/vnd.jupyter.widget-view+json": {
       "version_major": 2,
       "version_minor": 0,
       "model_id": "7ba4e3718b0c406abf9dea0d0cf54e20"
      }
     },
     "metadata": {}
    },
    {
     "output_type": "stream",
     "name": "stdout",
     "text": "\nEpoch 00062: saving model to savedmodels/res_12_2_0_BN_2/62\nloss:0.31410157680511475, binary_accuracy:0.8250677585601807, val_loss:0.6820701360702515, val_binary_accuracy:0.7570580244064331, lr:0.005\n\nEpoch 00063: LearningRateScheduler reducing learning rate to 0.005.\n"
    },
    {
     "output_type": "display_data",
     "data": {
      "text/plain": "HBox(children=(FloatProgress(value=0.0, description='Epoch 62', layout=Layout(flex='2'), max=38.0, style=Progr…",
      "application/vnd.jupyter.widget-view+json": {
       "version_major": 2,
       "version_minor": 0,
       "model_id": "a34aa44bad5740feb9aa62fee5de0dfc"
      }
     },
     "metadata": {}
    },
    {
     "output_type": "stream",
     "name": "stdout",
     "text": "\nEpoch 00063: saving model to savedmodels/res_12_2_0_BN_2/63\nloss:0.3142366111278534, binary_accuracy:0.8259053230285645, val_loss:0.6924580335617065, val_binary_accuracy:0.67682284116745, lr:0.005\n\nEpoch 00064: LearningRateScheduler reducing learning rate to 0.005.\n"
    },
    {
     "output_type": "display_data",
     "data": {
      "text/plain": "HBox(children=(FloatProgress(value=0.0, description='Epoch 63', layout=Layout(flex='2'), max=38.0, style=Progr…",
      "application/vnd.jupyter.widget-view+json": {
       "version_major": 2,
       "version_minor": 0,
       "model_id": "815a471f2c594618908fceeed504bf51"
      }
     },
     "metadata": {}
    },
    {
     "output_type": "stream",
     "name": "stdout",
     "text": "\nEpoch 00064: saving model to savedmodels/res_12_2_0_BN_2/64\nloss:0.3131428360939026, binary_accuracy:0.8264402151107788, val_loss:0.7261333465576172, val_binary_accuracy:0.7149685025215149, lr:0.005\n\nEpoch 00065: LearningRateScheduler reducing learning rate to 0.005.\n"
    },
    {
     "output_type": "display_data",
     "data": {
      "text/plain": "HBox(children=(FloatProgress(value=0.0, description='Epoch 64', layout=Layout(flex='2'), max=38.0, style=Progr…",
      "application/vnd.jupyter.widget-view+json": {
       "version_major": 2,
       "version_minor": 0,
       "model_id": "bdc61df7f78743e681def0557f943a7d"
      }
     },
     "metadata": {}
    },
    {
     "output_type": "stream",
     "name": "stdout",
     "text": "\nEpoch 00065: saving model to savedmodels/res_12_2_0_BN_2/65\nloss:0.3147850036621094, binary_accuracy:0.8258829712867737, val_loss:0.7064770460128784, val_binary_accuracy:0.7429735064506531, lr:0.005\n\nEpoch 00066: LearningRateScheduler reducing learning rate to 0.00475.\n"
    },
    {
     "output_type": "display_data",
     "data": {
      "text/plain": "HBox(children=(FloatProgress(value=0.0, description='Epoch 65', layout=Layout(flex='2'), max=38.0, style=Progr…",
      "application/vnd.jupyter.widget-view+json": {
       "version_major": 2,
       "version_minor": 0,
       "model_id": "ad147dcd897b4b7fa7c475338beb652a"
      }
     },
     "metadata": {}
    },
    {
     "output_type": "stream",
     "name": "stdout",
     "text": "\nEpoch 00066: saving model to savedmodels/res_12_2_0_BN_2/66\nloss:0.3133356273174286, binary_accuracy:0.8262689709663391, val_loss:0.6647858619689941, val_binary_accuracy:0.7935206294059753, lr:0.00475\n\nEpoch 00067: LearningRateScheduler reducing learning rate to 0.005.\n"
    },
    {
     "output_type": "display_data",
     "data": {
      "text/plain": "HBox(children=(FloatProgress(value=0.0, description='Epoch 66', layout=Layout(flex='2'), max=38.0, style=Progr…",
      "application/vnd.jupyter.widget-view+json": {
       "version_major": 2,
       "version_minor": 0,
       "model_id": "a7483e25b2b242979e0a0105dd0eeb4b"
      }
     },
     "metadata": {}
    },
    {
     "output_type": "stream",
     "name": "stdout",
     "text": "\nEpoch 00067: saving model to savedmodels/res_12_2_0_BN_2/67\nloss:0.3143515884876251, binary_accuracy:0.825404703617096, val_loss:0.7028182744979858, val_binary_accuracy:0.6174089908599854, lr:0.005\n\nEpoch 00068: LearningRateScheduler reducing learning rate to 0.005.\n"
    },
    {
     "output_type": "display_data",
     "data": {
      "text/plain": "HBox(children=(FloatProgress(value=0.0, description='Epoch 67', layout=Layout(flex='2'), max=38.0, style=Progr…",
      "application/vnd.jupyter.widget-view+json": {
       "version_major": 2,
       "version_minor": 0,
       "model_id": "1af91ae3fb2b48b08bd16d8bafec4587"
      }
     },
     "metadata": {}
    },
    {
     "output_type": "stream",
     "name": "stdout",
     "text": "\nEpoch 00068: saving model to savedmodels/res_12_2_0_BN_2/68\nloss:0.31363531947135925, binary_accuracy:0.8261157274246216, val_loss:0.716492235660553, val_binary_accuracy:0.6773920059204102, lr:0.005\n\nEpoch 00069: LearningRateScheduler reducing learning rate to 0.005.\n"
    },
    {
     "output_type": "display_data",
     "data": {
      "text/plain": "HBox(children=(FloatProgress(value=0.0, description='Epoch 68', layout=Layout(flex='2'), max=38.0, style=Progr…",
      "application/vnd.jupyter.widget-view+json": {
       "version_major": 2,
       "version_minor": 0,
       "model_id": "bbd5722966d04113814653818eca50c7"
      }
     },
     "metadata": {}
    },
    {
     "output_type": "stream",
     "name": "stdout",
     "text": "\nEpoch 00069: saving model to savedmodels/res_12_2_0_BN_2/69\nloss:0.3119940459728241, binary_accuracy:0.8281912803649902, val_loss:0.6681779026985168, val_binary_accuracy:0.778655469417572, lr:0.005\n\nEpoch 00070: LearningRateScheduler reducing learning rate to 0.005.\n"
    },
    {
     "output_type": "display_data",
     "data": {
      "text/plain": "HBox(children=(FloatProgress(value=0.0, description='Epoch 69', layout=Layout(flex='2'), max=38.0, style=Progr…",
      "application/vnd.jupyter.widget-view+json": {
       "version_major": 2,
       "version_minor": 0,
       "model_id": "a4ff2710981e4e79b52f87333bf40cbe"
      }
     },
     "metadata": {}
    },
    {
     "output_type": "stream",
     "name": "stdout",
     "text": "\nEpoch 00070: saving model to savedmodels/res_12_2_0_BN_2/70\nloss:0.31135138869285583, binary_accuracy:0.8283959627151489, val_loss:0.6598751544952393, val_binary_accuracy:0.8151479959487915, lr:0.005\n\nEpoch 00071: LearningRateScheduler reducing learning rate to 0.00475.\n"
    },
    {
     "output_type": "display_data",
     "data": {
      "text/plain": "HBox(children=(FloatProgress(value=0.0, description='Epoch 70', layout=Layout(flex='2'), max=38.0, style=Progr…",
      "application/vnd.jupyter.widget-view+json": {
       "version_major": 2,
       "version_minor": 0,
       "model_id": "6706a96f0e37497492f8a301e6a4d787"
      }
     },
     "metadata": {}
    },
    {
     "output_type": "stream",
     "name": "stdout",
     "text": "\nEpoch 00071: saving model to savedmodels/res_12_2_0_BN_2/71\nloss:0.31180381774902344, binary_accuracy:0.8281461000442505, val_loss:0.6783766746520996, val_binary_accuracy:0.7626973390579224, lr:0.00475\n\nEpoch 00072: LearningRateScheduler reducing learning rate to 0.005.\n"
    },
    {
     "output_type": "display_data",
     "data": {
      "text/plain": "HBox(children=(FloatProgress(value=0.0, description='Epoch 71', layout=Layout(flex='2'), max=38.0, style=Progr…",
      "application/vnd.jupyter.widget-view+json": {
       "version_major": 2,
       "version_minor": 0,
       "model_id": "8782423a0bec4375b618d658ab335723"
      }
     },
     "metadata": {}
    },
    {
     "output_type": "stream",
     "name": "stdout",
     "text": "\nEpoch 00072: saving model to savedmodels/res_12_2_0_BN_2/72\nloss:0.3116297125816345, binary_accuracy:0.8275505900382996, val_loss:0.6668980121612549, val_binary_accuracy:0.7958571910858154, lr:0.005\n\nEpoch 00073: LearningRateScheduler reducing learning rate to 0.005.\n"
    },
    {
     "output_type": "display_data",
     "data": {
      "text/plain": "HBox(children=(FloatProgress(value=0.0, description='Epoch 72', layout=Layout(flex='2'), max=38.0, style=Progr…",
      "application/vnd.jupyter.widget-view+json": {
       "version_major": 2,
       "version_minor": 0,
       "model_id": "2d8de144a4914279bcdb76046c2c05ff"
      }
     },
     "metadata": {}
    },
    {
     "output_type": "stream",
     "name": "stdout",
     "text": "\nEpoch 00073: saving model to savedmodels/res_12_2_0_BN_2/73\nloss:0.3113660216331482, binary_accuracy:0.8280935287475586, val_loss:0.7361436486244202, val_binary_accuracy:0.6776728630065918, lr:0.005\n\nEpoch 00074: LearningRateScheduler reducing learning rate to 0.005.\n"
    },
    {
     "output_type": "display_data",
     "data": {
      "text/plain": "HBox(children=(FloatProgress(value=0.0, description='Epoch 73', layout=Layout(flex='2'), max=38.0, style=Progr…",
      "application/vnd.jupyter.widget-view+json": {
       "version_major": 2,
       "version_minor": 0,
       "model_id": "ba5455e2aec042f8b27445956bd539e8"
      }
     },
     "metadata": {}
    },
    {
     "output_type": "stream",
     "name": "stdout",
     "text": "\nEpoch 00074: saving model to savedmodels/res_12_2_0_BN_2/74\nloss:0.31211355328559875, binary_accuracy:0.8271275162696838, val_loss:0.6946606040000916, val_binary_accuracy:0.7654581665992737, lr:0.005\n\nEpoch 00075: LearningRateScheduler reducing learning rate to 0.005.\n"
    },
    {
     "output_type": "display_data",
     "data": {
      "text/plain": "HBox(children=(FloatProgress(value=0.0, description='Epoch 74', layout=Layout(flex='2'), max=38.0, style=Progr…",
      "application/vnd.jupyter.widget-view+json": {
       "version_major": 2,
       "version_minor": 0,
       "model_id": "bcccc5b4d524400f9e749d3fd4d846ae"
      }
     },
     "metadata": {}
    },
    {
     "output_type": "stream",
     "name": "stdout",
     "text": "\nEpoch 00075: saving model to savedmodels/res_12_2_0_BN_2/75\nloss:0.31142282485961914, binary_accuracy:0.8283473253250122, val_loss:0.6820498704910278, val_binary_accuracy:0.7527523636817932, lr:0.005\n\nEpoch 00076: LearningRateScheduler reducing learning rate to 0.00475.\n"
    },
    {
     "output_type": "display_data",
     "data": {
      "text/plain": "HBox(children=(FloatProgress(value=0.0, description='Epoch 75', layout=Layout(flex='2'), max=38.0, style=Progr…",
      "application/vnd.jupyter.widget-view+json": {
       "version_major": 2,
       "version_minor": 0,
       "model_id": "5a22242888b348e1b7d96807109127be"
      }
     },
     "metadata": {}
    },
    {
     "output_type": "stream",
     "name": "stdout",
     "text": "\nEpoch 00076: saving model to savedmodels/res_12_2_0_BN_2/76\nloss:0.30982911586761475, binary_accuracy:0.8297457098960876, val_loss:0.6908159255981445, val_binary_accuracy:0.7613289952278137, lr:0.00475\n\nEpoch 00077: LearningRateScheduler reducing learning rate to 0.005.\n"
    },
    {
     "output_type": "display_data",
     "data": {
      "text/plain": "HBox(children=(FloatProgress(value=0.0, description='Epoch 76', layout=Layout(flex='2'), max=38.0, style=Progr…",
      "application/vnd.jupyter.widget-view+json": {
       "version_major": 2,
       "version_minor": 0,
       "model_id": "bc458ba89ffb478eaccc1375992e79e7"
      }
     },
     "metadata": {}
    },
    {
     "output_type": "stream",
     "name": "stdout",
     "text": "\nEpoch 00077: saving model to savedmodels/res_12_2_0_BN_2/77\nloss:0.3112795650959015, binary_accuracy:0.8285655379295349, val_loss:0.6787496209144592, val_binary_accuracy:0.7776978015899658, lr:0.005\n\nEpoch 00078: LearningRateScheduler reducing learning rate to 0.005.\n"
    },
    {
     "output_type": "display_data",
     "data": {
      "text/plain": "HBox(children=(FloatProgress(value=0.0, description='Epoch 77', layout=Layout(flex='2'), max=38.0, style=Progr…",
      "application/vnd.jupyter.widget-view+json": {
       "version_major": 2,
       "version_minor": 0,
       "model_id": "9675b7fbdb6f48a89b5c904142e7aba1"
      }
     },
     "metadata": {}
    },
    {
     "output_type": "stream",
     "name": "stdout",
     "text": "\nEpoch 00078: saving model to savedmodels/res_12_2_0_BN_2/78\nloss:0.30975064635276794, binary_accuracy:0.8296084403991699, val_loss:0.7048419713973999, val_binary_accuracy:0.7381068468093872, lr:0.005\n\nEpoch 00079: LearningRateScheduler reducing learning rate to 0.005.\n"
    },
    {
     "output_type": "display_data",
     "data": {
      "text/plain": "HBox(children=(FloatProgress(value=0.0, description='Epoch 78', layout=Layout(flex='2'), max=38.0, style=Progr…",
      "application/vnd.jupyter.widget-view+json": {
       "version_major": 2,
       "version_minor": 0,
       "model_id": "ad9187dc106c4cefbeec618aa5fba9ff"
      }
     },
     "metadata": {}
    },
    {
     "output_type": "stream",
     "name": "stdout",
     "text": "\nEpoch 00079: saving model to savedmodels/res_12_2_0_BN_2/79\nloss:0.3111116886138916, binary_accuracy:0.8287408351898193, val_loss:0.6789760589599609, val_binary_accuracy:0.7747673392295837, lr:0.005\n\nEpoch 00080: LearningRateScheduler reducing learning rate to 0.005.\n"
    },
    {
     "output_type": "display_data",
     "data": {
      "text/plain": "HBox(children=(FloatProgress(value=0.0, description='Epoch 79', layout=Layout(flex='2'), max=38.0, style=Progr…",
      "application/vnd.jupyter.widget-view+json": {
       "version_major": 2,
       "version_minor": 0,
       "model_id": "4d891e32edeb405fafbc6c3cbc4532ce"
      }
     },
     "metadata": {}
    },
    {
     "output_type": "stream",
     "name": "stdout",
     "text": "\nEpoch 00080: saving model to savedmodels/res_12_2_0_BN_2/80\nloss:0.31132256984710693, binary_accuracy:0.8289589881896973, val_loss:0.6704731583595276, val_binary_accuracy:0.7737863659858704, lr:0.005\n\nEpoch 00081: LearningRateScheduler reducing learning rate to 0.00475.\n"
    },
    {
     "output_type": "display_data",
     "data": {
      "text/plain": "HBox(children=(FloatProgress(value=0.0, description='Epoch 80', layout=Layout(flex='2'), max=38.0, style=Progr…",
      "application/vnd.jupyter.widget-view+json": {
       "version_major": 2,
       "version_minor": 0,
       "model_id": "1782564a88574e0885a9f22bdd00c8fe"
      }
     },
     "metadata": {}
    },
    {
     "output_type": "stream",
     "name": "stdout",
     "text": "\nEpoch 00081: saving model to savedmodels/res_12_2_0_BN_2/81\nloss:0.3100104331970215, binary_accuracy:0.8293057680130005, val_loss:0.6915178298950195, val_binary_accuracy:0.745019793510437, lr:0.00475\n\nEpoch 00082: LearningRateScheduler reducing learning rate to 0.005.\n"
    },
    {
     "output_type": "display_data",
     "data": {
      "text/plain": "HBox(children=(FloatProgress(value=0.0, description='Epoch 81', layout=Layout(flex='2'), max=38.0, style=Progr…",
      "application/vnd.jupyter.widget-view+json": {
       "version_major": 2,
       "version_minor": 0,
       "model_id": "0e89f5bbf46f4839b80e68f8695ab49f"
      }
     },
     "metadata": {}
    },
    {
     "output_type": "stream",
     "name": "stdout",
     "text": "\nEpoch 00082: saving model to savedmodels/res_12_2_0_BN_2/82\nloss:0.31185540556907654, binary_accuracy:0.8282737135887146, val_loss:0.6927512884140015, val_binary_accuracy:0.6830661296844482, lr:0.005\n\nEpoch 00083: LearningRateScheduler reducing learning rate to 0.005.\n"
    },
    {
     "output_type": "display_data",
     "data": {
      "text/plain": "HBox(children=(FloatProgress(value=0.0, description='Epoch 82', layout=Layout(flex='2'), max=38.0, style=Progr…",
      "application/vnd.jupyter.widget-view+json": {
       "version_major": 2,
       "version_minor": 0,
       "model_id": "bfbbc6f931224b768cbae1ef899cbdb9"
      }
     },
     "metadata": {}
    },
    {
     "output_type": "stream",
     "name": "stdout",
     "text": "\nEpoch 00083: saving model to savedmodels/res_12_2_0_BN_2/83\nloss:0.31094568967819214, binary_accuracy:0.8293955326080322, val_loss:0.7627819776535034, val_binary_accuracy:0.6002868413925171, lr:0.005\n\nEpoch 00084: LearningRateScheduler reducing learning rate to 0.005.\n"
    },
    {
     "output_type": "display_data",
     "data": {
      "text/plain": "HBox(children=(FloatProgress(value=0.0, description='Epoch 83', layout=Layout(flex='2'), max=38.0, style=Progr…",
      "application/vnd.jupyter.widget-view+json": {
       "version_major": 2,
       "version_minor": 0,
       "model_id": "4922524fdad84d058c59eb275aee3923"
      }
     },
     "metadata": {}
    },
    {
     "output_type": "stream",
     "name": "stdout",
     "text": "\nEpoch 00084: saving model to savedmodels/res_12_2_0_BN_2/84\nloss:0.311216801404953, binary_accuracy:0.8283197283744812, val_loss:0.6669899225234985, val_binary_accuracy:0.7896137833595276, lr:0.005\n\nEpoch 00085: LearningRateScheduler reducing learning rate to 0.005.\n"
    },
    {
     "output_type": "display_data",
     "data": {
      "text/plain": "HBox(children=(FloatProgress(value=0.0, description='Epoch 84', layout=Layout(flex='2'), max=38.0, style=Progr…",
      "application/vnd.jupyter.widget-view+json": {
       "version_major": 2,
       "version_minor": 0,
       "model_id": "9259873b2b8f4dd8b7eceb5801456363"
      }
     },
     "metadata": {}
    },
    {
     "output_type": "stream",
     "name": "stdout",
     "text": "\nEpoch 00085: saving model to savedmodels/res_12_2_0_BN_2/85\nloss:0.3116760849952698, binary_accuracy:0.8282374143600464, val_loss:0.6814436316490173, val_binary_accuracy:0.767876148223877, lr:0.005\n\nEpoch 00086: LearningRateScheduler reducing learning rate to 0.00475.\n"
    },
    {
     "output_type": "display_data",
     "data": {
      "text/plain": "HBox(children=(FloatProgress(value=0.0, description='Epoch 85', layout=Layout(flex='2'), max=38.0, style=Progr…",
      "application/vnd.jupyter.widget-view+json": {
       "version_major": 2,
       "version_minor": 0,
       "model_id": "b57c92ac10ef4b22889d7ff78b0ab63b"
      }
     },
     "metadata": {}
    },
    {
     "output_type": "stream",
     "name": "stdout",
     "text": "\nEpoch 00086: saving model to savedmodels/res_12_2_0_BN_2/86\nloss:0.3089721202850342, binary_accuracy:0.8311269283294678, val_loss:0.6859205961227417, val_binary_accuracy:0.7664536237716675, lr:0.00475\n\nEpoch 00087: LearningRateScheduler reducing learning rate to 0.005.\n"
    },
    {
     "output_type": "display_data",
     "data": {
      "text/plain": "HBox(children=(FloatProgress(value=0.0, description='Epoch 86', layout=Layout(flex='2'), max=38.0, style=Progr…",
      "application/vnd.jupyter.widget-view+json": {
       "version_major": 2,
       "version_minor": 0,
       "model_id": "6c3d1e6695bc4d47af7e78b7b22a6558"
      }
     },
     "metadata": {}
    },
    {
     "output_type": "stream",
     "name": "stdout",
     "text": "\nEpoch 00087: saving model to savedmodels/res_12_2_0_BN_2/87\nloss:0.30846893787384033, binary_accuracy:0.8303813934326172, val_loss:0.6756577491760254, val_binary_accuracy:0.7534689903259277, lr:0.005\n\nEpoch 00088: LearningRateScheduler reducing learning rate to 0.005.\n"
    },
    {
     "output_type": "display_data",
     "data": {
      "text/plain": "HBox(children=(FloatProgress(value=0.0, description='Epoch 87', layout=Layout(flex='2'), max=38.0, style=Progr…",
      "application/vnd.jupyter.widget-view+json": {
       "version_major": 2,
       "version_minor": 0,
       "model_id": "5312886cb4cf43e4a939d3dcf0610b27"
      }
     },
     "metadata": {}
    },
    {
     "output_type": "stream",
     "name": "stdout",
     "text": "\nEpoch 00088: saving model to savedmodels/res_12_2_0_BN_2/88\nloss:0.30904245376586914, binary_accuracy:0.8303732872009277, val_loss:0.6938655376434326, val_binary_accuracy:0.6722228527069092, lr:0.005\n\nEpoch 00089: LearningRateScheduler reducing learning rate to 0.005.\n"
    },
    {
     "output_type": "display_data",
     "data": {
      "text/plain": "HBox(children=(FloatProgress(value=0.0, description='Epoch 88', layout=Layout(flex='2'), max=38.0, style=Progr…",
      "application/vnd.jupyter.widget-view+json": {
       "version_major": 2,
       "version_minor": 0,
       "model_id": "cdd4613952bb47ffbdd9ab662628f2c6"
      }
     },
     "metadata": {}
    },
    {
     "output_type": "stream",
     "name": "stdout",
     "text": "\nEpoch 00089: saving model to savedmodels/res_12_2_0_BN_2/89\nloss:0.3083387315273285, binary_accuracy:0.830788791179657, val_loss:0.670315682888031, val_binary_accuracy:0.7835720181465149, lr:0.005\n\nEpoch 00090: LearningRateScheduler reducing learning rate to 0.005.\n"
    },
    {
     "output_type": "display_data",
     "data": {
      "text/plain": "HBox(children=(FloatProgress(value=0.0, description='Epoch 89', layout=Layout(flex='2'), max=38.0, style=Progr…",
      "application/vnd.jupyter.widget-view+json": {
       "version_major": 2,
       "version_minor": 0,
       "model_id": "c0d692e162ef494b8d1903ad6fa3fc3c"
      }
     },
     "metadata": {}
    },
    {
     "output_type": "stream",
     "name": "stdout",
     "text": "\nEpoch 00090: saving model to savedmodels/res_12_2_0_BN_2/90\nloss:0.30763357877731323, binary_accuracy:0.8320566415786743, val_loss:0.687930166721344, val_binary_accuracy:0.7569701671600342, lr:0.005\n\nEpoch 00091: LearningRateScheduler reducing learning rate to 0.00475.\n"
    },
    {
     "output_type": "display_data",
     "data": {
      "text/plain": "HBox(children=(FloatProgress(value=0.0, description='Epoch 90', layout=Layout(flex='2'), max=38.0, style=Progr…",
      "application/vnd.jupyter.widget-view+json": {
       "version_major": 2,
       "version_minor": 0,
       "model_id": "acde724512ca45d19e5747bb53777f50"
      }
     },
     "metadata": {}
    },
    {
     "output_type": "stream",
     "name": "stdout",
     "text": "\nEpoch 00091: saving model to savedmodels/res_12_2_0_BN_2/91\nloss:0.30779793858528137, binary_accuracy:0.8315126299858093, val_loss:0.6840773224830627, val_binary_accuracy:0.7727547287940979, lr:0.00475\n\nEpoch 00092: LearningRateScheduler reducing learning rate to 0.005.\n"
    },
    {
     "output_type": "display_data",
     "data": {
      "text/plain": "HBox(children=(FloatProgress(value=0.0, description='Epoch 91', layout=Layout(flex='2'), max=38.0, style=Progr…",
      "application/vnd.jupyter.widget-view+json": {
       "version_major": 2,
       "version_minor": 0,
       "model_id": "6f71ece485fb42a4b22bfbaa0244d378"
      }
     },
     "metadata": {}
    },
    {
     "output_type": "stream",
     "name": "stdout",
     "text": "\nEpoch 00092: saving model to savedmodels/res_12_2_0_BN_2/92\nloss:0.30987483263015747, binary_accuracy:0.8298982977867126, val_loss:0.6977724432945251, val_binary_accuracy:0.7622547149658203, lr:0.005\n\nEpoch 00093: LearningRateScheduler reducing learning rate to 0.005.\n"
    },
    {
     "output_type": "display_data",
     "data": {
      "text/plain": "HBox(children=(FloatProgress(value=0.0, description='Epoch 92', layout=Layout(flex='2'), max=38.0, style=Progr…",
      "application/vnd.jupyter.widget-view+json": {
       "version_major": 2,
       "version_minor": 0,
       "model_id": "63f10d6a595d4740a1b8f2e7bfbce469"
      }
     },
     "metadata": {}
    },
    {
     "output_type": "stream",
     "name": "stdout",
     "text": "\nEpoch 00093: saving model to savedmodels/res_12_2_0_BN_2/93\nloss:0.3080154359340668, binary_accuracy:0.8313484191894531, val_loss:0.6825130581855774, val_binary_accuracy:0.7610780000686646, lr:0.005\n\nEpoch 00094: LearningRateScheduler reducing learning rate to 0.005.\n"
    },
    {
     "output_type": "display_data",
     "data": {
      "text/plain": "HBox(children=(FloatProgress(value=0.0, description='Epoch 93', layout=Layout(flex='2'), max=38.0, style=Progr…",
      "application/vnd.jupyter.widget-view+json": {
       "version_major": 2,
       "version_minor": 0,
       "model_id": "52dcdbd05aac4317848e4072ac10ff78"
      }
     },
     "metadata": {}
    },
    {
     "output_type": "stream",
     "name": "stdout",
     "text": "\nEpoch 00094: saving model to savedmodels/res_12_2_0_BN_2/94\nloss:0.3081176280975342, binary_accuracy:0.8319097757339478, val_loss:0.7844461798667908, val_binary_accuracy:0.6041809916496277, lr:0.005\n\nEpoch 00095: LearningRateScheduler reducing learning rate to 0.005.\n"
    },
    {
     "output_type": "display_data",
     "data": {
      "text/plain": "HBox(children=(FloatProgress(value=0.0, description='Epoch 94', layout=Layout(flex='2'), max=38.0, style=Progr…",
      "application/vnd.jupyter.widget-view+json": {
       "version_major": 2,
       "version_minor": 0,
       "model_id": "d740a45a276040dca94bb051dfb3ef1b"
      }
     },
     "metadata": {}
    },
    {
     "output_type": "stream",
     "name": "stdout",
     "text": "\nEpoch 00095: saving model to savedmodels/res_12_2_0_BN_2/95\nloss:0.3074103891849518, binary_accuracy:0.8314383029937744, val_loss:0.6723654866218567, val_binary_accuracy:0.7881550192832947, lr:0.005\n\nEpoch 00096: LearningRateScheduler reducing learning rate to 0.00475.\n"
    },
    {
     "output_type": "display_data",
     "data": {
      "text/plain": "HBox(children=(FloatProgress(value=0.0, description='Epoch 95', layout=Layout(flex='2'), max=38.0, style=Progr…",
      "application/vnd.jupyter.widget-view+json": {
       "version_major": 2,
       "version_minor": 0,
       "model_id": "a91574dafd0444b193cf5500a19afaa2"
      }
     },
     "metadata": {}
    },
    {
     "output_type": "stream",
     "name": "stdout",
     "text": "\nEpoch 00096: saving model to savedmodels/res_12_2_0_BN_2/96\nloss:0.30831074714660645, binary_accuracy:0.8312409520149231, val_loss:0.6689884662628174, val_binary_accuracy:0.7821862101554871, lr:0.00475\n\nEpoch 00097: LearningRateScheduler reducing learning rate to 0.005.\n"
    },
    {
     "output_type": "display_data",
     "data": {
      "text/plain": "HBox(children=(FloatProgress(value=0.0, description='Epoch 96', layout=Layout(flex='2'), max=38.0, style=Progr…",
      "application/vnd.jupyter.widget-view+json": {
       "version_major": 2,
       "version_minor": 0,
       "model_id": "de0d98021bf345ddb325d2be59c2301b"
      }
     },
     "metadata": {}
    },
    {
     "output_type": "stream",
     "name": "stdout",
     "text": "\nEpoch 00097: saving model to savedmodels/res_12_2_0_BN_2/97\nloss:0.3074864447116852, binary_accuracy:0.8322589993476868, val_loss:0.6828559637069702, val_binary_accuracy:0.7892675399780273, lr:0.005\n\nEpoch 00098: LearningRateScheduler reducing learning rate to 0.005.\n"
    },
    {
     "output_type": "display_data",
     "data": {
      "text/plain": "HBox(children=(FloatProgress(value=0.0, description='Epoch 97', layout=Layout(flex='2'), max=38.0, style=Progr…",
      "application/vnd.jupyter.widget-view+json": {
       "version_major": 2,
       "version_minor": 0,
       "model_id": "f42747aa806b4a58868698d9003eae48"
      }
     },
     "metadata": {}
    },
    {
     "output_type": "stream",
     "name": "stdout",
     "text": "\nEpoch 00098: saving model to savedmodels/res_12_2_0_BN_2/98\nloss:0.30744078755378723, binary_accuracy:0.8318695425987244, val_loss:0.6764024496078491, val_binary_accuracy:0.7956341505050659, lr:0.005\n\nEpoch 00099: LearningRateScheduler reducing learning rate to 0.005.\n"
    },
    {
     "output_type": "display_data",
     "data": {
      "text/plain": "HBox(children=(FloatProgress(value=0.0, description='Epoch 98', layout=Layout(flex='2'), max=38.0, style=Progr…",
      "application/vnd.jupyter.widget-view+json": {
       "version_major": 2,
       "version_minor": 0,
       "model_id": "722130f6330b4aabb7894453aebc2a32"
      }
     },
     "metadata": {}
    },
    {
     "output_type": "stream",
     "name": "stdout",
     "text": "\nEpoch 00099: saving model to savedmodels/res_12_2_0_BN_2/99\nloss:0.30708080530166626, binary_accuracy:0.8327798247337341, val_loss:0.6790483593940735, val_binary_accuracy:0.7799215316772461, lr:0.005\n\nEpoch 00100: LearningRateScheduler reducing learning rate to 0.005.\n"
    },
    {
     "output_type": "display_data",
     "data": {
      "text/plain": "HBox(children=(FloatProgress(value=0.0, description='Epoch 99', layout=Layout(flex='2'), max=38.0, style=Progr…",
      "application/vnd.jupyter.widget-view+json": {
       "version_major": 2,
       "version_minor": 0,
       "model_id": "4b65fb3b3dc54efebaf096edc7f4cc37"
      }
     },
     "metadata": {}
    },
    {
     "output_type": "stream",
     "name": "stdout",
     "text": "\nEpoch 00100: saving model to savedmodels/res_12_2_0_BN_2/100\nloss:0.30613160133361816, binary_accuracy:0.8336422443389893, val_loss:0.6862682700157166, val_binary_accuracy:0.7696513533592224, lr:0.005\n\nTook 1592.8098423480988 seconds\n"
    }
   ],
   "source": [
    "kwargs = {}\n",
    "kwargs['model_f'] = model_f\n",
    "kwargs['lr_f'] = lr_f\n",
    "kwargs['name'] = name\n",
    "kwargs['epochs'] = epochs\n",
    "kwargs['batch_size'] = 32\n",
    "kwargs['X_train'] = X_train\n",
    "kwargs['Y_train'] = Y_train\n",
    "kwargs['val_data'] = (X_val, Y_val)\n",
    "kwargs['mixed_float'] = mixed_float\n",
    "p = Process(target=run_training, kwargs=kwargs)\n",
    "p.start()\n",
    "p.join()"
   ]
  },
  {
   "cell_type": "code",
   "execution_count": null,
   "metadata": {},
   "outputs": [],
   "source": []
  }
 ]
}