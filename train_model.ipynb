{
 "metadata": {
  "language_info": {
   "codemirror_mode": {
    "name": "ipython",
    "version": 3
   },
   "file_extension": ".py",
   "mimetype": "text/x-python",
   "name": "python",
   "nbconvert_exporter": "python",
   "pygments_lexer": "ipython3",
   "version": "3.7.8-final"
  },
  "orig_nbformat": 2,
  "kernelspec": {
   "name": "train2_venv",
   "display_name": "train2_venv"
  }
 },
 "nbformat": 4,
 "nbformat_minor": 2,
 "cells": [
  {
   "cell_type": "code",
   "execution_count": 1,
   "metadata": {},
   "outputs": [],
   "source": [
    "%matplotlib inline\n",
    "%load_ext autoreload"
   ]
  },
  {
   "cell_type": "code",
   "execution_count": 2,
   "metadata": {},
   "outputs": [],
   "source": [
    "import numpy as np\n",
    "import matplotlib.pyplot as plt\n",
    "from multiprocessing import Process"
   ]
  },
  {
   "cell_type": "code",
   "execution_count": 3,
   "metadata": {
    "tags": []
   },
   "outputs": [
    {
     "output_type": "stream",
     "name": "stdout",
     "text": "/home/jaentrouble/adipose_train2\n"
    }
   ],
   "source": [
    "import os\n",
    "os.chdir('/home/jaentrouble/adipose_train2')\n",
    "print(os.getcwd())"
   ]
  },
  {
   "cell_type": "code",
   "execution_count": 4,
   "metadata": {
    "tags": []
   },
   "outputs": [],
   "source": [
    "with np.load('cell_mask_data.npz') as data:\n",
    "    X = data['img']\n",
    "    Y = data['mask']"
   ]
  },
  {
   "cell_type": "code",
   "execution_count": 5,
   "metadata": {
    "tags": []
   },
   "outputs": [
    {
     "output_type": "stream",
     "name": "stdout",
     "text": "X shape: (1533, 200, 200, 3)\nY shape: (1533, 200, 200)\n"
    }
   ],
   "source": [
    "print('X shape:',X.shape)\n",
    "print('Y shape:',Y.shape)"
   ]
  },
  {
   "cell_type": "code",
   "execution_count": 6,
   "metadata": {},
   "outputs": [],
   "source": [
    "X_train = X[:1200]\n",
    "Y_train = Y[:1200]\n",
    "X_val = X[1200:1350]\n",
    "Y_val = Y[1200:1350]\n",
    "X_test = X[1350:]\n",
    "Y_test = Y[1350:]"
   ]
  },
  {
   "cell_type": "code",
   "execution_count": 7,
   "metadata": {},
   "outputs": [],
   "source": [
    "from model_trainer import run_training\n",
    "from adipose_models import *\n",
    "from model_lr import *"
   ]
  },
  {
   "cell_type": "code",
   "execution_count": 8,
   "metadata": {
    "tags": []
   },
   "outputs": [
    {
     "output_type": "stream",
     "name": "stdout",
     "text": "Already up to date.\n"
    }
   ],
   "source": [
    "!git pull\n",
    "%autoreload"
   ]
  },
  {
   "cell_type": "code",
   "execution_count": 9,
   "metadata": {},
   "outputs": [],
   "source": [
    "model_f = conv4_b2_0\n",
    "lr_f = lr_mul_inv\n",
    "name = 'conv4_b2_0'\n",
    "epochs = 10"
   ]
  },
  {
   "cell_type": "code",
   "execution_count": 10,
   "metadata": {
    "tags": []
   },
   "outputs": [
    {
     "output_type": "stream",
     "name": "stdout",
     "text": "INFO:tensorflow:Mixed precision compatibility check (mixed_float16): OK\nYour GPU will likely run quickly with dtype policy mixed_float16 as it has compute capability of at least 7.0. Your GPU: GeForce RTX 2070 SUPER, compute capability 7.5\nModel: \"functional_1\"\n_________________________________________________________________\nLayer (type)                 Output Shape              Param #\n=================================================================\ninput_1 (InputLayer)         [(None, 200, 200, 3)]     0\n_________________________________________________________________\nconv2d (Conv2D)              (None, 200, 200, 32)      896\n_________________________________________________________________\nconv2d_1 (Conv2D)            (None, 200, 200, 32)      9248\n_________________________________________________________________\nbatch_normalization (BatchNo (None, 200, 200, 32)      128\n_________________________________________________________________\nconv2d_2 (Conv2D)            (None, 200, 200, 32)      9248\n_________________________________________________________________\nconv2d_3 (Conv2D)            (None, 200, 200, 32)      9248\n_________________________________________________________________\nbatch_normalization_1 (Batch (None, 200, 200, 32)      128\n_________________________________________________________________\nconv2d_4 (Conv2D)            (None, 200, 200, 1)       289\n_________________________________________________________________\ntf_op_layer_Squeeze (TensorF [(None, 200, 200)]        0\n_________________________________________________________________\nactivation (Activation)      (None, 200, 200)          0\n=================================================================\nTotal params: 29,185\nTrainable params: 29,057\nNon-trainable params: 128\n_________________________________________________________________\n"
    },
    {
     "output_type": "display_data",
     "data": {
      "text/plain": "HBox(children=(FloatProgress(value=0.0, description='Training', max=10.0, style=ProgressStyle(description_widt…",
      "application/vnd.jupyter.widget-view+json": {
       "version_major": 2,
       "version_minor": 0,
       "model_id": "ab3970ca0d4b4aabb2f7560ca77f2832"
      }
     },
     "metadata": {}
    },
    {
     "output_type": "stream",
     "name": "stdout",
     "text": "\nEpoch 00001: LearningRateScheduler reducing learning rate to 0.01.\n"
    },
    {
     "output_type": "display_data",
     "data": {
      "text/plain": "HBox(children=(FloatProgress(value=0.0, description='Epoch 0', max=19.0, style=ProgressStyle(description_width…",
      "application/vnd.jupyter.widget-view+json": {
       "version_major": 2,
       "version_minor": 0,
       "model_id": "f90fecdc1489454ab13187d4de77006a"
      }
     },
     "metadata": {}
    },
    {
     "output_type": "stream",
     "name": "stdout",
     "text": "WARNING:tensorflow:From /home/jaentrouble/adipose_train2/env/lib/python3.7/site-packages/tensorflow/python/ops/summary_ops_v2.py:1277: stop (from tensorflow.python.eager.profiler) is deprecated and will be removed after 2020-07-01.\nInstructions for updating:\nuse `tf.profiler.experimental.stop` instead.\n\nEpoch 00001: saving model to savedmodels/conv4_b2_01/1.hdf5\n\nloss:0.6508573293685913, binary_accuracy:0.670814573764801, val_loss:0.6931853890419006, val_binary_accuracy:0.680860698223114, lr:0.01\n\nEpoch 00002: LearningRateScheduler reducing learning rate to 0.005.\n"
    },
    {
     "output_type": "display_data",
     "data": {
      "text/plain": "HBox(children=(FloatProgress(value=0.0, description='Epoch 1', max=19.0, style=ProgressStyle(description_width…",
      "application/vnd.jupyter.widget-view+json": {
       "version_major": 2,
       "version_minor": 0,
       "model_id": "4c21193a19334eeb9b1ec1e4fe8e0073"
      }
     },
     "metadata": {}
    },
    {
     "output_type": "stream",
     "name": "stdout",
     "text": "\nEpoch 00002: saving model to savedmodels/conv4_b2_02/2.hdf5\n\nloss:0.539162814617157, binary_accuracy:0.7434770464897156, val_loss:0.6942638754844666, val_binary_accuracy:0.6808908581733704, lr:0.005\n\nEpoch 00003: LearningRateScheduler reducing learning rate to 0.0033333333333333335.\n"
    },
    {
     "output_type": "display_data",
     "data": {
      "text/plain": "HBox(children=(FloatProgress(value=0.0, description='Epoch 2', max=19.0, style=ProgressStyle(description_width…",
      "application/vnd.jupyter.widget-view+json": {
       "version_major": 2,
       "version_minor": 0,
       "model_id": "7043f5bd765547b49f3130a678501f41"
      }
     },
     "metadata": {}
    },
    {
     "output_type": "stream",
     "name": "stdout",
     "text": "\nEpoch 00003: saving model to savedmodels/conv4_b2_03/3.hdf5\n\nloss:0.5292738080024719, binary_accuracy:0.7434635162353516, val_loss:0.6960799098014832, val_binary_accuracy:0.6808903813362122, lr:0.0033333334\n\nEpoch 00004: LearningRateScheduler reducing learning rate to 0.0025.\n"
    },
    {
     "output_type": "display_data",
     "data": {
      "text/plain": "HBox(children=(FloatProgress(value=0.0, description='Epoch 3', max=19.0, style=ProgressStyle(description_width…",
      "application/vnd.jupyter.widget-view+json": {
       "version_major": 2,
       "version_minor": 0,
       "model_id": "d61f3dd8666a4f11bac303860be8b05a"
      }
     },
     "metadata": {}
    },
    {
     "output_type": "stream",
     "name": "stdout",
     "text": "\nEpoch 00004: saving model to savedmodels/conv4_b2_04/4.hdf5\n\nloss:0.5241037011146545, binary_accuracy:0.7434746623039246, val_loss:0.7092920541763306, val_binary_accuracy:0.4847908318042755, lr:0.0025\n\nEpoch 00005: LearningRateScheduler reducing learning rate to 0.002.\n"
    },
    {
     "output_type": "display_data",
     "data": {
      "text/plain": "HBox(children=(FloatProgress(value=0.0, description='Epoch 4', max=19.0, style=ProgressStyle(description_width…",
      "application/vnd.jupyter.widget-view+json": {
       "version_major": 2,
       "version_minor": 0,
       "model_id": "0490afe59d284eeeb06aff2982b51e0f"
      }
     },
     "metadata": {}
    },
    {
     "output_type": "stream",
     "name": "stdout",
     "text": "\nEpoch 00005: saving model to savedmodels/conv4_b2_05/5.hdf5\n\nloss:0.5215803384780884, binary_accuracy:0.7434763312339783, val_loss:0.7203977704048157, val_binary_accuracy:0.4147706627845764, lr:0.002\n\nEpoch 00006: LearningRateScheduler reducing learning rate to 0.0016666666666666668.\n"
    },
    {
     "output_type": "display_data",
     "data": {
      "text/plain": "HBox(children=(FloatProgress(value=0.0, description='Epoch 5', max=19.0, style=ProgressStyle(description_width…",
      "application/vnd.jupyter.widget-view+json": {
       "version_major": 2,
       "version_minor": 0,
       "model_id": "db72c714dd8f4027a4bb9e2e67683505"
      }
     },
     "metadata": {}
    },
    {
     "output_type": "stream",
     "name": "stdout",
     "text": "\nEpoch 00006: saving model to savedmodels/conv4_b2_06/6.hdf5\n\nloss:0.5185451507568359, binary_accuracy:0.7434765100479126, val_loss:0.7121164202690125, val_binary_accuracy:0.4705241620540619, lr:0.0016666667\n\nEpoch 00007: LearningRateScheduler reducing learning rate to 0.0014285714285714286.\n"
    },
    {
     "output_type": "display_data",
     "data": {
      "text/plain": "HBox(children=(FloatProgress(value=0.0, description='Epoch 6', max=19.0, style=ProgressStyle(description_width…",
      "application/vnd.jupyter.widget-view+json": {
       "version_major": 2,
       "version_minor": 0,
       "model_id": "b4160e879b814688a540a01096bde984"
      }
     },
     "metadata": {}
    },
    {
     "output_type": "stream",
     "name": "stdout",
     "text": "\nEpoch 00007: saving model to savedmodels/conv4_b2_07/7.hdf5\n\nloss:0.5175023674964905, binary_accuracy:0.7434772253036499, val_loss:0.7106679677963257, val_binary_accuracy:0.4798530042171478, lr:0.0014285714\n\nEpoch 00008: LearningRateScheduler reducing learning rate to 0.00125.\n"
    },
    {
     "output_type": "display_data",
     "data": {
      "text/plain": "HBox(children=(FloatProgress(value=0.0, description='Epoch 7', max=19.0, style=ProgressStyle(description_width…",
      "application/vnd.jupyter.widget-view+json": {
       "version_major": 2,
       "version_minor": 0,
       "model_id": "5a72bba658454808bc86cb2dd834f9a4"
      }
     },
     "metadata": {}
    },
    {
     "output_type": "stream",
     "name": "stdout",
     "text": "\nEpoch 00008: saving model to savedmodels/conv4_b2_08/8.hdf5\n\nloss:0.516172468662262, binary_accuracy:0.7434770464897156, val_loss:0.7176084518432617, val_binary_accuracy:0.44171518087387085, lr:0.00125\n\nEpoch 00009: LearningRateScheduler reducing learning rate to 0.0011111111111111111.\n"
    },
    {
     "output_type": "display_data",
     "data": {
      "text/plain": "HBox(children=(FloatProgress(value=0.0, description='Epoch 8', max=19.0, style=ProgressStyle(description_width…",
      "application/vnd.jupyter.widget-view+json": {
       "version_major": 2,
       "version_minor": 0,
       "model_id": "a00efee9f7394447b762f8ea2a756d19"
      }
     },
     "metadata": {}
    },
    {
     "output_type": "stream",
     "name": "stdout",
     "text": "\nEpoch 00009: saving model to savedmodels/conv4_b2_09/9.hdf5\n\nloss:0.5149708986282349, binary_accuracy:0.7434766888618469, val_loss:0.738169252872467, val_binary_accuracy:0.4234595000743866, lr:0.0011111111\n\nEpoch 00010: LearningRateScheduler reducing learning rate to 0.001.\n"
    },
    {
     "output_type": "display_data",
     "data": {
      "text/plain": "HBox(children=(FloatProgress(value=0.0, description='Epoch 9', max=19.0, style=ProgressStyle(description_width…",
      "application/vnd.jupyter.widget-view+json": {
       "version_major": 2,
       "version_minor": 0,
       "model_id": "a5c8c3688f27472a8b61c920ca638893"
      }
     },
     "metadata": {}
    },
    {
     "output_type": "stream",
     "name": "stdout",
     "text": "\nEpoch 00010: saving model to savedmodels/conv4_b2_010/10.hdf5\n\nloss:0.514951229095459, binary_accuracy:0.7434746623039246, val_loss:0.7396133542060852, val_binary_accuracy:0.42934367060661316, lr:0.001\n\nTook 33.56246638298035 seconds\n"
    }
   ],
   "source": [
    "kwargs = {}\n",
    "kwargs['model_f'] = model_f\n",
    "kwargs['lr_f'] = lr_f\n",
    "kwargs['name'] = name\n",
    "kwargs['epochs'] = epochs\n",
    "kwargs['batch_size'] = 64\n",
    "kwargs['X_train'] = X_train\n",
    "kwargs['Y_train'] = Y_train\n",
    "kwargs['val_data'] = (X_val, Y_val)\n",
    "p = Process(target=run_training, kwargs=kwargs)\n",
    "p.start()\n",
    "p.join()"
   ]
  },
  {
   "cell_type": "code",
   "execution_count": null,
   "metadata": {},
   "outputs": [],
   "source": []
  }
 ]
}